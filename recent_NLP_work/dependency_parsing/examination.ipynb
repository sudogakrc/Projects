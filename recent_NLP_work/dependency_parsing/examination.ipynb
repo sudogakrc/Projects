{
 "cells": [
  {
   "cell_type": "code",
   "execution_count": 50,
   "id": "5f3a84ea",
   "metadata": {},
   "outputs": [],
   "source": [
    "import pandas as pd"
   ]
  },
  {
   "cell_type": "code",
   "execution_count": 51,
   "id": "6aa839eb",
   "metadata": {},
   "outputs": [
    {
     "data": {
      "text/html": [
       "<div>\n",
       "<style scoped>\n",
       "    .dataframe tbody tr th:only-of-type {\n",
       "        vertical-align: middle;\n",
       "    }\n",
       "\n",
       "    .dataframe tbody tr th {\n",
       "        vertical-align: top;\n",
       "    }\n",
       "\n",
       "    .dataframe thead th {\n",
       "        text-align: right;\n",
       "    }\n",
       "</style>\n",
       "<table border=\"1\" class=\"dataframe\">\n",
       "  <thead>\n",
       "    <tr style=\"text-align: right;\">\n",
       "      <th></th>\n",
       "      <th>paragraph</th>\n",
       "      <th>characters_in_paragraph</th>\n",
       "      <th>dependencies</th>\n",
       "      <th>overlaps</th>\n",
       "      <th>overlap_percentage</th>\n",
       "    </tr>\n",
       "  </thead>\n",
       "  <tbody>\n",
       "    <tr>\n",
       "      <th>0</th>\n",
       "      <td>At the top of the key, I’m  MOVING &amp; GROOVING,...</td>\n",
       "      <td>['Will']</td>\n",
       "      <td>['I', 'you', 'you', 'Man', 'I', 'dipping', 'I']</td>\n",
       "      <td>[]</td>\n",
       "      <td>0.00</td>\n",
       "    </tr>\n",
       "    <tr>\n",
       "      <th>1</th>\n",
       "      <td>is my name.  But Filthy McNasty is my claim to...</td>\n",
       "      <td>['Mom', 'Mom', 'Dad', 'Tall', 'Dad', 'Mom', 'S...</td>\n",
       "      <td>['McNasty', 'Folks', 'game', 'it', 'hair', 'I'...</td>\n",
       "      <td>['Mom']</td>\n",
       "      <td>7.14</td>\n",
       "    </tr>\n",
       "    <tr>\n",
       "      <th>2</th>\n",
       "      <td>I’m not that big on jazz music, but Dad is.  O...</td>\n",
       "      <td>['Big', 'Dad', 'Boy', 'Josh', 'Dad', 'JB', 'Bi...</td>\n",
       "      <td>['I', 'Dad', 'we', 'Dad', 'cat', 'It', 'I', 'Y...</td>\n",
       "      <td>['Dad']</td>\n",
       "      <td>11.11</td>\n",
       "    </tr>\n",
       "    <tr>\n",
       "      <th>3</th>\n",
       "      <td>I didn’t like  the name  because so many kids ...</td>\n",
       "      <td>['Mom', 'Mom', 'Dad', 'Boy', 'Josh', 'Dad', 'M...</td>\n",
       "      <td>['I', 'kids', 'Mom', 'It', 'she', 'You', 'It',...</td>\n",
       "      <td>['Dad', 'Mom']</td>\n",
       "      <td>20.00</td>\n",
       "    </tr>\n",
       "    <tr>\n",
       "      <th>4</th>\n",
       "      <td>is a MYTHical MANchild  Of rather dubious dist...</td>\n",
       "      <td>[]</td>\n",
       "      <td>['He', 'he', 'you']</td>\n",
       "      <td>[]</td>\n",
       "      <td>0.00</td>\n",
       "    </tr>\n",
       "    <tr>\n",
       "      <th>...</th>\n",
       "      <td>...</td>\n",
       "      <td>...</td>\n",
       "      <td>...</td>\n",
       "      <td>...</td>\n",
       "      <td>...</td>\n",
       "    </tr>\n",
       "    <tr>\n",
       "      <th>98</th>\n",
       "      <td>5 . . . A bolt of lightning on my kicks . . . ...</td>\n",
       "      <td>[]</td>\n",
       "      <td>['court', 'sweat', 'I', 'I', 'crowd', 'ROARING...</td>\n",
       "      <td>[]</td>\n",
       "      <td>0.00</td>\n",
       "    </tr>\n",
       "    <tr>\n",
       "      <th>99</th>\n",
       "      <td>(January 14)   Professional basketball player...</td>\n",
       "      <td>['Mom', 'Big', 'Mom', 'Dad', 'Midnight', 'Josh...</td>\n",
       "      <td>['player', 'Bell', 'Bell', 'Bell', 'results', ...</td>\n",
       "      <td>['Dad', 'JB']</td>\n",
       "      <td>11.11</td>\n",
       "    </tr>\n",
       "    <tr>\n",
       "      <th>100</th>\n",
       "      <td>[STAHR-LES] adjective      With no stars.    ...</td>\n",
       "      <td>['Dad', 'Dad', 'JB', 'Father', 'Dad', 'Dad', '...</td>\n",
       "      <td>['me', 'Wildcats', 'I', 'I', 'I', 'father', 'h...</td>\n",
       "      <td>[]</td>\n",
       "      <td>0.00</td>\n",
       "    </tr>\n",
       "    <tr>\n",
       "      <th>101</th>\n",
       "      <td>A loss is inevitable,  like snow in winter.  ...</td>\n",
       "      <td>['Mom', 'Sister', 'Sister', 'Mom', 'Dad', 'Jos...</td>\n",
       "      <td>['loss', 'champions', 'members', 'I', 'Mom', '...</td>\n",
       "      <td>['Alexis', 'Mom', 'JB']</td>\n",
       "      <td>17.65</td>\n",
       "    </tr>\n",
       "    <tr>\n",
       "      <th>102</th>\n",
       "      <td>It only takes me  Four mouthfuls  to finish th...</td>\n",
       "      <td>['Dad', 'Dad', 'JB', 'Miss', 'Father', 'Miss',...</td>\n",
       "      <td>['It', 'I', 'I', 'Dad', 'most', 'I', 'I', 'It'...</td>\n",
       "      <td>['Dad', 'JB']</td>\n",
       "      <td>20.00</td>\n",
       "    </tr>\n",
       "  </tbody>\n",
       "</table>\n",
       "<p>103 rows × 5 columns</p>\n",
       "</div>"
      ],
      "text/plain": [
       "                                             paragraph  \\\n",
       "0    At the top of the key, I’m  MOVING & GROOVING,...   \n",
       "1    is my name.  But Filthy McNasty is my claim to...   \n",
       "2    I’m not that big on jazz music, but Dad is.  O...   \n",
       "3    I didn’t like  the name  because so many kids ...   \n",
       "4    is a MYTHical MANchild  Of rather dubious dist...   \n",
       "..                                                 ...   \n",
       "98   5 . . . A bolt of lightning on my kicks . . . ...   \n",
       "99    (January 14)   Professional basketball player...   \n",
       "100   [STAHR-LES] adjective      With no stars.    ...   \n",
       "101   A loss is inevitable,  like snow in winter.  ...   \n",
       "102  It only takes me  Four mouthfuls  to finish th...   \n",
       "\n",
       "                               characters_in_paragraph  \\\n",
       "0                                             ['Will']   \n",
       "1    ['Mom', 'Mom', 'Dad', 'Tall', 'Dad', 'Mom', 'S...   \n",
       "2    ['Big', 'Dad', 'Boy', 'Josh', 'Dad', 'JB', 'Bi...   \n",
       "3    ['Mom', 'Mom', 'Dad', 'Boy', 'Josh', 'Dad', 'M...   \n",
       "4                                                   []   \n",
       "..                                                 ...   \n",
       "98                                                  []   \n",
       "99   ['Mom', 'Big', 'Mom', 'Dad', 'Midnight', 'Josh...   \n",
       "100  ['Dad', 'Dad', 'JB', 'Father', 'Dad', 'Dad', '...   \n",
       "101  ['Mom', 'Sister', 'Sister', 'Mom', 'Dad', 'Jos...   \n",
       "102  ['Dad', 'Dad', 'JB', 'Miss', 'Father', 'Miss',...   \n",
       "\n",
       "                                          dependencies  \\\n",
       "0      ['I', 'you', 'you', 'Man', 'I', 'dipping', 'I']   \n",
       "1    ['McNasty', 'Folks', 'game', 'it', 'hair', 'I'...   \n",
       "2    ['I', 'Dad', 'we', 'Dad', 'cat', 'It', 'I', 'Y...   \n",
       "3    ['I', 'kids', 'Mom', 'It', 'she', 'You', 'It',...   \n",
       "4                                  ['He', 'he', 'you']   \n",
       "..                                                 ...   \n",
       "98   ['court', 'sweat', 'I', 'I', 'crowd', 'ROARING...   \n",
       "99   ['player', 'Bell', 'Bell', 'Bell', 'results', ...   \n",
       "100  ['me', 'Wildcats', 'I', 'I', 'I', 'father', 'h...   \n",
       "101  ['loss', 'champions', 'members', 'I', 'Mom', '...   \n",
       "102  ['It', 'I', 'I', 'Dad', 'most', 'I', 'I', 'It'...   \n",
       "\n",
       "                    overlaps  overlap_percentage  \n",
       "0                         []                0.00  \n",
       "1                    ['Mom']                7.14  \n",
       "2                    ['Dad']               11.11  \n",
       "3             ['Dad', 'Mom']               20.00  \n",
       "4                         []                0.00  \n",
       "..                       ...                 ...  \n",
       "98                        []                0.00  \n",
       "99             ['Dad', 'JB']               11.11  \n",
       "100                       []                0.00  \n",
       "101  ['Alexis', 'Mom', 'JB']               17.65  \n",
       "102            ['Dad', 'JB']               20.00  \n",
       "\n",
       "[103 rows x 5 columns]"
      ]
     },
     "execution_count": 51,
     "metadata": {},
     "output_type": "execute_result"
    }
   ],
   "source": [
    "df_2 = pd.read_csv('/Users/sukaraca/DERSLER/2023-autumn-matloob-lab/utils/dependency_parsing/nsubj_parsing.csv')\n",
    "df_2"
   ]
  },
  {
   "cell_type": "code",
   "execution_count": 53,
   "id": "4ba760b6",
   "metadata": {},
   "outputs": [
    {
     "data": {
      "text/plain": [
       "' (January 14)   Professional basketball player  Charlie (Chuck) “Da Man” Bell  collapsed in a game  of one-on-one  with his son Josh.  After a complication,  Bell died at St. Luke’s Hospital  from a massive heart attack.      According to reports,  Bell suffered  from hypertension  and had three fainting spells  in the four months  before his collapse.  Autopsy results found  Bell had a large,  extensively scarred heart.  Reports have surfaced  that Bell refused to see a doctor.  One of his former teammates  stated, “He wasn’t a big fan of doctors  and hospitals, that’s for sure.”  Earlier in his life,  Bell chose to end his promising basketball career  rather than have surgery on his knee.      Known for his dazzling crossover,  Chuck Bell was the captain  of the Italian team  that won back-to-back Euroleague championships  in the late nineties.  He is survived by his wife,  Dr. Crystal Stanley-Bell, and  his twin sons,  Joshua and Jordan, who  recently won their first  county championship.  Bell was thirty-nine.      Where Do We Go from Here?   There are no coaches  at funerals. No practice  to get ready. No warm-up.  There is no last-second shot, and  we all wear its cruel  midnight uniform, starless  and unfriendly.      I am unprepared  for death.  This is a game  I cannot play.  It has no rules,  no referees.  You cannot win.      I listen  to my father’s teammates  tell funny stories  about love  and basketball.  I hear the choir’s comfort songs.  They almost drown out Mom’s sobs.      She will not look in the coffin.  That is not my husband, she says.  Dad is gone,  like the end of a good song.  What remains is bone  and muscle and cold skin.  I grab Mom’s right hand.  JB grabs her left.  The preacher says,  A great father, son, and  husband has crossed  over. Amen.  Outside, a long charcoal limo  pulls up to the curb  to take us  back.      If only.      '"
      ]
     },
     "execution_count": 53,
     "metadata": {},
     "output_type": "execute_result"
    }
   ],
   "source": [
    "df_2['paragraph'][99]"
   ]
  },
  {
   "cell_type": "code",
   "execution_count": 54,
   "id": "79ccea4a",
   "metadata": {},
   "outputs": [
    {
     "data": {
      "text/plain": [
       "\"['Mom', 'Big', 'Mom', 'Dad', 'Midnight', 'Josh', 'Dad', 'JB', 'Mom', 'Father', 'Big', 'Dad', 'Mom', 'Dad', 'Will', 'Luke', 'Long', 'Jordan']\""
      ]
     },
     "execution_count": 54,
     "metadata": {},
     "output_type": "execute_result"
    }
   ],
   "source": [
    "df_2['characters_in_paragraph'][99]"
   ]
  },
  {
   "cell_type": "code",
   "execution_count": 55,
   "id": "4303bdc6",
   "metadata": {},
   "outputs": [
    {
     "data": {
      "text/plain": [
       "\"['player', 'Bell', 'Bell', 'Bell', 'results', 'Bell', 'Reports', 'Bell', 'One', 'He', 'that', 'Bell', 'Bell', 'that', 'who', 'Bell', 'We', 'we', 'I', 'This', 'I', 'It', 'You', 'I', 'I', 'They', 'She', 'That', 'she', 'Dad', 'What', 'I', 'JB', 'her', 'preacher', 'father', 'charcoal']\""
      ]
     },
     "execution_count": 55,
     "metadata": {},
     "output_type": "execute_result"
    }
   ],
   "source": [
    "df_2['dependencies'][99]"
   ]
  }
 ],
 "metadata": {
  "kernelspec": {
   "display_name": "Python 3 (ipykernel)",
   "language": "python",
   "name": "python3"
  },
  "language_info": {
   "codemirror_mode": {
    "name": "ipython",
    "version": 3
   },
   "file_extension": ".py",
   "mimetype": "text/x-python",
   "name": "python",
   "nbconvert_exporter": "python",
   "pygments_lexer": "ipython3",
   "version": "3.9.7"
  }
 },
 "nbformat": 4,
 "nbformat_minor": 5
}
