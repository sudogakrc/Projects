{
 "cells": [
  {
   "cell_type": "raw",
   "id": "446a4e81",
   "metadata": {},
   "source": [
    "---\n",
    "\n",
    "title: \"Proje 2\"\n",
    "author: \"Su Karaca\"\n",
    "date: \"December 8, 2022\"\n",
    "\n",
    "---"
   ]
  },
  {
   "cell_type": "code",
   "execution_count": 246,
   "id": "91dcd3da",
   "metadata": {},
   "outputs": [],
   "source": [
    "import pandas as pd\n",
    "import numpy as np\n",
    "import matplotlib.pyplot as plt\n",
    "import seaborn as sns\n",
    "import altair as alt"
   ]
  },
  {
   "cell_type": "code",
   "execution_count": 274,
   "id": "ea2e5bdb",
   "metadata": {},
   "outputs": [],
   "source": [
    "df = pd.read_csv('disney_movies.csv')"
   ]
  },
  {
   "cell_type": "code",
   "execution_count": 275,
   "id": "5079a44a",
   "metadata": {},
   "outputs": [
    {
     "data": {
      "text/html": [
       "<div>\n",
       "<style scoped>\n",
       "    .dataframe tbody tr th:only-of-type {\n",
       "        vertical-align: middle;\n",
       "    }\n",
       "\n",
       "    .dataframe tbody tr th {\n",
       "        vertical-align: top;\n",
       "    }\n",
       "\n",
       "    .dataframe thead th {\n",
       "        text-align: right;\n",
       "    }\n",
       "</style>\n",
       "<table border=\"1\" class=\"dataframe\">\n",
       "  <thead>\n",
       "    <tr style=\"text-align: right;\">\n",
       "      <th></th>\n",
       "      <th>movie_title</th>\n",
       "      <th>release_date</th>\n",
       "      <th>genre</th>\n",
       "      <th>mpaa_rating</th>\n",
       "      <th>total_gross</th>\n",
       "      <th>inflation_adjusted_gross</th>\n",
       "    </tr>\n",
       "  </thead>\n",
       "  <tbody>\n",
       "    <tr>\n",
       "      <th>0</th>\n",
       "      <td>Snow White and the Seven Dwarfs</td>\n",
       "      <td>1937-12-21</td>\n",
       "      <td>Musical</td>\n",
       "      <td>G</td>\n",
       "      <td>184925485</td>\n",
       "      <td>5228953251</td>\n",
       "    </tr>\n",
       "    <tr>\n",
       "      <th>1</th>\n",
       "      <td>Pinocchio</td>\n",
       "      <td>1940-02-09</td>\n",
       "      <td>Adventure</td>\n",
       "      <td>G</td>\n",
       "      <td>84300000</td>\n",
       "      <td>2188229052</td>\n",
       "    </tr>\n",
       "    <tr>\n",
       "      <th>2</th>\n",
       "      <td>Fantasia</td>\n",
       "      <td>1940-11-13</td>\n",
       "      <td>Musical</td>\n",
       "      <td>G</td>\n",
       "      <td>83320000</td>\n",
       "      <td>2187090808</td>\n",
       "    </tr>\n",
       "    <tr>\n",
       "      <th>3</th>\n",
       "      <td>Song of the South</td>\n",
       "      <td>1946-11-12</td>\n",
       "      <td>Adventure</td>\n",
       "      <td>G</td>\n",
       "      <td>65000000</td>\n",
       "      <td>1078510579</td>\n",
       "    </tr>\n",
       "    <tr>\n",
       "      <th>4</th>\n",
       "      <td>Cinderella</td>\n",
       "      <td>1950-02-15</td>\n",
       "      <td>Drama</td>\n",
       "      <td>G</td>\n",
       "      <td>85000000</td>\n",
       "      <td>920608730</td>\n",
       "    </tr>\n",
       "  </tbody>\n",
       "</table>\n",
       "</div>"
      ],
      "text/plain": [
       "                       movie_title release_date      genre mpaa_rating  \\\n",
       "0  Snow White and the Seven Dwarfs   1937-12-21    Musical           G   \n",
       "1                        Pinocchio   1940-02-09  Adventure           G   \n",
       "2                         Fantasia   1940-11-13    Musical           G   \n",
       "3                Song of the South   1946-11-12  Adventure           G   \n",
       "4                       Cinderella   1950-02-15      Drama           G   \n",
       "\n",
       "   total_gross  inflation_adjusted_gross  \n",
       "0    184925485                5228953251  \n",
       "1     84300000                2188229052  \n",
       "2     83320000                2187090808  \n",
       "3     65000000                1078510579  \n",
       "4     85000000                 920608730  "
      ]
     },
     "execution_count": 275,
     "metadata": {},
     "output_type": "execute_result"
    }
   ],
   "source": [
    "df.head(5)"
   ]
  },
  {
   "cell_type": "markdown",
   "id": "7a50f969",
   "metadata": {},
   "source": [
    "## DATA CLEANING"
   ]
  },
  {
   "cell_type": "code",
   "execution_count": 276,
   "id": "295249e3",
   "metadata": {},
   "outputs": [
    {
     "data": {
      "text/plain": [
       "movie_title                 object\n",
       "release_date                object\n",
       "genre                       object\n",
       "mpaa_rating                 object\n",
       "total_gross                  int64\n",
       "inflation_adjusted_gross     int64\n",
       "dtype: object"
      ]
     },
     "execution_count": 276,
     "metadata": {},
     "output_type": "execute_result"
    }
   ],
   "source": [
    "df.dtypes"
   ]
  },
  {
   "cell_type": "markdown",
   "id": "ba5f2efa",
   "metadata": {},
   "source": [
    "### Numerical Values"
   ]
  },
  {
   "cell_type": "code",
   "execution_count": 277,
   "id": "2bd12ba9",
   "metadata": {},
   "outputs": [
    {
     "data": {
      "text/html": [
       "<div>\n",
       "<style scoped>\n",
       "    .dataframe tbody tr th:only-of-type {\n",
       "        vertical-align: middle;\n",
       "    }\n",
       "\n",
       "    .dataframe tbody tr th {\n",
       "        vertical-align: top;\n",
       "    }\n",
       "\n",
       "    .dataframe thead th {\n",
       "        text-align: right;\n",
       "    }\n",
       "</style>\n",
       "<table border=\"1\" class=\"dataframe\">\n",
       "  <thead>\n",
       "    <tr style=\"text-align: right;\">\n",
       "      <th></th>\n",
       "      <th>total_gross</th>\n",
       "      <th>inflation_adjusted_gross</th>\n",
       "    </tr>\n",
       "  </thead>\n",
       "  <tbody>\n",
       "    <tr>\n",
       "      <th>count</th>\n",
       "      <td>5.790000e+02</td>\n",
       "      <td>5.790000e+02</td>\n",
       "    </tr>\n",
       "    <tr>\n",
       "      <th>mean</th>\n",
       "      <td>6.470179e+07</td>\n",
       "      <td>1.187625e+08</td>\n",
       "    </tr>\n",
       "    <tr>\n",
       "      <th>std</th>\n",
       "      <td>9.301301e+07</td>\n",
       "      <td>2.860853e+08</td>\n",
       "    </tr>\n",
       "    <tr>\n",
       "      <th>min</th>\n",
       "      <td>0.000000e+00</td>\n",
       "      <td>0.000000e+00</td>\n",
       "    </tr>\n",
       "    <tr>\n",
       "      <th>25%</th>\n",
       "      <td>1.278886e+07</td>\n",
       "      <td>2.274123e+07</td>\n",
       "    </tr>\n",
       "    <tr>\n",
       "      <th>50%</th>\n",
       "      <td>3.070245e+07</td>\n",
       "      <td>5.515978e+07</td>\n",
       "    </tr>\n",
       "    <tr>\n",
       "      <th>75%</th>\n",
       "      <td>7.570903e+07</td>\n",
       "      <td>1.192020e+08</td>\n",
       "    </tr>\n",
       "    <tr>\n",
       "      <th>max</th>\n",
       "      <td>9.366622e+08</td>\n",
       "      <td>5.228953e+09</td>\n",
       "    </tr>\n",
       "  </tbody>\n",
       "</table>\n",
       "</div>"
      ],
      "text/plain": [
       "        total_gross  inflation_adjusted_gross\n",
       "count  5.790000e+02              5.790000e+02\n",
       "mean   6.470179e+07              1.187625e+08\n",
       "std    9.301301e+07              2.860853e+08\n",
       "min    0.000000e+00              0.000000e+00\n",
       "25%    1.278886e+07              2.274123e+07\n",
       "50%    3.070245e+07              5.515978e+07\n",
       "75%    7.570903e+07              1.192020e+08\n",
       "max    9.366622e+08              5.228953e+09"
      ]
     },
     "execution_count": 277,
     "metadata": {},
     "output_type": "execute_result"
    }
   ],
   "source": [
    "df.describe()"
   ]
  },
  {
   "cell_type": "code",
   "execution_count": 278,
   "id": "9ef73f01",
   "metadata": {},
   "outputs": [
    {
     "data": {
      "text/plain": [
       "66"
      ]
     },
     "execution_count": 278,
     "metadata": {},
     "output_type": "execute_result"
    }
   ],
   "source": [
    "df.shape[0] - df.dropna().shape[0]"
   ]
  },
  {
   "cell_type": "code",
   "execution_count": 279,
   "id": "029d3d25",
   "metadata": {},
   "outputs": [
    {
     "data": {
      "text/plain": [
       "579"
      ]
     },
     "execution_count": 279,
     "metadata": {},
     "output_type": "execute_result"
    }
   ],
   "source": [
    "len(df)"
   ]
  },
  {
   "cell_type": "code",
   "execution_count": 280,
   "id": "7ea68de2",
   "metadata": {},
   "outputs": [
    {
     "data": {
      "text/plain": [
       "0"
      ]
     },
     "execution_count": 280,
     "metadata": {},
     "output_type": "execute_result"
    }
   ],
   "source": [
    "df.inflation_adjusted_gross.isnull().values.ravel().sum()"
   ]
  },
  {
   "cell_type": "code",
   "execution_count": 281,
   "id": "3f40a3ad",
   "metadata": {},
   "outputs": [
    {
     "data": {
      "text/plain": [
       "0"
      ]
     },
     "execution_count": 281,
     "metadata": {},
     "output_type": "execute_result"
    }
   ],
   "source": [
    "df.total_gross.isnull().values.ravel().sum()"
   ]
  },
  {
   "cell_type": "code",
   "execution_count": 282,
   "id": "78e1deff",
   "metadata": {},
   "outputs": [
    {
     "data": {
      "text/html": [
       "<div>\n",
       "<style scoped>\n",
       "    .dataframe tbody tr th:only-of-type {\n",
       "        vertical-align: middle;\n",
       "    }\n",
       "\n",
       "    .dataframe tbody tr th {\n",
       "        vertical-align: top;\n",
       "    }\n",
       "\n",
       "    .dataframe thead th {\n",
       "        text-align: right;\n",
       "    }\n",
       "</style>\n",
       "<table border=\"1\" class=\"dataframe\">\n",
       "  <thead>\n",
       "    <tr style=\"text-align: right;\">\n",
       "      <th></th>\n",
       "      <th>movie_title</th>\n",
       "      <th>release_date</th>\n",
       "      <th>genre</th>\n",
       "      <th>mpaa_rating</th>\n",
       "      <th>total_gross</th>\n",
       "      <th>inflation_adjusted_gross</th>\n",
       "    </tr>\n",
       "  </thead>\n",
       "  <tbody>\n",
       "    <tr>\n",
       "      <th>20</th>\n",
       "      <td>The Many Adventures of Winnie the Pooh</td>\n",
       "      <td>1977-03-11</td>\n",
       "      <td>NaN</td>\n",
       "      <td>NaN</td>\n",
       "      <td>0</td>\n",
       "      <td>0</td>\n",
       "    </tr>\n",
       "    <tr>\n",
       "      <th>27</th>\n",
       "      <td>Amy</td>\n",
       "      <td>1981-03-20</td>\n",
       "      <td>Drama</td>\n",
       "      <td>NaN</td>\n",
       "      <td>0</td>\n",
       "      <td>0</td>\n",
       "    </tr>\n",
       "    <tr>\n",
       "      <th>29</th>\n",
       "      <td>Condorman</td>\n",
       "      <td>1981-08-07</td>\n",
       "      <td>Action</td>\n",
       "      <td>NaN</td>\n",
       "      <td>0</td>\n",
       "      <td>0</td>\n",
       "    </tr>\n",
       "    <tr>\n",
       "      <th>355</th>\n",
       "      <td>Frank McKlusky C.I.</td>\n",
       "      <td>2002-01-01</td>\n",
       "      <td>NaN</td>\n",
       "      <td>NaN</td>\n",
       "      <td>0</td>\n",
       "      <td>0</td>\n",
       "    </tr>\n",
       "  </tbody>\n",
       "</table>\n",
       "</div>"
      ],
      "text/plain": [
       "                                movie_title release_date   genre mpaa_rating  \\\n",
       "20   The Many Adventures of Winnie the Pooh   1977-03-11     NaN         NaN   \n",
       "27                                      Amy   1981-03-20   Drama         NaN   \n",
       "29                                Condorman   1981-08-07  Action         NaN   \n",
       "355                     Frank McKlusky C.I.   2002-01-01     NaN         NaN   \n",
       "\n",
       "     total_gross  inflation_adjusted_gross  \n",
       "20             0                         0  \n",
       "27             0                         0  \n",
       "29             0                         0  \n",
       "355            0                         0  "
      ]
     },
     "execution_count": 282,
     "metadata": {},
     "output_type": "execute_result"
    }
   ],
   "source": [
    "df[df.total_gross == 0]"
   ]
  },
  {
   "cell_type": "code",
   "execution_count": 283,
   "id": "fad931c3",
   "metadata": {},
   "outputs": [
    {
     "data": {
      "text/plain": [
       "movie_title                 The Many Adventures of Winnie the Pooh\n",
       "release_date                                            1977-03-11\n",
       "genre                                                          NaN\n",
       "mpaa_rating                                                    NaN\n",
       "total_gross                                                      0\n",
       "inflation_adjusted_gross                                         0\n",
       "Name: 20, dtype: object"
      ]
     },
     "execution_count": 283,
     "metadata": {},
     "output_type": "execute_result"
    }
   ],
   "source": [
    "df.loc[20]"
   ]
  },
  {
   "cell_type": "code",
   "execution_count": 284,
   "id": "4723d3d9",
   "metadata": {},
   "outputs": [],
   "source": [
    "#dropping these rows as they do not have any substantial gross values\n",
    "df = df.drop(df.index[[20,27, 29, 355]]).reset_index(drop=True)"
   ]
  },
  {
   "cell_type": "markdown",
   "id": "fc1c18d9",
   "metadata": {},
   "source": [
    "### Catergoical Columns"
   ]
  },
  {
   "cell_type": "code",
   "execution_count": 285,
   "id": "86f219e4",
   "metadata": {},
   "outputs": [
    {
     "data": {
      "text/plain": [
       "52"
      ]
     },
     "execution_count": 285,
     "metadata": {},
     "output_type": "execute_result"
    }
   ],
   "source": [
    "df.mpaa_rating.isnull().values.ravel().sum()"
   ]
  },
  {
   "cell_type": "code",
   "execution_count": 286,
   "id": "0096c38b",
   "metadata": {},
   "outputs": [],
   "source": [
    "df['mpaa_rating'] = df['mpaa_rating'].fillna('Unknown')"
   ]
  },
  {
   "cell_type": "code",
   "execution_count": 287,
   "id": "3e33563e",
   "metadata": {},
   "outputs": [
    {
     "data": {
      "text/plain": [
       "0"
      ]
     },
     "execution_count": 287,
     "metadata": {},
     "output_type": "execute_result"
    }
   ],
   "source": [
    "df.mpaa_rating.isnull().values.ravel().sum()"
   ]
  },
  {
   "cell_type": "code",
   "execution_count": 288,
   "id": "e17a25d7",
   "metadata": {},
   "outputs": [
    {
     "data": {
      "text/plain": [
       "15"
      ]
     },
     "execution_count": 288,
     "metadata": {},
     "output_type": "execute_result"
    }
   ],
   "source": [
    "df.genre.isnull().values.ravel().sum()"
   ]
  },
  {
   "cell_type": "code",
   "execution_count": 289,
   "id": "6894778d",
   "metadata": {},
   "outputs": [
    {
     "data": {
      "text/plain": [
       "['Musical',\n",
       " 'Adventure',\n",
       " 'Drama',\n",
       " 'Comedy',\n",
       " nan,\n",
       " 'Action',\n",
       " 'Horror',\n",
       " 'Romantic Comedy',\n",
       " 'Thriller/Suspense',\n",
       " 'Western',\n",
       " 'Black Comedy',\n",
       " 'Documentary',\n",
       " 'Concert/Performance']"
      ]
     },
     "execution_count": 289,
     "metadata": {},
     "output_type": "execute_result"
    }
   ],
   "source": [
    "genre_name = list(df.genre.unique())\n",
    "genre_name"
   ]
  },
  {
   "cell_type": "code",
   "execution_count": 290,
   "id": "307d96ad",
   "metadata": {},
   "outputs": [],
   "source": [
    "df['genre'] = df['genre'].fillna('Unknown')"
   ]
  },
  {
   "cell_type": "code",
   "execution_count": 291,
   "id": "a58f42c5",
   "metadata": {},
   "outputs": [
    {
     "data": {
      "text/plain": [
       "['Musical',\n",
       " 'Adventure',\n",
       " 'Drama',\n",
       " 'Comedy',\n",
       " 'Unknown',\n",
       " 'Action',\n",
       " 'Horror',\n",
       " 'Romantic Comedy',\n",
       " 'Thriller/Suspense',\n",
       " 'Western',\n",
       " 'Black Comedy',\n",
       " 'Documentary',\n",
       " 'Concert/Performance']"
      ]
     },
     "execution_count": 291,
     "metadata": {},
     "output_type": "execute_result"
    }
   ],
   "source": [
    "genre_name = list(df.genre.unique())\n",
    "genre_name"
   ]
  },
  {
   "cell_type": "code",
   "execution_count": 292,
   "id": "3eee75a6",
   "metadata": {},
   "outputs": [
    {
     "data": {
      "text/plain": [
       "0"
      ]
     },
     "execution_count": 292,
     "metadata": {},
     "output_type": "execute_result"
    }
   ],
   "source": [
    "df.genre.isnull().values.ravel().sum()"
   ]
  },
  {
   "cell_type": "code",
   "execution_count": 293,
   "id": "48a309ac",
   "metadata": {},
   "outputs": [
    {
     "data": {
      "text/plain": [
       "0"
      ]
     },
     "execution_count": 293,
     "metadata": {},
     "output_type": "execute_result"
    }
   ],
   "source": [
    "df.release_date.isnull().values.ravel().sum()"
   ]
  },
  {
   "cell_type": "code",
   "execution_count": 294,
   "id": "8af71483",
   "metadata": {},
   "outputs": [],
   "source": [
    "df['release_year'] = df['release_date'].str[:4]"
   ]
  },
  {
   "cell_type": "code",
   "execution_count": 295,
   "id": "03028373",
   "metadata": {},
   "outputs": [],
   "source": [
    "df[\"release_year\"] = df[\"release_year\"].apply(pd.to_numeric)"
   ]
  },
  {
   "cell_type": "code",
   "execution_count": 296,
   "id": "4db2f74f",
   "metadata": {
    "scrolled": true
   },
   "outputs": [],
   "source": [
    "df = df.drop(['release_date'], axis=1)"
   ]
  },
  {
   "cell_type": "code",
   "execution_count": 297,
   "id": "e65abaf6",
   "metadata": {},
   "outputs": [],
   "source": [
    "df = df[df['release_year'] >= 1980]  "
   ]
  },
  {
   "cell_type": "code",
   "execution_count": 298,
   "id": "38bb9664",
   "metadata": {},
   "outputs": [
    {
     "data": {
      "text/html": [
       "<div>\n",
       "<style scoped>\n",
       "    .dataframe tbody tr th:only-of-type {\n",
       "        vertical-align: middle;\n",
       "    }\n",
       "\n",
       "    .dataframe tbody tr th {\n",
       "        vertical-align: top;\n",
       "    }\n",
       "\n",
       "    .dataframe thead th {\n",
       "        text-align: right;\n",
       "    }\n",
       "</style>\n",
       "<table border=\"1\" class=\"dataframe\">\n",
       "  <thead>\n",
       "    <tr style=\"text-align: right;\">\n",
       "      <th></th>\n",
       "      <th>movie_title</th>\n",
       "      <th>genre</th>\n",
       "      <th>mpaa_rating</th>\n",
       "      <th>total_gross</th>\n",
       "      <th>inflation_adjusted_gross</th>\n",
       "      <th>release_year</th>\n",
       "    </tr>\n",
       "  </thead>\n",
       "  <tbody>\n",
       "    <tr>\n",
       "      <th>0</th>\n",
       "      <td>Midnight Madness</td>\n",
       "      <td>Unknown</td>\n",
       "      <td>Unknown</td>\n",
       "      <td>2900000</td>\n",
       "      <td>9088096</td>\n",
       "      <td>1980</td>\n",
       "    </tr>\n",
       "    <tr>\n",
       "      <th>1</th>\n",
       "      <td>The Last Flight of Noah’s Ark</td>\n",
       "      <td>Unknown</td>\n",
       "      <td>Unknown</td>\n",
       "      <td>11000000</td>\n",
       "      <td>34472116</td>\n",
       "      <td>1980</td>\n",
       "    </tr>\n",
       "    <tr>\n",
       "      <th>2</th>\n",
       "      <td>The Devil and Max Devlin</td>\n",
       "      <td>Unknown</td>\n",
       "      <td>Unknown</td>\n",
       "      <td>16000000</td>\n",
       "      <td>48517980</td>\n",
       "      <td>1981</td>\n",
       "    </tr>\n",
       "    <tr>\n",
       "      <th>3</th>\n",
       "      <td>The Fox and the Hound</td>\n",
       "      <td>Comedy</td>\n",
       "      <td>Unknown</td>\n",
       "      <td>43899231</td>\n",
       "      <td>133118889</td>\n",
       "      <td>1981</td>\n",
       "    </tr>\n",
       "    <tr>\n",
       "      <th>4</th>\n",
       "      <td>Night Crossing</td>\n",
       "      <td>Drama</td>\n",
       "      <td>Unknown</td>\n",
       "      <td>4500000</td>\n",
       "      <td>12903059</td>\n",
       "      <td>1982</td>\n",
       "    </tr>\n",
       "    <tr>\n",
       "      <th>...</th>\n",
       "      <td>...</td>\n",
       "      <td>...</td>\n",
       "      <td>...</td>\n",
       "      <td>...</td>\n",
       "      <td>...</td>\n",
       "      <td>...</td>\n",
       "    </tr>\n",
       "    <tr>\n",
       "      <th>547</th>\n",
       "      <td>The Light Between Oceans</td>\n",
       "      <td>Drama</td>\n",
       "      <td>PG-13</td>\n",
       "      <td>12545979</td>\n",
       "      <td>12545979</td>\n",
       "      <td>2016</td>\n",
       "    </tr>\n",
       "    <tr>\n",
       "      <th>548</th>\n",
       "      <td>Queen of Katwe</td>\n",
       "      <td>Drama</td>\n",
       "      <td>PG</td>\n",
       "      <td>8874389</td>\n",
       "      <td>8874389</td>\n",
       "      <td>2016</td>\n",
       "    </tr>\n",
       "    <tr>\n",
       "      <th>549</th>\n",
       "      <td>Doctor Strange</td>\n",
       "      <td>Adventure</td>\n",
       "      <td>PG-13</td>\n",
       "      <td>232532923</td>\n",
       "      <td>232532923</td>\n",
       "      <td>2016</td>\n",
       "    </tr>\n",
       "    <tr>\n",
       "      <th>550</th>\n",
       "      <td>Moana</td>\n",
       "      <td>Adventure</td>\n",
       "      <td>PG</td>\n",
       "      <td>246082029</td>\n",
       "      <td>246082029</td>\n",
       "      <td>2016</td>\n",
       "    </tr>\n",
       "    <tr>\n",
       "      <th>551</th>\n",
       "      <td>Rogue One: A Star Wars Story</td>\n",
       "      <td>Adventure</td>\n",
       "      <td>PG-13</td>\n",
       "      <td>529483936</td>\n",
       "      <td>529483936</td>\n",
       "      <td>2016</td>\n",
       "    </tr>\n",
       "  </tbody>\n",
       "</table>\n",
       "<p>552 rows × 6 columns</p>\n",
       "</div>"
      ],
      "text/plain": [
       "                       movie_title      genre mpaa_rating  total_gross  \\\n",
       "0                 Midnight Madness    Unknown     Unknown      2900000   \n",
       "1    The Last Flight of Noah’s Ark    Unknown     Unknown     11000000   \n",
       "2         The Devil and Max Devlin    Unknown     Unknown     16000000   \n",
       "3            The Fox and the Hound     Comedy     Unknown     43899231   \n",
       "4                   Night Crossing      Drama     Unknown      4500000   \n",
       "..                             ...        ...         ...          ...   \n",
       "547       The Light Between Oceans      Drama       PG-13     12545979   \n",
       "548                 Queen of Katwe      Drama          PG      8874389   \n",
       "549                 Doctor Strange  Adventure       PG-13    232532923   \n",
       "550                          Moana  Adventure          PG    246082029   \n",
       "551   Rogue One: A Star Wars Story  Adventure       PG-13    529483936   \n",
       "\n",
       "     inflation_adjusted_gross  release_year  \n",
       "0                     9088096          1980  \n",
       "1                    34472116          1980  \n",
       "2                    48517980          1981  \n",
       "3                   133118889          1981  \n",
       "4                    12903059          1982  \n",
       "..                        ...           ...  \n",
       "547                  12545979          2016  \n",
       "548                   8874389          2016  \n",
       "549                 232532923          2016  \n",
       "550                 246082029          2016  \n",
       "551                 529483936          2016  \n",
       "\n",
       "[552 rows x 6 columns]"
      ]
     },
     "execution_count": 298,
     "metadata": {},
     "output_type": "execute_result"
    }
   ],
   "source": [
    "df = df.reset_index(drop=True)\n",
    "df"
   ]
  },
  {
   "cell_type": "markdown",
   "id": "681dd050",
   "metadata": {},
   "source": [
    "## VISUALIZATIONS"
   ]
  },
  {
   "cell_type": "code",
   "execution_count": 299,
   "id": "8553962f",
   "metadata": {},
   "outputs": [
    {
     "data": {
      "text/html": [
       "<div>\n",
       "<style scoped>\n",
       "    .dataframe tbody tr th:only-of-type {\n",
       "        vertical-align: middle;\n",
       "    }\n",
       "\n",
       "    .dataframe tbody tr th {\n",
       "        vertical-align: top;\n",
       "    }\n",
       "\n",
       "    .dataframe thead th {\n",
       "        text-align: right;\n",
       "    }\n",
       "</style>\n",
       "<table border=\"1\" class=\"dataframe\">\n",
       "  <thead>\n",
       "    <tr style=\"text-align: right;\">\n",
       "      <th></th>\n",
       "      <th>movie_title</th>\n",
       "      <th>genre</th>\n",
       "      <th>mpaa_rating</th>\n",
       "      <th>total_gross</th>\n",
       "      <th>inflation_adjusted_gross</th>\n",
       "      <th>release_year</th>\n",
       "    </tr>\n",
       "  </thead>\n",
       "  <tbody>\n",
       "    <tr>\n",
       "      <th>0</th>\n",
       "      <td>Midnight Madness</td>\n",
       "      <td>Unknown</td>\n",
       "      <td>Unknown</td>\n",
       "      <td>2900000</td>\n",
       "      <td>9.088096</td>\n",
       "      <td>1980</td>\n",
       "    </tr>\n",
       "    <tr>\n",
       "      <th>1</th>\n",
       "      <td>The Last Flight of Noah’s Ark</td>\n",
       "      <td>Unknown</td>\n",
       "      <td>Unknown</td>\n",
       "      <td>11000000</td>\n",
       "      <td>34.472116</td>\n",
       "      <td>1980</td>\n",
       "    </tr>\n",
       "    <tr>\n",
       "      <th>2</th>\n",
       "      <td>The Devil and Max Devlin</td>\n",
       "      <td>Unknown</td>\n",
       "      <td>Unknown</td>\n",
       "      <td>16000000</td>\n",
       "      <td>48.517980</td>\n",
       "      <td>1981</td>\n",
       "    </tr>\n",
       "    <tr>\n",
       "      <th>3</th>\n",
       "      <td>The Fox and the Hound</td>\n",
       "      <td>Comedy</td>\n",
       "      <td>Unknown</td>\n",
       "      <td>43899231</td>\n",
       "      <td>133.118889</td>\n",
       "      <td>1981</td>\n",
       "    </tr>\n",
       "    <tr>\n",
       "      <th>4</th>\n",
       "      <td>Night Crossing</td>\n",
       "      <td>Drama</td>\n",
       "      <td>Unknown</td>\n",
       "      <td>4500000</td>\n",
       "      <td>12.903059</td>\n",
       "      <td>1982</td>\n",
       "    </tr>\n",
       "    <tr>\n",
       "      <th>...</th>\n",
       "      <td>...</td>\n",
       "      <td>...</td>\n",
       "      <td>...</td>\n",
       "      <td>...</td>\n",
       "      <td>...</td>\n",
       "      <td>...</td>\n",
       "    </tr>\n",
       "    <tr>\n",
       "      <th>547</th>\n",
       "      <td>The Light Between Oceans</td>\n",
       "      <td>Drama</td>\n",
       "      <td>PG-13</td>\n",
       "      <td>12545979</td>\n",
       "      <td>12.545979</td>\n",
       "      <td>2016</td>\n",
       "    </tr>\n",
       "    <tr>\n",
       "      <th>548</th>\n",
       "      <td>Queen of Katwe</td>\n",
       "      <td>Drama</td>\n",
       "      <td>PG</td>\n",
       "      <td>8874389</td>\n",
       "      <td>8.874389</td>\n",
       "      <td>2016</td>\n",
       "    </tr>\n",
       "    <tr>\n",
       "      <th>549</th>\n",
       "      <td>Doctor Strange</td>\n",
       "      <td>Adventure</td>\n",
       "      <td>PG-13</td>\n",
       "      <td>232532923</td>\n",
       "      <td>232.532923</td>\n",
       "      <td>2016</td>\n",
       "    </tr>\n",
       "    <tr>\n",
       "      <th>550</th>\n",
       "      <td>Moana</td>\n",
       "      <td>Adventure</td>\n",
       "      <td>PG</td>\n",
       "      <td>246082029</td>\n",
       "      <td>246.082029</td>\n",
       "      <td>2016</td>\n",
       "    </tr>\n",
       "    <tr>\n",
       "      <th>551</th>\n",
       "      <td>Rogue One: A Star Wars Story</td>\n",
       "      <td>Adventure</td>\n",
       "      <td>PG-13</td>\n",
       "      <td>529483936</td>\n",
       "      <td>529.483936</td>\n",
       "      <td>2016</td>\n",
       "    </tr>\n",
       "  </tbody>\n",
       "</table>\n",
       "<p>552 rows × 6 columns</p>\n",
       "</div>"
      ],
      "text/plain": [
       "                       movie_title      genre mpaa_rating  total_gross  \\\n",
       "0                 Midnight Madness    Unknown     Unknown      2900000   \n",
       "1    The Last Flight of Noah’s Ark    Unknown     Unknown     11000000   \n",
       "2         The Devil and Max Devlin    Unknown     Unknown     16000000   \n",
       "3            The Fox and the Hound     Comedy     Unknown     43899231   \n",
       "4                   Night Crossing      Drama     Unknown      4500000   \n",
       "..                             ...        ...         ...          ...   \n",
       "547       The Light Between Oceans      Drama       PG-13     12545979   \n",
       "548                 Queen of Katwe      Drama          PG      8874389   \n",
       "549                 Doctor Strange  Adventure       PG-13    232532923   \n",
       "550                          Moana  Adventure          PG    246082029   \n",
       "551   Rogue One: A Star Wars Story  Adventure       PG-13    529483936   \n",
       "\n",
       "     inflation_adjusted_gross  release_year  \n",
       "0                    9.088096          1980  \n",
       "1                   34.472116          1980  \n",
       "2                   48.517980          1981  \n",
       "3                  133.118889          1981  \n",
       "4                   12.903059          1982  \n",
       "..                        ...           ...  \n",
       "547                 12.545979          2016  \n",
       "548                  8.874389          2016  \n",
       "549                232.532923          2016  \n",
       "550                246.082029          2016  \n",
       "551                529.483936          2016  \n",
       "\n",
       "[552 rows x 6 columns]"
      ]
     },
     "execution_count": 299,
     "metadata": {},
     "output_type": "execute_result"
    }
   ],
   "source": [
    "df1 = df\n",
    "df1['inflation_adjusted_gross'] = df1['inflation_adjusted_gross']/1000000\n",
    "df1"
   ]
  },
  {
   "cell_type": "code",
   "execution_count": 328,
   "id": "88c04b28",
   "metadata": {},
   "outputs": [
    {
     "data": {
      "text/html": [
       "\n",
       "<div id=\"altair-viz-8c1507b4ea354e538599f4881603cdd6\"></div>\n",
       "<script type=\"text/javascript\">\n",
       "  var VEGA_DEBUG = (typeof VEGA_DEBUG == \"undefined\") ? {} : VEGA_DEBUG;\n",
       "  (function(spec, embedOpt){\n",
       "    let outputDiv = document.currentScript.previousElementSibling;\n",
       "    if (outputDiv.id !== \"altair-viz-8c1507b4ea354e538599f4881603cdd6\") {\n",
       "      outputDiv = document.getElementById(\"altair-viz-8c1507b4ea354e538599f4881603cdd6\");\n",
       "    }\n",
       "    const paths = {\n",
       "      \"vega\": \"https://cdn.jsdelivr.net/npm//vega@5?noext\",\n",
       "      \"vega-lib\": \"https://cdn.jsdelivr.net/npm//vega-lib?noext\",\n",
       "      \"vega-lite\": \"https://cdn.jsdelivr.net/npm//vega-lite@4.17.0?noext\",\n",
       "      \"vega-embed\": \"https://cdn.jsdelivr.net/npm//vega-embed@6?noext\",\n",
       "    };\n",
       "\n",
       "    function maybeLoadScript(lib, version) {\n",
       "      var key = `${lib.replace(\"-\", \"\")}_version`;\n",
       "      return (VEGA_DEBUG[key] == version) ?\n",
       "        Promise.resolve(paths[lib]) :\n",
       "        new Promise(function(resolve, reject) {\n",
       "          var s = document.createElement('script');\n",
       "          document.getElementsByTagName(\"head\")[0].appendChild(s);\n",
       "          s.async = true;\n",
       "          s.onload = () => {\n",
       "            VEGA_DEBUG[key] = version;\n",
       "            return resolve(paths[lib]);\n",
       "          };\n",
       "          s.onerror = () => reject(`Error loading script: ${paths[lib]}`);\n",
       "          s.src = paths[lib];\n",
       "        });\n",
       "    }\n",
       "\n",
       "    function showError(err) {\n",
       "      outputDiv.innerHTML = `<div class=\"error\" style=\"color:red;\">${err}</div>`;\n",
       "      throw err;\n",
       "    }\n",
       "\n",
       "    function displayChart(vegaEmbed) {\n",
       "      vegaEmbed(outputDiv, spec, embedOpt)\n",
       "        .catch(err => showError(`Javascript Error: ${err.message}<br>This usually means there's a typo in your chart specification. See the javascript console for the full traceback.`));\n",
       "    }\n",
       "\n",
       "    if(typeof define === \"function\" && define.amd) {\n",
       "      requirejs.config({paths});\n",
       "      require([\"vega-embed\"], displayChart, err => showError(`Error loading script: ${err.message}`));\n",
       "    } else {\n",
       "      maybeLoadScript(\"vega\", \"5\")\n",
       "        .then(() => maybeLoadScript(\"vega-lite\", \"4.17.0\"))\n",
       "        .then(() => maybeLoadScript(\"vega-embed\", \"6\"))\n",
       "        .catch(showError)\n",
       "        .then(() => displayChart(vegaEmbed));\n",
       "    }\n",
       "  })({\"config\": {\"view\": {\"continuousWidth\": 400, \"continuousHeight\": 300, \"stroke\": \"transparent\"}, \"axis\": {\"labelFontSize\": 15, \"titleFontSize\": 18}, \"legend\": {\"labelFontSize\": 13, \"titleFontSize\": 15}, \"title\": {\"fontSize\": 20}}, \"layer\": [{\"mark\": {\"type\": \"line\", \"color\": \"purple\"}, \"encoding\": {\"x\": {\"axis\": {\"grid\": false, \"labelAngle\": -45, \"tickCount\": 12, \"title\": \"Year\", \"values\": [1980, 1985, 1990, 1995, 2000, 2005, 2010, 2015]}, \"field\": \"release_year\", \"scale\": {\"zero\": false}, \"type\": \"nominal\"}, \"y\": {\"aggregate\": \"mean\", \"axis\": {\"title\": \"Inflation Adjusted Gross Income (millions)\"}, \"field\": \"inflation_adjusted_gross\", \"scale\": {\"zero\": false}, \"type\": \"quantitative\"}}}, {\"mark\": {\"type\": \"errorband\", \"color\": \"purple\", \"extent\": \"ci\"}, \"encoding\": {\"x\": {\"axis\": {\"grid\": false, \"labelAngle\": -45, \"tickCount\": 12, \"title\": \"Year\", \"values\": [1980, 1985, 1990, 1995, 2000, 2005, 2010, 2015]}, \"field\": \"release_year\", \"scale\": {\"zero\": false}, \"type\": \"nominal\"}, \"y\": {\"aggregate\": \"mean\", \"axis\": {\"title\": \"Inflation Adjusted Gross Income (millions)\"}, \"field\": \"inflation_adjusted_gross\", \"scale\": {\"zero\": false}, \"type\": \"quantitative\"}}}], \"data\": {\"name\": \"data-863f73a9432f28075f4dade6342a4ebf\"}, \"height\": 500, \"title\": \"Mean Inflation Adjusted Gross Incomes of Disney Movies by Year\", \"width\": 700, \"$schema\": \"https://vega.github.io/schema/vega-lite/v4.17.0.json\", \"datasets\": {\"data-863f73a9432f28075f4dade6342a4ebf\": [{\"movie_title\": \"Midnight Madness\", \"genre\": \"Unknown\", \"mpaa_rating\": \"Unknown\", \"total_gross\": 2900000, \"inflation_adjusted_gross\": 9.088096, \"release_year\": 1980}, {\"movie_title\": \"The Last Flight of Noah\\u2019s Ark\", \"genre\": \"Unknown\", \"mpaa_rating\": \"Unknown\", \"total_gross\": 11000000, \"inflation_adjusted_gross\": 34.472116, \"release_year\": 1980}, {\"movie_title\": \"The Devil and Max Devlin\", \"genre\": \"Unknown\", \"mpaa_rating\": \"Unknown\", \"total_gross\": 16000000, \"inflation_adjusted_gross\": 48.51798, \"release_year\": 1981}, {\"movie_title\": \"The Fox and the Hound\", \"genre\": \"Comedy\", \"mpaa_rating\": \"Unknown\", \"total_gross\": 43899231, \"inflation_adjusted_gross\": 133.118889, \"release_year\": 1981}, {\"movie_title\": \"Night Crossing\", \"genre\": \"Drama\", \"mpaa_rating\": \"Unknown\", \"total_gross\": 4500000, \"inflation_adjusted_gross\": 12.903059, \"release_year\": 1982}, {\"movie_title\": \"Tron\", \"genre\": \"Action\", \"mpaa_rating\": \"Unknown\", \"total_gross\": 26918576, \"inflation_adjusted_gross\": 77.184895, \"release_year\": 1982}, {\"movie_title\": \"Tex\", \"genre\": \"Drama\", \"mpaa_rating\": \"Unknown\", \"total_gross\": 7199408, \"inflation_adjusted_gross\": 20.643199, \"release_year\": 1982}, {\"movie_title\": \"Trenchcoat\", \"genre\": \"Comedy\", \"mpaa_rating\": \"Unknown\", \"total_gross\": 4304286, \"inflation_adjusted_gross\": 11.519089, \"release_year\": 1983}, {\"movie_title\": \"Something Wicked This Way Comes\", \"genre\": \"Horror\", \"mpaa_rating\": \"Unknown\", \"total_gross\": 5656087, \"inflation_adjusted_gross\": 15.136765, \"release_year\": 1983}, {\"movie_title\": \"Never Cry Wolf\", \"genre\": \"Drama\", \"mpaa_rating\": \"Unknown\", \"total_gross\": 27668764, \"inflation_adjusted_gross\": 70.669955, \"release_year\": 1983}, {\"movie_title\": \"Running Brave\", \"genre\": \"Drama\", \"mpaa_rating\": \"Unknown\", \"total_gross\": 1204595, \"inflation_adjusted_gross\": 3.223725, \"release_year\": 1983}, {\"movie_title\": \"Splash\", \"genre\": \"Comedy\", \"mpaa_rating\": \"PG\", \"total_gross\": 62599495, \"inflation_adjusted_gross\": 157.057661, \"release_year\": 1984}, {\"movie_title\": \"Country\", \"genre\": \"Drama\", \"mpaa_rating\": \"Unknown\", \"total_gross\": 8400000, \"inflation_adjusted_gross\": 21.075, \"release_year\": 1984}, {\"movie_title\": \"Baby: Secret of the Lost Legend\", \"genre\": \"Adventure\", \"mpaa_rating\": \"Unknown\", \"total_gross\": 14276095, \"inflation_adjusted_gross\": 33.900697, \"release_year\": 1985}, {\"movie_title\": \"Return to Oz\", \"genre\": \"Adventure\", \"mpaa_rating\": \"Unknown\", \"total_gross\": 10618813, \"inflation_adjusted_gross\": 25.215934, \"release_year\": 1985}, {\"movie_title\": \"The Black Cauldron\", \"genre\": \"Adventure\", \"mpaa_rating\": \"Unknown\", \"total_gross\": 21288692, \"inflation_adjusted_gross\": 50.553142, \"release_year\": 1985}, {\"movie_title\": \"My Science Project\", \"genre\": \"Comedy\", \"mpaa_rating\": \"Unknown\", \"total_gross\": 4100000, \"inflation_adjusted_gross\": 9.736051, \"release_year\": 1985}, {\"movie_title\": \"The Journey of Natty Gann\", \"genre\": \"Drama\", \"mpaa_rating\": \"Unknown\", \"total_gross\": 9468512, \"inflation_adjusted_gross\": 22.302956, \"release_year\": 1985}, {\"movie_title\": \"One Magic Christmas\", \"genre\": \"Drama\", \"mpaa_rating\": \"Unknown\", \"total_gross\": 13229514, \"inflation_adjusted_gross\": 31.415432, \"release_year\": 1985}, {\"movie_title\": \"Down and Out in Beverly Hills\", \"genre\": \"Comedy\", \"mpaa_rating\": \"R\", \"total_gross\": 62134225, \"inflation_adjusted_gross\": 141.183693, \"release_year\": 1986}, {\"movie_title\": \"Off Beat\", \"genre\": \"Comedy\", \"mpaa_rating\": \"Unknown\", \"total_gross\": 4842778, \"inflation_adjusted_gross\": 11.003932, \"release_year\": 1986}, {\"movie_title\": \"Ruthless People\", \"genre\": \"Comedy\", \"mpaa_rating\": \"R\", \"total_gross\": 71624879, \"inflation_adjusted_gross\": 162.748712, \"release_year\": 1986}, {\"movie_title\": \"The Great Mouse Detective\", \"genre\": \"Adventure\", \"mpaa_rating\": \"Unknown\", \"total_gross\": 23605534, \"inflation_adjusted_gross\": 53.637367, \"release_year\": 1986}, {\"movie_title\": \"Flight of the Navigator\", \"genre\": \"Adventure\", \"mpaa_rating\": \"Unknown\", \"total_gross\": 18564613, \"inflation_adjusted_gross\": 42.183197, \"release_year\": 1986}, {\"movie_title\": \"Tough Guys\", \"genre\": \"Comedy\", \"mpaa_rating\": \"Unknown\", \"total_gross\": 21458229, \"inflation_adjusted_gross\": 48.758184, \"release_year\": 1986}, {\"movie_title\": \"The Color of Money\", \"genre\": \"Drama\", \"mpaa_rating\": \"R\", \"total_gross\": 52293000, \"inflation_adjusted_gross\": 117.957323, \"release_year\": 1986}, {\"movie_title\": \"Outrageous Fortune\", \"genre\": \"Comedy\", \"mpaa_rating\": \"R\", \"total_gross\": 52864741, \"inflation_adjusted_gross\": 113.976921, \"release_year\": 1987}, {\"movie_title\": \"Tin Men\", \"genre\": \"Comedy\", \"mpaa_rating\": \"Unknown\", \"total_gross\": 25411386, \"inflation_adjusted_gross\": 54.787202, \"release_year\": 1987}, {\"movie_title\": \"Ernest Goes to Camp\", \"genre\": \"Comedy\", \"mpaa_rating\": \"Unknown\", \"total_gross\": 23509382, \"inflation_adjusted_gross\": 50.686462, \"release_year\": 1987}, {\"movie_title\": \"Benji the Hunted\", \"genre\": \"Adventure\", \"mpaa_rating\": \"Unknown\", \"total_gross\": 15212539, \"inflation_adjusted_gross\": 32.798382, \"release_year\": 1987}, {\"movie_title\": \"Adventures in Babysitting\", \"genre\": \"Comedy\", \"mpaa_rating\": \"Unknown\", \"total_gross\": 33790923, \"inflation_adjusted_gross\": 72.853569, \"release_year\": 1987}, {\"movie_title\": \"Stakeout\", \"genre\": \"Comedy\", \"mpaa_rating\": \"R\", \"total_gross\": 65673233, \"inflation_adjusted_gross\": 141.59216, \"release_year\": 1987}, {\"movie_title\": \"Can't Buy Me Love\", \"genre\": \"Romantic Comedy\", \"mpaa_rating\": \"Unknown\", \"total_gross\": 31623833, \"inflation_adjusted_gross\": 68.1813, \"release_year\": 1987}, {\"movie_title\": \"Hello Again\", \"genre\": \"Comedy\", \"mpaa_rating\": \"Unknown\", \"total_gross\": 20419446, \"inflation_adjusted_gross\": 44.024529, \"release_year\": 1987}, {\"movie_title\": \"3 Men and a Baby\", \"genre\": \"Comedy\", \"mpaa_rating\": \"PG\", \"total_gross\": 167780960, \"inflation_adjusted_gross\": 353.334607, \"release_year\": 1987}, {\"movie_title\": \"Good Morning Vietnam\", \"genre\": \"Comedy\", \"mpaa_rating\": \"R\", \"total_gross\": 123922370, \"inflation_adjusted_gross\": 254.414837, \"release_year\": 1987}, {\"movie_title\": \"Shoot to Kill\", \"genre\": \"Action\", \"mpaa_rating\": \"Unknown\", \"total_gross\": 29300000, \"inflation_adjusted_gross\": 60.097074, \"release_year\": 1988}, {\"movie_title\": \"D.O.A.\", \"genre\": \"Thriller/Suspense\", \"mpaa_rating\": \"Unknown\", \"total_gross\": 12706478, \"inflation_adjusted_gross\": 26.062188, \"release_year\": 1988}, {\"movie_title\": \"Return to Snowy River\", \"genre\": \"Adventure\", \"mpaa_rating\": \"PG\", \"total_gross\": 13687027, \"inflation_adjusted_gross\": 28.073384, \"release_year\": 1988}, {\"movie_title\": \"Big Business\", \"genre\": \"Comedy\", \"mpaa_rating\": \"PG\", \"total_gross\": 40150487, \"inflation_adjusted_gross\": 82.352451, \"release_year\": 1988}, {\"movie_title\": \"Who Framed Roger Rabbit?\", \"genre\": \"Comedy\", \"mpaa_rating\": \"PG\", \"total_gross\": 154112492, \"inflation_adjusted_gross\": 316.250084, \"release_year\": 1988}, {\"movie_title\": \"Cocktail\", \"genre\": \"Drama\", \"mpaa_rating\": \"R\", \"total_gross\": 78222753, \"inflation_adjusted_gross\": 160.442289, \"release_year\": 1988}, {\"movie_title\": \"The Rescue\", \"genre\": \"Action\", \"mpaa_rating\": \"Unknown\", \"total_gross\": 5855392, \"inflation_adjusted_gross\": 12.00996, \"release_year\": 1988}, {\"movie_title\": \"Heartbreak Hotel\", \"genre\": \"Comedy\", \"mpaa_rating\": \"Unknown\", \"total_gross\": 5509417, \"inflation_adjusted_gross\": 11.300331, \"release_year\": 1988}, {\"movie_title\": \"The Good Mother\", \"genre\": \"Drama\", \"mpaa_rating\": \"Unknown\", \"total_gross\": 4764606, \"inflation_adjusted_gross\": 9.772655, \"release_year\": 1988}, {\"movie_title\": \"Ernest Saves Christmas\", \"genre\": \"Comedy\", \"mpaa_rating\": \"PG\", \"total_gross\": 28202109, \"inflation_adjusted_gross\": 57.845202, \"release_year\": 1988}, {\"movie_title\": \"Oliver & Company\", \"genre\": \"Adventure\", \"mpaa_rating\": \"G\", \"total_gross\": 49576671, \"inflation_adjusted_gross\": 102.254492, \"release_year\": 1988}, {\"movie_title\": \"Beaches\", \"genre\": \"Drama\", \"mpaa_rating\": \"PG-13\", \"total_gross\": 57041866, \"inflation_adjusted_gross\": 120.381757, \"release_year\": 1988}, {\"movie_title\": \"Three Fugitives\", \"genre\": \"Comedy\", \"mpaa_rating\": \"PG-13\", \"total_gross\": 40590000, \"inflation_adjusted_gross\": 85.757817, \"release_year\": 1989}, {\"movie_title\": \"New York Stories\", \"genre\": \"Drama\", \"mpaa_rating\": \"PG\", \"total_gross\": 10763469, \"inflation_adjusted_gross\": 22.740861, \"release_year\": 1989}, {\"movie_title\": \"Disorganized Crime\", \"genre\": \"Comedy\", \"mpaa_rating\": \"Unknown\", \"total_gross\": 7210149, \"inflation_adjusted_gross\": 15.233465, \"release_year\": 1989}, {\"movie_title\": \"Dead Poets Society\", \"genre\": \"Drama\", \"mpaa_rating\": \"PG\", \"total_gross\": 95860116, \"inflation_adjusted_gross\": 202.531517, \"release_year\": 1989}, {\"movie_title\": \"Honey, I Shrunk the Kids\", \"genre\": \"Adventure\", \"mpaa_rating\": \"PG\", \"total_gross\": 130724172, \"inflation_adjusted_gross\": 276.191669, \"release_year\": 1989}, {\"movie_title\": \"Turner & Hooch\", \"genre\": \"Comedy\", \"mpaa_rating\": \"PG\", \"total_gross\": 71079915, \"inflation_adjusted_gross\": 150.176361, \"release_year\": 1989}, {\"movie_title\": \"Cheetah\", \"genre\": \"Adventure\", \"mpaa_rating\": \"Unknown\", \"total_gross\": 7882250, \"inflation_adjusted_gross\": 16.653473, \"release_year\": 1989}, {\"movie_title\": \"An Innocent Man\", \"genre\": \"Drama\", \"mpaa_rating\": \"R\", \"total_gross\": 19397847, \"inflation_adjusted_gross\": 40.983414, \"release_year\": 1989}, {\"movie_title\": \"Gross Anatomy\", \"genre\": \"Drama\", \"mpaa_rating\": \"PG-13\", \"total_gross\": 11346186, \"inflation_adjusted_gross\": 23.972012, \"release_year\": 1989}, {\"movie_title\": \"The Little Mermaid\", \"genre\": \"Adventure\", \"mpaa_rating\": \"G\", \"total_gross\": 111543479, \"inflation_adjusted_gross\": 223.726012, \"release_year\": 1989}, {\"movie_title\": \"Blaze\", \"genre\": \"Drama\", \"mpaa_rating\": \"R\", \"total_gross\": 19049727, \"inflation_adjusted_gross\": 39.88464, \"release_year\": 1989}, {\"movie_title\": \"Stella\", \"genre\": \"Drama\", \"mpaa_rating\": \"PG-13\", \"total_gross\": 20062347, \"inflation_adjusted_gross\": 40.077147, \"release_year\": 1990}, {\"movie_title\": \"Where the Heart Is\", \"genre\": \"Comedy\", \"mpaa_rating\": \"Unknown\", \"total_gross\": 1106475, \"inflation_adjusted_gross\": 2.210321, \"release_year\": 1990}, {\"movie_title\": \"Pretty Woman\", \"genre\": \"Romantic Comedy\", \"mpaa_rating\": \"R\", \"total_gross\": 178406268, \"inflation_adjusted_gross\": 356.389765, \"release_year\": 1990}, {\"movie_title\": \"Ernest Goes to Jail\", \"genre\": \"Comedy\", \"mpaa_rating\": \"PG\", \"total_gross\": 25029569, \"inflation_adjusted_gross\": 49.999822, \"release_year\": 1990}, {\"movie_title\": \"Spaced Invaders\", \"genre\": \"Comedy\", \"mpaa_rating\": \"PG\", \"total_gross\": 15000000, \"inflation_adjusted_gross\": 29.964452, \"release_year\": 1990}, {\"movie_title\": \"Fire Birds\", \"genre\": \"Action\", \"mpaa_rating\": \"PG-13\", \"total_gross\": 14760451, \"inflation_adjusted_gross\": 29.485923, \"release_year\": 1990}, {\"movie_title\": \"Dick Tracy\", \"genre\": \"Action\", \"mpaa_rating\": \"PG\", \"total_gross\": 103738726, \"inflation_adjusted_gross\": 207.231621, \"release_year\": 1990}, {\"movie_title\": \"Betsy's Wedding\", \"genre\": \"Comedy\", \"mpaa_rating\": \"R\", \"total_gross\": 19740070, \"inflation_adjusted_gross\": 39.433357, \"release_year\": 1990}, {\"movie_title\": \"Arachnophobia\", \"genre\": \"Thriller/Suspense\", \"mpaa_rating\": \"PG-13\", \"total_gross\": 53208180, \"inflation_adjusted_gross\": 106.29027, \"release_year\": 1990}, {\"movie_title\": \"DuckTales: The Movie - Treasure of th\\u2026\", \"genre\": \"Adventure\", \"mpaa_rating\": \"G\", \"total_gross\": 18075331, \"inflation_adjusted_gross\": 36.107823, \"release_year\": 1990}, {\"movie_title\": \"Taking Care of Business\", \"genre\": \"Comedy\", \"mpaa_rating\": \"R\", \"total_gross\": 20005435, \"inflation_adjusted_gross\": 39.96346, \"release_year\": 1990}, {\"movie_title\": \"Mr. Destiny\", \"genre\": \"Comedy\", \"mpaa_rating\": \"PG-13\", \"total_gross\": 15379253, \"inflation_adjusted_gross\": 30.722056, \"release_year\": 1990}, {\"movie_title\": \"The Rescuers Down Under\", \"genre\": \"Adventure\", \"mpaa_rating\": \"G\", \"total_gross\": 27931461, \"inflation_adjusted_gross\": 55.796728, \"release_year\": 1990}, {\"movie_title\": \"3 Men and a Little Lady\", \"genre\": \"Comedy\", \"mpaa_rating\": \"PG\", \"total_gross\": 71609321, \"inflation_adjusted_gross\": 143.108869, \"release_year\": 1990}, {\"movie_title\": \"Green Card\", \"genre\": \"Romantic Comedy\", \"mpaa_rating\": \"PG-13\", \"total_gross\": 29804169, \"inflation_adjusted_gross\": 59.679131, \"release_year\": 1990}, {\"movie_title\": \"White Fang\", \"genre\": \"Adventure\", \"mpaa_rating\": \"PG\", \"total_gross\": 34729091, \"inflation_adjusted_gross\": 69.540672, \"release_year\": 1991}, {\"movie_title\": \"Scenes from a Mall\", \"genre\": \"Comedy\", \"mpaa_rating\": \"Unknown\", \"total_gross\": 9563393, \"inflation_adjusted_gross\": 19.149495, \"release_year\": 1991}, {\"movie_title\": \"Haakon Haakonsen\", \"genre\": \"Adventure\", \"mpaa_rating\": \"PG\", \"total_gross\": 15024232, \"inflation_adjusted_gross\": 30.084149, \"release_year\": 1991}, {\"movie_title\": \"The Marrying Man\", \"genre\": \"Romantic Comedy\", \"mpaa_rating\": \"R\", \"total_gross\": 12454768, \"inflation_adjusted_gross\": 24.939118, \"release_year\": 1991}, {\"movie_title\": \"Oscar\", \"genre\": \"Comedy\", \"mpaa_rating\": \"PG\", \"total_gross\": 23562716, \"inflation_adjusted_gross\": 47.181395, \"release_year\": 1991}, {\"movie_title\": \"One Good Cop\", \"genre\": \"Action\", \"mpaa_rating\": \"R\", \"total_gross\": 11276846, \"inflation_adjusted_gross\": 22.580472, \"release_year\": 1991}, {\"movie_title\": \"What About Bob?\", \"genre\": \"Comedy\", \"mpaa_rating\": \"PG\", \"total_gross\": 63710000, \"inflation_adjusted_gross\": 127.571325, \"release_year\": 1991}, {\"movie_title\": \"Wild Hearts Can't Be Broken\", \"genre\": \"Drama\", \"mpaa_rating\": \"Unknown\", \"total_gross\": 7300000, \"inflation_adjusted_gross\": 14.617333, \"release_year\": 1991}, {\"movie_title\": \"The Rocketeer\", \"genre\": \"Action\", \"mpaa_rating\": \"PG\", \"total_gross\": 46573027, \"inflation_adjusted_gross\": 93.256673, \"release_year\": 1991}, {\"movie_title\": \"The Doctor\", \"genre\": \"Drama\", \"mpaa_rating\": \"PG-13\", \"total_gross\": 37497480, \"inflation_adjusted_gross\": 75.084021, \"release_year\": 1991}, {\"movie_title\": \"Paradise\", \"genre\": \"Drama\", \"mpaa_rating\": \"PG-13\", \"total_gross\": 18634643, \"inflation_adjusted_gross\": 37.31354, \"release_year\": 1991}, {\"movie_title\": \"Deceived\", \"genre\": \"Thriller/Suspense\", \"mpaa_rating\": \"PG-13\", \"total_gross\": 28738096, \"inflation_adjusted_gross\": 57.544453, \"release_year\": 1991}, {\"movie_title\": \"Ernest Scared Stupid\", \"genre\": \"Comedy\", \"mpaa_rating\": \"PG\", \"total_gross\": 14143280, \"inflation_adjusted_gross\": 28.320147, \"release_year\": 1991}, {\"movie_title\": \"Billy Bathgate\", \"genre\": \"Drama\", \"mpaa_rating\": \"R\", \"total_gross\": 15565363, \"inflation_adjusted_gross\": 31.167691, \"release_year\": 1991}, {\"movie_title\": \"Beauty and the Beast\", \"genre\": \"Musical\", \"mpaa_rating\": \"G\", \"total_gross\": 218951625, \"inflation_adjusted_gross\": 363.017667, \"release_year\": 1991}, {\"movie_title\": \"Father of the Bride\", \"genre\": \"Comedy\", \"mpaa_rating\": \"PG\", \"total_gross\": 89325780, \"inflation_adjusted_gross\": 179.821881, \"release_year\": 1991}, {\"movie_title\": \"The Hand That Rocks the Cradle\", \"genre\": \"Thriller/Suspense\", \"mpaa_rating\": \"R\", \"total_gross\": 88036683, \"inflation_adjusted_gross\": 178.831137, \"release_year\": 1992}, {\"movie_title\": \"Medicine Man\", \"genre\": \"Drama\", \"mpaa_rating\": \"PG-13\", \"total_gross\": 44948240, \"inflation_adjusted_gross\": 91.304495, \"release_year\": 1992}, {\"movie_title\": \"Blame it on the Bellboy\", \"genre\": \"Comedy\", \"mpaa_rating\": \"PG-13\", \"total_gross\": 2891055, \"inflation_adjusted_gross\": 5.872667, \"release_year\": 1992}, {\"movie_title\": \"Noises Off...\", \"genre\": \"Comedy\", \"mpaa_rating\": \"PG-13\", \"total_gross\": 2280148, \"inflation_adjusted_gross\": 4.63172, \"release_year\": 1992}, {\"movie_title\": \"Straight Talk\", \"genre\": \"Comedy\", \"mpaa_rating\": \"PG\", \"total_gross\": 21202099, \"inflation_adjusted_gross\": 43.068356, \"release_year\": 1992}, {\"movie_title\": \"Newsies\", \"genre\": \"Unknown\", \"mpaa_rating\": \"PG\", \"total_gross\": 2706352, \"inflation_adjusted_gross\": 5.497481, \"release_year\": 1992}, {\"movie_title\": \"Passed Away\", \"genre\": \"Unknown\", \"mpaa_rating\": \"PG-13\", \"total_gross\": 4030793, \"inflation_adjusted_gross\": 8.187848, \"release_year\": 1992}, {\"movie_title\": \"Encino Man\", \"genre\": \"Comedy\", \"mpaa_rating\": \"PG\", \"total_gross\": 40057130, \"inflation_adjusted_gross\": 81.369058, \"release_year\": 1992}, {\"movie_title\": \"Sister Act\", \"genre\": \"Comedy\", \"mpaa_rating\": \"PG\", \"total_gross\": 139605150, \"inflation_adjusted_gross\": 283.583472, \"release_year\": 1992}, {\"movie_title\": \"Honey I Blew Up the Kid\", \"genre\": \"Comedy\", \"mpaa_rating\": \"PG\", \"total_gross\": 58662452, \"inflation_adjusted_gross\": 119.162518, \"release_year\": 1992}, {\"movie_title\": \"A Stranger Among Us\", \"genre\": \"Drama\", \"mpaa_rating\": \"PG-13\", \"total_gross\": 12282994, \"inflation_adjusted_gross\": 24.950752, \"release_year\": 1992}, {\"movie_title\": \"3 Ninjas\", \"genre\": \"Action\", \"mpaa_rating\": \"PG\", \"total_gross\": 29028000, \"inflation_adjusted_gross\": 58.965304, \"release_year\": 1992}, {\"movie_title\": \"A Gun in Betty Lou's Handbag\", \"genre\": \"Unknown\", \"mpaa_rating\": \"PG-13\", \"total_gross\": 3591460, \"inflation_adjusted_gross\": 7.295423, \"release_year\": 1992}, {\"movie_title\": \"Captain Ron\", \"genre\": \"Comedy\", \"mpaa_rating\": \"PG-13\", \"total_gross\": 22518097, \"inflation_adjusted_gross\": 45.741576, \"release_year\": 1992}, {\"movie_title\": \"Sarafina!\", \"genre\": \"Drama\", \"mpaa_rating\": \"PG-13\", \"total_gross\": 7306242, \"inflation_adjusted_gross\": 14.841352, \"release_year\": 1992}, {\"movie_title\": \"Innocent Blood\", \"genre\": \"Horror\", \"mpaa_rating\": \"R\", \"total_gross\": 4877567, \"inflation_adjusted_gross\": 9.907922, \"release_year\": 1992}, {\"movie_title\": \"The Mighty Ducks\", \"genre\": \"Comedy\", \"mpaa_rating\": \"PG\", \"total_gross\": 50752337, \"inflation_adjusted_gross\": 103.12081, \"release_year\": 1992}, {\"movie_title\": \"1492: Conquest of Paradise\", \"genre\": \"Adventure\", \"mpaa_rating\": \"PG-13\", \"total_gross\": 7099531, \"inflation_adjusted_gross\": 14.421454, \"release_year\": 1992}, {\"movie_title\": \"Consenting Adults\", \"genre\": \"Drama\", \"mpaa_rating\": \"R\", \"total_gross\": 21591728, \"inflation_adjusted_gross\": 43.859823, \"release_year\": 1992}, {\"movie_title\": \"Aladdin\", \"genre\": \"Comedy\", \"mpaa_rating\": \"G\", \"total_gross\": 217350219, \"inflation_adjusted_gross\": 441.969178, \"release_year\": 1992}, {\"movie_title\": \"The Distinguished Gentleman\", \"genre\": \"Comedy\", \"mpaa_rating\": \"R\", \"total_gross\": 46434570, \"inflation_adjusted_gross\": 94.3499, \"release_year\": 1992}, {\"movie_title\": \"The Muppet Christmas Carol\", \"genre\": \"Comedy\", \"mpaa_rating\": \"G\", \"total_gross\": 27281507, \"inflation_adjusted_gross\": 55.417615, \"release_year\": 1992}, {\"movie_title\": \"Alive\", \"genre\": \"Adventure\", \"mpaa_rating\": \"R\", \"total_gross\": 36299670, \"inflation_adjusted_gross\": 73.914543, \"release_year\": 1993}, {\"movie_title\": \"Aspen Extreme\", \"genre\": \"Romantic Comedy\", \"mpaa_rating\": \"PG-13\", \"total_gross\": 7843388, \"inflation_adjusted_gross\": 15.970955, \"release_year\": 1993}, {\"movie_title\": \"Homeward Bound: The Incredible Journey\", \"genre\": \"Adventure\", \"mpaa_rating\": \"G\", \"total_gross\": 41833324, \"inflation_adjusted_gross\": 85.182343, \"release_year\": 1993}, {\"movie_title\": \"The Cemetery Club\", \"genre\": \"Comedy\", \"mpaa_rating\": \"PG-13\", \"total_gross\": 5583621, \"inflation_adjusted_gross\": 11.369541, \"release_year\": 1993}, {\"movie_title\": \"Swing Kids\", \"genre\": \"Musical\", \"mpaa_rating\": \"PG-13\", \"total_gross\": 5632086, \"inflation_adjusted_gross\": 11.468231, \"release_year\": 1993}, {\"movie_title\": \"A Far Off Place\", \"genre\": \"Adventure\", \"mpaa_rating\": \"PG\", \"total_gross\": 12890752, \"inflation_adjusted_gross\": 26.248558, \"release_year\": 1993}, {\"movie_title\": \"Born Yesterday\", \"genre\": \"Romantic Comedy\", \"mpaa_rating\": \"PG\", \"total_gross\": 17760754, \"inflation_adjusted_gross\": 36.165012, \"release_year\": 1993}, {\"movie_title\": \"The Adventures of Huck Finn\", \"genre\": \"Adventure\", \"mpaa_rating\": \"PG\", \"total_gross\": 24103594, \"inflation_adjusted_gross\": 49.080505, \"release_year\": 1993}, {\"movie_title\": \"Bound by Honor\", \"genre\": \"Unknown\", \"mpaa_rating\": \"R\", \"total_gross\": 4496583, \"inflation_adjusted_gross\": 9.156084, \"release_year\": 1993}, {\"movie_title\": \"Indian Summer\", \"genre\": \"Comedy\", \"mpaa_rating\": \"R\", \"total_gross\": 14717851, \"inflation_adjusted_gross\": 29.968953, \"release_year\": 1993}, {\"movie_title\": \"Super Mario Bros.\", \"genre\": \"Action\", \"mpaa_rating\": \"PG\", \"total_gross\": 20844907, \"inflation_adjusted_gross\": 42.445058, \"release_year\": 1993}, {\"movie_title\": \"Guilty as Sin\", \"genre\": \"Thriller/Suspense\", \"mpaa_rating\": \"R\", \"total_gross\": 22622537, \"inflation_adjusted_gross\": 46.064723, \"release_year\": 1993}, {\"movie_title\": \"Life With Mikey\", \"genre\": \"Comedy\", \"mpaa_rating\": \"PG\", \"total_gross\": 12349549, \"inflation_adjusted_gross\": 25.146538, \"release_year\": 1993}, {\"movie_title\": \"What's Love Got to Do With It\", \"genre\": \"Drama\", \"mpaa_rating\": \"R\", \"total_gross\": 39100956, \"inflation_adjusted_gross\": 79.61861, \"release_year\": 1993}, {\"movie_title\": \"Son in Law\", \"genre\": \"Comedy\", \"mpaa_rating\": \"PG-13\", \"total_gross\": 25989889, \"inflation_adjusted_gross\": 52.921433, \"release_year\": 1993}, {\"movie_title\": \"Hocus Pocus\", \"genre\": \"Comedy\", \"mpaa_rating\": \"PG\", \"total_gross\": 39360491, \"inflation_adjusted_gross\": 80.147079, \"release_year\": 1993}, {\"movie_title\": \"Another Stakeout\", \"genre\": \"Comedy\", \"mpaa_rating\": \"PG-13\", \"total_gross\": 20107504, \"inflation_adjusted_gross\": 40.943541, \"release_year\": 1993}, {\"movie_title\": \"My Boyfriend's Back\", \"genre\": \"Unknown\", \"mpaa_rating\": \"PG-13\", \"total_gross\": 3218882, \"inflation_adjusted_gross\": 6.554384, \"release_year\": 1993}, {\"movie_title\": \"Father Hood\", \"genre\": \"Unknown\", \"mpaa_rating\": \"PG-13\", \"total_gross\": 3268203, \"inflation_adjusted_gross\": 6.654819, \"release_year\": 1993}, {\"movie_title\": \"The Joy Luck Club\", \"genre\": \"Drama\", \"mpaa_rating\": \"R\", \"total_gross\": 32790064, \"inflation_adjusted_gross\": 66.768171, \"release_year\": 1993}, {\"movie_title\": \"Money for Nothing\", \"genre\": \"Comedy\", \"mpaa_rating\": \"R\", \"total_gross\": 1044824, \"inflation_adjusted_gross\": 2.127496, \"release_year\": 1993}, {\"movie_title\": \"The Program\", \"genre\": \"Action\", \"mpaa_rating\": \"R\", \"total_gross\": 23042200, \"inflation_adjusted_gross\": 46.919256, \"release_year\": 1993}, {\"movie_title\": \"Cool Runnings\", \"genre\": \"Comedy\", \"mpaa_rating\": \"PG\", \"total_gross\": 68856263, \"inflation_adjusted_gross\": 140.392731, \"release_year\": 1993}, {\"movie_title\": \"The Nightmare Before Christmas\", \"genre\": \"Musical\", \"mpaa_rating\": \"PG\", \"total_gross\": 50408318, \"inflation_adjusted_gross\": 100.026637, \"release_year\": 1993}, {\"movie_title\": \"The Three Musketeers\", \"genre\": \"Adventure\", \"mpaa_rating\": \"PG\", \"total_gross\": 53661805, \"inflation_adjusted_gross\": 109.310377, \"release_year\": 1993}, {\"movie_title\": \"Sister Act 2 Back in the Habit\", \"genre\": \"Comedy\", \"mpaa_rating\": \"PG\", \"total_gross\": 57319029, \"inflation_adjusted_gross\": 116.965668, \"release_year\": 1993}, {\"movie_title\": \"Tombstone\", \"genre\": \"Western\", \"mpaa_rating\": \"R\", \"total_gross\": 56505065, \"inflation_adjusted_gross\": 115.781734, \"release_year\": 1993}, {\"movie_title\": \"The Air Up There\", \"genre\": \"Comedy\", \"mpaa_rating\": \"PG\", \"total_gross\": 20782439, \"inflation_adjusted_gross\": 42.940186, \"release_year\": 1994}, {\"movie_title\": \"Cabin Boy\", \"genre\": \"Comedy\", \"mpaa_rating\": \"PG-13\", \"total_gross\": 3469493, \"inflation_adjusted_gross\": 7.168577, \"release_year\": 1994}, {\"movie_title\": \"Iron Will\", \"genre\": \"Drama\", \"mpaa_rating\": \"PG\", \"total_gross\": 20623071, \"inflation_adjusted_gross\": 42.610902, \"release_year\": 1994}, {\"movie_title\": \"Red Rock West\", \"genre\": \"Unknown\", \"mpaa_rating\": \"R\", \"total_gross\": 2502551, \"inflation_adjusted_gross\": 5.170709, \"release_year\": 1994}, {\"movie_title\": \"Blank Check\", \"genre\": \"Comedy\", \"mpaa_rating\": \"PG\", \"total_gross\": 30573770, \"inflation_adjusted_gross\": 63.170804, \"release_year\": 1994}, {\"movie_title\": \"Angie\", \"genre\": \"Comedy\", \"mpaa_rating\": \"R\", \"total_gross\": 9252349, \"inflation_adjusted_gross\": 19.116981, \"release_year\": 1994}, {\"movie_title\": \"The Ref\", \"genre\": \"Comedy\", \"mpaa_rating\": \"R\", \"total_gross\": 11325885, \"inflation_adjusted_gross\": 23.401275, \"release_year\": 1994}, {\"movie_title\": \"D2: The Mighty Ducks\", \"genre\": \"Comedy\", \"mpaa_rating\": \"PG\", \"total_gross\": 45604206, \"inflation_adjusted_gross\": 94.226333, \"release_year\": 1994}, {\"movie_title\": \"Holy Matrimony\", \"genre\": \"Comedy\", \"mpaa_rating\": \"Unknown\", \"total_gross\": 713234, \"inflation_adjusted_gross\": 1.473665, \"release_year\": 1994}, {\"movie_title\": \"White Fang 2: Myth of the White Wolf\", \"genre\": \"Adventure\", \"mpaa_rating\": \"PG\", \"total_gross\": 8752399, \"inflation_adjusted_gross\": 18.083994, \"release_year\": 1994}, {\"movie_title\": \"The Inkwell\", \"genre\": \"Comedy\", \"mpaa_rating\": \"R\", \"total_gross\": 8864699, \"inflation_adjusted_gross\": 18.31603, \"release_year\": 1994}, {\"movie_title\": \"When a Man Loves a Woman\", \"genre\": \"Drama\", \"mpaa_rating\": \"R\", \"total_gross\": 50021959, \"inflation_adjusted_gross\": 103.354194, \"release_year\": 1994}, {\"movie_title\": \"3 Ninjas Kick Back\", \"genre\": \"Action\", \"mpaa_rating\": \"PG\", \"total_gross\": 11744960, \"inflation_adjusted_gross\": 24.267154, \"release_year\": 1994}, {\"movie_title\": \"Renaissance Man\", \"genre\": \"Comedy\", \"mpaa_rating\": \"PG-13\", \"total_gross\": 24172899, \"inflation_adjusted_gross\": 49.945474, \"release_year\": 1994}, {\"movie_title\": \"The Lion King\", \"genre\": \"Adventure\", \"mpaa_rating\": \"G\", \"total_gross\": 422780140, \"inflation_adjusted_gross\": 761.640898, \"release_year\": 1994}, {\"movie_title\": \"I Love Trouble\", \"genre\": \"Romantic Comedy\", \"mpaa_rating\": \"PG\", \"total_gross\": 30806194, \"inflation_adjusted_gross\": 63.651027, \"release_year\": 1994}, {\"movie_title\": \"Angels in the Outfield\", \"genre\": \"Comedy\", \"mpaa_rating\": \"PG\", \"total_gross\": 50236831, \"inflation_adjusted_gross\": 103.798152, \"release_year\": 1994}, {\"movie_title\": \"In the Army Now\", \"genre\": \"Comedy\", \"mpaa_rating\": \"PG\", \"total_gross\": 28881266, \"inflation_adjusted_gross\": 59.673787, \"release_year\": 1994}, {\"movie_title\": \"Color of Night\", \"genre\": \"Thriller/Suspense\", \"mpaa_rating\": \"R\", \"total_gross\": 19750470, \"inflation_adjusted_gross\": 40.804816, \"release_year\": 1994}, {\"movie_title\": \"Camp Nowhere\", \"genre\": \"Comedy\", \"mpaa_rating\": \"PG\", \"total_gross\": 10442641, \"inflation_adjusted_gross\": 21.576332, \"release_year\": 1994}, {\"movie_title\": \"It's Pat\", \"genre\": \"Comedy\", \"mpaa_rating\": \"Unknown\", \"total_gross\": 60822, \"inflation_adjusted_gross\": 0.125666, \"release_year\": 1994}, {\"movie_title\": \"A Simple Twist of Fate\", \"genre\": \"Drama\", \"mpaa_rating\": \"PG-13\", \"total_gross\": 3404935, \"inflation_adjusted_gross\": 7.035189, \"release_year\": 1994}, {\"movie_title\": \"Quiz Show\", \"genre\": \"Drama\", \"mpaa_rating\": \"PG-13\", \"total_gross\": 24787282, \"inflation_adjusted_gross\": 50.840394, \"release_year\": 1994}, {\"movie_title\": \"Terminal Velocity\", \"genre\": \"Action\", \"mpaa_rating\": \"PG-13\", \"total_gross\": 16478900, \"inflation_adjusted_gross\": 34.048315, \"release_year\": 1994}, {\"movie_title\": \"Ed Wood\", \"genre\": \"Comedy\", \"mpaa_rating\": \"R\", \"total_gross\": 5828466, \"inflation_adjusted_gross\": 12.042634, \"release_year\": 1994}, {\"movie_title\": \"The Puppet Masters\", \"genre\": \"Horror\", \"mpaa_rating\": \"R\", \"total_gross\": 8579626, \"inflation_adjusted_gross\": 17.727017, \"release_year\": 1994}, {\"movie_title\": \"Squanto: A Warrior's Tale\", \"genre\": \"Drama\", \"mpaa_rating\": \"PG\", \"total_gross\": 3319344, \"inflation_adjusted_gross\": 6.858345, \"release_year\": 1994}, {\"movie_title\": \"The Santa Clause\", \"genre\": \"Comedy\", \"mpaa_rating\": \"PG\", \"total_gross\": 144833357, \"inflation_adjusted_gross\": 298.369717, \"release_year\": 1994}, {\"movie_title\": \"A Low Down Dirty Shame\", \"genre\": \"Action\", \"mpaa_rating\": \"R\", \"total_gross\": 29317886, \"inflation_adjusted_gross\": 60.321919, \"release_year\": 1994}, {\"movie_title\": \"The Jungle Book\", \"genre\": \"Adventure\", \"mpaa_rating\": \"PG\", \"total_gross\": 44342956, \"inflation_adjusted_gross\": 88.930321, \"release_year\": 1994}, {\"movie_title\": \"Houseguest\", \"genre\": \"Comedy\", \"mpaa_rating\": \"PG\", \"total_gross\": 26325256, \"inflation_adjusted_gross\": 51.016522, \"release_year\": 1995}, {\"movie_title\": \"Bad Company\", \"genre\": \"Thriller/Suspense\", \"mpaa_rating\": \"R\", \"total_gross\": 3523909, \"inflation_adjusted_gross\": 6.829092, \"release_year\": 1995}, {\"movie_title\": \"Miami Rhapsody\", \"genre\": \"Romantic Comedy\", \"mpaa_rating\": \"PG-13\", \"total_gross\": 5086578, \"inflation_adjusted_gross\": 9.857435, \"release_year\": 1995}, {\"movie_title\": \"The Jerky Boys\", \"genre\": \"Comedy\", \"mpaa_rating\": \"R\", \"total_gross\": 7555256, \"inflation_adjusted_gross\": 14.641561, \"release_year\": 1995}, {\"movie_title\": \"Heavy Weights\", \"genre\": \"Comedy\", \"mpaa_rating\": \"PG\", \"total_gross\": 17671310, \"inflation_adjusted_gross\": 34.245779, \"release_year\": 1995}, {\"movie_title\": \"Man of the House\", \"genre\": \"Comedy\", \"mpaa_rating\": \"PG\", \"total_gross\": 40029009, \"inflation_adjusted_gross\": 77.573459, \"release_year\": 1995}, {\"movie_title\": \"Roommates\", \"genre\": \"Comedy\", \"mpaa_rating\": \"PG\", \"total_gross\": 12076989, \"inflation_adjusted_gross\": 23.404369, \"release_year\": 1995}, {\"movie_title\": \"Tall Tale\", \"genre\": \"Western\", \"mpaa_rating\": \"PG\", \"total_gross\": 8247627, \"inflation_adjusted_gross\": 15.983331, \"release_year\": 1995}, {\"movie_title\": \"A Pyromaniac's Love Story\", \"genre\": \"Romantic Comedy\", \"mpaa_rating\": \"PG\", \"total_gross\": 468240, \"inflation_adjusted_gross\": 0.907414, \"release_year\": 1995}, {\"movie_title\": \"Jefferson in Paris\", \"genre\": \"Drama\", \"mpaa_rating\": \"PG-13\", \"total_gross\": 2461628, \"inflation_adjusted_gross\": 4.770461, \"release_year\": 1995}, {\"movie_title\": \"Funny Bones\", \"genre\": \"Comedy\", \"mpaa_rating\": \"R\", \"total_gross\": 529135, \"inflation_adjusted_gross\": 1.025425, \"release_year\": 1995}, {\"movie_title\": \"A Goofy Movie\", \"genre\": \"Comedy\", \"mpaa_rating\": \"G\", \"total_gross\": 35336439, \"inflation_adjusted_gross\": 68.479579, \"release_year\": 1995}, {\"movie_title\": \"While You Were Sleeping\", \"genre\": \"Romantic Comedy\", \"mpaa_rating\": \"PG\", \"total_gross\": 81057016, \"inflation_adjusted_gross\": 157.0829, \"release_year\": 1995}, {\"movie_title\": \"Crimson Tide\", \"genre\": \"Action\", \"mpaa_rating\": \"R\", \"total_gross\": 91387195, \"inflation_adjusted_gross\": 177.102077, \"release_year\": 1995}, {\"movie_title\": \"Mad Love\", \"genre\": \"Drama\", \"mpaa_rating\": \"PG-13\", \"total_gross\": 15446532, \"inflation_adjusted_gross\": 29.934306, \"release_year\": 1995}, {\"movie_title\": \"Pocahontas\", \"genre\": \"Adventure\", \"mpaa_rating\": \"G\", \"total_gross\": 141579773, \"inflation_adjusted_gross\": 274.370957, \"release_year\": 1995}, {\"movie_title\": \"Judge Dredd\", \"genre\": \"Action\", \"mpaa_rating\": \"R\", \"total_gross\": 34687912, \"inflation_adjusted_gross\": 67.222776, \"release_year\": 1995}, {\"movie_title\": \"Operation Dumbo Drop\", \"genre\": \"Adventure\", \"mpaa_rating\": \"PG\", \"total_gross\": 24670346, \"inflation_adjusted_gross\": 47.809421, \"release_year\": 1995}, {\"movie_title\": \"Dangerous Minds\", \"genre\": \"Drama\", \"mpaa_rating\": \"R\", \"total_gross\": 84919401, \"inflation_adjusted_gross\": 164.552293, \"release_year\": 1995}, {\"movie_title\": \"A Kid in King Arthur's Court\", \"genre\": \"Adventure\", \"mpaa_rating\": \"PG\", \"total_gross\": 13406717, \"inflation_adjusted_gross\": 25.981285, \"release_year\": 1995}, {\"movie_title\": \"The Tie That Binds\", \"genre\": \"Thriller/Suspense\", \"mpaa_rating\": \"R\", \"total_gross\": 5762795, \"inflation_adjusted_gross\": 11.167895, \"release_year\": 1995}, {\"movie_title\": \"Unstrung Heroes\", \"genre\": \"Drama\", \"mpaa_rating\": \"PG\", \"total_gross\": 7929000, \"inflation_adjusted_gross\": 15.36585, \"release_year\": 1995}, {\"movie_title\": \"The Big Green\", \"genre\": \"Comedy\", \"mpaa_rating\": \"PG\", \"total_gross\": 17736619, \"inflation_adjusted_gross\": 34.372339, \"release_year\": 1995}, {\"movie_title\": \"Dead Presidents\", \"genre\": \"Drama\", \"mpaa_rating\": \"R\", \"total_gross\": 24120194, \"inflation_adjusted_gross\": 46.741467, \"release_year\": 1995}, {\"movie_title\": \"The Scarlet Letter\", \"genre\": \"Drama\", \"mpaa_rating\": \"R\", \"total_gross\": 10359006, \"inflation_adjusted_gross\": 20.075033, \"release_year\": 1995}, {\"movie_title\": \"Feast of July\", \"genre\": \"Drama\", \"mpaa_rating\": \"R\", \"total_gross\": 293274, \"inflation_adjusted_gross\": 0.568342, \"release_year\": 1995}, {\"movie_title\": \"Powder\", \"genre\": \"Drama\", \"mpaa_rating\": \"PG-13\", \"total_gross\": 30833914, \"inflation_adjusted_gross\": 59.727216, \"release_year\": 1995}, {\"movie_title\": \"Toy Story\", \"genre\": \"Adventure\", \"mpaa_rating\": \"G\", \"total_gross\": 191796233, \"inflation_adjusted_gross\": 370.409631, \"release_year\": 1995}, {\"movie_title\": \"Father of the Bride Part II\", \"genre\": \"Comedy\", \"mpaa_rating\": \"PG\", \"total_gross\": 76578911, \"inflation_adjusted_gross\": 147.658438, \"release_year\": 1995}, {\"movie_title\": \"Nixon\", \"genre\": \"Drama\", \"mpaa_rating\": \"R\", \"total_gross\": 13668249, \"inflation_adjusted_gross\": 26.302005, \"release_year\": 1995}, {\"movie_title\": \"Tom and Huck\", \"genre\": \"Adventure\", \"mpaa_rating\": \"PG\", \"total_gross\": 23837227, \"inflation_adjusted_gross\": 45.911517, \"release_year\": 1995}, {\"movie_title\": \"Mr. Holland's Opus\", \"genre\": \"Drama\", \"mpaa_rating\": \"PG\", \"total_gross\": 82582604, \"inflation_adjusted_gross\": 157.508868, \"release_year\": 1995}, {\"movie_title\": \"White Squall\", \"genre\": \"Adventure\", \"mpaa_rating\": \"PG-13\", \"total_gross\": 10229300, \"inflation_adjusted_gross\": 19.509726, \"release_year\": 1996}, {\"movie_title\": \"Muppet Treasure Island\", \"genre\": \"Adventure\", \"mpaa_rating\": \"G\", \"total_gross\": 34327391, \"inflation_adjusted_gross\": 65.470567, \"release_year\": 1996}, {\"movie_title\": \"Mr. Wrong\", \"genre\": \"Romantic Comedy\", \"mpaa_rating\": \"PG-13\", \"total_gross\": 12805071, \"inflation_adjusted_gross\": 24.422334, \"release_year\": 1996}, {\"movie_title\": \"Before and After\", \"genre\": \"Drama\", \"mpaa_rating\": \"PG-13\", \"total_gross\": 8642118, \"inflation_adjusted_gross\": 16.482589, \"release_year\": 1996}, {\"movie_title\": \"Up Close & Personal\", \"genre\": \"Drama\", \"mpaa_rating\": \"PG-13\", \"total_gross\": 51045801, \"inflation_adjusted_gross\": 97.356578, \"release_year\": 1996}, {\"movie_title\": \"Homeward Bound II: Lost in San Franc\\u2026\", \"genre\": \"Adventure\", \"mpaa_rating\": \"G\", \"total_gross\": 32709423, \"inflation_adjusted_gross\": 62.384706, \"release_year\": 1996}, {\"movie_title\": \"Two Much\", \"genre\": \"Romantic Comedy\", \"mpaa_rating\": \"PG-13\", \"total_gross\": 1078555, \"inflation_adjusted_gross\": 2.057055, \"release_year\": 1996}, {\"movie_title\": \"Un indien dans la ville\", \"genre\": \"Comedy\", \"mpaa_rating\": \"PG\", \"total_gross\": 1029731, \"inflation_adjusted_gross\": 1.963937, \"release_year\": 1996}, {\"movie_title\": \"James and the Giant Peach\", \"genre\": \"Adventure\", \"mpaa_rating\": \"PG\", \"total_gross\": 28921264, \"inflation_adjusted_gross\": 55.159783, \"release_year\": 1996}, {\"movie_title\": \"Celtic Pride\", \"genre\": \"Comedy\", \"mpaa_rating\": \"PG-13\", \"total_gross\": 9240378, \"inflation_adjusted_gross\": 17.623615, \"release_year\": 1996}, {\"movie_title\": \"Last Dance\", \"genre\": \"Drama\", \"mpaa_rating\": \"R\", \"total_gross\": 5857534, \"inflation_adjusted_gross\": 11.171714, \"release_year\": 1996}, {\"movie_title\": \"Boys\", \"genre\": \"Drama\", \"mpaa_rating\": \"PG-13\", \"total_gross\": 21930418, \"inflation_adjusted_gross\": 41.826566, \"release_year\": 1996}, {\"movie_title\": \"Spy Hard\", \"genre\": \"Comedy\", \"mpaa_rating\": \"PG-13\", \"total_gross\": 26936265, \"inflation_adjusted_gross\": 51.373912, \"release_year\": 1996}, {\"movie_title\": \"Eddie\", \"genre\": \"Comedy\", \"mpaa_rating\": \"PG-13\", \"total_gross\": 31369401, \"inflation_adjusted_gross\": 59.828966, \"release_year\": 1996}, {\"movie_title\": \"The Rock\", \"genre\": \"Action\", \"mpaa_rating\": \"R\", \"total_gross\": 134069511, \"inflation_adjusted_gross\": 255.702705, \"release_year\": 1996}, {\"movie_title\": \"The Hunchback of Notre Dame\", \"genre\": \"Adventure\", \"mpaa_rating\": \"G\", \"total_gross\": 100138851, \"inflation_adjusted_gross\": 190.988799, \"release_year\": 1996}, {\"movie_title\": \"Phenomenon\", \"genre\": \"Drama\", \"mpaa_rating\": \"PG\", \"total_gross\": 104636382, \"inflation_adjusted_gross\": 199.559799, \"release_year\": 1996}, {\"movie_title\": \"Kazaam\", \"genre\": \"Comedy\", \"mpaa_rating\": \"PG\", \"total_gross\": 18880508, \"inflation_adjusted_gross\": 36.009655, \"release_year\": 1996}, {\"movie_title\": \"Jack\", \"genre\": \"Drama\", \"mpaa_rating\": \"PG-13\", \"total_gross\": 58617334, \"inflation_adjusted_gross\": 111.792852, \"release_year\": 1996}, {\"movie_title\": \"First Kid\", \"genre\": \"Comedy\", \"mpaa_rating\": \"PG\", \"total_gross\": 26465920, \"inflation_adjusted_gross\": 50.465108, \"release_year\": 1996}, {\"movie_title\": \"The Rich Man's Wife\", \"genre\": \"Thriller/Suspense\", \"mpaa_rating\": \"R\", \"total_gross\": 8538318, \"inflation_adjusted_gross\": 16.284619, \"release_year\": 1996}, {\"movie_title\": \"D3: The Mighty Ducks\", \"genre\": \"Comedy\", \"mpaa_rating\": \"PG\", \"total_gross\": 22936273, \"inflation_adjusted_gross\": 43.713554, \"release_year\": 1996}, {\"movie_title\": \"The Associate\", \"genre\": \"Comedy\", \"mpaa_rating\": \"PG-13\", \"total_gross\": 12772657, \"inflation_adjusted_gross\": 24.333094, \"release_year\": 1996}, {\"movie_title\": \"Ransom\", \"genre\": \"Action\", \"mpaa_rating\": \"R\", \"total_gross\": 136492681, \"inflation_adjusted_gross\": 259.80782, \"release_year\": 1996}, {\"movie_title\": \"The War at Home\", \"genre\": \"Unknown\", \"mpaa_rating\": \"R\", \"total_gross\": 34368, \"inflation_adjusted_gross\": 0.065543, \"release_year\": 1996}, {\"movie_title\": \"101 Dalmatians\", \"genre\": \"Comedy\", \"mpaa_rating\": \"G\", \"total_gross\": 136189294, \"inflation_adjusted_gross\": 258.728898, \"release_year\": 1996}, {\"movie_title\": \"The Preacher's Wife\", \"genre\": \"Drama\", \"mpaa_rating\": \"PG\", \"total_gross\": 48102795, \"inflation_adjusted_gross\": 91.076877, \"release_year\": 1996}, {\"movie_title\": \"Evita\", \"genre\": \"Musical\", \"mpaa_rating\": \"PG\", \"total_gross\": 50047179, \"inflation_adjusted_gross\": 92.077628, \"release_year\": 1996}, {\"movie_title\": \"Metro\", \"genre\": \"Action\", \"mpaa_rating\": \"R\", \"total_gross\": 32017895, \"inflation_adjusted_gross\": 58.804106, \"release_year\": 1997}, {\"movie_title\": \"Prefontaine\", \"genre\": \"Drama\", \"mpaa_rating\": \"PG-13\", \"total_gross\": 590817, \"inflation_adjusted_gross\": 1.085093, \"release_year\": 1997}, {\"movie_title\": \"Shadow Conspiracy\", \"genre\": \"Thriller/Suspense\", \"mpaa_rating\": \"R\", \"total_gross\": 2154540, \"inflation_adjusted_gross\": 3.957025, \"release_year\": 1997}, {\"movie_title\": \"That Darn Cat\", \"genre\": \"Comedy\", \"mpaa_rating\": \"PG\", \"total_gross\": 18301828, \"inflation_adjusted_gross\": 33.613158, \"release_year\": 1997}, {\"movie_title\": \"Jungle 2 Jungle\", \"genre\": \"Comedy\", \"mpaa_rating\": \"PG\", \"total_gross\": 59925026, \"inflation_adjusted_gross\": 110.058379, \"release_year\": 1997}, {\"movie_title\": \"The Sixth Man\", \"genre\": \"Comedy\", \"mpaa_rating\": \"PG-13\", \"total_gross\": 14765099, \"inflation_adjusted_gross\": 27.117599, \"release_year\": 1997}, {\"movie_title\": \"Grosse Pointe Blank\", \"genre\": \"Black Comedy\", \"mpaa_rating\": \"R\", \"total_gross\": 28084357, \"inflation_adjusted_gross\": 51.579764, \"release_year\": 1997}, {\"movie_title\": \"Romy and Michele's High School Reunion\", \"genre\": \"Comedy\", \"mpaa_rating\": \"R\", \"total_gross\": 29235353, \"inflation_adjusted_gross\": 53.69368, \"release_year\": 1997}, {\"movie_title\": \"Gone Fishin'\", \"genre\": \"Comedy\", \"mpaa_rating\": \"PG\", \"total_gross\": 19745922, \"inflation_adjusted_gross\": 36.265379, \"release_year\": 1997}, {\"movie_title\": \"Con Air\", \"genre\": \"Action\", \"mpaa_rating\": \"R\", \"total_gross\": 101117573, \"inflation_adjusted_gross\": 185.712664, \"release_year\": 1997}, {\"movie_title\": \"Hercules\", \"genre\": \"Adventure\", \"mpaa_rating\": \"G\", \"total_gross\": 99112101, \"inflation_adjusted_gross\": 182.029412, \"release_year\": 1997}, {\"movie_title\": \"George Of The Jungle\", \"genre\": \"Comedy\", \"mpaa_rating\": \"PG\", \"total_gross\": 105263257, \"inflation_adjusted_gross\": 193.326632, \"release_year\": 1997}, {\"movie_title\": \"Nothing To Lose\", \"genre\": \"Comedy\", \"mpaa_rating\": \"R\", \"total_gross\": 44480039, \"inflation_adjusted_gross\": 81.692095, \"release_year\": 1997}, {\"movie_title\": \"Air Bud\", \"genre\": \"Comedy\", \"mpaa_rating\": \"PG\", \"total_gross\": 24646936, \"inflation_adjusted_gross\": 45.266588, \"release_year\": 1997}, {\"movie_title\": \"G.I. Jane\", \"genre\": \"Drama\", \"mpaa_rating\": \"R\", \"total_gross\": 48169156, \"inflation_adjusted_gross\": 88.467531, \"release_year\": 1997}, {\"movie_title\": \"A Thousand Acres\", \"genre\": \"Drama\", \"mpaa_rating\": \"R\", \"total_gross\": 7928412, \"inflation_adjusted_gross\": 14.561324, \"release_year\": 1997}, {\"movie_title\": \"Washington Square\", \"genre\": \"Drama\", \"mpaa_rating\": \"PG\", \"total_gross\": 1775644, \"inflation_adjusted_gross\": 3.257546, \"release_year\": 1997}, {\"movie_title\": \"Rocket Man\", \"genre\": \"Comedy\", \"mpaa_rating\": \"PG\", \"total_gross\": 15448043, \"inflation_adjusted_gross\": 28.37189, \"release_year\": 1997}, {\"movie_title\": \"Playing God\", \"genre\": \"Thriller/Suspense\", \"mpaa_rating\": \"R\", \"total_gross\": 4166918, \"inflation_adjusted_gross\": 7.652965, \"release_year\": 1997}, {\"movie_title\": \"Flubber\", \"genre\": \"Comedy\", \"mpaa_rating\": \"PG\", \"total_gross\": 92993801, \"inflation_adjusted_gross\": 170.406423, \"release_year\": 1997}, {\"movie_title\": \"An American Werewolf in Paris\", \"genre\": \"Horror\", \"mpaa_rating\": \"R\", \"total_gross\": 26570463, \"inflation_adjusted_gross\": 48.546161, \"release_year\": 1997}, {\"movie_title\": \"Mr. Magoo\", \"genre\": \"Comedy\", \"mpaa_rating\": \"PG\", \"total_gross\": 21437192, \"inflation_adjusted_gross\": 39.145784, \"release_year\": 1997}, {\"movie_title\": \"Kundun\", \"genre\": \"Drama\", \"mpaa_rating\": \"PG-13\", \"total_gross\": 5686694, \"inflation_adjusted_gross\": 10.236836, \"release_year\": 1997}, {\"movie_title\": \"Deep Rising\", \"genre\": \"Action\", \"mpaa_rating\": \"R\", \"total_gross\": 11203026, \"inflation_adjusted_gross\": 20.136775, \"release_year\": 1998}, {\"movie_title\": \"Krippendorf's Tribe\", \"genre\": \"Comedy\", \"mpaa_rating\": \"PG-13\", \"total_gross\": 7571115, \"inflation_adjusted_gross\": 13.608633, \"release_year\": 1998}, {\"movie_title\": \"An Alan Smithee Film: Burn Hollywood \\u2026\", \"genre\": \"Comedy\", \"mpaa_rating\": \"R\", \"total_gross\": 45779, \"inflation_adjusted_gross\": 0.082277, \"release_year\": 1998}, {\"movie_title\": \"Meet the Deedles\", \"genre\": \"Comedy\", \"mpaa_rating\": \"PG\", \"total_gross\": 4356126, \"inflation_adjusted_gross\": 7.829877, \"release_year\": 1998}, {\"movie_title\": \"He Got Game\", \"genre\": \"Drama\", \"mpaa_rating\": \"R\", \"total_gross\": 21567853, \"inflation_adjusted_gross\": 38.766948, \"release_year\": 1998}, {\"movie_title\": \"The Horse Whisperer\", \"genre\": \"Drama\", \"mpaa_rating\": \"PG-13\", \"total_gross\": 75383563, \"inflation_adjusted_gross\": 135.497531, \"release_year\": 1998}, {\"movie_title\": \"Six Days, Seven Nights\", \"genre\": \"Romantic Comedy\", \"mpaa_rating\": \"PG-13\", \"total_gross\": 74339294, \"inflation_adjusted_gross\": 133.620516, \"release_year\": 1998}, {\"movie_title\": \"Mulan\", \"genre\": \"Adventure\", \"mpaa_rating\": \"G\", \"total_gross\": 120620254, \"inflation_adjusted_gross\": 216.807832, \"release_year\": 1998}, {\"movie_title\": \"Armageddon\", \"genre\": \"Adventure\", \"mpaa_rating\": \"PG-13\", \"total_gross\": 201578182, \"inflation_adjusted_gross\": 362.324957, \"release_year\": 1998}, {\"movie_title\": \"Jane Austen's Mafia\", \"genre\": \"Comedy\", \"mpaa_rating\": \"PG-13\", \"total_gross\": 19843795, \"inflation_adjusted_gross\": 35.668055, \"release_year\": 1998}, {\"movie_title\": \"The Parent Trap\", \"genre\": \"Comedy\", \"mpaa_rating\": \"PG\", \"total_gross\": 66308518, \"inflation_adjusted_gross\": 119.185667, \"release_year\": 1998}, {\"movie_title\": \"Firelight\", \"genre\": \"Drama\", \"mpaa_rating\": \"R\", \"total_gross\": 784419, \"inflation_adjusted_gross\": 1.409943, \"release_year\": 1998}, {\"movie_title\": \"Simon Birch\", \"genre\": \"Drama\", \"mpaa_rating\": \"PG\", \"total_gross\": 18253415, \"inflation_adjusted_gross\": 32.809442, \"release_year\": 1998}, {\"movie_title\": \"Holy Man\", \"genre\": \"Comedy\", \"mpaa_rating\": \"PG\", \"total_gross\": 12069719, \"inflation_adjusted_gross\": 21.694605, \"release_year\": 1998}, {\"movie_title\": \"Beloved\", \"genre\": \"Drama\", \"mpaa_rating\": \"R\", \"total_gross\": 22852487, \"inflation_adjusted_gross\": 41.062682, \"release_year\": 1998}, {\"movie_title\": \"The Waterboy\", \"genre\": \"Comedy\", \"mpaa_rating\": \"PG-13\", \"total_gross\": 161491646, \"inflation_adjusted_gross\": 288.691833, \"release_year\": 1998}, {\"movie_title\": \"I'll Be Home For Christmas\", \"genre\": \"Comedy\", \"mpaa_rating\": \"PG\", \"total_gross\": 12214338, \"inflation_adjusted_gross\": 21.94184, \"release_year\": 1998}, {\"movie_title\": \"A Bug's Life\", \"genre\": \"Adventure\", \"mpaa_rating\": \"G\", \"total_gross\": 162798565, \"inflation_adjusted_gross\": 288.981698, \"release_year\": 1998}, {\"movie_title\": \"Enemy of the State\", \"genre\": \"Action\", \"mpaa_rating\": \"R\", \"total_gross\": 111549836, \"inflation_adjusted_gross\": 198.472008, \"release_year\": 1998}, {\"movie_title\": \"Rushmore\", \"genre\": \"Black Comedy\", \"mpaa_rating\": \"R\", \"total_gross\": 17105219, \"inflation_adjusted_gross\": 28.392518, \"release_year\": 1998}, {\"movie_title\": \"A Civil Action\", \"genre\": \"Drama\", \"mpaa_rating\": \"PG-13\", \"total_gross\": 56709981, \"inflation_adjusted_gross\": 94.13953, \"release_year\": 1998}, {\"movie_title\": \"Mighty Joe Young\", \"genre\": \"Adventure\", \"mpaa_rating\": \"PG\", \"total_gross\": 50632037, \"inflation_adjusted_gross\": 87.906042, \"release_year\": 1998}, {\"movie_title\": \"My Favorite Martian\", \"genre\": \"Comedy\", \"mpaa_rating\": \"PG\", \"total_gross\": 36850101, \"inflation_adjusted_gross\": 61.150849, \"release_year\": 1999}, {\"movie_title\": \"The Other Sister\", \"genre\": \"Romantic Comedy\", \"mpaa_rating\": \"PG-13\", \"total_gross\": 27807627, \"inflation_adjusted_gross\": 46.145331, \"release_year\": 1999}, {\"movie_title\": \"Doug's 1st Movie\", \"genre\": \"Adventure\", \"mpaa_rating\": \"G\", \"total_gross\": 19421271, \"inflation_adjusted_gross\": 32.228598, \"release_year\": 1999}, {\"movie_title\": \"Ten Things I Hate About You\", \"genre\": \"Romantic Comedy\", \"mpaa_rating\": \"PG-13\", \"total_gross\": 38177966, \"inflation_adjusted_gross\": 63.354375, \"release_year\": 1999}, {\"movie_title\": \"Endurance\", \"genre\": \"Unknown\", \"mpaa_rating\": \"PG\", \"total_gross\": 229128, \"inflation_adjusted_gross\": 0.380218, \"release_year\": 1999}, {\"movie_title\": \"Instinct\", \"genre\": \"Drama\", \"mpaa_rating\": \"R\", \"total_gross\": 34105207, \"inflation_adjusted_gross\": 56.595842, \"release_year\": 1999}, {\"movie_title\": \"Tarzan\", \"genre\": \"Adventure\", \"mpaa_rating\": \"G\", \"total_gross\": 171091819, \"inflation_adjusted_gross\": 283.900254, \"release_year\": 1999}, {\"movie_title\": \"Summer of Sam\", \"genre\": \"Drama\", \"mpaa_rating\": \"R\", \"total_gross\": 19288130, \"inflation_adjusted_gross\": 32.007656, \"release_year\": 1999}, {\"movie_title\": \"Inspector Gadget\", \"genre\": \"Comedy\", \"mpaa_rating\": \"PG\", \"total_gross\": 97387965, \"inflation_adjusted_gross\": 161.610341, \"release_year\": 1999}, {\"movie_title\": \"The Sixth Sense\", \"genre\": \"Thriller/Suspense\", \"mpaa_rating\": \"PG-13\", \"total_gross\": 293506292, \"inflation_adjusted_gross\": 485.424724, \"release_year\": 1999}, {\"movie_title\": \"The 13th Warrior\", \"genre\": \"Action\", \"mpaa_rating\": \"R\", \"total_gross\": 32698899, \"inflation_adjusted_gross\": 54.262148, \"release_year\": 1999}, {\"movie_title\": \"Breakfast of Champions\", \"genre\": \"Comedy\", \"mpaa_rating\": \"R\", \"total_gross\": 178287, \"inflation_adjusted_gross\": 0.295851, \"release_year\": 1999}, {\"movie_title\": \"Mumford\", \"genre\": \"Comedy\", \"mpaa_rating\": \"R\", \"total_gross\": 4559569, \"inflation_adjusted_gross\": 7.566363, \"release_year\": 1999}, {\"movie_title\": \"Mystery, Alaska\", \"genre\": \"Comedy\", \"mpaa_rating\": \"R\", \"total_gross\": 8891623, \"inflation_adjusted_gross\": 14.755189, \"release_year\": 1999}, {\"movie_title\": \"The Straight Story\", \"genre\": \"Drama\", \"mpaa_rating\": \"G\", \"total_gross\": 6197866, \"inflation_adjusted_gross\": 10.111144, \"release_year\": 1999}, {\"movie_title\": \"The Insider\", \"genre\": \"Drama\", \"mpaa_rating\": \"R\", \"total_gross\": 28965197, \"inflation_adjusted_gross\": 47.794214, \"release_year\": 1999}, {\"movie_title\": \"Toy Story 2\", \"genre\": \"Adventure\", \"mpaa_rating\": \"G\", \"total_gross\": 245852179, \"inflation_adjusted_gross\": 404.450426, \"release_year\": 1999}, {\"movie_title\": \"Cradle Will Rock\", \"genre\": \"Drama\", \"mpaa_rating\": \"R\", \"total_gross\": 2899970, \"inflation_adjusted_gross\": 4.609153, \"release_year\": 1999}, {\"movie_title\": \"Deuce Bigalow: Male Gigolo\", \"genre\": \"Comedy\", \"mpaa_rating\": \"R\", \"total_gross\": 65535067, \"inflation_adjusted_gross\": 106.921374, \"release_year\": 1999}, {\"movie_title\": \"Bicentennial Man\", \"genre\": \"Drama\", \"mpaa_rating\": \"PG\", \"total_gross\": 58220776, \"inflation_adjusted_gross\": 94.838225, \"release_year\": 1999}, {\"movie_title\": \"Play it to the Bone\", \"genre\": \"Comedy\", \"mpaa_rating\": \"R\", \"total_gross\": 8427204, \"inflation_adjusted_gross\": 13.180524, \"release_year\": 1999}, {\"movie_title\": \"Fantasia 2000 (IMAX)\", \"genre\": \"Musical\", \"mpaa_rating\": \"G\", \"total_gross\": 60507228, \"inflation_adjusted_gross\": 94.852354, \"release_year\": 2000}, {\"movie_title\": \"Gun Shy\", \"genre\": \"Comedy\", \"mpaa_rating\": \"R\", \"total_gross\": 1638202, \"inflation_adjusted_gross\": 2.562155, \"release_year\": 2000}, {\"movie_title\": \"The Tigger Movie\", \"genre\": \"Adventure\", \"mpaa_rating\": \"G\", \"total_gross\": 45542421, \"inflation_adjusted_gross\": 71.228678, \"release_year\": 2000}, {\"movie_title\": \"Mission to Mars\", \"genre\": \"Adventure\", \"mpaa_rating\": \"PG\", \"total_gross\": 60874615, \"inflation_adjusted_gross\": 95.208344, \"release_year\": 2000}, {\"movie_title\": \"High Fidelity\", \"genre\": \"Comedy\", \"mpaa_rating\": \"R\", \"total_gross\": 27277055, \"inflation_adjusted_gross\": 42.661516, \"release_year\": 2000}, {\"movie_title\": \"Keeping the Faith\", \"genre\": \"Romantic Comedy\", \"mpaa_rating\": \"PG-13\", \"total_gross\": 37036404, \"inflation_adjusted_gross\": 57.925202, \"release_year\": 2000}, {\"movie_title\": \"Dinosaur\", \"genre\": \"Adventure\", \"mpaa_rating\": \"PG\", \"total_gross\": 137748063, \"inflation_adjusted_gross\": 215.438985, \"release_year\": 2000}, {\"movie_title\": \"Shanghai Noon\", \"genre\": \"Western\", \"mpaa_rating\": \"PG-13\", \"total_gross\": 56932305, \"inflation_adjusted_gross\": 89.042541, \"release_year\": 2000}, {\"movie_title\": \"Gone in 60 Seconds\", \"genre\": \"Action\", \"mpaa_rating\": \"PG-13\", \"total_gross\": 101643008, \"inflation_adjusted_gross\": 158.970411, \"release_year\": 2000}, {\"movie_title\": \"Fantasia 2000 (Theatrical Release)\", \"genre\": \"Musical\", \"mpaa_rating\": \"G\", \"total_gross\": 9103630, \"inflation_adjusted_gross\": 14.238144, \"release_year\": 2000}, {\"movie_title\": \"The Kid\", \"genre\": \"Comedy\", \"mpaa_rating\": \"PG\", \"total_gross\": 69688384, \"inflation_adjusted_gross\": 108.993148, \"release_year\": 2000}, {\"movie_title\": \"Coyote Ugly\", \"genre\": \"Drama\", \"mpaa_rating\": \"PG-13\", \"total_gross\": 60786269, \"inflation_adjusted_gross\": 95.070168, \"release_year\": 2000}, {\"movie_title\": \"The Crew\", \"genre\": \"Comedy\", \"mpaa_rating\": \"PG-13\", \"total_gross\": 13019253, \"inflation_adjusted_gross\": 20.362201, \"release_year\": 2000}, {\"movie_title\": \"Duets\", \"genre\": \"Drama\", \"mpaa_rating\": \"R\", \"total_gross\": 4734235, \"inflation_adjusted_gross\": 7.404372, \"release_year\": 2000}, {\"movie_title\": \"Remember the Titans\", \"genre\": \"Drama\", \"mpaa_rating\": \"PG\", \"total_gross\": 115654751, \"inflation_adjusted_gross\": 180.742479, \"release_year\": 2000}, {\"movie_title\": \"Unbreakable\", \"genre\": \"Thriller/Suspense\", \"mpaa_rating\": \"PG-13\", \"total_gross\": 94999143, \"inflation_adjusted_gross\": 148.208901, \"release_year\": 2000}, {\"movie_title\": \"102 Dalmatians\", \"genre\": \"Comedy\", \"mpaa_rating\": \"G\", \"total_gross\": 66941559, \"inflation_adjusted_gross\": 104.055039, \"release_year\": 2000}, {\"movie_title\": \"The Emperor's New Groove\", \"genre\": \"Adventure\", \"mpaa_rating\": \"G\", \"total_gross\": 89296573, \"inflation_adjusted_gross\": 136.789252, \"release_year\": 2000}, {\"movie_title\": \"O Brother, Where Art Thou?\", \"genre\": \"Comedy\", \"mpaa_rating\": \"PG-13\", \"total_gross\": 45506619, \"inflation_adjusted_gross\": 67.922002, \"release_year\": 2000}, {\"movie_title\": \"Double Take\", \"genre\": \"Action\", \"mpaa_rating\": \"PG-13\", \"total_gross\": 29823162, \"inflation_adjusted_gross\": 44.418589, \"release_year\": 2001}, {\"movie_title\": \"Recess: School's Out\", \"genre\": \"Comedy\", \"mpaa_rating\": \"G\", \"total_gross\": 36696761, \"inflation_adjusted_gross\": 54.656124, \"release_year\": 2001}, {\"movie_title\": \"Just Visiting\", \"genre\": \"Comedy\", \"mpaa_rating\": \"PG-13\", \"total_gross\": 4777007, \"inflation_adjusted_gross\": 7.114869, \"release_year\": 2001}, {\"movie_title\": \"Pearl Harbor\", \"genre\": \"Action\", \"mpaa_rating\": \"PG-13\", \"total_gross\": 198539855, \"inflation_adjusted_gross\": 295.705112, \"release_year\": 2001}, {\"movie_title\": \"Atlantis: The Lost Empire\", \"genre\": \"Adventure\", \"mpaa_rating\": \"PG\", \"total_gross\": 84052762, \"inflation_adjusted_gross\": 125.188122, \"release_year\": 2001}, {\"movie_title\": \"crazy/beautiful\", \"genre\": \"Drama\", \"mpaa_rating\": \"PG-13\", \"total_gross\": 16929123, \"inflation_adjusted_gross\": 25.214223, \"release_year\": 2001}, {\"movie_title\": \"The Princess Diaries\", \"genre\": \"Comedy\", \"mpaa_rating\": \"G\", \"total_gross\": 108244774, \"inflation_adjusted_gross\": 161.218928, \"release_year\": 2001}, {\"movie_title\": \"Bubble Boy\", \"genre\": \"Comedy\", \"mpaa_rating\": \"PG-13\", \"total_gross\": 5002310, \"inflation_adjusted_gross\": 7.450434, \"release_year\": 2001}, {\"movie_title\": \"Max Keeble's Big Move\", \"genre\": \"Comedy\", \"mpaa_rating\": \"PG\", \"total_gross\": 17292381, \"inflation_adjusted_gross\": 25.74973, \"release_year\": 2001}, {\"movie_title\": \"Corky Romano\", \"genre\": \"Comedy\", \"mpaa_rating\": \"PG-13\", \"total_gross\": 23978402, \"inflation_adjusted_gross\": 35.705805, \"release_year\": 2001}, {\"movie_title\": \"High Heels and Low Lifes\", \"genre\": \"Unknown\", \"mpaa_rating\": \"R\", \"total_gross\": 226792, \"inflation_adjusted_gross\": 0.337782, \"release_year\": 2001}, {\"movie_title\": \"Monsters, Inc.\", \"genre\": \"Adventure\", \"mpaa_rating\": \"G\", \"total_gross\": 289423425, \"inflation_adjusted_gross\": 416.073179, \"release_year\": 2001}, {\"movie_title\": \"Out Cold\", \"genre\": \"Comedy\", \"mpaa_rating\": \"PG-13\", \"total_gross\": 13906394, \"inflation_adjusted_gross\": 20.700691, \"release_year\": 2001}, {\"movie_title\": \"The Royal Tenenbaums\", \"genre\": \"Black Comedy\", \"mpaa_rating\": \"R\", \"total_gross\": 52353636, \"inflation_adjusted_gross\": 76.758193, \"release_year\": 2001}, {\"movie_title\": \"Beauty and the Beast (IMAX)\", \"genre\": \"Musical\", \"mpaa_rating\": \"G\", \"total_gross\": 25487028, \"inflation_adjusted_gross\": 36.980311, \"release_year\": 2002}, {\"movie_title\": \"Snow Dogs\", \"genre\": \"Comedy\", \"mpaa_rating\": \"PG\", \"total_gross\": 81150692, \"inflation_adjusted_gross\": 117.745317, \"release_year\": 2002}, {\"movie_title\": \"The Count of Monte Cristo\", \"genre\": \"Drama\", \"mpaa_rating\": \"PG-13\", \"total_gross\": 54228104, \"inflation_adjusted_gross\": 78.682079, \"release_year\": 2002}, {\"movie_title\": \"Peter Pan: Return to Neverland\", \"genre\": \"Adventure\", \"mpaa_rating\": \"G\", \"total_gross\": 48430258, \"inflation_adjusted_gross\": 70.269715, \"release_year\": 2002}, {\"movie_title\": \"Reign of Fire\", \"genre\": \"Action\", \"mpaa_rating\": \"PG-13\", \"total_gross\": 43061982, \"inflation_adjusted_gross\": 62.480631, \"release_year\": 2002}, {\"movie_title\": \"Sorority Boys\", \"genre\": \"Comedy\", \"mpaa_rating\": \"R\", \"total_gross\": 10198766, \"inflation_adjusted_gross\": 14.797862, \"release_year\": 2002}, {\"movie_title\": \"The Rookie\", \"genre\": \"Drama\", \"mpaa_rating\": \"G\", \"total_gross\": 75600072, \"inflation_adjusted_gross\": 109.691666, \"release_year\": 2002}, {\"movie_title\": \"Big Trouble\", \"genre\": \"Comedy\", \"mpaa_rating\": \"PG-13\", \"total_gross\": 7262288, \"inflation_adjusted_gross\": 10.537188, \"release_year\": 2002}, {\"movie_title\": \"ESPN's Ultimate X - The Movie\", \"genre\": \"Documentary\", \"mpaa_rating\": \"PG\", \"total_gross\": 4197175, \"inflation_adjusted_gross\": 6.089874, \"release_year\": 2002}, {\"movie_title\": \"Bad Company\", \"genre\": \"Action\", \"mpaa_rating\": \"PG-13\", \"total_gross\": 30157016, \"inflation_adjusted_gross\": 43.756218, \"release_year\": 2002}, {\"movie_title\": \"Lilo & Stitch\", \"genre\": \"Adventure\", \"mpaa_rating\": \"PG\", \"total_gross\": 145771527, \"inflation_adjusted_gross\": 211.506702, \"release_year\": 2002}, {\"movie_title\": \"The Country Bears\", \"genre\": \"Adventure\", \"mpaa_rating\": \"G\", \"total_gross\": 16988996, \"inflation_adjusted_gross\": 24.650121, \"release_year\": 2002}, {\"movie_title\": \"Signs\", \"genre\": \"Thriller/Suspense\", \"mpaa_rating\": \"PG-13\", \"total_gross\": 227965690, \"inflation_adjusted_gross\": 330.754439, \"release_year\": 2002}, {\"movie_title\": \"Sen to Chihiro no Kamikakushi\", \"genre\": \"Adventure\", \"mpaa_rating\": \"PG\", \"total_gross\": 10049886, \"inflation_adjusted_gross\": 14.338992, \"release_year\": 2002}, {\"movie_title\": \"Sweet Home Alabama\", \"genre\": \"Comedy\", \"mpaa_rating\": \"PG-13\", \"total_gross\": 127214072, \"inflation_adjusted_gross\": 184.521151, \"release_year\": 2002}, {\"movie_title\": \"Moonlight Mile\", \"genre\": \"Drama\", \"mpaa_rating\": \"PG-13\", \"total_gross\": 6830957, \"inflation_adjusted_gross\": 9.909094, \"release_year\": 2002}, {\"movie_title\": \"Tuck Everlasting\", \"genre\": \"Drama\", \"mpaa_rating\": \"PG\", \"total_gross\": 19161999, \"inflation_adjusted_gross\": 27.789959, \"release_year\": 2002}, {\"movie_title\": \"The Santa Clause 2\", \"genre\": \"Comedy\", \"mpaa_rating\": \"G\", \"total_gross\": 139225854, \"inflation_adjusted_gross\": 201.959095, \"release_year\": 2002}, {\"movie_title\": \"Treasure Planet\", \"genre\": \"Adventure\", \"mpaa_rating\": \"PG\", \"total_gross\": 38120554, \"inflation_adjusted_gross\": 55.189145, \"release_year\": 2002}, {\"movie_title\": \"The Hot Chick\", \"genre\": \"Comedy\", \"mpaa_rating\": \"PG-13\", \"total_gross\": 35081550, \"inflation_adjusted_gross\": 50.624654, \"release_year\": 2002}, {\"movie_title\": \"25th Hour\", \"genre\": \"Drama\", \"mpaa_rating\": \"R\", \"total_gross\": 13084595, \"inflation_adjusted_gross\": 18.325463, \"release_year\": 2002}, {\"movie_title\": \"The Recruit\", \"genre\": \"Thriller/Suspense\", \"mpaa_rating\": \"PG-13\", \"total_gross\": 52784696, \"inflation_adjusted_gross\": 73.793522, \"release_year\": 2003}, {\"movie_title\": \"Shanghai Knights\", \"genre\": \"Adventure\", \"mpaa_rating\": \"PG-13\", \"total_gross\": 60470220, \"inflation_adjusted_gross\": 84.537962, \"release_year\": 2003}, {\"movie_title\": \"The Jungle Book 2\", \"genre\": \"Adventure\", \"mpaa_rating\": \"G\", \"total_gross\": 47901582, \"inflation_adjusted_gross\": 66.966883, \"release_year\": 2003}, {\"movie_title\": \"Bringing Down the House\", \"genre\": \"Comedy\", \"mpaa_rating\": \"PG-13\", \"total_gross\": 132675402, \"inflation_adjusted_gross\": 185.48153, \"release_year\": 2003}, {\"movie_title\": \"Piglet's Big Movie\", \"genre\": \"Comedy\", \"mpaa_rating\": \"G\", \"total_gross\": 23103423, \"inflation_adjusted_gross\": 32.298812, \"release_year\": 2003}, {\"movie_title\": \"Ghosts of the Abyss\", \"genre\": \"Documentary\", \"mpaa_rating\": \"G\", \"total_gross\": 17093668, \"inflation_adjusted_gross\": 23.803108, \"release_year\": 2003}, {\"movie_title\": \"Holes\", \"genre\": \"Drama\", \"mpaa_rating\": \"PG\", \"total_gross\": 67383924, \"inflation_adjusted_gross\": 94.203395, \"release_year\": 2003}, {\"movie_title\": \"The Lizzie McGuire Movie\", \"genre\": \"Comedy\", \"mpaa_rating\": \"PG\", \"total_gross\": 42734455, \"inflation_adjusted_gross\": 59.743191, \"release_year\": 2003}, {\"movie_title\": \"Finding Nemo\", \"genre\": \"Adventure\", \"mpaa_rating\": \"G\", \"total_gross\": 380529370, \"inflation_adjusted_gross\": 518.148559, \"release_year\": 2003}, {\"movie_title\": \"Pirates of the Caribbean: The Curse o\\u2026\", \"genre\": \"Adventure\", \"mpaa_rating\": \"PG-13\", \"total_gross\": 305411224, \"inflation_adjusted_gross\": 426.967926, \"release_year\": 2003}, {\"movie_title\": \"Freaky Friday\", \"genre\": \"Comedy\", \"mpaa_rating\": \"PG\", \"total_gross\": 110222438, \"inflation_adjusted_gross\": 154.09036, \"release_year\": 2003}, {\"movie_title\": \"Open Range\", \"genre\": \"Western\", \"mpaa_rating\": \"R\", \"total_gross\": 58331254, \"inflation_adjusted_gross\": 81.547672, \"release_year\": 2003}, {\"movie_title\": \"Cold Creek Manor\", \"genre\": \"Thriller/Suspense\", \"mpaa_rating\": \"R\", \"total_gross\": 21384035, \"inflation_adjusted_gross\": 29.89509, \"release_year\": 2003}, {\"movie_title\": \"Under the Tuscan Sun\", \"genre\": \"Comedy\", \"mpaa_rating\": \"PG-13\", \"total_gross\": 43601508, \"inflation_adjusted_gross\": 60.944053, \"release_year\": 2003}, {\"movie_title\": \"Veronica Guerin\", \"genre\": \"Drama\", \"mpaa_rating\": \"R\", \"total_gross\": 1569918, \"inflation_adjusted_gross\": 2.194759, \"release_year\": 2003}, {\"movie_title\": \"Brother Bear\", \"genre\": \"Adventure\", \"mpaa_rating\": \"G\", \"total_gross\": 85336277, \"inflation_adjusted_gross\": 119.218333, \"release_year\": 2003}, {\"movie_title\": \"The Haunted Mansion\", \"genre\": \"Comedy\", \"mpaa_rating\": \"PG\", \"total_gross\": 75817994, \"inflation_adjusted_gross\": 105.775678, \"release_year\": 2003}, {\"movie_title\": \"Calendar Girls\", \"genre\": \"Comedy\", \"mpaa_rating\": \"PG-13\", \"total_gross\": 31011616, \"inflation_adjusted_gross\": 42.37965, \"release_year\": 2003}, {\"movie_title\": \"Young Black Stallion\", \"genre\": \"Adventure\", \"mpaa_rating\": \"G\", \"total_gross\": 6751389, \"inflation_adjusted_gross\": 9.254344, \"release_year\": 2003}, {\"movie_title\": \"Teacher's Pet: The Movie\", \"genre\": \"Comedy\", \"mpaa_rating\": \"PG\", \"total_gross\": 6491969, \"inflation_adjusted_gross\": 8.812764, \"release_year\": 2004}, {\"movie_title\": \"Miracle\", \"genre\": \"Drama\", \"mpaa_rating\": \"PG\", \"total_gross\": 64378093, \"inflation_adjusted_gross\": 87.392478, \"release_year\": 2004}, {\"movie_title\": \"Confessions of a Teenage Drama Queen\", \"genre\": \"Comedy\", \"mpaa_rating\": \"PG\", \"total_gross\": 29331068, \"inflation_adjusted_gross\": 39.816568, \"release_year\": 2004}, {\"movie_title\": \"Hidalgo\", \"genre\": \"Western\", \"mpaa_rating\": \"PG-13\", \"total_gross\": 67286731, \"inflation_adjusted_gross\": 91.340921, \"release_year\": 2004}, {\"movie_title\": \"The Ladykillers\", \"genre\": \"Comedy\", \"mpaa_rating\": \"R\", \"total_gross\": 39692139, \"inflation_adjusted_gross\": 53.881593, \"release_year\": 2004}, {\"movie_title\": \"Home on the Range\", \"genre\": \"Comedy\", \"mpaa_rating\": \"PG\", \"total_gross\": 50026353, \"inflation_adjusted_gross\": 67.910166, \"release_year\": 2004}, {\"movie_title\": \"The Alamo\", \"genre\": \"Western\", \"mpaa_rating\": \"PG-13\", \"total_gross\": 22406362, \"inflation_adjusted_gross\": 30.416359, \"release_year\": 2004}, {\"movie_title\": \"Raising Helen\", \"genre\": \"Comedy\", \"mpaa_rating\": \"PG-13\", \"total_gross\": 37485528, \"inflation_adjusted_gross\": 50.886144, \"release_year\": 2004}, {\"movie_title\": \"Around the World in 80 Days\", \"genre\": \"Adventure\", \"mpaa_rating\": \"PG\", \"total_gross\": 24004159, \"inflation_adjusted_gross\": 32.585356, \"release_year\": 2004}, {\"movie_title\": \"America's Heart and Soul\", \"genre\": \"Documentary\", \"mpaa_rating\": \"Not Rated\", \"total_gross\": 314000, \"inflation_adjusted_gross\": 0.426246, \"release_year\": 2004}, {\"movie_title\": \"King Arthur\", \"genre\": \"Adventure\", \"mpaa_rating\": \"PG-13\", \"total_gross\": 51877963, \"inflation_adjusted_gross\": 70.423706, \"release_year\": 2004}, {\"movie_title\": \"The Village\", \"genre\": \"Thriller/Suspense\", \"mpaa_rating\": \"PG-13\", \"total_gross\": 114197520, \"inflation_adjusted_gross\": 155.021748, \"release_year\": 2004}, {\"movie_title\": \"The Princess Diaries 2: Royal Engagement\", \"genre\": \"Romantic Comedy\", \"mpaa_rating\": \"G\", \"total_gross\": 95149435, \"inflation_adjusted_gross\": 129.164207, \"release_year\": 2004}, {\"movie_title\": \"Mr. 3000\", \"genre\": \"Comedy\", \"mpaa_rating\": \"PG-13\", \"total_gross\": 21800302, \"inflation_adjusted_gross\": 29.593641, \"release_year\": 2004}, {\"movie_title\": \"The Last Shot\", \"genre\": \"Comedy\", \"mpaa_rating\": \"R\", \"total_gross\": 463730, \"inflation_adjusted_gross\": 0.629502, \"release_year\": 2004}, {\"movie_title\": \"Ladder 49\", \"genre\": \"Action\", \"mpaa_rating\": \"PG-13\", \"total_gross\": 74541707, \"inflation_adjusted_gross\": 101.161045, \"release_year\": 2004}, {\"movie_title\": \"The Incredibles\", \"genre\": \"Adventure\", \"mpaa_rating\": \"PG\", \"total_gross\": 261441092, \"inflation_adjusted_gross\": 354.488708, \"release_year\": 2004}, {\"movie_title\": \"National Treasure\", \"genre\": \"Adventure\", \"mpaa_rating\": \"PG\", \"total_gross\": 173005002, \"inflation_adjusted_gross\": 234.069353, \"release_year\": 2004}, {\"movie_title\": \"The Life Aquatic with Steve Zissou\", \"genre\": \"Comedy\", \"mpaa_rating\": \"R\", \"total_gross\": 24006726, \"inflation_adjusted_gross\": 32.198655, \"release_year\": 2004}, {\"movie_title\": \"Aliens of the Deep\", \"genre\": \"Documentary\", \"mpaa_rating\": \"G\", \"total_gross\": 8968684, \"inflation_adjusted_gross\": 11.740942, \"release_year\": 2005}, {\"movie_title\": \"Pooh's Heffalump Movie\", \"genre\": \"Adventure\", \"mpaa_rating\": \"G\", \"total_gross\": 18098433, \"inflation_adjusted_gross\": 23.801835, \"release_year\": 2005}, {\"movie_title\": \"The Pacifier\", \"genre\": \"Comedy\", \"mpaa_rating\": \"PG\", \"total_gross\": 113006880, \"inflation_adjusted_gross\": 148.619029, \"release_year\": 2005}, {\"movie_title\": \"Ice Princess\", \"genre\": \"Comedy\", \"mpaa_rating\": \"G\", \"total_gross\": 24381334, \"inflation_adjusted_gross\": 32.064685, \"release_year\": 2005}, {\"movie_title\": \"A Lot Like Love\", \"genre\": \"Comedy\", \"mpaa_rating\": \"PG-13\", \"total_gross\": 21835784, \"inflation_adjusted_gross\": 28.716947, \"release_year\": 2005}, {\"movie_title\": \"The Hitchhiker's Guide to the Galaxy\", \"genre\": \"Comedy\", \"mpaa_rating\": \"PG\", \"total_gross\": 51019112, \"inflation_adjusted_gross\": 67.096891, \"release_year\": 2005}, {\"movie_title\": \"Hauru no ugoku shiro\", \"genre\": \"Adventure\", \"mpaa_rating\": \"PG\", \"total_gross\": 4710455, \"inflation_adjusted_gross\": 6.19487, \"release_year\": 2005}, {\"movie_title\": \"Herbie: Fully Loaded\", \"genre\": \"Comedy\", \"mpaa_rating\": \"G\", \"total_gross\": 66010682, \"inflation_adjusted_gross\": 86.812798, \"release_year\": 2005}, {\"movie_title\": \"Dark Water\", \"genre\": \"Thriller/Suspense\", \"mpaa_rating\": \"PG-13\", \"total_gross\": 25473093, \"inflation_adjusted_gross\": 33.500491, \"release_year\": 2005}, {\"movie_title\": \"Sky High\", \"genre\": \"Adventure\", \"mpaa_rating\": \"PG\", \"total_gross\": 63939454, \"inflation_adjusted_gross\": 84.088854, \"release_year\": 2005}, {\"movie_title\": \"Valiant\", \"genre\": \"Adventure\", \"mpaa_rating\": \"G\", \"total_gross\": 19478106, \"inflation_adjusted_gross\": 25.616292, \"release_year\": 2005}, {\"movie_title\": \"Flightplan\", \"genre\": \"Thriller/Suspense\", \"mpaa_rating\": \"PG-13\", \"total_gross\": 89706988, \"inflation_adjusted_gross\": 117.960425, \"release_year\": 2005}, {\"movie_title\": \"The Greatest Game Ever Played\", \"genre\": \"Drama\", \"mpaa_rating\": \"PG\", \"total_gross\": 15331289, \"inflation_adjusted_gross\": 20.162672, \"release_year\": 2005}, {\"movie_title\": \"Shopgirl\", \"genre\": \"Drama\", \"mpaa_rating\": \"R\", \"total_gross\": 10284523, \"inflation_adjusted_gross\": 13.519621, \"release_year\": 2005}, {\"movie_title\": \"Chicken Little\", \"genre\": \"Adventure\", \"mpaa_rating\": \"G\", \"total_gross\": 135386665, \"inflation_adjusted_gross\": 177.954661, \"release_year\": 2005}, {\"movie_title\": \"The Chronicles of Narnia: The Lion, t\\u2026\", \"genre\": \"Adventure\", \"mpaa_rating\": \"PG\", \"total_gross\": 291710957, \"inflation_adjusted_gross\": 381.557539, \"release_year\": 2005}, {\"movie_title\": \"Casanova\", \"genre\": \"Drama\", \"mpaa_rating\": \"R\", \"total_gross\": 11304403, \"inflation_adjusted_gross\": 14.574087, \"release_year\": 2005}, {\"movie_title\": \"Glory Road\", \"genre\": \"Drama\", \"mpaa_rating\": \"PG\", \"total_gross\": 42647449, \"inflation_adjusted_gross\": 54.888236, \"release_year\": 2006}, {\"movie_title\": \"Annapolis\", \"genre\": \"Drama\", \"mpaa_rating\": \"PG-13\", \"total_gross\": 17127992, \"inflation_adjusted_gross\": 22.044113, \"release_year\": 2006}, {\"movie_title\": \"Roving Mars\", \"genre\": \"Documentary\", \"mpaa_rating\": \"G\", \"total_gross\": 10407978, \"inflation_adjusted_gross\": 12.948025, \"release_year\": 2006}, {\"movie_title\": \"Eight Below\", \"genre\": \"Adventure\", \"mpaa_rating\": \"PG\", \"total_gross\": 81612565, \"inflation_adjusted_gross\": 105.037235, \"release_year\": 2006}, {\"movie_title\": \"The Shaggy Dog\", \"genre\": \"Comedy\", \"mpaa_rating\": \"PG\", \"total_gross\": 61123569, \"inflation_adjusted_gross\": 78.667428, \"release_year\": 2006}, {\"movie_title\": \"Stay Alive\", \"genre\": \"Horror\", \"mpaa_rating\": \"PG-13\", \"total_gross\": 23086480, \"inflation_adjusted_gross\": 29.712825, \"release_year\": 2006}, {\"movie_title\": \"The Wild\", \"genre\": \"Adventure\", \"mpaa_rating\": \"G\", \"total_gross\": 37384046, \"inflation_adjusted_gross\": 48.114115, \"release_year\": 2006}, {\"movie_title\": \"Stick It\", \"genre\": \"Comedy\", \"mpaa_rating\": \"PG-13\", \"total_gross\": 26910736, \"inflation_adjusted_gross\": 34.634731, \"release_year\": 2006}, {\"movie_title\": \"Goal! The Dream Begins\", \"genre\": \"Drama\", \"mpaa_rating\": \"PG\", \"total_gross\": 4283255, \"inflation_adjusted_gross\": 5.512647, \"release_year\": 2006}, {\"movie_title\": \"Cars\", \"genre\": \"Comedy\", \"mpaa_rating\": \"G\", \"total_gross\": 244082982, \"inflation_adjusted_gross\": 314.140384, \"release_year\": 2006}, {\"movie_title\": \"Pirates of the Caribbean: Dead Man\\u2019\\u2026\", \"genre\": \"Adventure\", \"mpaa_rating\": \"PG-13\", \"total_gross\": 423315812, \"inflation_adjusted_gross\": 544.817142, \"release_year\": 2006}, {\"movie_title\": \"Step Up\", \"genre\": \"Drama\", \"mpaa_rating\": \"PG-13\", \"total_gross\": 65328121, \"inflation_adjusted_gross\": 84.07878, \"release_year\": 2006}, {\"movie_title\": \"Invincible\", \"genre\": \"Drama\", \"mpaa_rating\": \"PG\", \"total_gross\": 57806952, \"inflation_adjusted_gross\": 74.398864, \"release_year\": 2006}, {\"movie_title\": \"The Guardian\", \"genre\": \"Action\", \"mpaa_rating\": \"PG-13\", \"total_gross\": 55011732, \"inflation_adjusted_gross\": 70.801353, \"release_year\": 2006}, {\"movie_title\": \"The Prestige\", \"genre\": \"Thriller/Suspense\", \"mpaa_rating\": \"PG-13\", \"total_gross\": 53089891, \"inflation_adjusted_gross\": 68.289913, \"release_year\": 2006}, {\"movie_title\": \"Tim Burton's The Nightmare Before Chr\\u2026\", \"genre\": \"Musical\", \"mpaa_rating\": \"PG\", \"total_gross\": 24732041, \"inflation_adjusted_gross\": 30.737517, \"release_year\": 2006}, {\"movie_title\": \"The Santa Clause 3: The Escape Clause\", \"genre\": \"Comedy\", \"mpaa_rating\": \"G\", \"total_gross\": 84500122, \"inflation_adjusted_gross\": 108.694869, \"release_year\": 2006}, {\"movie_title\": \"D\\u00e9j\\u00e0 Vu\", \"genre\": \"Thriller/Suspense\", \"mpaa_rating\": \"PG-13\", \"total_gross\": 64038616, \"inflation_adjusted_gross\": 82.267038, \"release_year\": 2006}, {\"movie_title\": \"Apocalypto\", \"genre\": \"Adventure\", \"mpaa_rating\": \"R\", \"total_gross\": 50866635, \"inflation_adjusted_gross\": 64.959548, \"release_year\": 2006}, {\"movie_title\": \"Primeval\", \"genre\": \"Adventure\", \"mpaa_rating\": \"R\", \"total_gross\": 10597734, \"inflation_adjusted_gross\": 12.985302, \"release_year\": 2007}, {\"movie_title\": \"Bridge to Terabithia\", \"genre\": \"Drama\", \"mpaa_rating\": \"PG\", \"total_gross\": 82234139, \"inflation_adjusted_gross\": 100.760721, \"release_year\": 2007}, {\"movie_title\": \"Wild Hogs\", \"genre\": \"Comedy\", \"mpaa_rating\": \"PG-13\", \"total_gross\": 168213584, \"inflation_adjusted_gross\": 206.110533, \"release_year\": 2007}, {\"movie_title\": \"Meet the Robinsons\", \"genre\": \"Adventure\", \"mpaa_rating\": \"G\", \"total_gross\": 97822171, \"inflation_adjusted_gross\": 119.860589, \"release_year\": 2007}, {\"movie_title\": \"The Lookout\", \"genre\": \"Drama\", \"mpaa_rating\": \"R\", \"total_gross\": 4600585, \"inflation_adjusted_gross\": 5.637048, \"release_year\": 2007}, {\"movie_title\": \"The Hoax\", \"genre\": \"Drama\", \"mpaa_rating\": \"R\", \"total_gross\": 7164995, \"inflation_adjusted_gross\": 8.779196, \"release_year\": 2007}, {\"movie_title\": \"The Invisible\", \"genre\": \"Thriller/Suspense\", \"mpaa_rating\": \"PG-13\", \"total_gross\": 20568319, \"inflation_adjusted_gross\": 25.202168, \"release_year\": 2007}, {\"movie_title\": \"Pirates of the Caribbean: At World\\u2019\\u2026\", \"genre\": \"Adventure\", \"mpaa_rating\": \"PG-13\", \"total_gross\": 309420425, \"inflation_adjusted_gross\": 379.12996, \"release_year\": 2007}, {\"movie_title\": \"Ratatouille\", \"genre\": \"Comedy\", \"mpaa_rating\": \"G\", \"total_gross\": 206445654, \"inflation_adjusted_gross\": 252.955933, \"release_year\": 2007}, {\"movie_title\": \"Underdog\", \"genre\": \"Adventure\", \"mpaa_rating\": \"PG\", \"total_gross\": 43760605, \"inflation_adjusted_gross\": 53.619462, \"release_year\": 2007}, {\"movie_title\": \"The Game Plan\", \"genre\": \"Comedy\", \"mpaa_rating\": \"PG\", \"total_gross\": 90648202, \"inflation_adjusted_gross\": 111.010758, \"release_year\": 2007}, {\"movie_title\": \"Dan in Real Life\", \"genre\": \"Romantic Comedy\", \"mpaa_rating\": \"PG-13\", \"total_gross\": 47642963, \"inflation_adjusted_gross\": 58.350234, \"release_year\": 2007}, {\"movie_title\": \"Enchanted\", \"genre\": \"Romantic Comedy\", \"mpaa_rating\": \"PG\", \"total_gross\": 127706877, \"inflation_adjusted_gross\": 156.07431, \"release_year\": 2007}, {\"movie_title\": \"National Treasure 2: Book of Secrets\", \"genre\": \"Adventure\", \"mpaa_rating\": \"PG\", \"total_gross\": 219961501, \"inflation_adjusted_gross\": 267.003525, \"release_year\": 2007}, {\"movie_title\": \"Hannah Montana/Miley Cyrus: Best of B\\u2026\", \"genre\": \"Concert/Performance\", \"mpaa_rating\": \"G\", \"total_gross\": 65281781, \"inflation_adjusted_gross\": 76.646993, \"release_year\": 2008}, {\"movie_title\": \"Step Up 2 the Streets\", \"genre\": \"Drama\", \"mpaa_rating\": \"PG-13\", \"total_gross\": 58017783, \"inflation_adjusted_gross\": 68.118371, \"release_year\": 2008}, {\"movie_title\": \"College Road Trip\", \"genre\": \"Comedy\", \"mpaa_rating\": \"G\", \"total_gross\": 45610425, \"inflation_adjusted_gross\": 53.55096, \"release_year\": 2008}, {\"movie_title\": \"The Chronicles of Narnia: Prince Caspian\", \"genre\": \"Adventure\", \"mpaa_rating\": \"PG\", \"total_gross\": 141621490, \"inflation_adjusted_gross\": 166.277038, \"release_year\": 2008}, {\"movie_title\": \"WALL-E\", \"genre\": \"Adventure\", \"mpaa_rating\": \"G\", \"total_gross\": 223808164, \"inflation_adjusted_gross\": 262.771918, \"release_year\": 2008}, {\"movie_title\": \"Swing Vote\", \"genre\": \"Comedy\", \"mpaa_rating\": \"PG-13\", \"total_gross\": 16289867, \"inflation_adjusted_gross\": 19.125841, \"release_year\": 2008}, {\"movie_title\": \"Goal! 2: Living the Dream...\", \"genre\": \"Drama\", \"mpaa_rating\": \"PG-13\", \"total_gross\": 225067, \"inflation_adjusted_gross\": 0.264247, \"release_year\": 2008}, {\"movie_title\": \"Miracle at St. Anna\", \"genre\": \"Drama\", \"mpaa_rating\": \"R\", \"total_gross\": 7916887, \"inflation_adjusted_gross\": 9.295171, \"release_year\": 2008}, {\"movie_title\": \"Beverly Hills Chihuahua\", \"genre\": \"Comedy\", \"mpaa_rating\": \"PG\", \"total_gross\": 94514402, \"inflation_adjusted_gross\": 110.932022, \"release_year\": 2008}, {\"movie_title\": \"Morning Light\", \"genre\": \"Documentary\", \"mpaa_rating\": \"PG\", \"total_gross\": 275093, \"inflation_adjusted_gross\": 0.322979, \"release_year\": 2008}, {\"movie_title\": \"High School Musical 3: Senior Year\", \"genre\": \"Musical\", \"mpaa_rating\": \"G\", \"total_gross\": 90559416, \"inflation_adjusted_gross\": 106.308538, \"release_year\": 2008}, {\"movie_title\": \"Bolt\", \"genre\": \"Comedy\", \"mpaa_rating\": \"PG\", \"total_gross\": 114053759, \"inflation_adjusted_gross\": 133.702498, \"release_year\": 2008}, {\"movie_title\": \"Bedtime Stories\", \"genre\": \"Comedy\", \"mpaa_rating\": \"PG\", \"total_gross\": 110101975, \"inflation_adjusted_gross\": 128.039679, \"release_year\": 2008}, {\"movie_title\": \"Confessions of a Shopaholic\", \"genre\": \"Romantic Comedy\", \"mpaa_rating\": \"PG\", \"total_gross\": 44277350, \"inflation_adjusted_gross\": 49.767744, \"release_year\": 2009}, {\"movie_title\": \"Jonas Brothers: The 3D Concert Experi\\u2026\", \"genre\": \"Concert/Performance\", \"mpaa_rating\": \"G\", \"total_gross\": 38174685, \"inflation_adjusted_gross\": 38.174685, \"release_year\": 2009}, {\"movie_title\": \"Race to Witch Mountain\", \"genre\": \"Adventure\", \"mpaa_rating\": \"PG\", \"total_gross\": 67172594, \"inflation_adjusted_gross\": 75.501997, \"release_year\": 2009}, {\"movie_title\": \"Hannah Montana the Movie\", \"genre\": \"Drama\", \"mpaa_rating\": \"G\", \"total_gross\": 79576189, \"inflation_adjusted_gross\": 89.44364, \"release_year\": 2009}, {\"movie_title\": \"Earth\", \"genre\": \"Documentary\", \"mpaa_rating\": \"G\", \"total_gross\": 32011576, \"inflation_adjusted_gross\": 35.98101, \"release_year\": 2009}, {\"movie_title\": \"Up\", \"genre\": \"Adventure\", \"mpaa_rating\": \"PG\", \"total_gross\": 293004164, \"inflation_adjusted_gross\": 329.336681, \"release_year\": 2009}, {\"movie_title\": \"The Proposal\", \"genre\": \"Romantic Comedy\", \"mpaa_rating\": \"PG-13\", \"total_gross\": 163958031, \"inflation_adjusted_gross\": 184.288829, \"release_year\": 2009}, {\"movie_title\": \"G-Force\", \"genre\": \"Adventure\", \"mpaa_rating\": \"PG\", \"total_gross\": 119436770, \"inflation_adjusted_gross\": 134.246932, \"release_year\": 2009}, {\"movie_title\": \"Gake no ue no Ponyo\", \"genre\": \"Adventure\", \"mpaa_rating\": \"G\", \"total_gross\": 15090399, \"inflation_adjusted_gross\": 16.961607, \"release_year\": 2009}, {\"movie_title\": \"X Games 3D: The Movie\", \"genre\": \"Documentary\", \"mpaa_rating\": \"PG\", \"total_gross\": 1391434, \"inflation_adjusted_gross\": 1.563976, \"release_year\": 2009}, {\"movie_title\": \"Walt and El Grupo\", \"genre\": \"Documentary\", \"mpaa_rating\": \"PG\", \"total_gross\": 20521, \"inflation_adjusted_gross\": 0.023064, \"release_year\": 2009}, {\"movie_title\": \"Surrogates\", \"genre\": \"Action\", \"mpaa_rating\": \"PG-13\", \"total_gross\": 38577772, \"inflation_adjusted_gross\": 43.361416, \"release_year\": 2009}, {\"movie_title\": \"Toy Story 3D Double Feature\", \"genre\": \"Adventure\", \"mpaa_rating\": \"G\", \"total_gross\": 30702446, \"inflation_adjusted_gross\": 34.509545, \"release_year\": 2009}, {\"movie_title\": \"Disney's A Christmas Carol\", \"genre\": \"Drama\", \"mpaa_rating\": \"PG\", \"total_gross\": 137855863, \"inflation_adjusted_gross\": 154.927105, \"release_year\": 2009}, {\"movie_title\": \"The Princess and the Frog\", \"genre\": \"Adventure\", \"mpaa_rating\": \"G\", \"total_gross\": 104400899, \"inflation_adjusted_gross\": 116.316457, \"release_year\": 2009}, {\"movie_title\": \"Old Dogs\", \"genre\": \"Comedy\", \"mpaa_rating\": \"PG\", \"total_gross\": 49492060, \"inflation_adjusted_gross\": 55.503929, \"release_year\": 2009}, {\"movie_title\": \"When in Rome\", \"genre\": \"Romantic Comedy\", \"mpaa_rating\": \"PG-13\", \"total_gross\": 32680633, \"inflation_adjusted_gross\": 34.91733, \"release_year\": 2010}, {\"movie_title\": \"Alice in Wonderland\", \"genre\": \"Adventure\", \"mpaa_rating\": \"PG\", \"total_gross\": 334191110, \"inflation_adjusted_gross\": 357.063499, \"release_year\": 2010}, {\"movie_title\": \"Waking Sleeping Beauty\", \"genre\": \"Documentary\", \"mpaa_rating\": \"PG\", \"total_gross\": 80741, \"inflation_adjusted_gross\": 0.086264, \"release_year\": 2010}, {\"movie_title\": \"The Last Song\", \"genre\": \"Drama\", \"mpaa_rating\": \"PG\", \"total_gross\": 62950384, \"inflation_adjusted_gross\": 67.258772, \"release_year\": 2010}, {\"movie_title\": \"Oceans\", \"genre\": \"Documentary\", \"mpaa_rating\": \"G\", \"total_gross\": 19422319, \"inflation_adjusted_gross\": 20.7516, \"release_year\": 2010}, {\"movie_title\": \"Prince of Persia: Sands of Time\", \"genre\": \"Action\", \"mpaa_rating\": \"PG-13\", \"total_gross\": 90759676, \"inflation_adjusted_gross\": 96.971361, \"release_year\": 2010}, {\"movie_title\": \"Toy Story 3\", \"genre\": \"Adventure\", \"mpaa_rating\": \"G\", \"total_gross\": 415004880, \"inflation_adjusted_gross\": 443.408255, \"release_year\": 2010}, {\"movie_title\": \"The Sorcerer's Apprentice\", \"genre\": \"Adventure\", \"mpaa_rating\": \"PG\", \"total_gross\": 63150991, \"inflation_adjusted_gross\": 67.473105, \"release_year\": 2010}, {\"movie_title\": \"Step Up 3D\", \"genre\": \"Drama\", \"mpaa_rating\": \"PG-13\", \"total_gross\": 42400223, \"inflation_adjusted_gross\": 45.302137, \"release_year\": 2010}, {\"movie_title\": \"Gedo Senki (Tales from Earthsea)\", \"genre\": \"Adventure\", \"mpaa_rating\": \"PG-13\", \"total_gross\": 48658, \"inflation_adjusted_gross\": 0.051988, \"release_year\": 2010}, {\"movie_title\": \"You Again\", \"genre\": \"Comedy\", \"mpaa_rating\": \"PG\", \"total_gross\": 25702053, \"inflation_adjusted_gross\": 27.461121, \"release_year\": 2010}, {\"movie_title\": \"Secretariat\", \"genre\": \"Drama\", \"mpaa_rating\": \"PG\", \"total_gross\": 59699513, \"inflation_adjusted_gross\": 63.78192, \"release_year\": 2010}, {\"movie_title\": \"Tangled\", \"genre\": \"Adventure\", \"mpaa_rating\": \"PG\", \"total_gross\": 200821936, \"inflation_adjusted_gross\": 214.388548, \"release_year\": 2010}, {\"movie_title\": \"Tron: Legacy\", \"genre\": \"Adventure\", \"mpaa_rating\": \"PG\", \"total_gross\": 172062763, \"inflation_adjusted_gross\": 183.619259, \"release_year\": 2010}, {\"movie_title\": \"Gnomeo and Juliet\", \"genre\": \"Comedy\", \"mpaa_rating\": \"G\", \"total_gross\": 99967670, \"inflation_adjusted_gross\": 106.270797, \"release_year\": 2011}, {\"movie_title\": \"I am Number Four\", \"genre\": \"Adventure\", \"mpaa_rating\": \"PG-13\", \"total_gross\": 55100437, \"inflation_adjusted_gross\": 58.574607, \"release_year\": 2011}, {\"movie_title\": \"Mars Needs Moms\", \"genre\": \"Adventure\", \"mpaa_rating\": \"PG\", \"total_gross\": 21392758, \"inflation_adjusted_gross\": 22.741603, \"release_year\": 2011}, {\"movie_title\": \"African Cats\", \"genre\": \"Documentary\", \"mpaa_rating\": \"G\", \"total_gross\": 15428747, \"inflation_adjusted_gross\": 16.401551, \"release_year\": 2011}, {\"movie_title\": \"Zokkomon\", \"genre\": \"Adventure\", \"mpaa_rating\": \"PG\", \"total_gross\": 2815, \"inflation_adjusted_gross\": 0.002984, \"release_year\": 2011}, {\"movie_title\": \"Prom\", \"genre\": \"Comedy\", \"mpaa_rating\": \"PG\", \"total_gross\": 10130219, \"inflation_adjusted_gross\": 10.768946, \"release_year\": 2011}, {\"movie_title\": \"Pirates of the Caribbean: On Stranger\\u2026\", \"genre\": \"Adventure\", \"mpaa_rating\": \"PG-13\", \"total_gross\": 241063875, \"inflation_adjusted_gross\": 256.263359, \"release_year\": 2011}, {\"movie_title\": \"Cars 2\", \"genre\": \"Adventure\", \"mpaa_rating\": \"G\", \"total_gross\": 191450875, \"inflation_adjusted_gross\": 203.522177, \"release_year\": 2011}, {\"movie_title\": \"Winnie the Pooh\", \"genre\": \"Adventure\", \"mpaa_rating\": \"G\", \"total_gross\": 26692846, \"inflation_adjusted_gross\": 28.375869, \"release_year\": 2011}, {\"movie_title\": \"The Help\", \"genre\": \"Drama\", \"mpaa_rating\": \"PG-13\", \"total_gross\": 169705587, \"inflation_adjusted_gross\": 180.404976, \"release_year\": 2011}, {\"movie_title\": \"Fright Night\", \"genre\": \"Horror\", \"mpaa_rating\": \"R\", \"total_gross\": 18298649, \"inflation_adjusted_gross\": 19.452402, \"release_year\": 2011}, {\"movie_title\": \"Real Steel\", \"genre\": \"Action\", \"mpaa_rating\": \"PG-13\", \"total_gross\": 85463309, \"inflation_adjusted_gross\": 90.848019, \"release_year\": 2011}, {\"movie_title\": \"The Muppets\", \"genre\": \"Comedy\", \"mpaa_rating\": \"PG\", \"total_gross\": 88625922, \"inflation_adjusted_gross\": 94.189503, \"release_year\": 2011}, {\"movie_title\": \"War Horse\", \"genre\": \"Drama\", \"mpaa_rating\": \"PG-13\", \"total_gross\": 79883359, \"inflation_adjusted_gross\": 84.762149, \"release_year\": 2011}, {\"movie_title\": \"The Secret World of Arietty\", \"genre\": \"Adventure\", \"mpaa_rating\": \"G\", \"total_gross\": 19192510, \"inflation_adjusted_gross\": 20.325733, \"release_year\": 2012}, {\"movie_title\": \"John Carter\", \"genre\": \"Adventure\", \"mpaa_rating\": \"PG-13\", \"total_gross\": 73058679, \"inflation_adjusted_gross\": 77.372445, \"release_year\": 2012}, {\"movie_title\": \"Chimpanzee\", \"genre\": \"Documentary\", \"mpaa_rating\": \"G\", \"total_gross\": 28965459, \"inflation_adjusted_gross\": 30.675725, \"release_year\": 2012}, {\"movie_title\": \"The Avengers\", \"genre\": \"Action\", \"mpaa_rating\": \"PG-13\", \"total_gross\": 623279547, \"inflation_adjusted_gross\": 660.081224, \"release_year\": 2012}, {\"movie_title\": \"Brave\", \"genre\": \"Adventure\", \"mpaa_rating\": \"PG\", \"total_gross\": 237282182, \"inflation_adjusted_gross\": 251.292441, \"release_year\": 2012}, {\"movie_title\": \"People Like Us\", \"genre\": \"Drama\", \"mpaa_rating\": \"PG-13\", \"total_gross\": 12431792, \"inflation_adjusted_gross\": 13.165822, \"release_year\": 2012}, {\"movie_title\": \"The Odd Life of Timothy Green\", \"genre\": \"Drama\", \"mpaa_rating\": \"PG\", \"total_gross\": 51853450, \"inflation_adjusted_gross\": 54.914942, \"release_year\": 2012}, {\"movie_title\": \"Frankenweenie\", \"genre\": \"Comedy\", \"mpaa_rating\": \"PG\", \"total_gross\": 35287788, \"inflation_adjusted_gross\": 37.363513, \"release_year\": 2012}, {\"movie_title\": \"Wreck-It Ralph\", \"genre\": \"Adventure\", \"mpaa_rating\": \"PG\", \"total_gross\": 189412677, \"inflation_adjusted_gross\": 200.354959, \"release_year\": 2012}, {\"movie_title\": \"Lincoln\", \"genre\": \"Drama\", \"mpaa_rating\": \"PG-13\", \"total_gross\": 182207973, \"inflation_adjusted_gross\": 192.12233, \"release_year\": 2012}, {\"movie_title\": \"Oz the Great and Powerful\", \"genre\": \"Adventure\", \"mpaa_rating\": \"PG\", \"total_gross\": 234770996, \"inflation_adjusted_gross\": 243.43413, \"release_year\": 2013}, {\"movie_title\": \"Iron Man 3\", \"genre\": \"Action\", \"mpaa_rating\": \"PG-13\", \"total_gross\": 408992272, \"inflation_adjusted_gross\": 424.084233, \"release_year\": 2013}, {\"movie_title\": \"Monsters University\", \"genre\": \"Adventure\", \"mpaa_rating\": \"G\", \"total_gross\": 268488329, \"inflation_adjusted_gross\": 278.395641, \"release_year\": 2013}, {\"movie_title\": \"The Lone Ranger\", \"genre\": \"Western\", \"mpaa_rating\": \"PG-13\", \"total_gross\": 89302115, \"inflation_adjusted_gross\": 92.597388, \"release_year\": 2013}, {\"movie_title\": \"Disney Planes\", \"genre\": \"Comedy\", \"mpaa_rating\": \"PG\", \"total_gross\": 90282580, \"inflation_adjusted_gross\": 93.614037, \"release_year\": 2013}, {\"movie_title\": \"The Fifth Estate\", \"genre\": \"Drama\", \"mpaa_rating\": \"R\", \"total_gross\": 3254172, \"inflation_adjusted_gross\": 3.374251, \"release_year\": 2013}, {\"movie_title\": \"Thor: The Dark World\", \"genre\": \"Adventure\", \"mpaa_rating\": \"PG-13\", \"total_gross\": 206362140, \"inflation_adjusted_gross\": 213.962184, \"release_year\": 2013}, {\"movie_title\": \"Kaze Tachinu\", \"genre\": \"Drama\", \"mpaa_rating\": \"PG-13\", \"total_gross\": 5201879, \"inflation_adjusted_gross\": 5.367415, \"release_year\": 2013}, {\"movie_title\": \"Frozen\", \"genre\": \"Adventure\", \"mpaa_rating\": \"PG\", \"total_gross\": 400738009, \"inflation_adjusted_gross\": 414.997174, \"release_year\": 2013}, {\"movie_title\": \"Delivery Man\", \"genre\": \"Comedy\", \"mpaa_rating\": \"PG-13\", \"total_gross\": 30659817, \"inflation_adjusted_gross\": 31.787136, \"release_year\": 2013}, {\"movie_title\": \"Saving Mr. Banks\", \"genre\": \"Drama\", \"mpaa_rating\": \"PG-13\", \"total_gross\": 83299761, \"inflation_adjusted_gross\": 86.249969, \"release_year\": 2013}, {\"movie_title\": \"Need for Speed\", \"genre\": \"Action\", \"mpaa_rating\": \"PG-13\", \"total_gross\": 43568507, \"inflation_adjusted_gross\": 44.955015, \"release_year\": 2014}, {\"movie_title\": \"Muppets Most Wanted\", \"genre\": \"Comedy\", \"mpaa_rating\": \"PG\", \"total_gross\": 51178893, \"inflation_adjusted_gross\": 52.807594, \"release_year\": 2014}, {\"movie_title\": \"Captain America: The Winter Soldier\", \"genre\": \"Action\", \"mpaa_rating\": \"PG-13\", \"total_gross\": 259746958, \"inflation_adjusted_gross\": 268.013076, \"release_year\": 2014}, {\"movie_title\": \"Bears\", \"genre\": \"Documentary\", \"mpaa_rating\": \"G\", \"total_gross\": 17780194, \"inflation_adjusted_gross\": 18.346024, \"release_year\": 2014}, {\"movie_title\": \"Million Dollar Arm\", \"genre\": \"Drama\", \"mpaa_rating\": \"PG\", \"total_gross\": 36447959, \"inflation_adjusted_gross\": 37.607865, \"release_year\": 2014}, {\"movie_title\": \"Maleficent\", \"genre\": \"Adventure\", \"mpaa_rating\": \"PG\", \"total_gross\": 241407328, \"inflation_adjusted_gross\": 249.089809, \"release_year\": 2014}, {\"movie_title\": \"Planes: Fire and Rescue\", \"genre\": \"Adventure\", \"mpaa_rating\": \"PG\", \"total_gross\": 59157732, \"inflation_adjusted_gross\": 61.040349, \"release_year\": 2014}, {\"movie_title\": \"Guardians of the Galaxy\", \"genre\": \"Adventure\", \"mpaa_rating\": \"PG-13\", \"total_gross\": 333172112, \"inflation_adjusted_gross\": 343.771168, \"release_year\": 2014}, {\"movie_title\": \"The Hundred-Foot Journey\", \"genre\": \"Romantic Comedy\", \"mpaa_rating\": \"PG\", \"total_gross\": 54235441, \"inflation_adjusted_gross\": 55.961409, \"release_year\": 2014}, {\"movie_title\": \"Alexander and the Terrible, Horrible,\\u2026\", \"genre\": \"Comedy\", \"mpaa_rating\": \"PG\", \"total_gross\": 66954149, \"inflation_adjusted_gross\": 69.05555, \"release_year\": 2014}, {\"movie_title\": \"Big Hero 6\", \"genre\": \"Adventure\", \"mpaa_rating\": \"PG\", \"total_gross\": 222527828, \"inflation_adjusted_gross\": 229.249222, \"release_year\": 2014}, {\"movie_title\": \"Into the Woods\", \"genre\": \"Musical\", \"mpaa_rating\": \"PG\", \"total_gross\": 128002372, \"inflation_adjusted_gross\": 130.894237, \"release_year\": 2014}, {\"movie_title\": \"Strange Magic\", \"genre\": \"Adventure\", \"mpaa_rating\": \"PG\", \"total_gross\": 12429583, \"inflation_adjusted_gross\": 12.429583, \"release_year\": 2015}, {\"movie_title\": \"McFarland, USA\", \"genre\": \"Drama\", \"mpaa_rating\": \"PG\", \"total_gross\": 44480275, \"inflation_adjusted_gross\": 44.480275, \"release_year\": 2015}, {\"movie_title\": \"Cinderella\", \"genre\": \"Drama\", \"mpaa_rating\": \"PG\", \"total_gross\": 201151353, \"inflation_adjusted_gross\": 201.151353, \"release_year\": 2015}, {\"movie_title\": \"Monkey Kingdom\", \"genre\": \"Documentary\", \"mpaa_rating\": \"G\", \"total_gross\": 16432322, \"inflation_adjusted_gross\": 16.432322, \"release_year\": 2015}, {\"movie_title\": \"Avengers: Age of Ultron\", \"genre\": \"Action\", \"mpaa_rating\": \"PG-13\", \"total_gross\": 459005868, \"inflation_adjusted_gross\": 459.005868, \"release_year\": 2015}, {\"movie_title\": \"Tomorrowland\", \"genre\": \"Adventure\", \"mpaa_rating\": \"PG\", \"total_gross\": 93436322, \"inflation_adjusted_gross\": 93.436322, \"release_year\": 2015}, {\"movie_title\": \"Inside Out\", \"genre\": \"Adventure\", \"mpaa_rating\": \"PG\", \"total_gross\": 356461711, \"inflation_adjusted_gross\": 356.461711, \"release_year\": 2015}, {\"movie_title\": \"Ant-Man\", \"genre\": \"Action\", \"mpaa_rating\": \"PG-13\", \"total_gross\": 180202163, \"inflation_adjusted_gross\": 180.202163, \"release_year\": 2015}, {\"movie_title\": \"Bridge of Spies\", \"genre\": \"Thriller/Suspense\", \"mpaa_rating\": \"PG-13\", \"total_gross\": 72313754, \"inflation_adjusted_gross\": 72.313754, \"release_year\": 2015}, {\"movie_title\": \"The Good Dinosaur\", \"genre\": \"Adventure\", \"mpaa_rating\": \"PG\", \"total_gross\": 123087120, \"inflation_adjusted_gross\": 123.08712, \"release_year\": 2015}, {\"movie_title\": \"Star Wars Ep. VII: The Force Awakens\", \"genre\": \"Adventure\", \"mpaa_rating\": \"PG-13\", \"total_gross\": 936662225, \"inflation_adjusted_gross\": 936.662225, \"release_year\": 2015}, {\"movie_title\": \"The Finest Hours\", \"genre\": \"Thriller/Suspense\", \"mpaa_rating\": \"PG\", \"total_gross\": 27569558, \"inflation_adjusted_gross\": 27.569558, \"release_year\": 2016}, {\"movie_title\": \"Zootopia\", \"genre\": \"Adventure\", \"mpaa_rating\": \"PG\", \"total_gross\": 341268248, \"inflation_adjusted_gross\": 341.268248, \"release_year\": 2016}, {\"movie_title\": \"The Jungle Book\", \"genre\": \"Adventure\", \"mpaa_rating\": \"PG\", \"total_gross\": 364001123, \"inflation_adjusted_gross\": 364.001123, \"release_year\": 2016}, {\"movie_title\": \"A Beautiful Planet\", \"genre\": \"Documentary\", \"mpaa_rating\": \"G\", \"total_gross\": 7895708, \"inflation_adjusted_gross\": 7.895708, \"release_year\": 2016}, {\"movie_title\": \"Captain America: Civil War\", \"genre\": \"Action\", \"mpaa_rating\": \"PG-13\", \"total_gross\": 408084349, \"inflation_adjusted_gross\": 408.084349, \"release_year\": 2016}, {\"movie_title\": \"Alice Through the Looking Glass\", \"genre\": \"Adventure\", \"mpaa_rating\": \"PG\", \"total_gross\": 77042381, \"inflation_adjusted_gross\": 77.042381, \"release_year\": 2016}, {\"movie_title\": \"Finding Dory\", \"genre\": \"Adventure\", \"mpaa_rating\": \"PG\", \"total_gross\": 486295561, \"inflation_adjusted_gross\": 486.295561, \"release_year\": 2016}, {\"movie_title\": \"The BFG\", \"genre\": \"Adventure\", \"mpaa_rating\": \"PG\", \"total_gross\": 55483770, \"inflation_adjusted_gross\": 55.48377, \"release_year\": 2016}, {\"movie_title\": \"Pete\\u2019s Dragon\", \"genre\": \"Adventure\", \"mpaa_rating\": \"PG\", \"total_gross\": 76233151, \"inflation_adjusted_gross\": 76.233151, \"release_year\": 2016}, {\"movie_title\": \"The Light Between Oceans\", \"genre\": \"Drama\", \"mpaa_rating\": \"PG-13\", \"total_gross\": 12545979, \"inflation_adjusted_gross\": 12.545979, \"release_year\": 2016}, {\"movie_title\": \"Queen of Katwe\", \"genre\": \"Drama\", \"mpaa_rating\": \"PG\", \"total_gross\": 8874389, \"inflation_adjusted_gross\": 8.874389, \"release_year\": 2016}, {\"movie_title\": \"Doctor Strange\", \"genre\": \"Adventure\", \"mpaa_rating\": \"PG-13\", \"total_gross\": 232532923, \"inflation_adjusted_gross\": 232.532923, \"release_year\": 2016}, {\"movie_title\": \"Moana\", \"genre\": \"Adventure\", \"mpaa_rating\": \"PG\", \"total_gross\": 246082029, \"inflation_adjusted_gross\": 246.082029, \"release_year\": 2016}, {\"movie_title\": \"Rogue One: A Star Wars Story\", \"genre\": \"Adventure\", \"mpaa_rating\": \"PG-13\", \"total_gross\": 529483936, \"inflation_adjusted_gross\": 529.483936, \"release_year\": 2016}]}}, {\"mode\": \"vega-lite\"});\n",
       "</script>"
      ],
      "text/plain": [
       "alt.LayerChart(...)"
      ]
     },
     "execution_count": 328,
     "metadata": {},
     "output_type": "execute_result"
    }
   ],
   "source": [
    "line = alt.Chart(df1).mark_line(color='purple').encode(\n",
    "        alt.X('release_year:N', axis=alt.Axis(title= \"Year\",\n",
    "                                             tickCount=12, grid=False, \n",
    "                                              values=[1980, 1985, 1990, 1995, 2000, 2005, 2010, 2015],\n",
    "                                              labelAngle=-45), \n",
    "              scale=alt.Scale(zero=False)),\n",
    "        alt.Y('mean(inflation_adjusted_gross):Q', axis=alt.Axis(title=\"Inflation Adjusted Gross Income (millions)\"), \n",
    "                                           scale=alt.Scale(zero=False))\n",
    ")\n",
    "\n",
    "band = alt.Chart(df1).mark_errorband(extent='ci', color='purple').encode(\n",
    "        alt.X('release_year:N', axis=alt.Axis(title= \"Year\",\n",
    "                                             tickCount=12, grid=False, \n",
    "                                              values=[1980, 1985, 1990, 1995, 2000, 2005, 2010, 2015], \n",
    "                                              labelAngle=-45), \n",
    "              scale=alt.Scale(zero=False)),\n",
    "        alt.Y('mean(inflation_adjusted_gross):Q', axis=alt.Axis(title=\"Inflation Adjusted Gross Income (millions)\"), \n",
    "                                           scale=alt.Scale(zero=False)))\n",
    "\n",
    "alt.layer(line, band).configure_view(\n",
    "    stroke='transparent'\n",
    ").configure_axis(labelFontSize=15,\n",
    "                 titleFontSize=18\n",
    "                 ).configure_title(fontSize=20\n",
    "                                  ).configure_legend(titleFontSize=15, labelFontSize=13\n",
    ").properties(title='Mean Inflation Adjusted Gross Incomes of Disney Movies by Year', height=500, width=700)"
   ]
  },
  {
   "cell_type": "code",
   "execution_count": 330,
   "id": "692c90ae",
   "metadata": {},
   "outputs": [
    {
     "data": {
      "text/plain": [
       "Text(0.5, 1.0, 'Number of Disney Movies Released Each Year')"
      ]
     },
     "execution_count": 330,
     "metadata": {},
     "output_type": "execute_result"
    },
    {
     "data": {
      "image/png": "[encoded data removed]",
      "text/plain": [
       "<Figure size 1152x720 with 1 Axes>"
      ]
     },
     "metadata": {},
     "output_type": "display_data"
    }
   ],
   "source": [
    "plt.figure(figsize=(16,10), facecolor='white')\n",
    "plt.xticks(rotation=45, fontsize=15)\n",
    "ax = sns.histplot(df['release_year'],kde=True, bins=37,  color='purple')\n",
    "ax.set_facecolor(\"white\")\n",
    "plt.xlabel(\"Year\", fontsize=21)\n",
    "plt.ylabel(\"Number of Movies\", fontsize=21)\n",
    "plt.title(\"Number of Disney Movies Released Each Year\", fontsize=24)"
   ]
  },
  {
   "cell_type": "code",
   "execution_count": 419,
   "id": "59446075",
   "metadata": {},
   "outputs": [
    {
     "data": {
      "text/plain": [
       "Text(0.5, 1.0, 'Count Distribution of Disney Movie Genres by Year')"
      ]
     },
     "execution_count": 419,
     "metadata": {},
     "output_type": "execute_result"
    },
    {
     "data": {
      "image/png": "[encoded data removed]",
      "text/plain": [
       "<Figure size 864x576 with 2 Axes>"
      ]
     },
     "metadata": {},
     "output_type": "display_data"
    }
   ],
   "source": [
    "plt.figure(figsize=(12,8), facecolor='white')\n",
    "plt.xticks( fontsize=15)\n",
    "ax = sns.histplot(\n",
    "    df, x=\"release_year\", y=\"genre\",\n",
    "    bins=37, discrete=(True, False),\n",
    "    cbar=True, cmap=\"plasma_r\"\n",
    ")\n",
    "ax.set_facecolor(\"white\")\n",
    "ax.grid(which='major', linestyle='-', linewidth='0.5')\n",
    "plt.xlabel(\"Year\", fontsize=21)\n",
    "plt.ylabel(\"Genres\", fontsize=21)\n",
    "plt.title(\"Count Distribution of Disney Movie Genres by Year\", fontsize=23)"
   ]
  },
  {
   "cell_type": "code",
   "execution_count": 402,
   "id": "fbeecd24",
   "metadata": {
    "scrolled": true
   },
   "outputs": [
    {
     "data": {
      "text/html": [
       "<div>\n",
       "<style scoped>\n",
       "    .dataframe tbody tr th:only-of-type {\n",
       "        vertical-align: middle;\n",
       "    }\n",
       "\n",
       "    .dataframe tbody tr th {\n",
       "        vertical-align: top;\n",
       "    }\n",
       "\n",
       "    .dataframe thead th {\n",
       "        text-align: right;\n",
       "    }\n",
       "</style>\n",
       "<table border=\"1\" class=\"dataframe\">\n",
       "  <thead>\n",
       "    <tr style=\"text-align: right;\">\n",
       "      <th></th>\n",
       "      <th>movie_title</th>\n",
       "      <th>genre</th>\n",
       "      <th>mpaa_rating</th>\n",
       "      <th>total_gross</th>\n",
       "      <th>inflation_adjusted_gross</th>\n",
       "      <th>release_year</th>\n",
       "    </tr>\n",
       "  </thead>\n",
       "  <tbody>\n",
       "    <tr>\n",
       "      <th>0</th>\n",
       "      <td>Star Wars Ep. VII: The Force Awakens</td>\n",
       "      <td>Adventure</td>\n",
       "      <td>PG-13</td>\n",
       "      <td>936662225</td>\n",
       "      <td>936.662225</td>\n",
       "      <td>2015</td>\n",
       "    </tr>\n",
       "    <tr>\n",
       "      <th>1</th>\n",
       "      <td>The Lion King</td>\n",
       "      <td>Adventure</td>\n",
       "      <td>G</td>\n",
       "      <td>422780140</td>\n",
       "      <td>761.640898</td>\n",
       "      <td>1994</td>\n",
       "    </tr>\n",
       "    <tr>\n",
       "      <th>2</th>\n",
       "      <td>The Avengers</td>\n",
       "      <td>Action</td>\n",
       "      <td>PG-13</td>\n",
       "      <td>623279547</td>\n",
       "      <td>660.081224</td>\n",
       "      <td>2012</td>\n",
       "    </tr>\n",
       "    <tr>\n",
       "      <th>3</th>\n",
       "      <td>Pirates of the Caribbean: Dead Man’…</td>\n",
       "      <td>Adventure</td>\n",
       "      <td>PG-13</td>\n",
       "      <td>423315812</td>\n",
       "      <td>544.817142</td>\n",
       "      <td>2006</td>\n",
       "    </tr>\n",
       "    <tr>\n",
       "      <th>4</th>\n",
       "      <td>Rogue One: A Star Wars Story</td>\n",
       "      <td>Adventure</td>\n",
       "      <td>PG-13</td>\n",
       "      <td>529483936</td>\n",
       "      <td>529.483936</td>\n",
       "      <td>2016</td>\n",
       "    </tr>\n",
       "    <tr>\n",
       "      <th>...</th>\n",
       "      <td>...</td>\n",
       "      <td>...</td>\n",
       "      <td>...</td>\n",
       "      <td>...</td>\n",
       "      <td>...</td>\n",
       "      <td>...</td>\n",
       "    </tr>\n",
       "    <tr>\n",
       "      <th>145</th>\n",
       "      <td>Oliver &amp; Company</td>\n",
       "      <td>Adventure</td>\n",
       "      <td>G</td>\n",
       "      <td>49576671</td>\n",
       "      <td>102.254492</td>\n",
       "      <td>1988</td>\n",
       "    </tr>\n",
       "    <tr>\n",
       "      <th>146</th>\n",
       "      <td>Ladder 49</td>\n",
       "      <td>Action</td>\n",
       "      <td>PG-13</td>\n",
       "      <td>74541707</td>\n",
       "      <td>101.161045</td>\n",
       "      <td>2004</td>\n",
       "    </tr>\n",
       "    <tr>\n",
       "      <th>147</th>\n",
       "      <td>Bridge to Terabithia</td>\n",
       "      <td>Drama</td>\n",
       "      <td>PG</td>\n",
       "      <td>82234139</td>\n",
       "      <td>100.760721</td>\n",
       "      <td>2007</td>\n",
       "    </tr>\n",
       "    <tr>\n",
       "      <th>148</th>\n",
       "      <td>Up Close &amp; Personal</td>\n",
       "      <td>Drama</td>\n",
       "      <td>PG-13</td>\n",
       "      <td>51045801</td>\n",
       "      <td>97.356578</td>\n",
       "      <td>1996</td>\n",
       "    </tr>\n",
       "    <tr>\n",
       "      <th>149</th>\n",
       "      <td>Prince of Persia: Sands of Time</td>\n",
       "      <td>Action</td>\n",
       "      <td>PG-13</td>\n",
       "      <td>90759676</td>\n",
       "      <td>96.971361</td>\n",
       "      <td>2010</td>\n",
       "    </tr>\n",
       "  </tbody>\n",
       "</table>\n",
       "<p>150 rows × 6 columns</p>\n",
       "</div>"
      ],
      "text/plain": [
       "                              movie_title      genre mpaa_rating  total_gross  \\\n",
       "0    Star Wars Ep. VII: The Force Awakens  Adventure       PG-13    936662225   \n",
       "1                           The Lion King  Adventure           G    422780140   \n",
       "2                            The Avengers     Action       PG-13    623279547   \n",
       "3    Pirates of the Caribbean: Dead Man’…  Adventure       PG-13    423315812   \n",
       "4            Rogue One: A Star Wars Story  Adventure       PG-13    529483936   \n",
       "..                                    ...        ...         ...          ...   \n",
       "145                      Oliver & Company  Adventure           G     49576671   \n",
       "146                             Ladder 49     Action       PG-13     74541707   \n",
       "147                  Bridge to Terabithia      Drama          PG     82234139   \n",
       "148                   Up Close & Personal      Drama       PG-13     51045801   \n",
       "149       Prince of Persia: Sands of Time     Action       PG-13     90759676   \n",
       "\n",
       "     inflation_adjusted_gross  release_year  \n",
       "0                  936.662225          2015  \n",
       "1                  761.640898          1994  \n",
       "2                  660.081224          2012  \n",
       "3                  544.817142          2006  \n",
       "4                  529.483936          2016  \n",
       "..                        ...           ...  \n",
       "145                102.254492          1988  \n",
       "146                101.161045          2004  \n",
       "147                100.760721          2007  \n",
       "148                 97.356578          1996  \n",
       "149                 96.971361          2010  \n",
       "\n",
       "[150 rows x 6 columns]"
      ]
     },
     "execution_count": 402,
     "metadata": {},
     "output_type": "execute_result"
    }
   ],
   "source": [
    "some_values = ['Comedy', 'Drama', 'Action', 'Adventure', 'Thriller/Suspense']\n",
    "df2 = df1.loc[df['genre'].isin(some_values)]\n",
    "df3 = df2.sort_values(by='inflation_adjusted_gross', ascending=False).reset_index(drop=True).head(150)\n",
    "df3"
   ]
  },
  {
   "cell_type": "code",
   "execution_count": 403,
   "id": "d435f229",
   "metadata": {},
   "outputs": [
    {
     "data": {
      "text/html": [
       "\n",
       "<div id=\"altair-viz-736595d5b4e548faac96b5c5a7209c08\"></div>\n",
       "<script type=\"text/javascript\">\n",
       "  var VEGA_DEBUG = (typeof VEGA_DEBUG == \"undefined\") ? {} : VEGA_DEBUG;\n",
       "  (function(spec, embedOpt){\n",
       "    let outputDiv = document.currentScript.previousElementSibling;\n",
       "    if (outputDiv.id !== \"altair-viz-736595d5b4e548faac96b5c5a7209c08\") {\n",
       "      outputDiv = document.getElementById(\"altair-viz-736595d5b4e548faac96b5c5a7209c08\");\n",
       "    }\n",
       "    const paths = {\n",
       "      \"vega\": \"https://cdn.jsdelivr.net/npm//vega@5?noext\",\n",
       "      \"vega-lib\": \"https://cdn.jsdelivr.net/npm//vega-lib?noext\",\n",
       "      \"vega-lite\": \"https://cdn.jsdelivr.net/npm//vega-lite@4.17.0?noext\",\n",
       "      \"vega-embed\": \"https://cdn.jsdelivr.net/npm//vega-embed@6?noext\",\n",
       "    };\n",
       "\n",
       "    function maybeLoadScript(lib, version) {\n",
       "      var key = `${lib.replace(\"-\", \"\")}_version`;\n",
       "      return (VEGA_DEBUG[key] == version) ?\n",
       "        Promise.resolve(paths[lib]) :\n",
       "        new Promise(function(resolve, reject) {\n",
       "          var s = document.createElement('script');\n",
       "          document.getElementsByTagName(\"head\")[0].appendChild(s);\n",
       "          s.async = true;\n",
       "          s.onload = () => {\n",
       "            VEGA_DEBUG[key] = version;\n",
       "            return resolve(paths[lib]);\n",
       "          };\n",
       "          s.onerror = () => reject(`Error loading script: ${paths[lib]}`);\n",
       "          s.src = paths[lib];\n",
       "        });\n",
       "    }\n",
       "\n",
       "    function showError(err) {\n",
       "      outputDiv.innerHTML = `<div class=\"error\" style=\"color:red;\">${err}</div>`;\n",
       "      throw err;\n",
       "    }\n",
       "\n",
       "    function displayChart(vegaEmbed) {\n",
       "      vegaEmbed(outputDiv, spec, embedOpt)\n",
       "        .catch(err => showError(`Javascript Error: ${err.message}<br>This usually means there's a typo in your chart specification. See the javascript console for the full traceback.`));\n",
       "    }\n",
       "\n",
       "    if(typeof define === \"function\" && define.amd) {\n",
       "      requirejs.config({paths});\n",
       "      require([\"vega-embed\"], displayChart, err => showError(`Error loading script: ${err.message}`));\n",
       "    } else {\n",
       "      maybeLoadScript(\"vega\", \"5\")\n",
       "        .then(() => maybeLoadScript(\"vega-lite\", \"4.17.0\"))\n",
       "        .then(() => maybeLoadScript(\"vega-embed\", \"6\"))\n",
       "        .catch(showError)\n",
       "        .then(() => displayChart(vegaEmbed));\n",
       "    }\n",
       "  })({\"config\": {\"view\": {\"continuousWidth\": 400, \"continuousHeight\": 300}, \"axis\": {\"labelFontSize\": 15, \"titleFontSize\": 18}, \"legend\": {\"labelFontSize\": 13, \"titleFontSize\": 15}, \"title\": {\"fontSize\": 20}}, \"data\": {\"name\": \"data-0fe7159981bbb610296862bd3b2a5ea5\"}, \"mark\": {\"type\": \"point\", \"filled\": true, \"opacity\": 0.5, \"size\": 200}, \"encoding\": {\"color\": {\"field\": \"genre\", \"type\": \"nominal\"}, \"tooltip\": [{\"field\": \"movie_title\", \"type\": \"nominal\"}], \"x\": {\"axis\": {\"labelAngle\": 0, \"title\": \"Year\", \"values\": [1986, 1990, 1995, 2000, 2005, 2010, 2016]}, \"field\": \"release_year\", \"scale\": {\"zero\": false}, \"type\": \"nominal\"}, \"y\": {\"axis\": {\"title\": \"Inflation Adjusted Gross Income (millions)\"}, \"field\": \"inflation_adjusted_gross\", \"scale\": {\"zero\": false}, \"type\": \"quantitative\"}}, \"height\": 400, \"title\": \"Disney Movies with Top 150 Gross Income by Genre\", \"width\": 750, \"$schema\": \"https://vega.github.io/schema/vega-lite/v4.17.0.json\", \"datasets\": {\"data-0fe7159981bbb610296862bd3b2a5ea5\": [{\"movie_title\": \"Star Wars Ep. VII: The Force Awakens\", \"genre\": \"Adventure\", \"mpaa_rating\": \"PG-13\", \"total_gross\": 936662225, \"inflation_adjusted_gross\": 936.662225, \"release_year\": 2015}, {\"movie_title\": \"The Lion King\", \"genre\": \"Adventure\", \"mpaa_rating\": \"G\", \"total_gross\": 422780140, \"inflation_adjusted_gross\": 761.640898, \"release_year\": 1994}, {\"movie_title\": \"The Avengers\", \"genre\": \"Action\", \"mpaa_rating\": \"PG-13\", \"total_gross\": 623279547, \"inflation_adjusted_gross\": 660.081224, \"release_year\": 2012}, {\"movie_title\": \"Pirates of the Caribbean: Dead Man\\u2019\\u2026\", \"genre\": \"Adventure\", \"mpaa_rating\": \"PG-13\", \"total_gross\": 423315812, \"inflation_adjusted_gross\": 544.817142, \"release_year\": 2006}, {\"movie_title\": \"Rogue One: A Star Wars Story\", \"genre\": \"Adventure\", \"mpaa_rating\": \"PG-13\", \"total_gross\": 529483936, \"inflation_adjusted_gross\": 529.483936, \"release_year\": 2016}, {\"movie_title\": \"Finding Nemo\", \"genre\": \"Adventure\", \"mpaa_rating\": \"G\", \"total_gross\": 380529370, \"inflation_adjusted_gross\": 518.148559, \"release_year\": 2003}, {\"movie_title\": \"Finding Dory\", \"genre\": \"Adventure\", \"mpaa_rating\": \"PG\", \"total_gross\": 486295561, \"inflation_adjusted_gross\": 486.295561, \"release_year\": 2016}, {\"movie_title\": \"The Sixth Sense\", \"genre\": \"Thriller/Suspense\", \"mpaa_rating\": \"PG-13\", \"total_gross\": 293506292, \"inflation_adjusted_gross\": 485.424724, \"release_year\": 1999}, {\"movie_title\": \"Avengers: Age of Ultron\", \"genre\": \"Action\", \"mpaa_rating\": \"PG-13\", \"total_gross\": 459005868, \"inflation_adjusted_gross\": 459.005868, \"release_year\": 2015}, {\"movie_title\": \"Toy Story 3\", \"genre\": \"Adventure\", \"mpaa_rating\": \"G\", \"total_gross\": 415004880, \"inflation_adjusted_gross\": 443.408255, \"release_year\": 2010}, {\"movie_title\": \"Aladdin\", \"genre\": \"Comedy\", \"mpaa_rating\": \"G\", \"total_gross\": 217350219, \"inflation_adjusted_gross\": 441.969178, \"release_year\": 1992}, {\"movie_title\": \"Pirates of the Caribbean: The Curse o\\u2026\", \"genre\": \"Adventure\", \"mpaa_rating\": \"PG-13\", \"total_gross\": 305411224, \"inflation_adjusted_gross\": 426.967926, \"release_year\": 2003}, {\"movie_title\": \"Iron Man 3\", \"genre\": \"Action\", \"mpaa_rating\": \"PG-13\", \"total_gross\": 408992272, \"inflation_adjusted_gross\": 424.084233, \"release_year\": 2013}, {\"movie_title\": \"Monsters, Inc.\", \"genre\": \"Adventure\", \"mpaa_rating\": \"G\", \"total_gross\": 289423425, \"inflation_adjusted_gross\": 416.073179, \"release_year\": 2001}, {\"movie_title\": \"Frozen\", \"genre\": \"Adventure\", \"mpaa_rating\": \"PG\", \"total_gross\": 400738009, \"inflation_adjusted_gross\": 414.997174, \"release_year\": 2013}, {\"movie_title\": \"Captain America: Civil War\", \"genre\": \"Action\", \"mpaa_rating\": \"PG-13\", \"total_gross\": 408084349, \"inflation_adjusted_gross\": 408.084349, \"release_year\": 2016}, {\"movie_title\": \"Toy Story 2\", \"genre\": \"Adventure\", \"mpaa_rating\": \"G\", \"total_gross\": 245852179, \"inflation_adjusted_gross\": 404.450426, \"release_year\": 1999}, {\"movie_title\": \"The Chronicles of Narnia: The Lion, t\\u2026\", \"genre\": \"Adventure\", \"mpaa_rating\": \"PG\", \"total_gross\": 291710957, \"inflation_adjusted_gross\": 381.557539, \"release_year\": 2005}, {\"movie_title\": \"Pirates of the Caribbean: At World\\u2019\\u2026\", \"genre\": \"Adventure\", \"mpaa_rating\": \"PG-13\", \"total_gross\": 309420425, \"inflation_adjusted_gross\": 379.12996, \"release_year\": 2007}, {\"movie_title\": \"Toy Story\", \"genre\": \"Adventure\", \"mpaa_rating\": \"G\", \"total_gross\": 191796233, \"inflation_adjusted_gross\": 370.409631, \"release_year\": 1995}, {\"movie_title\": \"The Jungle Book\", \"genre\": \"Adventure\", \"mpaa_rating\": \"PG\", \"total_gross\": 364001123, \"inflation_adjusted_gross\": 364.001123, \"release_year\": 2016}, {\"movie_title\": \"Armageddon\", \"genre\": \"Adventure\", \"mpaa_rating\": \"PG-13\", \"total_gross\": 201578182, \"inflation_adjusted_gross\": 362.324957, \"release_year\": 1998}, {\"movie_title\": \"Alice in Wonderland\", \"genre\": \"Adventure\", \"mpaa_rating\": \"PG\", \"total_gross\": 334191110, \"inflation_adjusted_gross\": 357.063499, \"release_year\": 2010}, {\"movie_title\": \"Inside Out\", \"genre\": \"Adventure\", \"mpaa_rating\": \"PG\", \"total_gross\": 356461711, \"inflation_adjusted_gross\": 356.461711, \"release_year\": 2015}, {\"movie_title\": \"The Incredibles\", \"genre\": \"Adventure\", \"mpaa_rating\": \"PG\", \"total_gross\": 261441092, \"inflation_adjusted_gross\": 354.488708, \"release_year\": 2004}, {\"movie_title\": \"3 Men and a Baby\", \"genre\": \"Comedy\", \"mpaa_rating\": \"PG\", \"total_gross\": 167780960, \"inflation_adjusted_gross\": 353.334607, \"release_year\": 1987}, {\"movie_title\": \"Guardians of the Galaxy\", \"genre\": \"Adventure\", \"mpaa_rating\": \"PG-13\", \"total_gross\": 333172112, \"inflation_adjusted_gross\": 343.771168, \"release_year\": 2014}, {\"movie_title\": \"Zootopia\", \"genre\": \"Adventure\", \"mpaa_rating\": \"PG\", \"total_gross\": 341268248, \"inflation_adjusted_gross\": 341.268248, \"release_year\": 2016}, {\"movie_title\": \"Signs\", \"genre\": \"Thriller/Suspense\", \"mpaa_rating\": \"PG-13\", \"total_gross\": 227965690, \"inflation_adjusted_gross\": 330.754439, \"release_year\": 2002}, {\"movie_title\": \"Up\", \"genre\": \"Adventure\", \"mpaa_rating\": \"PG\", \"total_gross\": 293004164, \"inflation_adjusted_gross\": 329.336681, \"release_year\": 2009}, {\"movie_title\": \"Who Framed Roger Rabbit?\", \"genre\": \"Comedy\", \"mpaa_rating\": \"PG\", \"total_gross\": 154112492, \"inflation_adjusted_gross\": 316.250084, \"release_year\": 1988}, {\"movie_title\": \"Cars\", \"genre\": \"Comedy\", \"mpaa_rating\": \"G\", \"total_gross\": 244082982, \"inflation_adjusted_gross\": 314.140384, \"release_year\": 2006}, {\"movie_title\": \"The Santa Clause\", \"genre\": \"Comedy\", \"mpaa_rating\": \"PG\", \"total_gross\": 144833357, \"inflation_adjusted_gross\": 298.369717, \"release_year\": 1994}, {\"movie_title\": \"Pearl Harbor\", \"genre\": \"Action\", \"mpaa_rating\": \"PG-13\", \"total_gross\": 198539855, \"inflation_adjusted_gross\": 295.705112, \"release_year\": 2001}, {\"movie_title\": \"A Bug's Life\", \"genre\": \"Adventure\", \"mpaa_rating\": \"G\", \"total_gross\": 162798565, \"inflation_adjusted_gross\": 288.981698, \"release_year\": 1998}, {\"movie_title\": \"The Waterboy\", \"genre\": \"Comedy\", \"mpaa_rating\": \"PG-13\", \"total_gross\": 161491646, \"inflation_adjusted_gross\": 288.691833, \"release_year\": 1998}, {\"movie_title\": \"Tarzan\", \"genre\": \"Adventure\", \"mpaa_rating\": \"G\", \"total_gross\": 171091819, \"inflation_adjusted_gross\": 283.900254, \"release_year\": 1999}, {\"movie_title\": \"Sister Act\", \"genre\": \"Comedy\", \"mpaa_rating\": \"PG\", \"total_gross\": 139605150, \"inflation_adjusted_gross\": 283.583472, \"release_year\": 1992}, {\"movie_title\": \"Monsters University\", \"genre\": \"Adventure\", \"mpaa_rating\": \"G\", \"total_gross\": 268488329, \"inflation_adjusted_gross\": 278.395641, \"release_year\": 2013}, {\"movie_title\": \"Honey, I Shrunk the Kids\", \"genre\": \"Adventure\", \"mpaa_rating\": \"PG\", \"total_gross\": 130724172, \"inflation_adjusted_gross\": 276.191669, \"release_year\": 1989}, {\"movie_title\": \"Pocahontas\", \"genre\": \"Adventure\", \"mpaa_rating\": \"G\", \"total_gross\": 141579773, \"inflation_adjusted_gross\": 274.370957, \"release_year\": 1995}, {\"movie_title\": \"Captain America: The Winter Soldier\", \"genre\": \"Action\", \"mpaa_rating\": \"PG-13\", \"total_gross\": 259746958, \"inflation_adjusted_gross\": 268.013076, \"release_year\": 2014}, {\"movie_title\": \"National Treasure 2: Book of Secrets\", \"genre\": \"Adventure\", \"mpaa_rating\": \"PG\", \"total_gross\": 219961501, \"inflation_adjusted_gross\": 267.003525, \"release_year\": 2007}, {\"movie_title\": \"WALL-E\", \"genre\": \"Adventure\", \"mpaa_rating\": \"G\", \"total_gross\": 223808164, \"inflation_adjusted_gross\": 262.771918, \"release_year\": 2008}, {\"movie_title\": \"Ransom\", \"genre\": \"Action\", \"mpaa_rating\": \"R\", \"total_gross\": 136492681, \"inflation_adjusted_gross\": 259.80782, \"release_year\": 1996}, {\"movie_title\": \"101 Dalmatians\", \"genre\": \"Comedy\", \"mpaa_rating\": \"G\", \"total_gross\": 136189294, \"inflation_adjusted_gross\": 258.728898, \"release_year\": 1996}, {\"movie_title\": \"Pirates of the Caribbean: On Stranger\\u2026\", \"genre\": \"Adventure\", \"mpaa_rating\": \"PG-13\", \"total_gross\": 241063875, \"inflation_adjusted_gross\": 256.263359, \"release_year\": 2011}, {\"movie_title\": \"The Rock\", \"genre\": \"Action\", \"mpaa_rating\": \"R\", \"total_gross\": 134069511, \"inflation_adjusted_gross\": 255.702705, \"release_year\": 1996}, {\"movie_title\": \"Good Morning Vietnam\", \"genre\": \"Comedy\", \"mpaa_rating\": \"R\", \"total_gross\": 123922370, \"inflation_adjusted_gross\": 254.414837, \"release_year\": 1987}, {\"movie_title\": \"Ratatouille\", \"genre\": \"Comedy\", \"mpaa_rating\": \"G\", \"total_gross\": 206445654, \"inflation_adjusted_gross\": 252.955933, \"release_year\": 2007}, {\"movie_title\": \"Brave\", \"genre\": \"Adventure\", \"mpaa_rating\": \"PG\", \"total_gross\": 237282182, \"inflation_adjusted_gross\": 251.292441, \"release_year\": 2012}, {\"movie_title\": \"Maleficent\", \"genre\": \"Adventure\", \"mpaa_rating\": \"PG\", \"total_gross\": 241407328, \"inflation_adjusted_gross\": 249.089809, \"release_year\": 2014}, {\"movie_title\": \"Moana\", \"genre\": \"Adventure\", \"mpaa_rating\": \"PG\", \"total_gross\": 246082029, \"inflation_adjusted_gross\": 246.082029, \"release_year\": 2016}, {\"movie_title\": \"Oz the Great and Powerful\", \"genre\": \"Adventure\", \"mpaa_rating\": \"PG\", \"total_gross\": 234770996, \"inflation_adjusted_gross\": 243.43413, \"release_year\": 2013}, {\"movie_title\": \"National Treasure\", \"genre\": \"Adventure\", \"mpaa_rating\": \"PG\", \"total_gross\": 173005002, \"inflation_adjusted_gross\": 234.069353, \"release_year\": 2004}, {\"movie_title\": \"Doctor Strange\", \"genre\": \"Adventure\", \"mpaa_rating\": \"PG-13\", \"total_gross\": 232532923, \"inflation_adjusted_gross\": 232.532923, \"release_year\": 2016}, {\"movie_title\": \"Big Hero 6\", \"genre\": \"Adventure\", \"mpaa_rating\": \"PG\", \"total_gross\": 222527828, \"inflation_adjusted_gross\": 229.249222, \"release_year\": 2014}, {\"movie_title\": \"The Little Mermaid\", \"genre\": \"Adventure\", \"mpaa_rating\": \"G\", \"total_gross\": 111543479, \"inflation_adjusted_gross\": 223.726012, \"release_year\": 1989}, {\"movie_title\": \"Mulan\", \"genre\": \"Adventure\", \"mpaa_rating\": \"G\", \"total_gross\": 120620254, \"inflation_adjusted_gross\": 216.807832, \"release_year\": 1998}, {\"movie_title\": \"Dinosaur\", \"genre\": \"Adventure\", \"mpaa_rating\": \"PG\", \"total_gross\": 137748063, \"inflation_adjusted_gross\": 215.438985, \"release_year\": 2000}, {\"movie_title\": \"Tangled\", \"genre\": \"Adventure\", \"mpaa_rating\": \"PG\", \"total_gross\": 200821936, \"inflation_adjusted_gross\": 214.388548, \"release_year\": 2010}, {\"movie_title\": \"Thor: The Dark World\", \"genre\": \"Adventure\", \"mpaa_rating\": \"PG-13\", \"total_gross\": 206362140, \"inflation_adjusted_gross\": 213.962184, \"release_year\": 2013}, {\"movie_title\": \"Lilo & Stitch\", \"genre\": \"Adventure\", \"mpaa_rating\": \"PG\", \"total_gross\": 145771527, \"inflation_adjusted_gross\": 211.506702, \"release_year\": 2002}, {\"movie_title\": \"Dick Tracy\", \"genre\": \"Action\", \"mpaa_rating\": \"PG\", \"total_gross\": 103738726, \"inflation_adjusted_gross\": 207.231621, \"release_year\": 1990}, {\"movie_title\": \"Wild Hogs\", \"genre\": \"Comedy\", \"mpaa_rating\": \"PG-13\", \"total_gross\": 168213584, \"inflation_adjusted_gross\": 206.110533, \"release_year\": 2007}, {\"movie_title\": \"Cars 2\", \"genre\": \"Adventure\", \"mpaa_rating\": \"G\", \"total_gross\": 191450875, \"inflation_adjusted_gross\": 203.522177, \"release_year\": 2011}, {\"movie_title\": \"Dead Poets Society\", \"genre\": \"Drama\", \"mpaa_rating\": \"PG\", \"total_gross\": 95860116, \"inflation_adjusted_gross\": 202.531517, \"release_year\": 1989}, {\"movie_title\": \"The Santa Clause 2\", \"genre\": \"Comedy\", \"mpaa_rating\": \"G\", \"total_gross\": 139225854, \"inflation_adjusted_gross\": 201.959095, \"release_year\": 2002}, {\"movie_title\": \"Cinderella\", \"genre\": \"Drama\", \"mpaa_rating\": \"PG\", \"total_gross\": 201151353, \"inflation_adjusted_gross\": 201.151353, \"release_year\": 2015}, {\"movie_title\": \"Wreck-It Ralph\", \"genre\": \"Adventure\", \"mpaa_rating\": \"PG\", \"total_gross\": 189412677, \"inflation_adjusted_gross\": 200.354959, \"release_year\": 2012}, {\"movie_title\": \"Phenomenon\", \"genre\": \"Drama\", \"mpaa_rating\": \"PG\", \"total_gross\": 104636382, \"inflation_adjusted_gross\": 199.559799, \"release_year\": 1996}, {\"movie_title\": \"Enemy of the State\", \"genre\": \"Action\", \"mpaa_rating\": \"R\", \"total_gross\": 111549836, \"inflation_adjusted_gross\": 198.472008, \"release_year\": 1998}, {\"movie_title\": \"George Of The Jungle\", \"genre\": \"Comedy\", \"mpaa_rating\": \"PG\", \"total_gross\": 105263257, \"inflation_adjusted_gross\": 193.326632, \"release_year\": 1997}, {\"movie_title\": \"Lincoln\", \"genre\": \"Drama\", \"mpaa_rating\": \"PG-13\", \"total_gross\": 182207973, \"inflation_adjusted_gross\": 192.12233, \"release_year\": 2012}, {\"movie_title\": \"The Hunchback of Notre Dame\", \"genre\": \"Adventure\", \"mpaa_rating\": \"G\", \"total_gross\": 100138851, \"inflation_adjusted_gross\": 190.988799, \"release_year\": 1996}, {\"movie_title\": \"Con Air\", \"genre\": \"Action\", \"mpaa_rating\": \"R\", \"total_gross\": 101117573, \"inflation_adjusted_gross\": 185.712664, \"release_year\": 1997}, {\"movie_title\": \"Bringing Down the House\", \"genre\": \"Comedy\", \"mpaa_rating\": \"PG-13\", \"total_gross\": 132675402, \"inflation_adjusted_gross\": 185.48153, \"release_year\": 2003}, {\"movie_title\": \"Sweet Home Alabama\", \"genre\": \"Comedy\", \"mpaa_rating\": \"PG-13\", \"total_gross\": 127214072, \"inflation_adjusted_gross\": 184.521151, \"release_year\": 2002}, {\"movie_title\": \"Tron: Legacy\", \"genre\": \"Adventure\", \"mpaa_rating\": \"PG\", \"total_gross\": 172062763, \"inflation_adjusted_gross\": 183.619259, \"release_year\": 2010}, {\"movie_title\": \"Hercules\", \"genre\": \"Adventure\", \"mpaa_rating\": \"G\", \"total_gross\": 99112101, \"inflation_adjusted_gross\": 182.029412, \"release_year\": 1997}, {\"movie_title\": \"Remember the Titans\", \"genre\": \"Drama\", \"mpaa_rating\": \"PG\", \"total_gross\": 115654751, \"inflation_adjusted_gross\": 180.742479, \"release_year\": 2000}, {\"movie_title\": \"The Help\", \"genre\": \"Drama\", \"mpaa_rating\": \"PG-13\", \"total_gross\": 169705587, \"inflation_adjusted_gross\": 180.404976, \"release_year\": 2011}, {\"movie_title\": \"Ant-Man\", \"genre\": \"Action\", \"mpaa_rating\": \"PG-13\", \"total_gross\": 180202163, \"inflation_adjusted_gross\": 180.202163, \"release_year\": 2015}, {\"movie_title\": \"Father of the Bride\", \"genre\": \"Comedy\", \"mpaa_rating\": \"PG\", \"total_gross\": 89325780, \"inflation_adjusted_gross\": 179.821881, \"release_year\": 1991}, {\"movie_title\": \"The Hand That Rocks the Cradle\", \"genre\": \"Thriller/Suspense\", \"mpaa_rating\": \"R\", \"total_gross\": 88036683, \"inflation_adjusted_gross\": 178.831137, \"release_year\": 1992}, {\"movie_title\": \"Chicken Little\", \"genre\": \"Adventure\", \"mpaa_rating\": \"G\", \"total_gross\": 135386665, \"inflation_adjusted_gross\": 177.954661, \"release_year\": 2005}, {\"movie_title\": \"Crimson Tide\", \"genre\": \"Action\", \"mpaa_rating\": \"R\", \"total_gross\": 91387195, \"inflation_adjusted_gross\": 177.102077, \"release_year\": 1995}, {\"movie_title\": \"Flubber\", \"genre\": \"Comedy\", \"mpaa_rating\": \"PG\", \"total_gross\": 92993801, \"inflation_adjusted_gross\": 170.406423, \"release_year\": 1997}, {\"movie_title\": \"The Chronicles of Narnia: Prince Caspian\", \"genre\": \"Adventure\", \"mpaa_rating\": \"PG\", \"total_gross\": 141621490, \"inflation_adjusted_gross\": 166.277038, \"release_year\": 2008}, {\"movie_title\": \"Dangerous Minds\", \"genre\": \"Drama\", \"mpaa_rating\": \"R\", \"total_gross\": 84919401, \"inflation_adjusted_gross\": 164.552293, \"release_year\": 1995}, {\"movie_title\": \"Ruthless People\", \"genre\": \"Comedy\", \"mpaa_rating\": \"R\", \"total_gross\": 71624879, \"inflation_adjusted_gross\": 162.748712, \"release_year\": 1986}, {\"movie_title\": \"Inspector Gadget\", \"genre\": \"Comedy\", \"mpaa_rating\": \"PG\", \"total_gross\": 97387965, \"inflation_adjusted_gross\": 161.610341, \"release_year\": 1999}, {\"movie_title\": \"The Princess Diaries\", \"genre\": \"Comedy\", \"mpaa_rating\": \"G\", \"total_gross\": 108244774, \"inflation_adjusted_gross\": 161.218928, \"release_year\": 2001}, {\"movie_title\": \"Cocktail\", \"genre\": \"Drama\", \"mpaa_rating\": \"R\", \"total_gross\": 78222753, \"inflation_adjusted_gross\": 160.442289, \"release_year\": 1988}, {\"movie_title\": \"Gone in 60 Seconds\", \"genre\": \"Action\", \"mpaa_rating\": \"PG-13\", \"total_gross\": 101643008, \"inflation_adjusted_gross\": 158.970411, \"release_year\": 2000}, {\"movie_title\": \"Mr. Holland's Opus\", \"genre\": \"Drama\", \"mpaa_rating\": \"PG\", \"total_gross\": 82582604, \"inflation_adjusted_gross\": 157.508868, \"release_year\": 1995}, {\"movie_title\": \"Splash\", \"genre\": \"Comedy\", \"mpaa_rating\": \"PG\", \"total_gross\": 62599495, \"inflation_adjusted_gross\": 157.057661, \"release_year\": 1984}, {\"movie_title\": \"The Village\", \"genre\": \"Thriller/Suspense\", \"mpaa_rating\": \"PG-13\", \"total_gross\": 114197520, \"inflation_adjusted_gross\": 155.021748, \"release_year\": 2004}, {\"movie_title\": \"Disney's A Christmas Carol\", \"genre\": \"Drama\", \"mpaa_rating\": \"PG\", \"total_gross\": 137855863, \"inflation_adjusted_gross\": 154.927105, \"release_year\": 2009}, {\"movie_title\": \"Freaky Friday\", \"genre\": \"Comedy\", \"mpaa_rating\": \"PG\", \"total_gross\": 110222438, \"inflation_adjusted_gross\": 154.09036, \"release_year\": 2003}, {\"movie_title\": \"Turner & Hooch\", \"genre\": \"Comedy\", \"mpaa_rating\": \"PG\", \"total_gross\": 71079915, \"inflation_adjusted_gross\": 150.176361, \"release_year\": 1989}, {\"movie_title\": \"The Pacifier\", \"genre\": \"Comedy\", \"mpaa_rating\": \"PG\", \"total_gross\": 113006880, \"inflation_adjusted_gross\": 148.619029, \"release_year\": 2005}, {\"movie_title\": \"Unbreakable\", \"genre\": \"Thriller/Suspense\", \"mpaa_rating\": \"PG-13\", \"total_gross\": 94999143, \"inflation_adjusted_gross\": 148.208901, \"release_year\": 2000}, {\"movie_title\": \"Father of the Bride Part II\", \"genre\": \"Comedy\", \"mpaa_rating\": \"PG\", \"total_gross\": 76578911, \"inflation_adjusted_gross\": 147.658438, \"release_year\": 1995}, {\"movie_title\": \"3 Men and a Little Lady\", \"genre\": \"Comedy\", \"mpaa_rating\": \"PG\", \"total_gross\": 71609321, \"inflation_adjusted_gross\": 143.108869, \"release_year\": 1990}, {\"movie_title\": \"Stakeout\", \"genre\": \"Comedy\", \"mpaa_rating\": \"R\", \"total_gross\": 65673233, \"inflation_adjusted_gross\": 141.59216, \"release_year\": 1987}, {\"movie_title\": \"Down and Out in Beverly Hills\", \"genre\": \"Comedy\", \"mpaa_rating\": \"R\", \"total_gross\": 62134225, \"inflation_adjusted_gross\": 141.183693, \"release_year\": 1986}, {\"movie_title\": \"Cool Runnings\", \"genre\": \"Comedy\", \"mpaa_rating\": \"PG\", \"total_gross\": 68856263, \"inflation_adjusted_gross\": 140.392731, \"release_year\": 1993}, {\"movie_title\": \"The Emperor's New Groove\", \"genre\": \"Adventure\", \"mpaa_rating\": \"G\", \"total_gross\": 89296573, \"inflation_adjusted_gross\": 136.789252, \"release_year\": 2000}, {\"movie_title\": \"The Horse Whisperer\", \"genre\": \"Drama\", \"mpaa_rating\": \"PG-13\", \"total_gross\": 75383563, \"inflation_adjusted_gross\": 135.497531, \"release_year\": 1998}, {\"movie_title\": \"G-Force\", \"genre\": \"Adventure\", \"mpaa_rating\": \"PG\", \"total_gross\": 119436770, \"inflation_adjusted_gross\": 134.246932, \"release_year\": 2009}, {\"movie_title\": \"Bolt\", \"genre\": \"Comedy\", \"mpaa_rating\": \"PG\", \"total_gross\": 114053759, \"inflation_adjusted_gross\": 133.702498, \"release_year\": 2008}, {\"movie_title\": \"The Fox and the Hound\", \"genre\": \"Comedy\", \"mpaa_rating\": \"Unknown\", \"total_gross\": 43899231, \"inflation_adjusted_gross\": 133.118889, \"release_year\": 1981}, {\"movie_title\": \"Bedtime Stories\", \"genre\": \"Comedy\", \"mpaa_rating\": \"PG\", \"total_gross\": 110101975, \"inflation_adjusted_gross\": 128.039679, \"release_year\": 2008}, {\"movie_title\": \"What About Bob?\", \"genre\": \"Comedy\", \"mpaa_rating\": \"PG\", \"total_gross\": 63710000, \"inflation_adjusted_gross\": 127.571325, \"release_year\": 1991}, {\"movie_title\": \"Atlantis: The Lost Empire\", \"genre\": \"Adventure\", \"mpaa_rating\": \"PG\", \"total_gross\": 84052762, \"inflation_adjusted_gross\": 125.188122, \"release_year\": 2001}, {\"movie_title\": \"The Good Dinosaur\", \"genre\": \"Adventure\", \"mpaa_rating\": \"PG\", \"total_gross\": 123087120, \"inflation_adjusted_gross\": 123.08712, \"release_year\": 2015}, {\"movie_title\": \"Beaches\", \"genre\": \"Drama\", \"mpaa_rating\": \"PG-13\", \"total_gross\": 57041866, \"inflation_adjusted_gross\": 120.381757, \"release_year\": 1988}, {\"movie_title\": \"Meet the Robinsons\", \"genre\": \"Adventure\", \"mpaa_rating\": \"G\", \"total_gross\": 97822171, \"inflation_adjusted_gross\": 119.860589, \"release_year\": 2007}, {\"movie_title\": \"Brother Bear\", \"genre\": \"Adventure\", \"mpaa_rating\": \"G\", \"total_gross\": 85336277, \"inflation_adjusted_gross\": 119.218333, \"release_year\": 2003}, {\"movie_title\": \"The Parent Trap\", \"genre\": \"Comedy\", \"mpaa_rating\": \"PG\", \"total_gross\": 66308518, \"inflation_adjusted_gross\": 119.185667, \"release_year\": 1998}, {\"movie_title\": \"Honey I Blew Up the Kid\", \"genre\": \"Comedy\", \"mpaa_rating\": \"PG\", \"total_gross\": 58662452, \"inflation_adjusted_gross\": 119.162518, \"release_year\": 1992}, {\"movie_title\": \"Flightplan\", \"genre\": \"Thriller/Suspense\", \"mpaa_rating\": \"PG-13\", \"total_gross\": 89706988, \"inflation_adjusted_gross\": 117.960425, \"release_year\": 2005}, {\"movie_title\": \"The Color of Money\", \"genre\": \"Drama\", \"mpaa_rating\": \"R\", \"total_gross\": 52293000, \"inflation_adjusted_gross\": 117.957323, \"release_year\": 1986}, {\"movie_title\": \"Snow Dogs\", \"genre\": \"Comedy\", \"mpaa_rating\": \"PG\", \"total_gross\": 81150692, \"inflation_adjusted_gross\": 117.745317, \"release_year\": 2002}, {\"movie_title\": \"Sister Act 2 Back in the Habit\", \"genre\": \"Comedy\", \"mpaa_rating\": \"PG\", \"total_gross\": 57319029, \"inflation_adjusted_gross\": 116.965668, \"release_year\": 1993}, {\"movie_title\": \"The Princess and the Frog\", \"genre\": \"Adventure\", \"mpaa_rating\": \"G\", \"total_gross\": 104400899, \"inflation_adjusted_gross\": 116.316457, \"release_year\": 2009}, {\"movie_title\": \"Outrageous Fortune\", \"genre\": \"Comedy\", \"mpaa_rating\": \"R\", \"total_gross\": 52864741, \"inflation_adjusted_gross\": 113.976921, \"release_year\": 1987}, {\"movie_title\": \"Jack\", \"genre\": \"Drama\", \"mpaa_rating\": \"PG-13\", \"total_gross\": 58617334, \"inflation_adjusted_gross\": 111.792852, \"release_year\": 1996}, {\"movie_title\": \"The Game Plan\", \"genre\": \"Comedy\", \"mpaa_rating\": \"PG\", \"total_gross\": 90648202, \"inflation_adjusted_gross\": 111.010758, \"release_year\": 2007}, {\"movie_title\": \"Beverly Hills Chihuahua\", \"genre\": \"Comedy\", \"mpaa_rating\": \"PG\", \"total_gross\": 94514402, \"inflation_adjusted_gross\": 110.932022, \"release_year\": 2008}, {\"movie_title\": \"Jungle 2 Jungle\", \"genre\": \"Comedy\", \"mpaa_rating\": \"PG\", \"total_gross\": 59925026, \"inflation_adjusted_gross\": 110.058379, \"release_year\": 1997}, {\"movie_title\": \"The Rookie\", \"genre\": \"Drama\", \"mpaa_rating\": \"G\", \"total_gross\": 75600072, \"inflation_adjusted_gross\": 109.691666, \"release_year\": 2002}, {\"movie_title\": \"The Three Musketeers\", \"genre\": \"Adventure\", \"mpaa_rating\": \"PG\", \"total_gross\": 53661805, \"inflation_adjusted_gross\": 109.310377, \"release_year\": 1993}, {\"movie_title\": \"The Kid\", \"genre\": \"Comedy\", \"mpaa_rating\": \"PG\", \"total_gross\": 69688384, \"inflation_adjusted_gross\": 108.993148, \"release_year\": 2000}, {\"movie_title\": \"The Santa Clause 3: The Escape Clause\", \"genre\": \"Comedy\", \"mpaa_rating\": \"G\", \"total_gross\": 84500122, \"inflation_adjusted_gross\": 108.694869, \"release_year\": 2006}, {\"movie_title\": \"Deuce Bigalow: Male Gigolo\", \"genre\": \"Comedy\", \"mpaa_rating\": \"R\", \"total_gross\": 65535067, \"inflation_adjusted_gross\": 106.921374, \"release_year\": 1999}, {\"movie_title\": \"Arachnophobia\", \"genre\": \"Thriller/Suspense\", \"mpaa_rating\": \"PG-13\", \"total_gross\": 53208180, \"inflation_adjusted_gross\": 106.29027, \"release_year\": 1990}, {\"movie_title\": \"Gnomeo and Juliet\", \"genre\": \"Comedy\", \"mpaa_rating\": \"G\", \"total_gross\": 99967670, \"inflation_adjusted_gross\": 106.270797, \"release_year\": 2011}, {\"movie_title\": \"The Haunted Mansion\", \"genre\": \"Comedy\", \"mpaa_rating\": \"PG\", \"total_gross\": 75817994, \"inflation_adjusted_gross\": 105.775678, \"release_year\": 2003}, {\"movie_title\": \"Eight Below\", \"genre\": \"Adventure\", \"mpaa_rating\": \"PG\", \"total_gross\": 81612565, \"inflation_adjusted_gross\": 105.037235, \"release_year\": 2006}, {\"movie_title\": \"102 Dalmatians\", \"genre\": \"Comedy\", \"mpaa_rating\": \"G\", \"total_gross\": 66941559, \"inflation_adjusted_gross\": 104.055039, \"release_year\": 2000}, {\"movie_title\": \"Angels in the Outfield\", \"genre\": \"Comedy\", \"mpaa_rating\": \"PG\", \"total_gross\": 50236831, \"inflation_adjusted_gross\": 103.798152, \"release_year\": 1994}, {\"movie_title\": \"When a Man Loves a Woman\", \"genre\": \"Drama\", \"mpaa_rating\": \"R\", \"total_gross\": 50021959, \"inflation_adjusted_gross\": 103.354194, \"release_year\": 1994}, {\"movie_title\": \"The Mighty Ducks\", \"genre\": \"Comedy\", \"mpaa_rating\": \"PG\", \"total_gross\": 50752337, \"inflation_adjusted_gross\": 103.12081, \"release_year\": 1992}, {\"movie_title\": \"Oliver & Company\", \"genre\": \"Adventure\", \"mpaa_rating\": \"G\", \"total_gross\": 49576671, \"inflation_adjusted_gross\": 102.254492, \"release_year\": 1988}, {\"movie_title\": \"Ladder 49\", \"genre\": \"Action\", \"mpaa_rating\": \"PG-13\", \"total_gross\": 74541707, \"inflation_adjusted_gross\": 101.161045, \"release_year\": 2004}, {\"movie_title\": \"Bridge to Terabithia\", \"genre\": \"Drama\", \"mpaa_rating\": \"PG\", \"total_gross\": 82234139, \"inflation_adjusted_gross\": 100.760721, \"release_year\": 2007}, {\"movie_title\": \"Up Close & Personal\", \"genre\": \"Drama\", \"mpaa_rating\": \"PG-13\", \"total_gross\": 51045801, \"inflation_adjusted_gross\": 97.356578, \"release_year\": 1996}, {\"movie_title\": \"Prince of Persia: Sands of Time\", \"genre\": \"Action\", \"mpaa_rating\": \"PG-13\", \"total_gross\": 90759676, \"inflation_adjusted_gross\": 96.971361, \"release_year\": 2010}]}}, {\"mode\": \"vega-lite\"});\n",
       "</script>"
      ],
      "text/plain": [
       "alt.Chart(...)"
      ]
     },
     "execution_count": 403,
     "metadata": {},
     "output_type": "execute_result"
    }
   ],
   "source": [
    "alt.Chart(df3).mark_point(filled=True, opacity=0.5, size=200 ).encode(\n",
    "        alt.X('release_year:N', axis=alt.Axis(title= \"Year\", \n",
    "                                              values=[1986, 1990, 1995, 2000, 2005, 2010, 2016],\n",
    "                                              labelAngle=0), \n",
    "              scale=alt.Scale(zero=False)),\n",
    "        alt.Y('inflation_adjusted_gross:Q', axis=alt.Axis(title=\"Inflation Adjusted Gross Income (millions)\"), \n",
    "              scale=alt.Scale(zero=False)),\n",
    "        alt.Color('genre:N'),\n",
    "    tooltip = [\n",
    "        alt.Tooltip(\"movie_title:N\")]\n",
    ").configure_axis(labelFontSize=15,\n",
    "                 titleFontSize=18\n",
    "                 ).configure_title(fontSize=20\n",
    "                                  ).configure_legend(titleFontSize=15, labelFontSize=13\n",
    ").properties(title='Disney Movies with Top 150 Gross Income by Genre', width=750, height=400)"
   ]
  },
  {
   "cell_type": "code",
   "execution_count": null,
   "id": "46c23051",
   "metadata": {},
   "outputs": [],
   "source": []
  }
 ],
 "metadata": {
  "kernelspec": {
   "display_name": "Python 3 (ipykernel)",
   "language": "python",
   "name": "python3"
  },
  "language_info": {
   "codemirror_mode": {
    "name": "ipython",
    "version": 3
   },
   "file_extension": ".py",
   "mimetype": "text/x-python",
   "name": "python",
   "nbconvert_exporter": "python",
   "pygments_lexer": "ipython3",
   "version": "3.9.7"
  }
 },
 "nbformat": 4,
 "nbformat_minor": 5
}
