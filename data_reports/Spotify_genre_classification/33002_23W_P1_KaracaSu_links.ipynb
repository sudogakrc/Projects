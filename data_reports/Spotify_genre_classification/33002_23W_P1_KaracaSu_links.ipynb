{
 "cells": [
  {
   "cell_type": "markdown",
   "id": "ed2cdc3b",
   "metadata": {},
   "source": [
    "**Video Link:** https://youtu.be/FTFm76vVnw4\n",
    "\n",
    "**Google Slides Link:** https://docs.google.com/presentation/d/1mkR-T0OwBEKjwnAIKk9SJ4L0Fx1IM3z9tOezkqLEQhE/edit?usp=sharing"
   ]
  }
 ],
 "metadata": {
  "kernelspec": {
   "display_name": "Python 3 (ipykernel)",
   "language": "python",
   "name": "python3"
  },
  "language_info": {
   "codemirror_mode": {
    "name": "ipython",
    "version": 3
   },
   "file_extension": ".py",
   "mimetype": "text/x-python",
   "name": "python",
   "nbconvert_exporter": "python",
   "pygments_lexer": "ipython3",
   "version": "3.9.7"
  }
 },
 "nbformat": 4,
 "nbformat_minor": 5
}
