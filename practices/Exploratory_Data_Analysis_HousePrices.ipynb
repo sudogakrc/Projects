{
 "cells": [
  {
   "cell_type": "markdown",
   "id": "a69890b1",
   "metadata": {},
   "source": [
    "### Exploratory data analysis\n",
    "\n",
    "There are 5 parts in this notebook. \n",
    "\n",
    "- **Part-1: Data overview**\n",
    "    > check the #samples, #attributes <br>\n",
    "    > attribute types <br>\n",
    "    \n",
    "- **Part-2: Data cleaning**\n",
    "    > organize attributes into appripriate data types (e.g., numerical, categorical, datatime, text, image, ...) <br>\n",
    "    > missing value and outlier detection <br>\n",
    "    \n",
    "- **Part-3: Data transformation**\n",
    "    > normalize numerical data <br>\n",
    "    > transform text data: tokenization, stemming, and lemmatization <br>\n",
    "    \n",
    "- **Part-4: Feature engineering**\n",
    "    > encode categorical data <br>\n",
    "    > convert DataTime data <br>\n",
    "    > text feature representation <br>\n",
    "\n",
    "- **Part-5: Additional analysis**\n",
    "    > create new features <br>\n",
    "    > colinearty check <br>"
   ]
  },
  {
   "cell_type": "code",
   "execution_count": 1,
   "id": "692bd036",
   "metadata": {},
   "outputs": [
    {
     "name": "stderr",
     "output_type": "stream",
     "text": [
      "/Users/sukaraca/opt/anaconda3/lib/python3.9/site-packages/scipy/__init__.py:146: UserWarning: A NumPy version >=1.16.5 and <1.23.0 is required for this version of SciPy (detected version 1.23.3\n",
      "  warnings.warn(f\"A NumPy version >={np_minversion} and <{np_maxversion}\"\n"
     ]
    }
   ],
   "source": [
    "import numpy as np\n",
    "import pandas as pd\n",
    "import matplotlib.pyplot as plt\n",
    "import seaborn as sns"
   ]
  },
  {
   "cell_type": "markdown",
   "id": "0af5ac4f",
   "metadata": {},
   "source": [
    "### Part-1: Data overview"
   ]
  },
  {
   "cell_type": "code",
   "execution_count": 1,
   "id": "6ae08ebe",
   "metadata": {},
   "outputs": [
    {
     "ename": "NameError",
     "evalue": "name 'pd' is not defined",
     "output_type": "error",
     "traceback": [
      "\u001b[0;31m---------------------------------------------------------------------------\u001b[0m",
      "\u001b[0;31mNameError\u001b[0m                                 Traceback (most recent call last)",
      "\u001b[0;32m/var/folders/wj/wzcmzk2n2232h1jj_2tfgl700000gn/T/ipykernel_37462/3262368992.py\u001b[0m in \u001b[0;36m<module>\u001b[0;34m\u001b[0m\n\u001b[1;32m      1\u001b[0m \u001b[0;31m# read data from file to a pandas dataframe\u001b[0m\u001b[0;34m\u001b[0m\u001b[0;34m\u001b[0m\u001b[0m\n\u001b[1;32m      2\u001b[0m \u001b[0;31m# find the file from Canvas --> Modules --> Data\u001b[0m\u001b[0;34m\u001b[0m\u001b[0;34m\u001b[0m\u001b[0m\n\u001b[0;32m----> 3\u001b[0;31m \u001b[0mdata_df\u001b[0m \u001b[0;34m=\u001b[0m \u001b[0mpd\u001b[0m\u001b[0;34m.\u001b[0m\u001b[0mread_feather\u001b[0m\u001b[0;34m(\u001b[0m\u001b[0;34m'path-to/house_sales.ftr'\u001b[0m\u001b[0;34m)\u001b[0m\u001b[0;34m\u001b[0m\u001b[0;34m\u001b[0m\u001b[0m\n\u001b[0m\u001b[1;32m      4\u001b[0m \u001b[0;31m# make sure to change it to your directory\u001b[0m\u001b[0;34m\u001b[0m\u001b[0;34m\u001b[0m\u001b[0m\n",
      "\u001b[0;31mNameError\u001b[0m: name 'pd' is not defined"
     ]
    }
   ],
   "source": [
    "# read data from file to a pandas dataframe\n",
    "# find the file from Canvas --> Modules --> Data\n",
    "data_df = pd.read_feather('path-to/house_sales.ftr') \n",
    "# make sure to change it to your directory"
   ]
  },
  {
   "cell_type": "code",
   "execution_count": 3,
   "id": "b787489f",
   "metadata": {},
   "outputs": [
    {
     "data": {
      "text/plain": [
       "(164944, 1789)"
      ]
     },
     "execution_count": 3,
     "metadata": {},
     "output_type": "execute_result"
    }
   ],
   "source": [
    "# check the shape of the data frame: row: #samples (short for number of samples), \n",
    "#column: #attributes (short for number of attributes)\n",
    "data_df.shape"
   ]
  },
  {
   "cell_type": "code",
   "execution_count": 4,
   "id": "3c2617ca",
   "metadata": {},
   "outputs": [
    {
     "data": {
      "text/html": [
       "<div>\n",
       "<style scoped>\n",
       "    .dataframe tbody tr th:only-of-type {\n",
       "        vertical-align: middle;\n",
       "    }\n",
       "\n",
       "    .dataframe tbody tr th {\n",
       "        vertical-align: top;\n",
       "    }\n",
       "\n",
       "    .dataframe thead th {\n",
       "        text-align: right;\n",
       "    }\n",
       "</style>\n",
       "<table border=\"1\" class=\"dataframe\">\n",
       "  <thead>\n",
       "    <tr style=\"text-align: right;\">\n",
       "      <th></th>\n",
       "      <th>Id</th>\n",
       "      <th>Address</th>\n",
       "      <th>Sold Price</th>\n",
       "      <th>Sold On</th>\n",
       "      <th>Summary</th>\n",
       "      <th>Type</th>\n",
       "      <th>Year built</th>\n",
       "      <th>Heating</th>\n",
       "      <th>Cooling</th>\n",
       "      <th>Parking</th>\n",
       "      <th>...</th>\n",
       "      <th>Well Disclosure</th>\n",
       "      <th>remodeled</th>\n",
       "      <th>DOH2</th>\n",
       "      <th>SerialX</th>\n",
       "      <th>Full Baths</th>\n",
       "      <th>Tax Legal Lot Number</th>\n",
       "      <th>Tax Legal Block Number</th>\n",
       "      <th>Tax Legal Tract Number</th>\n",
       "      <th>Building Name</th>\n",
       "      <th>Zip</th>\n",
       "    </tr>\n",
       "  </thead>\n",
       "  <tbody>\n",
       "    <tr>\n",
       "      <th>0</th>\n",
       "      <td>2080183300</td>\n",
       "      <td>11205 Monterey,</td>\n",
       "      <td>$2,000,000</td>\n",
       "      <td>01/31/20</td>\n",
       "      <td>11205 Monterey, San Martin, CA 95046 is a sing...</td>\n",
       "      <td>SingleFamily</td>\n",
       "      <td>No Data</td>\n",
       "      <td>No Data</td>\n",
       "      <td>No Data</td>\n",
       "      <td>0 spaces</td>\n",
       "      <td>...</td>\n",
       "      <td>None</td>\n",
       "      <td>None</td>\n",
       "      <td>None</td>\n",
       "      <td>None</td>\n",
       "      <td>None</td>\n",
       "      <td>None</td>\n",
       "      <td>None</td>\n",
       "      <td>None</td>\n",
       "      <td>None</td>\n",
       "      <td>95046</td>\n",
       "    </tr>\n",
       "    <tr>\n",
       "      <th>1</th>\n",
       "      <td>20926300</td>\n",
       "      <td>5281 Castle Rd,</td>\n",
       "      <td>$2,100,000</td>\n",
       "      <td>02/25/21</td>\n",
       "      <td>Spectacular Mountain and incredible L.A. City ...</td>\n",
       "      <td>SingleFamily</td>\n",
       "      <td>1951</td>\n",
       "      <td>Central</td>\n",
       "      <td>Central Air, Dual</td>\n",
       "      <td>Driveway, Driveway - Brick</td>\n",
       "      <td>...</td>\n",
       "      <td>None</td>\n",
       "      <td>None</td>\n",
       "      <td>None</td>\n",
       "      <td>None</td>\n",
       "      <td>None</td>\n",
       "      <td>None</td>\n",
       "      <td>None</td>\n",
       "      <td>None</td>\n",
       "      <td>None</td>\n",
       "      <td>91011</td>\n",
       "    </tr>\n",
       "    <tr>\n",
       "      <th>2</th>\n",
       "      <td>19595300</td>\n",
       "      <td>3581 Butcher Dr,</td>\n",
       "      <td>$1,125,000</td>\n",
       "      <td>11/06/19</td>\n",
       "      <td>Eichler Style home! with Santa Clara High! in ...</td>\n",
       "      <td>SingleFamily</td>\n",
       "      <td>1954</td>\n",
       "      <td>Central Forced Air - Gas</td>\n",
       "      <td>Central AC</td>\n",
       "      <td>Garage, Garage - Attached, Covered</td>\n",
       "      <td>...</td>\n",
       "      <td>None</td>\n",
       "      <td>None</td>\n",
       "      <td>None</td>\n",
       "      <td>None</td>\n",
       "      <td>None</td>\n",
       "      <td>None</td>\n",
       "      <td>None</td>\n",
       "      <td>None</td>\n",
       "      <td>None</td>\n",
       "      <td>95051</td>\n",
       "    </tr>\n",
       "    <tr>\n",
       "      <th>3</th>\n",
       "      <td>300472200</td>\n",
       "      <td>2021 N Milpitas Blvd,</td>\n",
       "      <td>$36,250,000</td>\n",
       "      <td>10/02/20</td>\n",
       "      <td>2021 N Milpitas Blvd, Milpitas, CA 95035 is a ...</td>\n",
       "      <td>Apartment</td>\n",
       "      <td>1989</td>\n",
       "      <td>Other</td>\n",
       "      <td>No Data</td>\n",
       "      <td>Mixed, Covered</td>\n",
       "      <td>...</td>\n",
       "      <td>None</td>\n",
       "      <td>None</td>\n",
       "      <td>None</td>\n",
       "      <td>None</td>\n",
       "      <td>None</td>\n",
       "      <td>None</td>\n",
       "      <td>None</td>\n",
       "      <td>None</td>\n",
       "      <td>None</td>\n",
       "      <td>95035</td>\n",
       "    </tr>\n",
       "    <tr>\n",
       "      <th>4</th>\n",
       "      <td>2074492000</td>\n",
       "      <td>LOT 4 Tool Box Spring Rd,</td>\n",
       "      <td>$140,000</td>\n",
       "      <td>10/19/20</td>\n",
       "      <td>Beautiful level lot  dotted with pine trees ro...</td>\n",
       "      <td>VacantLand</td>\n",
       "      <td>No Data</td>\n",
       "      <td>No Data</td>\n",
       "      <td>No Data</td>\n",
       "      <td>0 spaces</td>\n",
       "      <td>...</td>\n",
       "      <td>None</td>\n",
       "      <td>None</td>\n",
       "      <td>None</td>\n",
       "      <td>None</td>\n",
       "      <td>None</td>\n",
       "      <td>None</td>\n",
       "      <td>None</td>\n",
       "      <td>None</td>\n",
       "      <td>None</td>\n",
       "      <td>92561</td>\n",
       "    </tr>\n",
       "  </tbody>\n",
       "</table>\n",
       "<p>5 rows × 1789 columns</p>\n",
       "</div>"
      ],
      "text/plain": [
       "           Id                    Address   Sold Price   Sold On  \\\n",
       "0  2080183300            11205 Monterey,   $2,000,000  01/31/20   \n",
       "1    20926300            5281 Castle Rd,   $2,100,000  02/25/21   \n",
       "2    19595300           3581 Butcher Dr,   $1,125,000  11/06/19   \n",
       "3   300472200      2021 N Milpitas Blvd,  $36,250,000  10/02/20   \n",
       "4  2074492000  LOT 4 Tool Box Spring Rd,     $140,000  10/19/20   \n",
       "\n",
       "                                             Summary          Type Year built  \\\n",
       "0  11205 Monterey, San Martin, CA 95046 is a sing...  SingleFamily    No Data   \n",
       "1  Spectacular Mountain and incredible L.A. City ...  SingleFamily       1951   \n",
       "2  Eichler Style home! with Santa Clara High! in ...  SingleFamily       1954   \n",
       "3  2021 N Milpitas Blvd, Milpitas, CA 95035 is a ...     Apartment       1989   \n",
       "4  Beautiful level lot  dotted with pine trees ro...    VacantLand    No Data   \n",
       "\n",
       "                    Heating            Cooling  \\\n",
       "0                   No Data            No Data   \n",
       "1                   Central  Central Air, Dual   \n",
       "2  Central Forced Air - Gas         Central AC   \n",
       "3                     Other            No Data   \n",
       "4                   No Data            No Data   \n",
       "\n",
       "                              Parking  ... Well Disclosure remodeled  DOH2  \\\n",
       "0                            0 spaces  ...            None      None  None   \n",
       "1          Driveway, Driveway - Brick  ...            None      None  None   \n",
       "2  Garage, Garage - Attached, Covered  ...            None      None  None   \n",
       "3                      Mixed, Covered  ...            None      None  None   \n",
       "4                            0 spaces  ...            None      None  None   \n",
       "\n",
       "  SerialX Full Baths Tax Legal Lot Number Tax Legal Block Number  \\\n",
       "0    None       None                 None                   None   \n",
       "1    None       None                 None                   None   \n",
       "2    None       None                 None                   None   \n",
       "3    None       None                 None                   None   \n",
       "4    None       None                 None                   None   \n",
       "\n",
       "  Tax Legal Tract Number Building Name    Zip  \n",
       "0                   None          None  95046  \n",
       "1                   None          None  91011  \n",
       "2                   None          None  95051  \n",
       "3                   None          None  95035  \n",
       "4                   None          None  92561  \n",
       "\n",
       "[5 rows x 1789 columns]"
      ]
     },
     "execution_count": 4,
     "metadata": {},
     "output_type": "execute_result"
    }
   ],
   "source": [
    "# get an overview of the top-n rows\n",
    "data_df.head()"
   ]
  },
  {
   "cell_type": "markdown",
   "id": "b82d9c08",
   "metadata": {},
   "source": [
    "### Part-2: Data cleaning"
   ]
  },
  {
   "cell_type": "markdown",
   "id": "c25cd609",
   "metadata": {},
   "source": [
    "#### 2.1: check missing values"
   ]
  },
  {
   "cell_type": "code",
   "execution_count": 105,
   "id": "c2ef5ca0",
   "metadata": {},
   "outputs": [
    {
     "data": {
      "text/plain": [
       "Id                             0\n",
       "Address                        0\n",
       "Sold Price                    85\n",
       "Sold On                        0\n",
       "Summary                     3117\n",
       "                           ...  \n",
       "Tax Legal Lot Number      164943\n",
       "Tax Legal Block Number    164943\n",
       "Tax Legal Tract Number    164943\n",
       "Building Name             164943\n",
       "Zip                            0\n",
       "Length: 1789, dtype: int64"
      ]
     },
     "execution_count": 105,
     "metadata": {},
     "output_type": "execute_result"
    }
   ],
   "source": [
    "null_sum = data_df.isnull().sum()\n",
    "null_sum"
   ]
  },
  {
   "cell_type": "code",
   "execution_count": 106,
   "id": "90f4cc99",
   "metadata": {},
   "outputs": [],
   "source": [
    "# Drop columns that have at least 30% missing values \n",
    "data_df.drop(columns=data_df.columns[null_sum > len(data_df) * 0.3], inplace=True)"
   ]
  },
  {
   "cell_type": "code",
   "execution_count": 69,
   "id": "063fd277",
   "metadata": {},
   "outputs": [
    {
     "data": {
      "text/plain": [
       "((164944, 32),\n",
       " Index(['Id', 'Address', 'Sold Price', 'Sold On', 'Summary', 'Type',\n",
       "        'Year built', 'Heating', 'Cooling', 'Parking', 'Bedrooms', 'Bathrooms',\n",
       "        'Total interior livable area', 'Total spaces', 'Garage spaces',\n",
       "        'Home type', 'Region', 'Elementary School', 'Elementary School Score',\n",
       "        'Elementary School Distance', 'High School', 'High School Score',\n",
       "        'High School Distance', 'Heating features', 'Parking features',\n",
       "        'Lot size', 'Parcel number', 'Tax assessed value', 'Annual tax amount',\n",
       "        'Listed On', 'Listed Price', 'Zip'],\n",
       "       dtype='object'))"
      ]
     },
     "execution_count": 69,
     "metadata": {},
     "output_type": "execute_result"
    }
   ],
   "source": [
    "# check the remaining columns\n",
    "data_df.shape, data_df.columns"
   ]
  },
  {
   "cell_type": "code",
   "execution_count": 70,
   "id": "2afd8f01",
   "metadata": {},
   "outputs": [
    {
     "data": {
      "text/plain": [
       "Id                             object\n",
       "Address                        object\n",
       "Sold Price                     object\n",
       "Sold On                        object\n",
       "Summary                        object\n",
       "Type                           object\n",
       "Year built                     object\n",
       "Heating                        object\n",
       "Cooling                        object\n",
       "Parking                        object\n",
       "Bedrooms                       object\n",
       "Bathrooms                      object\n",
       "Total interior livable area    object\n",
       "Total spaces                   object\n",
       "Garage spaces                  object\n",
       "Home type                      object\n",
       "Region                         object\n",
       "Elementary School              object\n",
       "Elementary School Score        object\n",
       "Elementary School Distance     object\n",
       "High School                    object\n",
       "High School Score              object\n",
       "High School Distance           object\n",
       "Heating features               object\n",
       "Parking features               object\n",
       "Lot size                       object\n",
       "Parcel number                  object\n",
       "Tax assessed value             object\n",
       "Annual tax amount              object\n",
       "Listed On                      object\n",
       "Listed Price                   object\n",
       "Zip                            object\n",
       "dtype: object"
      ]
     },
     "execution_count": 70,
     "metadata": {},
     "output_type": "execute_result"
    }
   ],
   "source": [
    "# check the data types\n",
    "data_df.dtypes "
   ]
  },
  {
   "cell_type": "markdown",
   "id": "4e14334f",
   "metadata": {},
   "source": [
    "#### 2.2: organize columns into different data types\n",
    "The .dtype attribute shows that the current data type for each column is \"object\", this is either because the column contains missing values or because it contains values of different types.   \n",
    "\n",
    "We will organize the columns into the following common data types based on the observation (decide the data type based on its values):\n",
    "- Categorical: \n",
    "    > Id, Type, Home type, Region, Elementary School, High School, Parcel number, Zip <br>\n",
    "- Numerical: \n",
    "    > Sold Price, Bedrooms, Bathrooms, Total interior livable area, Total spaces, Garage spaces, Elementary School Score, Elementary School Distance, High School Score, High School Distance, Lot size, Tax assessed value, Annual tax amount, Listed Price <br>\n",
    "- DateTime: \n",
    "    > Sold On, Year built, Listed On <br>\n",
    "- String/Text: \n",
    "    > Address, Summary, Heating, Cooling, Parking, Heating features, Parking features <br>\n",
    "\n",
    "In the following part, we will: \n",
    "- convert the original data into the organized data type \n",
    "- do data processing for the converted data"
   ]
  },
  {
   "cell_type": "markdown",
   "id": "fce4ec35",
   "metadata": {},
   "source": [
    "#### 2.3: process categorical data"
   ]
  },
  {
   "cell_type": "code",
   "execution_count": 107,
   "id": "22c7ff81",
   "metadata": {},
   "outputs": [
    {
     "data": {
      "text/html": [
       "<div>\n",
       "<style scoped>\n",
       "    .dataframe tbody tr th:only-of-type {\n",
       "        vertical-align: middle;\n",
       "    }\n",
       "\n",
       "    .dataframe tbody tr th {\n",
       "        vertical-align: top;\n",
       "    }\n",
       "\n",
       "    .dataframe thead th {\n",
       "        text-align: right;\n",
       "    }\n",
       "</style>\n",
       "<table border=\"1\" class=\"dataframe\">\n",
       "  <thead>\n",
       "    <tr style=\"text-align: right;\">\n",
       "      <th></th>\n",
       "      <th>Id</th>\n",
       "      <th>Type</th>\n",
       "      <th>Home type</th>\n",
       "      <th>Region</th>\n",
       "      <th>Elementary School</th>\n",
       "      <th>High School</th>\n",
       "      <th>Parcel number</th>\n",
       "      <th>Zip</th>\n",
       "    </tr>\n",
       "  </thead>\n",
       "  <tbody>\n",
       "    <tr>\n",
       "      <th>0</th>\n",
       "      <td>2080183300</td>\n",
       "      <td>SingleFamily</td>\n",
       "      <td>SingleFamily</td>\n",
       "      <td>San Martin</td>\n",
       "      <td>Rucker Elementary School</td>\n",
       "      <td>Christopher High School</td>\n",
       "      <td>NaN</td>\n",
       "      <td>95046</td>\n",
       "    </tr>\n",
       "    <tr>\n",
       "      <th>1</th>\n",
       "      <td>20926300</td>\n",
       "      <td>SingleFamily</td>\n",
       "      <td>SingleFamily</td>\n",
       "      <td>La Canada Flintridge</td>\n",
       "      <td>Mountain Avenue Elementary School</td>\n",
       "      <td>Crescenta Valley High School</td>\n",
       "      <td>5870016003</td>\n",
       "      <td>91011</td>\n",
       "    </tr>\n",
       "    <tr>\n",
       "      <th>2</th>\n",
       "      <td>19595300</td>\n",
       "      <td>SingleFamily</td>\n",
       "      <td>SingleFamily</td>\n",
       "      <td>Santa Clara</td>\n",
       "      <td>Pomeroy Elementary School</td>\n",
       "      <td>Santa Clara High School</td>\n",
       "      <td>29022100</td>\n",
       "      <td>95051</td>\n",
       "    </tr>\n",
       "    <tr>\n",
       "      <th>3</th>\n",
       "      <td>300472200</td>\n",
       "      <td>Apartment</td>\n",
       "      <td>Apartment</td>\n",
       "      <td>Milpitas</td>\n",
       "      <td>Joseph Weller Elementary School</td>\n",
       "      <td>Milpitas High School</td>\n",
       "      <td>02201015</td>\n",
       "      <td>95035</td>\n",
       "    </tr>\n",
       "    <tr>\n",
       "      <th>4</th>\n",
       "      <td>2074492000</td>\n",
       "      <td>VacantLand</td>\n",
       "      <td>NaN</td>\n",
       "      <td>Mountain Center</td>\n",
       "      <td>Mcsweeny Elementary School</td>\n",
       "      <td>West Valley High School</td>\n",
       "      <td>NaN</td>\n",
       "      <td>92561</td>\n",
       "    </tr>\n",
       "    <tr>\n",
       "      <th>...</th>\n",
       "      <td>...</td>\n",
       "      <td>...</td>\n",
       "      <td>...</td>\n",
       "      <td>...</td>\n",
       "      <td>...</td>\n",
       "      <td>...</td>\n",
       "      <td>...</td>\n",
       "      <td>...</td>\n",
       "    </tr>\n",
       "    <tr>\n",
       "      <th>164939</th>\n",
       "      <td>72555199</td>\n",
       "      <td>Condo</td>\n",
       "      <td>Condo</td>\n",
       "      <td>Richmond</td>\n",
       "      <td>Washington Elementary School</td>\n",
       "      <td>Kennedy High School</td>\n",
       "      <td>5607700878</td>\n",
       "      <td>94804</td>\n",
       "    </tr>\n",
       "    <tr>\n",
       "      <th>164940</th>\n",
       "      <td>94643599</td>\n",
       "      <td>Condo</td>\n",
       "      <td>Condo</td>\n",
       "      <td>Los Angeles</td>\n",
       "      <td>Charles H. Kim Elementary School</td>\n",
       "      <td>NaN</td>\n",
       "      <td>5503030207</td>\n",
       "      <td>90010</td>\n",
       "    </tr>\n",
       "    <tr>\n",
       "      <th>164941</th>\n",
       "      <td>300479799</td>\n",
       "      <td>Condo</td>\n",
       "      <td>Condo</td>\n",
       "      <td>Mountain View</td>\n",
       "      <td>Edith Landels Elementary School</td>\n",
       "      <td>Mountain View High School</td>\n",
       "      <td>16088037</td>\n",
       "      <td>94043</td>\n",
       "    </tr>\n",
       "    <tr>\n",
       "      <th>164942</th>\n",
       "      <td>15504399</td>\n",
       "      <td>SingleFamily</td>\n",
       "      <td>SingleFamily</td>\n",
       "      <td>Pacifica</td>\n",
       "      <td>Cabrillo Elementary School</td>\n",
       "      <td>Jefferson High School</td>\n",
       "      <td>022402090</td>\n",
       "      <td>94044</td>\n",
       "    </tr>\n",
       "    <tr>\n",
       "      <th>164943</th>\n",
       "      <td>16143099</td>\n",
       "      <td>SingleFamily</td>\n",
       "      <td>SingleFamily</td>\n",
       "      <td>Freedom</td>\n",
       "      <td>Calabasas Elementary School</td>\n",
       "      <td>Aptos High School</td>\n",
       "      <td>04921207</td>\n",
       "      <td>95019</td>\n",
       "    </tr>\n",
       "  </tbody>\n",
       "</table>\n",
       "<p>164944 rows × 8 columns</p>\n",
       "</div>"
      ],
      "text/plain": [
       "                Id          Type     Home type                Region  \\\n",
       "0       2080183300  SingleFamily  SingleFamily            San Martin   \n",
       "1         20926300  SingleFamily  SingleFamily  La Canada Flintridge   \n",
       "2         19595300  SingleFamily  SingleFamily           Santa Clara   \n",
       "3        300472200     Apartment     Apartment              Milpitas   \n",
       "4       2074492000    VacantLand           NaN       Mountain Center   \n",
       "...            ...           ...           ...                   ...   \n",
       "164939    72555199         Condo         Condo              Richmond   \n",
       "164940    94643599         Condo         Condo           Los Angeles   \n",
       "164941   300479799         Condo         Condo         Mountain View   \n",
       "164942    15504399  SingleFamily  SingleFamily              Pacifica   \n",
       "164943    16143099  SingleFamily  SingleFamily               Freedom   \n",
       "\n",
       "                        Elementary School                   High School  \\\n",
       "0                Rucker Elementary School       Christopher High School   \n",
       "1       Mountain Avenue Elementary School  Crescenta Valley High School   \n",
       "2               Pomeroy Elementary School       Santa Clara High School   \n",
       "3         Joseph Weller Elementary School          Milpitas High School   \n",
       "4              Mcsweeny Elementary School       West Valley High School   \n",
       "...                                   ...                           ...   \n",
       "164939       Washington Elementary School           Kennedy High School   \n",
       "164940   Charles H. Kim Elementary School                           NaN   \n",
       "164941    Edith Landels Elementary School     Mountain View High School   \n",
       "164942         Cabrillo Elementary School         Jefferson High School   \n",
       "164943        Calabasas Elementary School             Aptos High School   \n",
       "\n",
       "       Parcel number    Zip  \n",
       "0                NaN  95046  \n",
       "1         5870016003  91011  \n",
       "2           29022100  95051  \n",
       "3           02201015  95035  \n",
       "4                NaN  92561  \n",
       "...              ...    ...  \n",
       "164939    5607700878  94804  \n",
       "164940    5503030207  90010  \n",
       "164941      16088037  94043  \n",
       "164942     022402090  94044  \n",
       "164943      04921207  95019  \n",
       "\n",
       "[164944 rows x 8 columns]"
      ]
     },
     "execution_count": 107,
     "metadata": {},
     "output_type": "execute_result"
    }
   ],
   "source": [
    "# Convert the following columns to categorical data types \n",
    "cat_col = ['Id', 'Type', 'Home type', 'Region', 'Elementary School', 'High School', 'Parcel number', 'Zip']\n",
    "data_df[cat_col] = data_df[cat_col].astype('category')\n",
    "data_df[cat_col]"
   ]
  },
  {
   "cell_type": "code",
   "execution_count": 72,
   "id": "77eb7a5a",
   "metadata": {},
   "outputs": [
    {
     "data": {
      "text/plain": [
       "Id                   category\n",
       "Type                 category\n",
       "Home type            category\n",
       "Region               category\n",
       "Elementary School    category\n",
       "High School          category\n",
       "Parcel number        category\n",
       "Zip                  category\n",
       "dtype: object"
      ]
     },
     "execution_count": 72,
     "metadata": {},
     "output_type": "execute_result"
    }
   ],
   "source": [
    "# the following columns now all have the categorical data types\n",
    "data_df[cat_col].dtypes"
   ]
  },
  {
   "cell_type": "markdown",
   "id": "0d5a9676",
   "metadata": {},
   "source": [
    "**2.3.1: check outliers of each categorical feature**\n",
    "- Here we take the \"Type\" column as an example to show the logics"
   ]
  },
  {
   "cell_type": "code",
   "execution_count": 73,
   "id": "34624fa9",
   "metadata": {},
   "outputs": [
    {
     "data": {
      "text/plain": [
       "SingleFamily                        102040\n",
       "Condo                                27443\n",
       "MultiFamily                           7346\n",
       "Townhouse                             7108\n",
       "VacantLand                            6199\n",
       "                                     ...  \n",
       "Low-Rise (1-3), Full, Unit Above         1\n",
       "Low-Rise (1-3), Ground Floor             1\n",
       "Low-Rise (1-3), Live/Work                1\n",
       "Low-Rise (1-3), Semi-Attached            1\n",
       "Hi-Rise (9+), Studio                     1\n",
       "Name: Type, Length: 317, dtype: int64"
      ]
     },
     "execution_count": 73,
     "metadata": {},
     "output_type": "execute_result"
    }
   ],
   "source": [
    "# count the #samples fall into each category\n",
    "data_df['Type'].value_counts() "
   ]
  },
  {
   "cell_type": "code",
   "execution_count": 12,
   "id": "9c4d944e",
   "metadata": {},
   "outputs": [
    {
     "data": {
      "text/plain": [
       "[<matplotlib.lines.Line2D at 0x7fd2ad30f640>]"
      ]
     },
     "execution_count": 12,
     "metadata": {},
     "output_type": "execute_result"
    },
    {
     "data": {
      "image/png": "[encoded data removed]",
      "text/plain": [
       "<Figure size 432x288 with 1 Axes>"
      ]
     },
     "metadata": {
      "needs_background": "light"
     },
     "output_type": "display_data"
    }
   ],
   "source": [
    "# an alternative method to check the #samples in each category\n",
    "plt.plot(data_df['Type'].value_counts().values)"
   ]
  },
  {
   "cell_type": "code",
   "execution_count": 13,
   "id": "a00185af",
   "metadata": {},
   "outputs": [
    {
     "data": {
      "text/plain": [
       "array([102040,  27443,   7346,   7108,   6199,   5849,   3605,   1922,\n",
       "          463,    176,     76,     56,     51,     48,     42,     27,\n",
       "           21,     19,     19,     19,     18,     15,     14,     14,\n",
       "           13,     13,     13,     12,     12,     12,     11,     11,\n",
       "           10,     10,     10,      9,      9,      8,      8,      7,\n",
       "            7,      7,      7,      7,      7,      6,      6,      6,\n",
       "            6,      6,      6,      6,      6,      5,      5,      5,\n",
       "            5,      5,      5,      5,      5,      5,      5,      4,\n",
       "            4,      4,      4,      4,      4,      4,      4,      4,\n",
       "            4,      4,      3,      3,      3,      3,      3,      3,\n",
       "            3,      3,      3,      3,      3,      3,      3,      3,\n",
       "            3,      3,      3,      3,      3,      2,      2,      2,\n",
       "            2,      2,      2,      2,      2,      2,      2,      2,\n",
       "            2,      2,      2,      2,      2,      2,      2,      2,\n",
       "            2,      2,      2,      2,      2,      2,      2,      2,\n",
       "            2,      2,      2,      2,      2,      2,      2,      2,\n",
       "            2,      2,      2,      2,      2,      2,      2,      2,\n",
       "            2,      1,      1,      1,      1,      1,      1,      1,\n",
       "            1,      1,      1,      1,      1,      1,      1,      1,\n",
       "            1,      1,      1,      1,      1,      1,      1,      1,\n",
       "            1,      1,      1,      1,      1,      1,      1,      1,\n",
       "            1,      1,      1,      1,      1,      1,      1,      1,\n",
       "            1,      1,      1,      1,      1,      1,      1,      1,\n",
       "            1,      1,      1,      1,      1,      1,      1,      1,\n",
       "            1,      1,      1,      1,      1,      1,      1,      1,\n",
       "            1,      1,      1,      1,      1,      1,      1,      1,\n",
       "            1,      1,      1,      1,      1,      1,      1,      1,\n",
       "            1,      1,      1,      1,      1,      1,      1,      1,\n",
       "            1,      1,      1,      1,      1,      1,      1,      1,\n",
       "            1,      1,      1,      1,      1,      1,      1,      1,\n",
       "            1,      1,      1,      1,      1,      1,      1,      1,\n",
       "            1,      1,      1,      1,      1,      1,      1,      1,\n",
       "            1,      1,      1,      1,      1,      1,      1,      1,\n",
       "            1,      1,      1,      1,      1,      1,      1,      1,\n",
       "            1,      1,      1,      1,      1,      1,      1,      1,\n",
       "            1,      1,      1,      1,      1,      1,      1,      1,\n",
       "            1,      1,      1,      1,      1,      1,      1,      1,\n",
       "            1,      1,      1,      1,      1,      1,      1,      1,\n",
       "            1,      1,      1,      1,      1,      1,      1,      1,\n",
       "            1,      1,      1,      1,      1])"
      ]
     },
     "execution_count": 13,
     "metadata": {},
     "output_type": "execute_result"
    }
   ],
   "source": [
    "# a closer look at the #samples in each category\n",
    "data_df['Type'].value_counts().values"
   ]
  },
  {
   "cell_type": "markdown",
   "id": "e4eb334e",
   "metadata": {},
   "source": [
    "According to the above observation, we take categories that only have a small #samples as outlier/minority categories. There are typically two ways to deal with the outliers: \n",
    "- We can directly remove the outlier categories\n",
    "- We can also merge the minority categories with majority ones (example shown below)"
   ]
  },
  {
   "cell_type": "code",
   "execution_count": 108,
   "id": "30c5b8f6",
   "metadata": {},
   "outputs": [
    {
     "data": {
      "text/plain": [
       "CategoricalIndex(['RURLRES', 'Full',\n",
       "                  'Luxury, New Construction, Mid-Rise (4-8)',\n",
       "                  'SINGLE, RURLRES', '4+ Story', 'Apartments', '2 Story, Full',\n",
       "                  'Junior', '1 Story', 'Luxury, 2 Level',\n",
       "                  ...\n",
       "                  '1 Level, Top Floor, Unit Below, Flat', 'Leased Land',\n",
       "                  '1 Level, Top Floor, Unit Below',\n",
       "                  '1 Level, Top Floor, Low-Rise (1-3), Full, Attached',\n",
       "                  'Low-Rise (1-3), End Unit',\n",
       "                  'Low-Rise (1-3), Full, Unit Above',\n",
       "                  'Low-Rise (1-3), Ground Floor', 'Low-Rise (1-3), Live/Work',\n",
       "                  'Low-Rise (1-3), Semi-Attached', 'Hi-Rise (9+), Studio'],\n",
       "                 categories=['1 Level', '1 Level, Attached', '1 Level, Flat', '1 Level, Flat, Low-Rise (1-3)', '1 Level, Flat, Low-Rise (1-3), Unit Above', '1 Level, Ground Floor', '1 Level, Low-Rise (1-3)', '1 Level, Low-Rise (1-3), Full, Unit Above, Attached', ...], ordered=False, dtype='category', length=282)"
      ]
     },
     "execution_count": 108,
     "metadata": {},
     "output_type": "execute_result"
    }
   ],
   "source": [
    "# remove samples whose \"Type\" belongs to the minority categories \n",
    "# our criteria here is to remove categories that have less than 10 samples\n",
    "value_cts = data_df['Type'].value_counts()\n",
    "cat_to_remove = value_cts[value_cts < 10].keys()\n",
    "cat_to_remove"
   ]
  },
  {
   "cell_type": "code",
   "execution_count": 109,
   "id": "e3d7f38e",
   "metadata": {},
   "outputs": [
    {
     "name": "stdout",
     "output_type": "stream",
     "text": [
      "Data size before dropping minority categories: (164944, 32)\n",
      "Data size after dropping minority categories: (164401, 32)\n"
     ]
    }
   ],
   "source": [
    "print(\"Data size before dropping minority categories:\", data_df.shape)\n",
    "data_df.drop(data_df[data_df['Type'].isin(cat_to_remove)].index, inplace=True)\n",
    "print(\"Data size after dropping minority categories:\", data_df.shape)"
   ]
  },
  {
   "cell_type": "code",
   "execution_count": 110,
   "id": "bae287e6",
   "metadata": {},
   "outputs": [
    {
     "data": {
      "text/plain": [
       "SingleFamily            102040\n",
       "Condo                    27443\n",
       "MultiFamily               7346\n",
       "Townhouse                 7108\n",
       "VacantLand                6199\n",
       "Unknown                   5849\n",
       "MobileManufactured        3605\n",
       "Apartment                 1922\n",
       "Single Family              463\n",
       "Cooperative                176\n",
       "Residential Lot             76\n",
       "Single Family Lot           56\n",
       "MFD-F                       51\n",
       "Acreage                     48\n",
       "2 Story                     42\n",
       "3 Story                     27\n",
       "Hi-Rise (9+), Luxury        21\n",
       "Duplex                      19\n",
       "RESIDENTIAL                 19\n",
       "Condominium                 19\n",
       "Mid-Rise (4-8)              18\n",
       "31                          15\n",
       "Vacant Land                 14\n",
       "Hi-Rise (9+)                14\n",
       "Low-Rise (1-3)              13\n",
       "Detached                    13\n",
       "Manufactured Home           13\n",
       "Mobile Home                 12\n",
       "3 Story, Duplex             12\n",
       "Detached, 2 Story           12\n",
       "Top Floor                   11\n",
       "Residential Sub Lot         11\n",
       "ACREAGE                     10\n",
       "Lots/Land                   10\n",
       "SINGLE                      10\n",
       "Name: Type, dtype: Int64"
      ]
     },
     "execution_count": 110,
     "metadata": {},
     "output_type": "execute_result"
    }
   ],
   "source": [
    "# double check the remaining categories \n",
    "data_df['Type'].astype('string').value_counts()\n",
    "# check what happens if not using astype('string') in the above expression?"
   ]
  },
  {
   "cell_type": "code",
   "execution_count": 77,
   "id": "2fe6d92a",
   "metadata": {},
   "outputs": [
    {
     "data": {
      "text/plain": [
       "SingleFamily               102040\n",
       "Condo                       27443\n",
       "MultiFamily                  7346\n",
       "Townhouse                    7108\n",
       "VacantLand                   6199\n",
       "                            ...  \n",
       "Detached, Full                  0\n",
       "Detached, Fixer Upper           0\n",
       "Detached, 4+ Story              0\n",
       "Detached, 3 Story, Full         0\n",
       "Hi-Rise (9+), Studio            0\n",
       "Name: Type, Length: 317, dtype: int64"
      ]
     },
     "execution_count": 77,
     "metadata": {},
     "output_type": "execute_result"
    }
   ],
   "source": [
    "# check what happens if not using astype('string') in the above expression?\n",
    "data_df['Type'].value_counts()"
   ]
  },
  {
   "cell_type": "code",
   "execution_count": 111,
   "id": "57736195",
   "metadata": {},
   "outputs": [],
   "source": [
    "# merge minority categories with majority ones (e.g., SINGLE --> SingleFamily, Lots/Land-->VacantLand)\n",
    "data_df['Type'].replace(['SINGLE', 'Lots/Land'],['SingleFamily', 'VacantLand'], inplace=True)"
   ]
  },
  {
   "cell_type": "code",
   "execution_count": 112,
   "id": "decb8e88",
   "metadata": {},
   "outputs": [
    {
     "data": {
      "text/plain": [
       "SingleFamily            102050\n",
       "Condo                    27443\n",
       "MultiFamily               7346\n",
       "Townhouse                 7108\n",
       "VacantLand                6209\n",
       "Unknown                   5849\n",
       "MobileManufactured        3605\n",
       "Apartment                 1922\n",
       "Single Family              463\n",
       "Cooperative                176\n",
       "Residential Lot             76\n",
       "Single Family Lot           56\n",
       "MFD-F                       51\n",
       "Acreage                     48\n",
       "2 Story                     42\n",
       "3 Story                     27\n",
       "Hi-Rise (9+), Luxury        21\n",
       "Duplex                      19\n",
       "Condominium                 19\n",
       "RESIDENTIAL                 19\n",
       "Mid-Rise (4-8)              18\n",
       "31                          15\n",
       "Vacant Land                 14\n",
       "Hi-Rise (9+)                14\n",
       "Low-Rise (1-3)              13\n",
       "Detached                    13\n",
       "Manufactured Home           13\n",
       "Mobile Home                 12\n",
       "Detached, 2 Story           12\n",
       "3 Story, Duplex             12\n",
       "Residential Sub Lot         11\n",
       "Top Floor                   11\n",
       "ACREAGE                     10\n",
       "Name: Type, dtype: int64"
      ]
     },
     "execution_count": 112,
     "metadata": {},
     "output_type": "execute_result"
    }
   ],
   "source": [
    "# In the resulting categories, 'SINGLE' is merged with \"SingleFamily\" and 'Lots/Land' is merged with 'VacantLand'\n",
    "data_df['Type'].value_counts()"
   ]
  },
  {
   "cell_type": "markdown",
   "id": "88b2229b",
   "metadata": {},
   "source": [
    "#### 2.3.2: apply the logic for processing the \"Type\" column to process the following columns:\n",
    "- Region\n",
    "- Elementary School\n",
    "- High School\n",
    "- Home type\n",
    "\n",
    "*Notes:*\n",
    "- One can decide whether to remove outliers or the specific outlier threshold based on your observation and common sense. \n",
    "- One can also decide whether it makes sense to merge multiple categories and what categories to merge."
   ]
  },
  {
   "cell_type": "markdown",
   "id": "a8b3c58c",
   "metadata": {},
   "source": [
    "**analyze \"Region\"**"
   ]
  },
  {
   "cell_type": "code",
   "execution_count": 113,
   "id": "96ad1f33",
   "metadata": {},
   "outputs": [
    {
     "data": {
      "text/plain": [
       "Los Angeles      32800\n",
       "San Jose         18464\n",
       "San Francisco    15272\n",
       "Sunnyvale         2721\n",
       "San Mateo         2540\n",
       "                 ...  \n",
       "Valley Home          1\n",
       "Inskip               1\n",
       "Innes                1\n",
       "Hyland Park          1\n",
       "Los Feliz            1\n",
       "Name: Region, Length: 1433, dtype: int64"
      ]
     },
     "execution_count": 113,
     "metadata": {},
     "output_type": "execute_result"
    }
   ],
   "source": [
    "data_df['Region'].value_counts() "
   ]
  },
  {
   "cell_type": "code",
   "execution_count": 114,
   "id": "b8c6e97d",
   "metadata": {},
   "outputs": [
    {
     "data": {
      "text/plain": [
       "(array([1.203e+03, 9.100e+01, 3.800e+01, 3.000e+01, 9.000e+00, 9.000e+00,\n",
       "        1.000e+00, 5.000e+00, 3.000e+00, 2.000e+00]),\n",
       " array([  0.,  50., 100., 150., 200., 250., 300., 350., 400., 450., 500.]),\n",
       " <BarContainer object of 10 artists>)"
      ]
     },
     "execution_count": 114,
     "metadata": {},
     "output_type": "execute_result"
    },
    {
     "data": {
      "image/png": "[encoded data removed]",
      "text/plain": [
       "<Figure size 432x288 with 1 Axes>"
      ]
     },
     "metadata": {
      "needs_background": "light"
     },
     "output_type": "display_data"
    }
   ],
   "source": [
    "#value counts in the Region\n",
    "region_val = data_df['Region'].value_counts().values\n",
    "plt.hist(region_val, range=[0, 500])"
   ]
  },
  {
   "cell_type": "code",
   "execution_count": 116,
   "id": "efb26236",
   "metadata": {},
   "outputs": [
    {
     "data": {
      "text/plain": [
       "(array([127.,  90.,  56.,  36.,  24.,  20.,  20.,  23.,  17.,  25.]),\n",
       " array([ 0.,  2.,  4.,  6.,  8., 10., 12., 14., 16., 18., 20.]),\n",
       " <BarContainer object of 10 artists>)"
      ]
     },
     "execution_count": 116,
     "metadata": {},
     "output_type": "execute_result"
    },
    {
     "data": {
      "image/png": "[encoded data removed]",
      "text/plain": [
       "<Figure size 432x288 with 1 Axes>"
      ]
     },
     "metadata": {
      "needs_background": "light"
     },
     "output_type": "display_data"
    }
   ],
   "source": [
    "plt.hist(region_val, range=[0, 20])"
   ]
  },
  {
   "cell_type": "code",
   "execution_count": 117,
   "id": "2f370a99",
   "metadata": {},
   "outputs": [
    {
     "data": {
      "text/plain": [
       "Coyote                1\n",
       "Tucson                1\n",
       "Cromberg              1\n",
       "Forks Of Salmon       1\n",
       "Trowbridge            1\n",
       "Firestone Park        1\n",
       "Trinity Pines         1\n",
       "Fell                  1\n",
       "Fair Oaks Ranch       1\n",
       "Travis Afb            1\n",
       "El Portal             1\n",
       "East Nicolaus         1\n",
       "Douglass Hills        1\n",
       "Duncans Mills         1\n",
       "Dove Canyon           1\n",
       "Usfs                  1\n",
       "Cherokee              1\n",
       "Homeland Rd           1\n",
       "Villa Grande          1\n",
       "Lyndon                1\n",
       "Lockhart              1\n",
       "Lincoln Acres         1\n",
       "Leona Valley          1\n",
       "Toms Place            1\n",
       "Calif Hot Spirings    1\n",
       "Larissa               1\n",
       "W Hollywood           1\n",
       "Lake Sherwood         1\n",
       "Lake Gregory          1\n",
       "Lake California       1\n",
       "Ladera Heights        1\n",
       "Seiad                 1\n",
       "Kyburz                1\n",
       "View                  1\n",
       "Century City          1\n",
       "Vidal                 1\n",
       "Shell Beach           1\n",
       "Vicente               1\n",
       "Shelter Cove          1\n",
       "Kew                   1\n",
       "Juniper Hills         1\n",
       "Jose                  1\n",
       "Capilola              1\n",
       "Jonesville            1\n",
       "Johanasburg           1\n",
       "Valley Home           1\n",
       "Inskip                1\n",
       "Innes                 1\n",
       "Hyland Park           1\n",
       "Los Feliz             1\n",
       "Name: Region, dtype: int64"
      ]
     },
     "execution_count": 117,
     "metadata": {},
     "output_type": "execute_result"
    }
   ],
   "source": [
    "counts_reg = data_df['Region'].value_counts() \n",
    "counts_reg.tail(50)"
   ]
  },
  {
   "cell_type": "code",
   "execution_count": 118,
   "id": "a184bd79",
   "metadata": {},
   "outputs": [
    {
     "data": {
      "text/plain": [
       "CategoricalIndex(['Capistrano Beach', 'Big Bend', 'Hidden Hills',\n",
       "                  'San Gregorio', 'Vernon', 'Rimrock', 'Highland Park',\n",
       "                  'Salton City', 'Arrowbear Lake', 'Silverado Canyon',\n",
       "                  ...\n",
       "                  'Juniper Hills', 'Jose', 'Capilola', 'Jonesville',\n",
       "                  'Johanasburg', 'Valley Home', 'Inskip', 'Innes',\n",
       "                  'Hyland Park', 'Los Feliz'],\n",
       "                 categories=['Acampo', 'Acton', 'Adelanto', 'Adin', 'Agoura Hills', 'Agua Dulce', 'Aguanga', 'Ahwahnee', ...], ordered=False, dtype='category', length=273)"
      ]
     },
     "execution_count": 118,
     "metadata": {},
     "output_type": "execute_result"
    }
   ],
   "source": [
    "value_cts2 = data_df['Region'].value_counts()\n",
    "cat_to_remove2 = value_cts2[value_cts2 <= 5].keys()\n",
    "cat_to_remove2"
   ]
  },
  {
   "cell_type": "code",
   "execution_count": 119,
   "id": "2445e604",
   "metadata": {},
   "outputs": [
    {
     "name": "stdout",
     "output_type": "stream",
     "text": [
      "Data size before dropping minority region categories: (164401, 32)\n",
      "Data size after dropping minority region categories: (163811, 32)\n"
     ]
    }
   ],
   "source": [
    "print(\"Data size before dropping minority region categories:\", data_df.shape)\n",
    "data_df.drop(data_df[data_df['Region'].isin(cat_to_remove2)].index, inplace=True)\n",
    "print(\"Data size after dropping minority region categories:\", data_df.shape)"
   ]
  },
  {
   "cell_type": "code",
   "execution_count": 120,
   "id": "0b02502b",
   "metadata": {},
   "outputs": [
    {
     "data": {
      "text/plain": [
       "Pinecrest               8\n",
       "Phillipsville           8\n",
       "Mira Loma               8\n",
       "Seeley                  8\n",
       "Bay Point               8\n",
       "Burson                  8\n",
       "San Lucas               8\n",
       "Cantua Creek            8\n",
       "Ludlow                  8\n",
       "Tomales                 8\n",
       "Pt Arena                8\n",
       "Weott                   8\n",
       "Agua Dulce              8\n",
       "Brooks                  8\n",
       "Drytown                 7\n",
       "Ravendale               7\n",
       "Pahrump                 7\n",
       "Callahan                7\n",
       "Westley                 7\n",
       "Comptche                7\n",
       "Amargosa Valley         7\n",
       "Port Costa              7\n",
       "Los Angeles City        7\n",
       "Wendel                  7\n",
       "Bermuda Dunes           7\n",
       "Hyampom                 7\n",
       "Palos Verdes Estates    7\n",
       "Leggett                 7\n",
       "Loma Mar                7\n",
       "Woody                   7\n",
       "Nipton                  7\n",
       "Rumsey                  6\n",
       "Camp Connell            6\n",
       "Navarro                 6\n",
       "Butte Meadows           6\n",
       "South Dos Palos         6\n",
       "Blairsden Graeagle      6\n",
       "Lennox                  6\n",
       "Sherwood Forest         6\n",
       "Valley Glen             6\n",
       "Belvedere               6\n",
       "Piedmont                6\n",
       "Yolo                    6\n",
       "Big Oak Flat            6\n",
       "Fort Bidwell            6\n",
       "Knightsen               6\n",
       "Mcfarland               6\n",
       "Butte City              6\n",
       "Red Mountain            6\n",
       "Badger                  6\n",
       "Name: Region, dtype: Int64"
      ]
     },
     "execution_count": 120,
     "metadata": {},
     "output_type": "execute_result"
    }
   ],
   "source": [
    "counts_reg2 = data_df['Region'].astype('string').value_counts()\n",
    "counts_reg2.tail(50)"
   ]
  },
  {
   "cell_type": "markdown",
   "id": "a73ae74a",
   "metadata": {},
   "source": [
    "I chose not to merge any categories as these does not indicate major categories but regions. I removed any region containing less than 5 entries because from the histograms it seemed like 5 indicates a good boundary as the value counts after 5 seem to be close between 5-10 counts. But I chose not to merge any because I do not want to lose geographical information."
   ]
  },
  {
   "cell_type": "markdown",
   "id": "568a4fe6",
   "metadata": {},
   "source": [
    "**analyze \"Elementary School\"**"
   ]
  },
  {
   "cell_type": "code",
   "execution_count": 121,
   "id": "c1ab4fc2",
   "metadata": {},
   "outputs": [
    {
     "data": {
      "text/plain": [
       "Daniel Webster Elementary School     1344\n",
       "Sherman Elementary School             960\n",
       "Laurel Elementary School              859\n",
       "Warner Avenue Elementary School       833\n",
       "McKinley Elementary School            794\n",
       "                                     ... \n",
       "Fletcher Walker Elementary School       0\n",
       "El Nido Elementary School               0\n",
       "Honeydew Elementary School              0\n",
       "Grand Island Elementary School          0\n",
       "Travis Elementary School                0\n",
       "Name: Elementary School, Length: 3643, dtype: int64"
      ]
     },
     "execution_count": 121,
     "metadata": {},
     "output_type": "execute_result"
    }
   ],
   "source": [
    "data_df['Elementary School'].value_counts() "
   ]
  },
  {
   "cell_type": "code",
   "execution_count": 122,
   "id": "cf5aa52c",
   "metadata": {},
   "outputs": [
    {
     "data": {
      "text/plain": [
       "array([1344,  960,  859, ...,    0,    0,    0])"
      ]
     },
     "execution_count": 122,
     "metadata": {},
     "output_type": "execute_result"
    }
   ],
   "source": [
    "es_val = data_df['Elementary School'].value_counts().values\n",
    "es_val"
   ]
  },
  {
   "cell_type": "code",
   "execution_count": 123,
   "id": "5bf2596a",
   "metadata": {},
   "outputs": [
    {
     "data": {
      "text/plain": [
       "(array([1808.,  644.,  228.,  165.,  117.,   64.,   58.,   53.,   45.,\n",
       "          46.]),\n",
       " array([  0.,  10.,  20.,  30.,  40.,  50.,  60.,  70.,  80.,  90., 100.]),\n",
       " <BarContainer object of 10 artists>)"
      ]
     },
     "execution_count": 123,
     "metadata": {},
     "output_type": "execute_result"
    },
    {
     "data": {
      "image/png": "[encoded data removed]",
      "text/plain": [
       "<Figure size 432x288 with 1 Axes>"
      ]
     },
     "metadata": {
      "needs_background": "light"
     },
     "output_type": "display_data"
    }
   ],
   "source": [
    "plt.hist(es_val, range=[0, 100])"
   ]
  },
  {
   "cell_type": "code",
   "execution_count": 129,
   "id": "e985c9d0",
   "metadata": {},
   "outputs": [
    {
     "data": {
      "text/plain": [
       "(array([376., 475., 644., 313., 316., 130., 137.,  61.,  94.,  72.]),\n",
       " array([ 0. ,  2.5,  5. ,  7.5, 10. , 12.5, 15. , 17.5, 20. , 22.5, 25. ]),\n",
       " <BarContainer object of 10 artists>)"
      ]
     },
     "execution_count": 129,
     "metadata": {},
     "output_type": "execute_result"
    },
    {
     "data": {
      "image/png": "[encoded data removed]",
      "text/plain": [
       "<Figure size 432x288 with 1 Axes>"
      ]
     },
     "metadata": {
      "needs_background": "light"
     },
     "output_type": "display_data"
    }
   ],
   "source": [
    "plt.hist(es_val, range=[0, 25])"
   ]
  },
  {
   "cell_type": "code",
   "execution_count": 125,
   "id": "d8590dd1",
   "metadata": {},
   "outputs": [
    {
     "data": {
      "text/plain": [
       "Daniel Webster Elementary School     1344\n",
       "Sherman Elementary School             960\n",
       "Laurel Elementary School              859\n",
       "Warner Avenue Elementary School       833\n",
       "McKinley Elementary School            794\n",
       "                                     ... \n",
       "Fletcher Walker Elementary School       0\n",
       "El Nido Elementary School               0\n",
       "Honeydew Elementary School              0\n",
       "Grand Island Elementary School          0\n",
       "Travis Elementary School                0\n",
       "Name: Elementary School, Length: 3643, dtype: int64"
      ]
     },
     "execution_count": 125,
     "metadata": {},
     "output_type": "execute_result"
    }
   ],
   "source": [
    "counts_es = data_df['Elementary School'].value_counts() \n",
    "counts_es"
   ]
  },
  {
   "cell_type": "code",
   "execution_count": 126,
   "id": "71c3816e",
   "metadata": {},
   "outputs": [
    {
     "data": {
      "text/plain": [
       "Indian Springs Elementary School         1\n",
       "Endeavour Elementary School              1\n",
       "Nixon (Patricia) Elementary School       1\n",
       "Allendale Elementary School              1\n",
       "Pueblo Vista Magnet Elementary School    1\n",
       "Arbolita Elementary School               1\n",
       "Granite Pointe Elementary School         1\n",
       "Ann Street Elementary School             1\n",
       "Mckittrick Elementary School             1\n",
       "Julia B. Morrison Elementary School      1\n",
       "Angier Elementary School                 1\n",
       "Juarez-Lincoln Elementary School         1\n",
       "Don Pedro Elementary School              1\n",
       "Grass Valley Elementary School           1\n",
       "Coronado                                 1\n",
       "Sharp Avenue Elementary School           1\n",
       "White Rock Elementary School             1\n",
       "Tom Maloney Elementary School            1\n",
       "Island Elementary School                 1\n",
       "San Marcos Elementary School             1\n",
       "Spanos (Alex G.) Elementary School       1\n",
       "Raffaello Palla Elementary School        1\n",
       "Garden Village Elementary School         1\n",
       "New Jerusalem Elementary School          1\n",
       "Brookvale Elementary School              1\n",
       "Santa Fe Elementary School               1\n",
       "Ina Arbuckle Elementary School           1\n",
       "Keno Elementary School                   1\n",
       "Carl B. Munck Elementary School          1\n",
       "Lawrence Elementary School               1\n",
       "Lemonwood Elementary School              1\n",
       "Kendall Elementary School                1\n",
       "Highland Pacific Elementary School       1\n",
       "Walter Zimmerman Elementary School       1\n",
       "Webber Elementary School                 1\n",
       "Colony Oak Elementary School             1\n",
       "Cherokee Point Elementary School         1\n",
       "Bethany Elementary School                1\n",
       "Saratoga Elementary School               1\n",
       "Two Rock Elementary School               1\n",
       "Hermosa Drive Elementary School          1\n",
       "Troth Street Elementary School           1\n",
       "Cooley Ranch Elementary School           1\n",
       "Sandra J. Gallardo Elementary School     1\n",
       "Elk Hills Elementary School              0\n",
       "Fletcher Walker Elementary School        0\n",
       "El Nido Elementary School                0\n",
       "Honeydew Elementary School               0\n",
       "Grand Island Elementary School           0\n",
       "Travis Elementary School                 0\n",
       "Name: Elementary School, dtype: int64"
      ]
     },
     "execution_count": 126,
     "metadata": {},
     "output_type": "execute_result"
    }
   ],
   "source": [
    "counts_es.tail(50)"
   ]
  },
  {
   "cell_type": "code",
   "execution_count": 127,
   "id": "445d75a4",
   "metadata": {},
   "outputs": [
    {
     "data": {
      "text/plain": [
       "CategoricalIndex(['Mcpherson Elementary School', 'Bing Wong Elementary School',\n",
       "                  'Golden Hills Elementary School',\n",
       "                  'La Fetra Elementary School', 'Mesquite Elementary School',\n",
       "                  'Olive Street Elementary School',\n",
       "                  'Dunsmore Elementary School',\n",
       "                  'Alice Birney Elementary School',\n",
       "                  'La Mirada Elementary School',\n",
       "                  'Jack London Elementary School',\n",
       "                  ...\n",
       "                  'Hermosa Drive Elementary School',\n",
       "                  'Troth Street Elementary School',\n",
       "                  'Cooley Ranch Elementary School',\n",
       "                  'Sandra J. Gallardo Elementary School',\n",
       "                  'Elk Hills Elementary School',\n",
       "                  'Fletcher Walker Elementary School',\n",
       "                  'El Nido Elementary School', 'Honeydew Elementary School',\n",
       "                  'Grand Island Elementary School',\n",
       "                  'Travis Elementary School'],\n",
       "                 categories=['A J Mitchell Elementary School', 'A. E. Arnold Elementary School', 'A. J. Cook Elementary School', 'A. J. Dorsa Elementary School', 'A. L. Conner Elementary School', 'Abby Reinke Elementary School', 'Abraham Lincoln Elementary School', 'Acacia Elementary School', ...], ordered=False, dtype='category', length=1935)"
      ]
     },
     "execution_count": 127,
     "metadata": {},
     "output_type": "execute_result"
    }
   ],
   "source": [
    "value_cts3 = data_df['Elementary School'].value_counts()\n",
    "cat_to_remove3 = value_cts3[value_cts3 <= 10].keys()\n",
    "cat_to_remove3"
   ]
  },
  {
   "cell_type": "code",
   "execution_count": 128,
   "id": "4758098c",
   "metadata": {},
   "outputs": [
    {
     "name": "stdout",
     "output_type": "stream",
     "text": [
      "Data size before dropping minority Elementary School categories: (163811, 32)\n",
      "Data size after dropping minority Elementary School categories: (153783, 32)\n"
     ]
    }
   ],
   "source": [
    "print(\"Data size before dropping minority Elementary School categories:\", data_df.shape)\n",
    "data_df.drop(data_df[data_df['Elementary School'].isin(cat_to_remove3)].index, inplace=True)\n",
    "print(\"Data size after dropping minority Elementary School categories:\", data_df.shape)"
   ]
  },
  {
   "cell_type": "code",
   "execution_count": 130,
   "id": "d369eb6d",
   "metadata": {},
   "outputs": [
    {
     "data": {
      "text/plain": [
       "Boulder Ridge Elementary                     11\n",
       "Hidden Valley Elementary School              11\n",
       "Ynez Elementary School                       11\n",
       "San Fernando Elementary School               11\n",
       "Riley Elementary School                      11\n",
       "Robert Semple Elementary School              11\n",
       "Orange Elementary School                     11\n",
       "Richland Elementary                          11\n",
       "Fay Elementary School                        11\n",
       "Cantua Elementary School                     11\n",
       "Laguna Road Elementary School                11\n",
       "H. Clarke Powers Elementary School           11\n",
       "Walnut Canyon Elementary School              11\n",
       "Patterson Elementary School                  11\n",
       "Vinedale Elementary School                   11\n",
       "Chatsworth Park Elementary School            11\n",
       "Sybil N. Crookham Elementary School          11\n",
       "Freese Elementary School                     11\n",
       "Canalino Elementary School                   11\n",
       "John Stallings Elementary School             11\n",
       "Raisin City Elementary School                11\n",
       "Del Obispo Elementary School                 11\n",
       "White Point Elementary School                11\n",
       "Smiley Elementary School                     11\n",
       "Hesperian Elementary School                  11\n",
       "Springbrook Elementary School                11\n",
       "Ivey Ranch Elementary School                 11\n",
       "Onaga Elementary School                      11\n",
       "Lake Forest Elementary School                11\n",
       "Katherine Finchy Elementary School           11\n",
       "Westpark Elementary School                   11\n",
       "O'melveny Elementary School                  11\n",
       "Montara Elementary School                    11\n",
       "Clayton A. Record, Jr., Elementary School    11\n",
       "Pat Butler Elementary School                 11\n",
       "Robert E. Willett Elementary School          11\n",
       "Worthington Elementary School                11\n",
       "Zamorano Elementary School                   11\n",
       "Stockard Coffee Elementary School            11\n",
       "Gregory Gardens Elementary School            11\n",
       "J. Marion Roynon Elementary School           11\n",
       "King Elementary School                       11\n",
       "Mary Farmar Elementary School                11\n",
       "Cold Spring Elementary School                11\n",
       "Stonehurst Avenue Elementary School          11\n",
       "Valley Oaks Elementary School                11\n",
       "Ada Givens Elementary School                 11\n",
       "Citrus Glen Elementary School                11\n",
       "Melville S. Jacobson Elementary School       11\n",
       "Centinela Elementary School                  11\n",
       "Name: Elementary School, dtype: Int64"
      ]
     },
     "execution_count": 130,
     "metadata": {},
     "output_type": "execute_result"
    }
   ],
   "source": [
    "counts_reg3 = data_df['Elementary School'].astype('string').value_counts()\n",
    "counts_reg3.tail(50)"
   ]
  },
  {
   "cell_type": "markdown",
   "id": "8f7527f9",
   "metadata": {},
   "source": [
    "Similar to the Region category, I chose not to merge any elementary school categories as these do not indicate major category titles but individual Elementary School names. I removed any school that contains less than 10 entries because from the histograms it seemed like 10 indicates a good boundary as the value counts after 10 seem to be close between 10-20 counts. But I chose not to merge any because I do not want to lose school name information."
   ]
  },
  {
   "cell_type": "markdown",
   "id": "002eab98",
   "metadata": {},
   "source": [
    "**analyze \"High School\"**"
   ]
  },
  {
   "cell_type": "code",
   "execution_count": 131,
   "id": "e01cf4eb",
   "metadata": {},
   "outputs": [
    {
     "data": {
      "text/plain": [
       "Fairfax Senior High School               3594\n",
       "University Senior High School Charter    3491\n",
       "Independence High School                 2898\n",
       "Harbor High School                       2372\n",
       "Belmont Senior High School               2116\n",
       "                                         ... \n",
       "Ceres High School                           0\n",
       "Murrieta Mesa High School                   0\n",
       "Sierra Vista High School                    0\n",
       "Etiwanda High School                        0\n",
       "Desert Junior-Senior High School            0\n",
       "Name: High School, Length: 946, dtype: int64"
      ]
     },
     "execution_count": 131,
     "metadata": {},
     "output_type": "execute_result"
    }
   ],
   "source": [
    "data_df['High School'].value_counts()"
   ]
  },
  {
   "cell_type": "code",
   "execution_count": 132,
   "id": "18da2603",
   "metadata": {},
   "outputs": [
    {
     "data": {
      "text/plain": [
       "array([3594, 3491, 2898, 2372, 2116, 1721, 1685, 1616, 1586, 1569, 1525,\n",
       "       1420, 1410, 1389, 1388, 1384, 1373, 1357, 1294, 1293, 1265, 1261,\n",
       "       1216, 1188, 1138, 1122, 1104, 1101, 1090, 1008, 1003,  987,  971,\n",
       "        962,  940,  937,  936,  935,  935,  931,  927,  907,  888,  872,\n",
       "        864,  863,  851,  827,  820,  808,  808,  797,  790,  787,  782,\n",
       "        768,  755,  740,  738,  718,  694,  691,  691,  688,  684,  684,\n",
       "        678,  649,  609,  577,  549,  549,  548,  543,  530,  525,  521,\n",
       "        521,  520,  497,  493,  489,  481,  470,  462,  447,  437,  436,\n",
       "        428,  427,  425,  421,  414,  402,  388,  376,  350,  349,  338,\n",
       "        338,  321,  307,  307,  293,  291,  271,  259,  256,  255,  255,\n",
       "        254,  252,  250,  245,  244,  242,  241,  238,  230,  228,  227,\n",
       "        213,  211,  207,  205,  204,  194,  193,  192,  176,  175,  171,\n",
       "        169,  165,  164,  164,  164,  162,  162,  161,  159,  158,  156,\n",
       "        153,  153,  151,  149,  148,  146,  146,  145,  143,  142,  142,\n",
       "        141,  141,  140,  140,  139,  137,  135,  135,  134,  133,  133,\n",
       "        132,  131,  129,  129,  125,  124,  123,  122,  121,  121,  120,\n",
       "        119,  118,  117,  117,  116,  116,  111,  110,  110,  109,  108,\n",
       "        108,  107,  106,  106,  103,  102,  102,  102,  102,  100,  100,\n",
       "        100,  100,  100,   99,   99,   98,   98,   98,   97,   97,   96,\n",
       "         96,   95,   95,   95,   95,   93,   92,   92,   92,   91,   91,\n",
       "         88,   88,   87,   87,   87,   87,   86,   84,   84,   82,   81,\n",
       "         80,   80,   79,   79,   78,   78,   78,   78,   78,   78,   78,\n",
       "         78,   77,   77,   76,   76,   75,   75,   75,   75,   75,   75,\n",
       "         74,   74,   74,   74,   74,   73,   73,   73,   73,   73,   73,\n",
       "         72,   72,   72,   72,   71,   71,   71,   71,   70,   70,   70,\n",
       "         70,   70,   70,   69,   69,   69,   69,   69,   68,   68,   68,\n",
       "         67,   67,   66,   66,   66,   66,   66,   65,   65,   65,   65,\n",
       "         64,   64,   64,   64,   64,   63,   63,   63,   63,   63,   63,\n",
       "         62,   62,   62,   62,   61,   61,   60,   60,   60,   59,   59,\n",
       "         59,   59,   58,   58,   58,   58,   58,   58,   58,   58,   57,\n",
       "         57,   57,   57,   57,   56,   56,   56,   56,   56,   55,   55,\n",
       "         55,   55,   55,   55,   54,   54,   54,   54,   54,   53,   53,\n",
       "         53,   53,   52,   52,   52,   52,   51,   51,   50,   50,   50,\n",
       "         50,   50,   50,   50,   49,   49,   49,   49,   49,   49,   49,\n",
       "         49,   49,   49,   48,   48,   48,   48,   48,   48,   47,   47,\n",
       "         47,   47,   47,   47,   46,   46,   46,   46,   46,   46,   46,\n",
       "         45,   45,   45,   45,   45,   45,   45,   44,   44,   44,   44,\n",
       "         44,   43,   43,   43,   43,   43,   43,   43,   43,   43,   42,\n",
       "         42,   42,   42,   42,   42,   42,   42,   42,   42,   42,   41,\n",
       "         41,   41,   41,   41,   41,   41,   41,   41,   41,   41,   41,\n",
       "         40,   40,   40,   40,   40,   40,   40,   40,   40,   40,   40,\n",
       "         40,   40,   40,   40,   39,   39,   39,   39,   39,   39,   39,\n",
       "         39,   39,   39,   39,   39,   39,   39,   39,   38,   38,   38,\n",
       "         38,   38,   38,   38,   38,   38,   38,   38,   38,   38,   38,\n",
       "         37,   37,   37,   37,   37,   37,   37,   37,   37,   37,   37,\n",
       "         37,   36,   36,   36,   36,   36,   36,   36,   36,   36,   36,\n",
       "         35,   35,   35,   35,   35,   35,   35,   35,   35,   35,   35,\n",
       "         35,   35,   35,   35,   35,   34,   34,   34,   34,   34,   34,\n",
       "         34,   33,   33,   33,   33,   33,   33,   33,   33,   33,   32,\n",
       "         32,   32,   32,   32,   32,   32,   32,   32,   31,   31,   31,\n",
       "         31,   31,   31,   31,   31,   30,   30,   30,   30,   30,   30,\n",
       "         30,   30,   30,   29,   29,   29,   29,   29,   29,   29,   29,\n",
       "         29,   29,   29,   29,   29,   28,   28,   28,   28,   28,   28,\n",
       "         28,   28,   28,   28,   28,   28,   28,   28,   28,   27,   27,\n",
       "         27,   27,   27,   26,   26,   26,   26,   26,   26,   26,   26,\n",
       "         26,   26,   26,   25,   25,   25,   25,   25,   25,   25,   25,\n",
       "         24,   24,   24,   24,   24,   24,   24,   24,   24,   24,   24,\n",
       "         24,   24,   24,   24,   24,   23,   23,   23,   23,   23,   23,\n",
       "         23,   23,   22,   22,   22,   22,   22,   22,   22,   22,   22,\n",
       "         22,   21,   21,   21,   21,   21,   21,   21,   20,   20,   20,\n",
       "         20,   20,   20,   20,   20,   20,   20,   20,   20,   20,   20,\n",
       "         19,   19,   19,   19,   19,   19,   18,   18,   18,   18,   18,\n",
       "         18,   18,   18,   18,   17,   17,   17,   17,   17,   17,   17,\n",
       "         17,   16,   16,   16,   16,   16,   16,   16,   16,   16,   15,\n",
       "         15,   15,   15,   15,   15,   15,   15,   15,   15,   15,   15,\n",
       "         15,   15,   15,   15,   15,   15,   14,   14,   14,   14,   14,\n",
       "         14,   14,   14,   14,   14,   14,   14,   14,   13,   13,   13,\n",
       "         13,   13,   13,   13,   13,   13,   13,   13,   13,   13,   13,\n",
       "         13,   13,   13,   12,   12,   12,   12,   12,   12,   12,   12,\n",
       "         12,   12,   12,   12,   12,   12,   11,   11,   11,   11,   11,\n",
       "         11,   11,   11,   11,   11,   11,   11,   11,   11,   10,   10,\n",
       "         10,   10,   10,   10,   10,   10,   10,   10,   10,    9,    9,\n",
       "          9,    9,    9,    8,    8,    8,    8,    8,    8,    8,    8,\n",
       "          8,    8,    8,    8,    8,    7,    7,    7,    7,    7,    7,\n",
       "          7,    6,    6,    6,    6,    6,    6,    6,    6,    6,    6,\n",
       "          6,    6,    6,    6,    5,    5,    5,    5,    5,    5,    5,\n",
       "          5,    5,    5,    5,    5,    5,    5,    4,    4,    4,    4,\n",
       "          4,    4,    4,    4,    4,    4,    4,    4,    4,    4,    3,\n",
       "          3,    3,    3,    3,    3,    3,    3,    3,    2,    2,    2,\n",
       "          2,    2,    2,    2,    2,    2,    2,    2,    2,    1,    1,\n",
       "          1,    1,    1,    1,    1,    1,    1,    1,    1,    1,    1,\n",
       "          1,    1,    1,    1,    1,    1,    1,    1,    1,    1,    1,\n",
       "          1,    1,    1,    1,    0,    0,    0,    0,    0,    0,    0,\n",
       "          0,    0,    0,    0,    0,    0,    0,    0,    0,    0,    0,\n",
       "          0,    0,    0,    0,    0,    0,    0,    0,    0,    0,    0,\n",
       "          0,    0,    0,    0,    0,    0,    0,    0,    0,    0,    0])"
      ]
     },
     "execution_count": 132,
     "metadata": {},
     "output_type": "execute_result"
    }
   ],
   "source": [
    "hs_val = data_df['High School'].value_counts().values\n",
    "hs_val"
   ]
  },
  {
   "cell_type": "code",
   "execution_count": 133,
   "id": "1845f619",
   "metadata": {},
   "outputs": [
    {
     "data": {
      "text/plain": [
       "(array([156., 119., 107., 109.,  88.,  50.,  39.,  45.,  13.,  24.]),\n",
       " array([  0.,  10.,  20.,  30.,  40.,  50.,  60.,  70.,  80.,  90., 100.]),\n",
       " <BarContainer object of 10 artists>)"
      ]
     },
     "execution_count": 133,
     "metadata": {},
     "output_type": "execute_result"
    },
    {
     "data": {
      "image/png": "[encoded data removed]",
      "text/plain": [
       "<Figure size 432x288 with 1 Axes>"
      ]
     },
     "metadata": {
      "needs_background": "light"
     },
     "output_type": "display_data"
    }
   ],
   "source": [
    "plt.hist(hs_val, range=[0, 100])"
   ]
  },
  {
   "cell_type": "code",
   "execution_count": 137,
   "id": "8a4aaf09",
   "metadata": {},
   "outputs": [
    {
     "data": {
      "text/plain": [
       "(array([103.,  53.,  69.,  50.,  55.,  52.,  42.,  67.,  52.,  43.]),\n",
       " array([ 0.,  5., 10., 15., 20., 25., 30., 35., 40., 45., 50.]),\n",
       " <BarContainer object of 10 artists>)"
      ]
     },
     "execution_count": 137,
     "metadata": {},
     "output_type": "execute_result"
    },
    {
     "data": {
      "image/png": "[encoded data removed]",
      "text/plain": [
       "<Figure size 432x288 with 1 Axes>"
      ]
     },
     "metadata": {
      "needs_background": "light"
     },
     "output_type": "display_data"
    }
   ],
   "source": [
    "plt.hist(hs_val, range=[0, 50])"
   ]
  },
  {
   "cell_type": "code",
   "execution_count": 138,
   "id": "a2d95d8e",
   "metadata": {},
   "outputs": [
    {
     "data": {
      "text/plain": [
       "Fairfax Senior High School               3594\n",
       "University Senior High School Charter    3491\n",
       "Independence High School                 2898\n",
       "Harbor High School                       2372\n",
       "Belmont Senior High School               2116\n",
       "                                         ... \n",
       "Ceres High School                           0\n",
       "Murrieta Mesa High School                   0\n",
       "Sierra Vista High School                    0\n",
       "Etiwanda High School                        0\n",
       "Desert Junior-Senior High School            0\n",
       "Name: High School, Length: 946, dtype: int64"
      ]
     },
     "execution_count": 138,
     "metadata": {},
     "output_type": "execute_result"
    }
   ],
   "source": [
    "counts_hs = data_df['High School'].value_counts() \n",
    "counts_hs"
   ]
  },
  {
   "cell_type": "code",
   "execution_count": 139,
   "id": "03ef6f78",
   "metadata": {},
   "outputs": [
    {
     "data": {
      "text/plain": [
       "Imperial High School                                       1\n",
       "Folsom High School                                         1\n",
       "Da Vinci Communications High                               1\n",
       "Out of Maricopa Cnty                                       1\n",
       "Norwalk High School                                        1\n",
       "John H. Glenn High School                                  1\n",
       "Nevada Union High School                                   1\n",
       "North Valley High School                                   1\n",
       "Felicitas And Gonzalo Mendez High                          1\n",
       "Fontana High School                                        1\n",
       "Florin High School                                         0\n",
       "Hillcrest High School                                      0\n",
       "Panorama High School                                       0\n",
       "Woodcreek High School                                      0\n",
       "Fountain Valley High School                                0\n",
       "Arleta High School                                         0\n",
       "Monterey Trail High School                                 0\n",
       "Tennyson High School                                       0\n",
       "Golden West High School                                    0\n",
       "Grace M. Davis High School                                 0\n",
       "Great Oak High School                                      0\n",
       "Alliance Margaret M. Bloomfield Technology Academy High    0\n",
       "Metwest High School                                        0\n",
       "Rialto High School                                         0\n",
       "Henley High School                                         0\n",
       "Sheldon High School                                        0\n",
       "Etna Union High School                                     0\n",
       "Pioneer Valley High School                                 0\n",
       "Eisenhower Senior High School                              0\n",
       "Rubidoux High School                                       0\n",
       "Pahrump Valley High School                                 0\n",
       "Soledad High School                                        0\n",
       "Coast High School                                          0\n",
       "Ruben S. Ayala High School                                 0\n",
       "Diamond Ranch High School                                  0\n",
       "Citrus Valley High School                                  0\n",
       "Don Antonio Lugo High School                               0\n",
       "Douglas County High School                                 0\n",
       "Charles D. Jones Junior High School                        0\n",
       "Calaveras High School                                      0\n",
       "South Fork Junior - Senior High School                     0\n",
       "Weston Ranch High School                                   0\n",
       "El Diamante High School                                    0\n",
       "Westwood High School                                       0\n",
       "Whale Gulch High School                                    0\n",
       "Ceres High School                                          0\n",
       "Murrieta Mesa High School                                  0\n",
       "Sierra Vista High School                                   0\n",
       "Etiwanda High School                                       0\n",
       "Desert Junior-Senior High School                           0\n",
       "Name: High School, dtype: int64"
      ]
     },
     "execution_count": 139,
     "metadata": {},
     "output_type": "execute_result"
    }
   ],
   "source": [
    "counts_hs.tail(50)"
   ]
  },
  {
   "cell_type": "code",
   "execution_count": 140,
   "id": "a39fec69",
   "metadata": {},
   "outputs": [
    {
     "data": {
      "text/plain": [
       "CategoricalIndex(['Tokay High School', 'Corning High School',\n",
       "                  'Hamilton High School', 'Manteca High School',\n",
       "                  'Elk Grove High School', 'Sunnyside High School',\n",
       "                  'King-Chavez Community High School', 'Rocklin High School',\n",
       "                  'Silver Springs High (Continuation) School',\n",
       "                  'Bassett Senior High School',\n",
       "                  ...\n",
       "                  'South Fork Junior - Senior High School',\n",
       "                  'Weston Ranch High School', 'El Diamante High School',\n",
       "                  'Westwood High School', 'Whale Gulch High School',\n",
       "                  'Ceres High School', 'Murrieta Mesa High School',\n",
       "                  'Sierra Vista High School', 'Etiwanda High School',\n",
       "                  'Desert Junior-Senior High School'],\n",
       "                 categories=['Abraham Lincoln High School', 'Abraham Lincoln Senior High School', 'Academy For Multiligual Arts And Science At Mervyn M. Dymally High', 'Acalanes High School', 'Adelanto High School', 'Adolfo Camarillo High School', 'Adrian Wilcox High School', 'Agoura High School', ...], ordered=False, dtype='category', length=225)"
      ]
     },
     "execution_count": 140,
     "metadata": {},
     "output_type": "execute_result"
    }
   ],
   "source": [
    "value_cts4 = data_df['High School'].value_counts()\n",
    "cat_to_remove4 = value_cts4[value_cts4 < 15].keys()\n",
    "cat_to_remove4"
   ]
  },
  {
   "cell_type": "code",
   "execution_count": 141,
   "id": "392f4c58",
   "metadata": {},
   "outputs": [
    {
     "name": "stdout",
     "output_type": "stream",
     "text": [
      "Data size before dropping minority High School categories: (153783, 32)\n",
      "Data size after dropping minority High School categories: (152461, 32)\n"
     ]
    }
   ],
   "source": [
    "print(\"Data size before dropping minority High School categories:\", data_df.shape)\n",
    "data_df.drop(data_df[data_df['High School'].isin(cat_to_remove4)].index, inplace=True)\n",
    "print(\"Data size after dropping minority High School categories:\", data_df.shape)"
   ]
  },
  {
   "cell_type": "code",
   "execution_count": 143,
   "id": "17516583",
   "metadata": {},
   "outputs": [
    {
     "data": {
      "text/plain": [
       "Jurupa Valley High School             19\n",
       "Mclane High School                    19\n",
       "Riverbank High School                 19\n",
       "Arroyo Valley High School             19\n",
       "Chaffey High School                   19\n",
       "Del Campo High School                 19\n",
       "Mira Costa High School                18\n",
       "Cajon High School                     18\n",
       "Arlington High School                 18\n",
       "Analy High School                     18\n",
       "Loara High School                     18\n",
       "Jordan High School                    18\n",
       "Cosumnes Oaks High School             18\n",
       "Frontier High School                  18\n",
       "Lynwood High School                   18\n",
       "Oroville High School                  17\n",
       "San Lorenzo High School               17\n",
       "Antioch High School                   17\n",
       "Lindhurst High School                 17\n",
       "Woodlake High School                  17\n",
       "Parlier High School                   17\n",
       "Selma High School                     17\n",
       "Seaside High School                   17\n",
       "Rosemead High School                  16\n",
       "Armijo High School                    16\n",
       "Southwest Senior High School          16\n",
       "Castlemont High                       16\n",
       "Simi Valley High School               16\n",
       "Antelope Valley High School           16\n",
       "Almanor High (Continuation) School    16\n",
       "East Bakersfield High School          16\n",
       "Washington High School                16\n",
       "Mission Viejo High School             15\n",
       "High Desert Community Day School      15\n",
       "Cypress High School                   15\n",
       "Oakland High School                   15\n",
       "Oak Ridge High School                 15\n",
       "William Workman High School           15\n",
       "Casa Roble Fundamental High School    15\n",
       "Bloomington High School               15\n",
       "Lompoc High School                    15\n",
       "Temple City High School               15\n",
       "Mountain Empire High School           15\n",
       "El Capitan High School                15\n",
       "Hanford High School                   15\n",
       "Alhambra Senior High School           15\n",
       "Fairfield High School                 15\n",
       "Indio High School                     15\n",
       "Citrus Hill High School               15\n",
       "Segerstrom High School                15\n",
       "Name: High School, dtype: Int64"
      ]
     },
     "execution_count": 143,
     "metadata": {},
     "output_type": "execute_result"
    }
   ],
   "source": [
    "counts_reg4 = data_df['High School'].astype('string').value_counts()\n",
    "counts_reg4.tail(50)"
   ]
  },
  {
   "cell_type": "markdown",
   "id": "b5d2b7a4",
   "metadata": {},
   "source": [
    "Similar to the Region and Elementary School categories, I chose not to merge any high school titles as these do not indicate major category titles but individual high school names. I removed any school that contains less than 15 entries. This time, instead of trusting the histogram values, I decided to follow the array that contains value counts because I had a clear view of the counts. Again, I chose not to merge any because I do not want to lose school name information."
   ]
  },
  {
   "cell_type": "markdown",
   "id": "fa2c6c43",
   "metadata": {},
   "source": [
    "**Analyze Home type**"
   ]
  },
  {
   "cell_type": "code",
   "execution_count": 144,
   "id": "218d34a9",
   "metadata": {},
   "outputs": [
    {
     "data": {
      "text/plain": [
       "SingleFamily          93683\n",
       "Condo                 26401\n",
       "MultiFamily            7038\n",
       "Townhouse              6630\n",
       "Unknown                5652\n",
       "MobileManufactured     3370\n",
       "Apartment              1905\n",
       "Cooperative             176\n",
       "Name: Home type, dtype: int64"
      ]
     },
     "execution_count": 144,
     "metadata": {},
     "output_type": "execute_result"
    }
   ],
   "source": [
    "# The category distribution for \"Home type\" seems reasonable \n",
    "# We will just use it as it is without further processing\n",
    "data_df['Home type'].value_counts()"
   ]
  },
  {
   "cell_type": "code",
   "execution_count": null,
   "id": "d214f457",
   "metadata": {},
   "outputs": [],
   "source": []
  },
  {
   "cell_type": "markdown",
   "id": "dc9388c6",
   "metadata": {},
   "source": [
    "#### 2.4: process numerical data"
   ]
  },
  {
   "cell_type": "code",
   "execution_count": 145,
   "id": "e40adf41",
   "metadata": {},
   "outputs": [],
   "source": [
    "num_col = ['Sold Price', 'Bathrooms', 'Total interior livable area', 'Total spaces', 'Garage spaces', \n",
    "           'Elementary School Score', 'Elementary School Distance', 'High School Score', 'High School Distance', \n",
    "           'Lot size', 'Tax assessed value', 'Annual tax amount', 'Listed Price']"
   ]
  },
  {
   "cell_type": "markdown",
   "id": "22bb38be",
   "metadata": {},
   "source": [
    "Convert currency from string format (e.g., $1,000,000) to float. "
   ]
  },
  {
   "cell_type": "code",
   "execution_count": 146,
   "id": "bc4b497d",
   "metadata": {},
   "outputs": [],
   "source": [
    "currency = ['Sold Price', 'Listed Price', 'Tax assessed value', 'Annual tax amount']\n",
    "for c in currency:\n",
    "    data_df[c] = data_df[c].replace(r'[$,-]', '', regex=True).replace(r'^\\s*$', np.nan, regex=True).astype(float)"
   ]
  },
  {
   "cell_type": "markdown",
   "id": "059f2021",
   "metadata": {},
   "source": [
    "Convert areas from string format such as 1000 sqft and 1 Acres to float as well. "
   ]
  },
  {
   "cell_type": "code",
   "execution_count": 147,
   "id": "13d67c9d",
   "metadata": {},
   "outputs": [],
   "source": [
    "areas = ['Total interior livable area', 'Lot size']\n",
    "for c in areas:\n",
    "    # attribute measured by Acres\n",
    "    acres = data_df[c].str.contains('Acres') == True\n",
    "    \n",
    "    # e.g., 13,168 sqrt --> 13168\n",
    "    col = data_df[c].replace(r'\\b sqft\\b|\\b Acres\\b|\\b,\\b','', regex=True).astype(float)\n",
    "    \n",
    "    # Acres --> sqft\n",
    "    col[acres] *= 43560\n",
    "    \n",
    "    data_df[c] = col"
   ]
  },
  {
   "cell_type": "markdown",
   "id": "e4fed403",
   "metadata": {},
   "source": [
    "Now we can convert the numerical columns to the \"float\" data type "
   ]
  },
  {
   "cell_type": "code",
   "execution_count": 148,
   "id": "a42f9ede",
   "metadata": {},
   "outputs": [
    {
     "data": {
      "text/html": [
       "<div>\n",
       "<style scoped>\n",
       "    .dataframe tbody tr th:only-of-type {\n",
       "        vertical-align: middle;\n",
       "    }\n",
       "\n",
       "    .dataframe tbody tr th {\n",
       "        vertical-align: top;\n",
       "    }\n",
       "\n",
       "    .dataframe thead th {\n",
       "        text-align: right;\n",
       "    }\n",
       "</style>\n",
       "<table border=\"1\" class=\"dataframe\">\n",
       "  <thead>\n",
       "    <tr style=\"text-align: right;\">\n",
       "      <th></th>\n",
       "      <th>Sold Price</th>\n",
       "      <th>Bathrooms</th>\n",
       "      <th>Total interior livable area</th>\n",
       "      <th>Total spaces</th>\n",
       "      <th>Garage spaces</th>\n",
       "      <th>Elementary School Score</th>\n",
       "      <th>Elementary School Distance</th>\n",
       "      <th>High School Score</th>\n",
       "      <th>High School Distance</th>\n",
       "      <th>Lot size</th>\n",
       "      <th>Tax assessed value</th>\n",
       "      <th>Annual tax amount</th>\n",
       "      <th>Listed Price</th>\n",
       "    </tr>\n",
       "  </thead>\n",
       "  <tbody>\n",
       "    <tr>\n",
       "      <th>0</th>\n",
       "      <td>2000000.0</td>\n",
       "      <td>2.0</td>\n",
       "      <td>2000.0</td>\n",
       "      <td>0.0</td>\n",
       "      <td>0.0</td>\n",
       "      <td>6.0</td>\n",
       "      <td>0.7</td>\n",
       "      <td>6.0</td>\n",
       "      <td>1.4</td>\n",
       "      <td>NaN</td>\n",
       "      <td>NaN</td>\n",
       "      <td>NaN</td>\n",
       "      <td>NaN</td>\n",
       "    </tr>\n",
       "    <tr>\n",
       "      <th>1</th>\n",
       "      <td>2100000.0</td>\n",
       "      <td>3.0</td>\n",
       "      <td>2806.0</td>\n",
       "      <td>2.0</td>\n",
       "      <td>2.0</td>\n",
       "      <td>9.0</td>\n",
       "      <td>0.4</td>\n",
       "      <td>9.0</td>\n",
       "      <td>1.2</td>\n",
       "      <td>13168.0</td>\n",
       "      <td>1829308.0</td>\n",
       "      <td>22330.0</td>\n",
       "      <td>1950000.0</td>\n",
       "    </tr>\n",
       "    <tr>\n",
       "      <th>2</th>\n",
       "      <td>1125000.0</td>\n",
       "      <td>2.0</td>\n",
       "      <td>1517.0</td>\n",
       "      <td>2.0</td>\n",
       "      <td>2.0</td>\n",
       "      <td>4.0</td>\n",
       "      <td>0.6</td>\n",
       "      <td>6.0</td>\n",
       "      <td>0.8</td>\n",
       "      <td>4795.0</td>\n",
       "      <td>1125000.0</td>\n",
       "      <td>13472.0</td>\n",
       "      <td>1299888.0</td>\n",
       "    </tr>\n",
       "    <tr>\n",
       "      <th>3</th>\n",
       "      <td>36250000.0</td>\n",
       "      <td>0.0</td>\n",
       "      <td>98052.0</td>\n",
       "      <td>175.0</td>\n",
       "      <td>175.0</td>\n",
       "      <td>7.0</td>\n",
       "      <td>0.4</td>\n",
       "      <td>9.0</td>\n",
       "      <td>0.9</td>\n",
       "      <td>178596.0</td>\n",
       "      <td>14521205.0</td>\n",
       "      <td>175211.0</td>\n",
       "      <td>NaN</td>\n",
       "    </tr>\n",
       "    <tr>\n",
       "      <th>4</th>\n",
       "      <td>140000.0</td>\n",
       "      <td>NaN</td>\n",
       "      <td>NaN</td>\n",
       "      <td>NaN</td>\n",
       "      <td>NaN</td>\n",
       "      <td>3.0</td>\n",
       "      <td>23.8</td>\n",
       "      <td>5.0</td>\n",
       "      <td>25.8</td>\n",
       "      <td>NaN</td>\n",
       "      <td>NaN</td>\n",
       "      <td>NaN</td>\n",
       "      <td>NaN</td>\n",
       "    </tr>\n",
       "    <tr>\n",
       "      <th>...</th>\n",
       "      <td>...</td>\n",
       "      <td>...</td>\n",
       "      <td>...</td>\n",
       "      <td>...</td>\n",
       "      <td>...</td>\n",
       "      <td>...</td>\n",
       "      <td>...</td>\n",
       "      <td>...</td>\n",
       "      <td>...</td>\n",
       "      <td>...</td>\n",
       "      <td>...</td>\n",
       "      <td>...</td>\n",
       "      <td>...</td>\n",
       "    </tr>\n",
       "    <tr>\n",
       "      <th>164939</th>\n",
       "      <td>563527.0</td>\n",
       "      <td>2.0</td>\n",
       "      <td>959.0</td>\n",
       "      <td>0.0</td>\n",
       "      <td>0.0</td>\n",
       "      <td>3.0</td>\n",
       "      <td>2.5</td>\n",
       "      <td>2.0</td>\n",
       "      <td>1.3</td>\n",
       "      <td>2178.0</td>\n",
       "      <td>486031.0</td>\n",
       "      <td>8243.0</td>\n",
       "      <td>548000.0</td>\n",
       "    </tr>\n",
       "    <tr>\n",
       "      <th>164940</th>\n",
       "      <td>2650000.0</td>\n",
       "      <td>3.0</td>\n",
       "      <td>2400.0</td>\n",
       "      <td>2.0</td>\n",
       "      <td>2.0</td>\n",
       "      <td>6.0</td>\n",
       "      <td>0.5</td>\n",
       "      <td>NaN</td>\n",
       "      <td>NaN</td>\n",
       "      <td>53578.8</td>\n",
       "      <td>2757060.0</td>\n",
       "      <td>33279.0</td>\n",
       "      <td>2750000.0</td>\n",
       "    </tr>\n",
       "    <tr>\n",
       "      <th>164941</th>\n",
       "      <td>1357000.0</td>\n",
       "      <td>NaN</td>\n",
       "      <td>1355.0</td>\n",
       "      <td>2.0</td>\n",
       "      <td>2.0</td>\n",
       "      <td>7.0</td>\n",
       "      <td>1.2</td>\n",
       "      <td>8.0</td>\n",
       "      <td>2.1</td>\n",
       "      <td>1651.0</td>\n",
       "      <td>1356661.0</td>\n",
       "      <td>16427.0</td>\n",
       "      <td>NaN</td>\n",
       "    </tr>\n",
       "    <tr>\n",
       "      <th>164942</th>\n",
       "      <td>1400000.0</td>\n",
       "      <td>3.0</td>\n",
       "      <td>2227.0</td>\n",
       "      <td>0.0</td>\n",
       "      <td>0.0</td>\n",
       "      <td>7.0</td>\n",
       "      <td>2.0</td>\n",
       "      <td>4.0</td>\n",
       "      <td>6.2</td>\n",
       "      <td>5401.0</td>\n",
       "      <td>272767.0</td>\n",
       "      <td>4165.0</td>\n",
       "      <td>1398000.0</td>\n",
       "    </tr>\n",
       "    <tr>\n",
       "      <th>164943</th>\n",
       "      <td>225000.0</td>\n",
       "      <td>2.0</td>\n",
       "      <td>1906.0</td>\n",
       "      <td>0.0</td>\n",
       "      <td>0.0</td>\n",
       "      <td>3.0</td>\n",
       "      <td>0.3</td>\n",
       "      <td>7.0</td>\n",
       "      <td>5.1</td>\n",
       "      <td>7405.0</td>\n",
       "      <td>324003.0</td>\n",
       "      <td>4619.0</td>\n",
       "      <td>NaN</td>\n",
       "    </tr>\n",
       "  </tbody>\n",
       "</table>\n",
       "<p>152461 rows × 13 columns</p>\n",
       "</div>"
      ],
      "text/plain": [
       "        Sold Price  Bathrooms  Total interior livable area  Total spaces  \\\n",
       "0        2000000.0        2.0                       2000.0           0.0   \n",
       "1        2100000.0        3.0                       2806.0           2.0   \n",
       "2        1125000.0        2.0                       1517.0           2.0   \n",
       "3       36250000.0        0.0                      98052.0         175.0   \n",
       "4         140000.0        NaN                          NaN           NaN   \n",
       "...            ...        ...                          ...           ...   \n",
       "164939    563527.0        2.0                        959.0           0.0   \n",
       "164940   2650000.0        3.0                       2400.0           2.0   \n",
       "164941   1357000.0        NaN                       1355.0           2.0   \n",
       "164942   1400000.0        3.0                       2227.0           0.0   \n",
       "164943    225000.0        2.0                       1906.0           0.0   \n",
       "\n",
       "        Garage spaces  Elementary School Score  Elementary School Distance  \\\n",
       "0                 0.0                      6.0                         0.7   \n",
       "1                 2.0                      9.0                         0.4   \n",
       "2                 2.0                      4.0                         0.6   \n",
       "3               175.0                      7.0                         0.4   \n",
       "4                 NaN                      3.0                        23.8   \n",
       "...               ...                      ...                         ...   \n",
       "164939            0.0                      3.0                         2.5   \n",
       "164940            2.0                      6.0                         0.5   \n",
       "164941            2.0                      7.0                         1.2   \n",
       "164942            0.0                      7.0                         2.0   \n",
       "164943            0.0                      3.0                         0.3   \n",
       "\n",
       "        High School Score  High School Distance  Lot size  Tax assessed value  \\\n",
       "0                     6.0                   1.4       NaN                 NaN   \n",
       "1                     9.0                   1.2   13168.0           1829308.0   \n",
       "2                     6.0                   0.8    4795.0           1125000.0   \n",
       "3                     9.0                   0.9  178596.0          14521205.0   \n",
       "4                     5.0                  25.8       NaN                 NaN   \n",
       "...                   ...                   ...       ...                 ...   \n",
       "164939                2.0                   1.3    2178.0            486031.0   \n",
       "164940                NaN                   NaN   53578.8           2757060.0   \n",
       "164941                8.0                   2.1    1651.0           1356661.0   \n",
       "164942                4.0                   6.2    5401.0            272767.0   \n",
       "164943                7.0                   5.1    7405.0            324003.0   \n",
       "\n",
       "        Annual tax amount  Listed Price  \n",
       "0                     NaN           NaN  \n",
       "1                 22330.0     1950000.0  \n",
       "2                 13472.0     1299888.0  \n",
       "3                175211.0           NaN  \n",
       "4                     NaN           NaN  \n",
       "...                   ...           ...  \n",
       "164939             8243.0      548000.0  \n",
       "164940            33279.0     2750000.0  \n",
       "164941            16427.0           NaN  \n",
       "164942             4165.0     1398000.0  \n",
       "164943             4619.0           NaN  \n",
       "\n",
       "[152461 rows x 13 columns]"
      ]
     },
     "execution_count": 148,
     "metadata": {},
     "output_type": "execute_result"
    }
   ],
   "source": [
    "data_df[num_col] = data_df[num_col].astype('float')\n",
    "data_df[num_col]"
   ]
  },
  {
   "cell_type": "code",
   "execution_count": 149,
   "id": "3cfe1a09",
   "metadata": {},
   "outputs": [
    {
     "data": {
      "text/plain": [
       "Sold Price                     float64\n",
       "Bathrooms                      float64\n",
       "Total interior livable area    float64\n",
       "Total spaces                   float64\n",
       "Garage spaces                  float64\n",
       "Elementary School Score        float64\n",
       "Elementary School Distance     float64\n",
       "High School Score              float64\n",
       "High School Distance           float64\n",
       "Lot size                       float64\n",
       "Tax assessed value             float64\n",
       "Annual tax amount              float64\n",
       "Listed Price                   float64\n",
       "dtype: object"
      ]
     },
     "execution_count": 149,
     "metadata": {},
     "output_type": "execute_result"
    }
   ],
   "source": [
    "# the following columns now all have the numerical data types\n",
    "data_df[num_col].dtypes"
   ]
  },
  {
   "cell_type": "markdown",
   "id": "6fd5a1c2",
   "metadata": {},
   "source": [
    "Before moving forward, we will first deal with columns that contain missing values"
   ]
  },
  {
   "cell_type": "code",
   "execution_count": 150,
   "id": "606a19c0",
   "metadata": {},
   "outputs": [
    {
     "data": {
      "text/plain": [
       "82"
      ]
     },
     "execution_count": 150,
     "metadata": {},
     "output_type": "execute_result"
    }
   ],
   "source": [
    "# check the missing values of \"Sold Price\"\n",
    "data_df['Sold Price'].isna().sum()"
   ]
  },
  {
   "cell_type": "code",
   "execution_count": 151,
   "id": "5ab8034d",
   "metadata": {},
   "outputs": [],
   "source": [
    "# we will drop samples where the \"Sold Price\" is missing\n",
    "data_df.drop(data_df[data_df['Sold Price'].isna()].index, inplace=True)"
   ]
  },
  {
   "cell_type": "code",
   "execution_count": 152,
   "id": "a40cc7ad",
   "metadata": {},
   "outputs": [],
   "source": [
    "# for the other numerical columns, we will fill in missing values with the mean of that column\n",
    "for col in num_col:\n",
    "    if col != \"Sold Price\":\n",
    "        data_df[col].fillna(value = data_df[col].mean(), inplace=True)"
   ]
  },
  {
   "cell_type": "code",
   "execution_count": 153,
   "id": "3d2b223c",
   "metadata": {},
   "outputs": [
    {
     "data": {
      "text/html": [
       "<div>\n",
       "<style scoped>\n",
       "    .dataframe tbody tr th:only-of-type {\n",
       "        vertical-align: middle;\n",
       "    }\n",
       "\n",
       "    .dataframe tbody tr th {\n",
       "        vertical-align: top;\n",
       "    }\n",
       "\n",
       "    .dataframe thead th {\n",
       "        text-align: right;\n",
       "    }\n",
       "</style>\n",
       "<table border=\"1\" class=\"dataframe\">\n",
       "  <thead>\n",
       "    <tr style=\"text-align: right;\">\n",
       "      <th></th>\n",
       "      <th>Sold Price</th>\n",
       "      <th>Bathrooms</th>\n",
       "      <th>Total interior livable area</th>\n",
       "      <th>Total spaces</th>\n",
       "      <th>Garage spaces</th>\n",
       "      <th>Elementary School Score</th>\n",
       "      <th>Elementary School Distance</th>\n",
       "      <th>High School Score</th>\n",
       "      <th>High School Distance</th>\n",
       "      <th>Lot size</th>\n",
       "      <th>Tax assessed value</th>\n",
       "      <th>Annual tax amount</th>\n",
       "      <th>Listed Price</th>\n",
       "    </tr>\n",
       "  </thead>\n",
       "  <tbody>\n",
       "    <tr>\n",
       "      <th>count</th>\n",
       "      <td>1.523790e+05</td>\n",
       "      <td>152379.000000</td>\n",
       "      <td>1.523790e+05</td>\n",
       "      <td>152379.000000</td>\n",
       "      <td>152379.000000</td>\n",
       "      <td>152379.000000</td>\n",
       "      <td>152379.000000</td>\n",
       "      <td>152379.000000</td>\n",
       "      <td>152379.000000</td>\n",
       "      <td>1.523790e+05</td>\n",
       "      <td>1.523790e+05</td>\n",
       "      <td>1.523790e+05</td>\n",
       "      <td>1.523790e+05</td>\n",
       "    </tr>\n",
       "    <tr>\n",
       "      <th>mean</th>\n",
       "      <td>1.234534e+06</td>\n",
       "      <td>2.303340</td>\n",
       "      <td>3.296294e+03</td>\n",
       "      <td>1.677602</td>\n",
       "      <td>1.593980</td>\n",
       "      <td>5.676052</td>\n",
       "      <td>1.274108</td>\n",
       "      <td>6.100050</td>\n",
       "      <td>2.583214</td>\n",
       "      <td>9.222054e+05</td>\n",
       "      <td>9.300686e+05</td>\n",
       "      <td>1.173671e+04</td>\n",
       "      <td>1.245990e+06</td>\n",
       "    </tr>\n",
       "    <tr>\n",
       "      <th>std</th>\n",
       "      <td>3.433726e+06</td>\n",
       "      <td>1.563009</td>\n",
       "      <td>4.520746e+05</td>\n",
       "      <td>29.163494</td>\n",
       "      <td>29.145935</td>\n",
       "      <td>1.971683</td>\n",
       "      <td>2.710583</td>\n",
       "      <td>1.897106</td>\n",
       "      <td>3.794419</td>\n",
       "      <td>1.272647e+08</td>\n",
       "      <td>3.044196e+06</td>\n",
       "      <td>3.734927e+04</td>\n",
       "      <td>2.589732e+06</td>\n",
       "    </tr>\n",
       "    <tr>\n",
       "      <th>min</th>\n",
       "      <td>1.000000e+00</td>\n",
       "      <td>0.000000</td>\n",
       "      <td>1.000000e+00</td>\n",
       "      <td>-26.000000</td>\n",
       "      <td>-26.000000</td>\n",
       "      <td>1.000000</td>\n",
       "      <td>0.000000</td>\n",
       "      <td>1.000000</td>\n",
       "      <td>0.000000</td>\n",
       "      <td>0.000000e+00</td>\n",
       "      <td>0.000000e+00</td>\n",
       "      <td>0.000000e+00</td>\n",
       "      <td>1.000000e+00</td>\n",
       "    </tr>\n",
       "    <tr>\n",
       "      <th>25%</th>\n",
       "      <td>4.500000e+05</td>\n",
       "      <td>2.000000</td>\n",
       "      <td>1.216000e+03</td>\n",
       "      <td>0.000000</td>\n",
       "      <td>0.000000</td>\n",
       "      <td>4.000000</td>\n",
       "      <td>0.300000</td>\n",
       "      <td>5.000000</td>\n",
       "      <td>0.900000</td>\n",
       "      <td>5.196000e+03</td>\n",
       "      <td>3.200000e+05</td>\n",
       "      <td>4.334500e+03</td>\n",
       "      <td>6.490000e+05</td>\n",
       "    </tr>\n",
       "    <tr>\n",
       "      <th>50%</th>\n",
       "      <td>8.430000e+05</td>\n",
       "      <td>2.000000</td>\n",
       "      <td>1.675000e+03</td>\n",
       "      <td>1.000000</td>\n",
       "      <td>1.000000</td>\n",
       "      <td>5.676052</td>\n",
       "      <td>0.600000</td>\n",
       "      <td>6.100050</td>\n",
       "      <td>1.600000</td>\n",
       "      <td>7.701000e+03</td>\n",
       "      <td>7.100000e+05</td>\n",
       "      <td>9.315000e+03</td>\n",
       "      <td>1.200000e+06</td>\n",
       "    </tr>\n",
       "    <tr>\n",
       "      <th>75%</th>\n",
       "      <td>1.410000e+06</td>\n",
       "      <td>3.000000</td>\n",
       "      <td>2.602000e+03</td>\n",
       "      <td>2.000000</td>\n",
       "      <td>2.000000</td>\n",
       "      <td>7.000000</td>\n",
       "      <td>1.274108</td>\n",
       "      <td>7.000000</td>\n",
       "      <td>2.583214</td>\n",
       "      <td>8.015040e+04</td>\n",
       "      <td>9.869230e+05</td>\n",
       "      <td>1.253000e+04</td>\n",
       "      <td>1.245990e+06</td>\n",
       "    </tr>\n",
       "    <tr>\n",
       "      <th>max</th>\n",
       "      <td>8.660000e+08</td>\n",
       "      <td>256.000000</td>\n",
       "      <td>1.764164e+08</td>\n",
       "      <td>9999.000000</td>\n",
       "      <td>9999.000000</td>\n",
       "      <td>10.000000</td>\n",
       "      <td>76.400000</td>\n",
       "      <td>10.000000</td>\n",
       "      <td>77.800000</td>\n",
       "      <td>4.856770e+10</td>\n",
       "      <td>8.256328e+08</td>\n",
       "      <td>9.977342e+06</td>\n",
       "      <td>6.250000e+08</td>\n",
       "    </tr>\n",
       "  </tbody>\n",
       "</table>\n",
       "</div>"
      ],
      "text/plain": [
       "         Sold Price      Bathrooms  Total interior livable area  \\\n",
       "count  1.523790e+05  152379.000000                 1.523790e+05   \n",
       "mean   1.234534e+06       2.303340                 3.296294e+03   \n",
       "std    3.433726e+06       1.563009                 4.520746e+05   \n",
       "min    1.000000e+00       0.000000                 1.000000e+00   \n",
       "25%    4.500000e+05       2.000000                 1.216000e+03   \n",
       "50%    8.430000e+05       2.000000                 1.675000e+03   \n",
       "75%    1.410000e+06       3.000000                 2.602000e+03   \n",
       "max    8.660000e+08     256.000000                 1.764164e+08   \n",
       "\n",
       "        Total spaces  Garage spaces  Elementary School Score  \\\n",
       "count  152379.000000  152379.000000            152379.000000   \n",
       "mean        1.677602       1.593980                 5.676052   \n",
       "std        29.163494      29.145935                 1.971683   \n",
       "min       -26.000000     -26.000000                 1.000000   \n",
       "25%         0.000000       0.000000                 4.000000   \n",
       "50%         1.000000       1.000000                 5.676052   \n",
       "75%         2.000000       2.000000                 7.000000   \n",
       "max      9999.000000    9999.000000                10.000000   \n",
       "\n",
       "       Elementary School Distance  High School Score  High School Distance  \\\n",
       "count               152379.000000      152379.000000         152379.000000   \n",
       "mean                     1.274108           6.100050              2.583214   \n",
       "std                      2.710583           1.897106              3.794419   \n",
       "min                      0.000000           1.000000              0.000000   \n",
       "25%                      0.300000           5.000000              0.900000   \n",
       "50%                      0.600000           6.100050              1.600000   \n",
       "75%                      1.274108           7.000000              2.583214   \n",
       "max                     76.400000          10.000000             77.800000   \n",
       "\n",
       "           Lot size  Tax assessed value  Annual tax amount  Listed Price  \n",
       "count  1.523790e+05        1.523790e+05       1.523790e+05  1.523790e+05  \n",
       "mean   9.222054e+05        9.300686e+05       1.173671e+04  1.245990e+06  \n",
       "std    1.272647e+08        3.044196e+06       3.734927e+04  2.589732e+06  \n",
       "min    0.000000e+00        0.000000e+00       0.000000e+00  1.000000e+00  \n",
       "25%    5.196000e+03        3.200000e+05       4.334500e+03  6.490000e+05  \n",
       "50%    7.701000e+03        7.100000e+05       9.315000e+03  1.200000e+06  \n",
       "75%    8.015040e+04        9.869230e+05       1.253000e+04  1.245990e+06  \n",
       "max    4.856770e+10        8.256328e+08       9.977342e+06  6.250000e+08  "
      ]
     },
     "execution_count": 153,
     "metadata": {},
     "output_type": "execute_result"
    }
   ],
   "source": [
    "# descriptive statistics for the numerical columns\n",
    "data_df[num_col].describe()\n",
    "# If the describe() function is applied on non-numerical columns, the statistics won't make sense."
   ]
  },
  {
   "cell_type": "markdown",
   "id": "1867dc2b",
   "metadata": {},
   "source": [
    "According to the descriptive statistics, multiple columns have outliers:\n",
    "- Bathrooms, Total interior livable area, Total spaces, Garage spaces, Lot size\n",
    "\n",
    "We will analyze them separately."
   ]
  },
  {
   "cell_type": "markdown",
   "id": "c705ebfb",
   "metadata": {},
   "source": [
    "#### 2.4.1: Analyze \"Bathrooms\""
   ]
  },
  {
   "cell_type": "code",
   "execution_count": 154,
   "id": "4c6835b8",
   "metadata": {},
   "outputs": [
    {
     "data": {
      "text/plain": [
       "<AxesSubplot:xlabel='Bathrooms'>"
      ]
     },
     "execution_count": 154,
     "metadata": {},
     "output_type": "execute_result"
    },
    {
     "data": {
      "image/png": "[encoded data removed]",
      "text/plain": [
       "<Figure size 432x288 with 1 Axes>"
      ]
     },
     "metadata": {},
     "output_type": "display_data"
    }
   ],
   "source": [
    "# draw box plot to check outliers\n",
    "sns.set_style(\"darkgrid\",{'axes.grid' : True})\n",
    "sns.boxplot(x=data_df['Bathrooms'], orient='h')"
   ]
  },
  {
   "cell_type": "code",
   "execution_count": 156,
   "id": "5b3c7dd8",
   "metadata": {},
   "outputs": [
    {
     "name": "stdout",
     "output_type": "stream",
     "text": [
      "2.0 3.0 0.5 4.5\n"
     ]
    }
   ],
   "source": [
    "Q1 = np.percentile(data_df['Bathrooms'], 25)\n",
    "Q3 = np.percentile(data_df['Bathrooms'], 75)\n",
    "IQR = Q3 - Q1\n",
    "lower_thresh = Q1 - (1.5 * IQR)\n",
    "upper_thresh = Q3 + (1.5 * IQR)\n",
    "print(Q1, Q3, lower_thresh, upper_thresh)"
   ]
  },
  {
   "cell_type": "code",
   "execution_count": 157,
   "id": "79a18c58",
   "metadata": {},
   "outputs": [
    {
     "data": {
      "text/plain": [
       "(149497, 32)"
      ]
     },
     "execution_count": 157,
     "metadata": {},
     "output_type": "execute_result"
    }
   ],
   "source": [
    "# Based on the above calculation, we will remove samples that have \"Bathrooms\" strictly above 5 (>5) as outliers\n",
    "data_df.drop(data_df[data_df['Bathrooms'] > 5].index, inplace=True)\n",
    "data_df.shape"
   ]
  },
  {
   "cell_type": "code",
   "execution_count": 158,
   "id": "c5fae75b",
   "metadata": {},
   "outputs": [
    {
     "data": {
      "text/plain": [
       "<AxesSubplot:xlabel='Bathrooms', ylabel='Count'>"
      ]
     },
     "execution_count": 158,
     "metadata": {},
     "output_type": "execute_result"
    },
    {
     "data": {
      "image/png": "[encoded data removed]",
      "text/plain": [
       "<Figure size 432x288 with 1 Axes>"
      ]
     },
     "metadata": {},
     "output_type": "display_data"
    }
   ],
   "source": [
    "# check the new distribution of the \"Bathrooms\"\n",
    "sns.histplot(data_df['Bathrooms'])"
   ]
  },
  {
   "cell_type": "markdown",
   "id": "eb26adb3",
   "metadata": {},
   "source": [
    "#### 2.4.2: apply the logic for processing the \"Bathroom\" column to process the following columns:\n",
    "- Total interior livable area \n",
    "- Total spaces \n",
    "- Garage spaces \n",
    "- Lot size\n",
    "\n",
    "*Notes:*\n",
    "- One can decide the upper/lower threshold of removing outliers, it doesn't have to be the exact upper/lower threshold calculated from the boxplot. "
   ]
  },
  {
   "cell_type": "markdown",
   "id": "007e74a6",
   "metadata": {},
   "source": [
    "**Analyze \"Total interior livable area\"**"
   ]
  },
  {
   "cell_type": "code",
   "execution_count": 159,
   "id": "3afff2cd",
   "metadata": {},
   "outputs": [
    {
     "data": {
      "text/plain": [
       "<AxesSubplot:xlabel='Total interior livable area'>"
      ]
     },
     "execution_count": 159,
     "metadata": {},
     "output_type": "execute_result"
    },
    {
     "data": {
      "image/png": "[encoded data removed]",
      "text/plain": [
       "<Figure size 432x288 with 1 Axes>"
      ]
     },
     "metadata": {},
     "output_type": "display_data"
    }
   ],
   "source": [
    "# draw box plot to check outliers\n",
    "sns.set_style(\"darkgrid\",{'axes.grid' : True})\n",
    "sns.boxplot(x=data_df['Total interior livable area'], orient='h')"
   ]
  },
  {
   "cell_type": "code",
   "execution_count": 160,
   "id": "74c50c0b",
   "metadata": {},
   "outputs": [
    {
     "data": {
      "text/plain": [
       "(1208.0, 2510.0, -745.0, 4463.0)"
      ]
     },
     "execution_count": 160,
     "metadata": {},
     "output_type": "execute_result"
    }
   ],
   "source": [
    "Q1 = data_df['Total interior livable area'].quantile(0.25)\n",
    "Q3 = data_df['Total interior livable area'].quantile(0.75)\n",
    "IQR = Q3 - Q1\n",
    "lower_thresh = Q1 - 1.5*IQR\n",
    "upper_thresh = Q3 + 1.5*IQR\n",
    "Q1, Q3, lower_thresh, upper_thresh"
   ]
  },
  {
   "cell_type": "code",
   "execution_count": 161,
   "id": "f1188f2a",
   "metadata": {},
   "outputs": [
    {
     "data": {
      "text/plain": [
       "(149497, 32)"
      ]
     },
     "execution_count": 161,
     "metadata": {},
     "output_type": "execute_result"
    }
   ],
   "source": [
    "data_df.shape"
   ]
  },
  {
   "cell_type": "code",
   "execution_count": 162,
   "id": "c4d84bb9",
   "metadata": {},
   "outputs": [
    {
     "data": {
      "text/plain": [
       "(147965, 32)"
      ]
     },
     "execution_count": 162,
     "metadata": {},
     "output_type": "execute_result"
    }
   ],
   "source": [
    "data_df.drop(data_df[data_df['Total interior livable area'] > 5000].index, inplace=True)\n",
    "data_df.shape"
   ]
  },
  {
   "cell_type": "code",
   "execution_count": 163,
   "id": "4112501c",
   "metadata": {},
   "outputs": [
    {
     "data": {
      "text/plain": [
       "<AxesSubplot:xlabel='Total interior livable area', ylabel='Count'>"
      ]
     },
     "execution_count": 163,
     "metadata": {},
     "output_type": "execute_result"
    },
    {
     "data": {
      "image/png": "[encoded data removed]",
      "text/plain": [
       "<Figure size 432x288 with 1 Axes>"
      ]
     },
     "metadata": {},
     "output_type": "display_data"
    }
   ],
   "source": [
    "# check the new distribution of the \"Total interior livable area\"\n",
    "sns.histplot(data_df['Total interior livable area'])"
   ]
  },
  {
   "cell_type": "markdown",
   "id": "6fc2d295",
   "metadata": {},
   "source": [
    "**Analyze \"Total spaces\"**"
   ]
  },
  {
   "cell_type": "code",
   "execution_count": 164,
   "id": "fdd8c7fd",
   "metadata": {},
   "outputs": [
    {
     "data": {
      "text/plain": [
       "<AxesSubplot:xlabel='Total spaces'>"
      ]
     },
     "execution_count": 164,
     "metadata": {},
     "output_type": "execute_result"
    },
    {
     "data": {
      "image/png": "[encoded data removed]",
      "text/plain": [
       "<Figure size 432x288 with 1 Axes>"
      ]
     },
     "metadata": {},
     "output_type": "display_data"
    }
   ],
   "source": [
    "# draw box plot to check outliers\n",
    "sns.set_style(\"darkgrid\",{'axes.grid' : True})\n",
    "sns.boxplot(x=data_df['Total spaces'], orient='h')"
   ]
  },
  {
   "cell_type": "code",
   "execution_count": 165,
   "id": "7a19790b",
   "metadata": {},
   "outputs": [
    {
     "data": {
      "text/plain": [
       "(0.0, 2.0, -3.0, 5.0)"
      ]
     },
     "execution_count": 165,
     "metadata": {},
     "output_type": "execute_result"
    }
   ],
   "source": [
    "Q1 = data_df['Total spaces'].quantile(0.25)\n",
    "Q3 = data_df['Total spaces'].quantile(0.75)\n",
    "IQR = Q3 - Q1\n",
    "lower_thresh = Q1 - 1.5*IQR\n",
    "upper_thresh = Q3 + 1.5*IQR\n",
    "Q1, Q3, lower_thresh, upper_thresh"
   ]
  },
  {
   "cell_type": "code",
   "execution_count": 166,
   "id": "78dbb96e",
   "metadata": {},
   "outputs": [
    {
     "data": {
      "text/plain": [
       "(147965, 32)"
      ]
     },
     "execution_count": 166,
     "metadata": {},
     "output_type": "execute_result"
    }
   ],
   "source": [
    "data_df.shape"
   ]
  },
  {
   "cell_type": "code",
   "execution_count": 167,
   "id": "9d46e522",
   "metadata": {},
   "outputs": [
    {
     "data": {
      "text/plain": [
       "(144806, 32)"
      ]
     },
     "execution_count": 167,
     "metadata": {},
     "output_type": "execute_result"
    }
   ],
   "source": [
    "data_df.drop(data_df[data_df['Total spaces'] > 5].index, inplace=True)\n",
    "data_df.shape"
   ]
  },
  {
   "cell_type": "code",
   "execution_count": 171,
   "id": "624a1693",
   "metadata": {},
   "outputs": [
    {
     "data": {
      "text/plain": [
       "(144801, 32)"
      ]
     },
     "execution_count": 171,
     "metadata": {},
     "output_type": "execute_result"
    }
   ],
   "source": [
    "data_df.drop(data_df[data_df['Total spaces'] < 0].index, inplace=True)\n",
    "data_df.shape"
   ]
  },
  {
   "cell_type": "code",
   "execution_count": 172,
   "id": "6305b5dd",
   "metadata": {},
   "outputs": [
    {
     "data": {
      "text/plain": [
       "<AxesSubplot:xlabel='Total spaces', ylabel='Count'>"
      ]
     },
     "execution_count": 172,
     "metadata": {},
     "output_type": "execute_result"
    },
    {
     "data": {
      "image/png": "[encoded data removed]",
      "text/plain": [
       "<Figure size 432x288 with 1 Axes>"
      ]
     },
     "metadata": {},
     "output_type": "display_data"
    }
   ],
   "source": [
    "sns.histplot(data_df['Total spaces'])"
   ]
  },
  {
   "cell_type": "markdown",
   "id": "48c0a83f",
   "metadata": {},
   "source": [
    "**Analyze \"Garage spaces\"**"
   ]
  },
  {
   "cell_type": "code",
   "execution_count": 176,
   "id": "d2908dec",
   "metadata": {},
   "outputs": [
    {
     "data": {
      "text/plain": [
       "<AxesSubplot:xlabel='Garage spaces'>"
      ]
     },
     "execution_count": 176,
     "metadata": {},
     "output_type": "execute_result"
    },
    {
     "data": {
      "image/png": "[encoded data removed]",
      "text/plain": [
       "<Figure size 432x288 with 1 Axes>"
      ]
     },
     "metadata": {},
     "output_type": "display_data"
    }
   ],
   "source": [
    "sns.set_style(\"darkgrid\",{'axes.grid' : True})\n",
    "sns.boxplot(x=data_df['Garage spaces'], orient='h')"
   ]
  },
  {
   "cell_type": "code",
   "execution_count": 177,
   "id": "205e09b7",
   "metadata": {},
   "outputs": [
    {
     "data": {
      "text/plain": [
       "(0.0, 2.0, -3.0, 5.0)"
      ]
     },
     "execution_count": 177,
     "metadata": {},
     "output_type": "execute_result"
    }
   ],
   "source": [
    "Q1 = data_df['Garage spaces'].quantile(0.25)\n",
    "Q3 = data_df['Garage spaces'].quantile(0.75)\n",
    "IQR = Q3 - Q1\n",
    "lower_thresh = Q1 - 1.5*IQR\n",
    "upper_thresh = Q3 + 1.5*IQR\n",
    "Q1, Q3, lower_thresh, upper_thresh"
   ]
  },
  {
   "cell_type": "code",
   "execution_count": 178,
   "id": "249d3d49",
   "metadata": {},
   "outputs": [
    {
     "data": {
      "text/plain": [
       "(144801, 32)"
      ]
     },
     "execution_count": 178,
     "metadata": {},
     "output_type": "execute_result"
    }
   ],
   "source": [
    "data_df.shape"
   ]
  },
  {
   "cell_type": "code",
   "execution_count": 179,
   "id": "1c88aa80",
   "metadata": {},
   "outputs": [
    {
     "data": {
      "text/plain": [
       "(144800, 32)"
      ]
     },
     "execution_count": 179,
     "metadata": {},
     "output_type": "execute_result"
    }
   ],
   "source": [
    "data_df.drop(data_df[data_df['Garage spaces'] > 5].index, inplace=True)\n",
    "data_df.shape"
   ]
  },
  {
   "cell_type": "code",
   "execution_count": 180,
   "id": "0b87a671",
   "metadata": {},
   "outputs": [
    {
     "data": {
      "text/plain": [
       "(144800, 32)"
      ]
     },
     "execution_count": 180,
     "metadata": {},
     "output_type": "execute_result"
    }
   ],
   "source": [
    "data_df.drop(data_df[data_df['Garage spaces'] < 0].index, inplace=True)\n",
    "data_df.shape"
   ]
  },
  {
   "cell_type": "code",
   "execution_count": 182,
   "id": "62b93012",
   "metadata": {},
   "outputs": [
    {
     "data": {
      "text/plain": [
       "<AxesSubplot:xlabel='Garage spaces', ylabel='Count'>"
      ]
     },
     "execution_count": 182,
     "metadata": {},
     "output_type": "execute_result"
    },
    {
     "data": {
      "image/png": "[encoded data removed]",
      "text/plain": [
       "<Figure size 432x288 with 1 Axes>"
      ]
     },
     "metadata": {},
     "output_type": "display_data"
    }
   ],
   "source": [
    "sns.histplot(data_df['Garage spaces'])"
   ]
  },
  {
   "cell_type": "markdown",
   "id": "aecc46fd",
   "metadata": {},
   "source": [
    "**Analyze \"Lot size\"**"
   ]
  },
  {
   "cell_type": "code",
   "execution_count": 183,
   "id": "8ef27564",
   "metadata": {},
   "outputs": [
    {
     "data": {
      "text/plain": [
       "<AxesSubplot:xlabel='Lot size'>"
      ]
     },
     "execution_count": 183,
     "metadata": {},
     "output_type": "execute_result"
    },
    {
     "data": {
      "image/png": "[encoded data removed]",
      "text/plain": [
       "<Figure size 432x288 with 1 Axes>"
      ]
     },
     "metadata": {},
     "output_type": "display_data"
    }
   ],
   "source": [
    "sns.set_style(\"darkgrid\",{'axes.grid' : True})\n",
    "sns.boxplot(x=data_df['Lot size'], orient='h')"
   ]
  },
  {
   "cell_type": "code",
   "execution_count": 184,
   "id": "09bb343b",
   "metadata": {},
   "outputs": [
    {
     "data": {
      "text/plain": [
       "(5100.0, 86248.8, -116623.20000000001, 207972.0)"
      ]
     },
     "execution_count": 184,
     "metadata": {},
     "output_type": "execute_result"
    }
   ],
   "source": [
    "Q1 = data_df['Lot size'].quantile(0.25)\n",
    "Q3 = data_df['Lot size'].quantile(0.75)\n",
    "IQR = Q3 - Q1\n",
    "lower_thresh = Q1 - 1.5*IQR\n",
    "upper_thresh = Q3 + 1.5*IQR\n",
    "Q1, Q3, lower_thresh, upper_thresh"
   ]
  },
  {
   "cell_type": "code",
   "execution_count": 185,
   "id": "09421965",
   "metadata": {},
   "outputs": [
    {
     "data": {
      "text/plain": [
       "(144800, 32)"
      ]
     },
     "execution_count": 185,
     "metadata": {},
     "output_type": "execute_result"
    }
   ],
   "source": [
    "data_df.shape"
   ]
  },
  {
   "cell_type": "code",
   "execution_count": 189,
   "id": "9646c546",
   "metadata": {},
   "outputs": [
    {
     "data": {
      "text/plain": [
       "(112741, 32)"
      ]
     },
     "execution_count": 189,
     "metadata": {},
     "output_type": "execute_result"
    }
   ],
   "source": [
    "data_df.drop(data_df[data_df['Lot size'] > 207972].index, inplace=True)\n",
    "data_df.shape"
   ]
  },
  {
   "cell_type": "code",
   "execution_count": 187,
   "id": "cc8843f3",
   "metadata": {},
   "outputs": [
    {
     "data": {
      "text/plain": [
       "(112741, 32)"
      ]
     },
     "execution_count": 187,
     "metadata": {},
     "output_type": "execute_result"
    }
   ],
   "source": [
    "data_df.drop(data_df[data_df['Lot size'] < 0].index, inplace=True)\n",
    "data_df.shape"
   ]
  },
  {
   "cell_type": "code",
   "execution_count": 190,
   "id": "5f7e5890",
   "metadata": {},
   "outputs": [
    {
     "data": {
      "text/plain": [
       "<AxesSubplot:xlabel='Lot size', ylabel='Count'>"
      ]
     },
     "execution_count": 190,
     "metadata": {},
     "output_type": "execute_result"
    },
    {
     "data": {
      "image/png": "[encoded data removed]",
      "text/plain": [
       "<Figure size 432x288 with 1 Axes>"
      ]
     },
     "metadata": {},
     "output_type": "display_data"
    }
   ],
   "source": [
    "sns.histplot(data_df['Lot size'])"
   ]
  },
  {
   "cell_type": "markdown",
   "id": "eecc28a5",
   "metadata": {},
   "source": [
    "### Part-3: Data transformation\n",
    "After performing data cleaning for each data type separately, we will move forward to do data transformation for each data type."
   ]
  },
  {
   "cell_type": "markdown",
   "id": "9e77d43e",
   "metadata": {},
   "source": [
    "#### 3.1: Normalize numerical data"
   ]
  },
  {
   "cell_type": "code",
   "execution_count": null,
   "id": "5aedfa4f",
   "metadata": {},
   "outputs": [],
   "source": [
    "# Total interior livable area, Total spaces, Garage spaces, Lot size"
   ]
  },
  {
   "cell_type": "code",
   "execution_count": 191,
   "id": "fa3bc194",
   "metadata": {},
   "outputs": [
    {
     "data": {
      "text/plain": [
       "<AxesSubplot:xlabel='Total interior livable area', ylabel='Count'>"
      ]
     },
     "execution_count": 191,
     "metadata": {},
     "output_type": "execute_result"
    },
    {
     "data": {
      "image/png": "[encoded data removed]",
      "text/plain": [
       "<Figure size 432x288 with 1 Axes>"
      ]
     },
     "metadata": {},
     "output_type": "display_data"
    }
   ],
   "source": [
    "# check the distribution of the \"Total interior livable area\" (before normalization)\n",
    "sns.histplot(data_df['Total interior livable area'])"
   ]
  },
  {
   "cell_type": "code",
   "execution_count": 192,
   "id": "fe7a4fc0",
   "metadata": {},
   "outputs": [],
   "source": [
    "from sklearn.preprocessing import MinMaxScaler\n",
    "scaler = MinMaxScaler(feature_range=(0,1))\n",
    "data_df['Total interior livable area_normalized'] = scaler.fit_transform(data_df[['Total interior livable area']].values)"
   ]
  },
  {
   "cell_type": "code",
   "execution_count": 193,
   "id": "dc996291",
   "metadata": {},
   "outputs": [
    {
     "data": {
      "text/plain": [
       "<AxesSubplot:xlabel='Total interior livable area_normalized', ylabel='Count'>"
      ]
     },
     "execution_count": 193,
     "metadata": {},
     "output_type": "execute_result"
    },
    {
     "data": {
      "image/png": "[encoded data removed]",
      "text/plain": [
       "<Figure size 432x288 with 1 Axes>"
      ]
     },
     "metadata": {},
     "output_type": "display_data"
    }
   ],
   "source": [
    "# check the distribution of the \"Total interior livable area\" (after normalization)\n",
    "sns.histplot(data_df['Total interior livable area_normalized'])"
   ]
  },
  {
   "cell_type": "markdown",
   "id": "7a59472a",
   "metadata": {},
   "source": [
    "Compare the data distribution before VS after normalization, we can see that:\n",
    "- normalization does not change the shape and distribution of the data\n",
    "- the absolute values of the data are changed, but the relative values do not change\n",
    "- after normalization, it's more intuitive to understand the relative value among all samples"
   ]
  },
  {
   "cell_type": "markdown",
   "id": "6cd80cec",
   "metadata": {},
   "source": [
    "#### 3.1.1: apply the logic for processing the \"Total interior livable area\" column to process the following columns:\n",
    "- Total spaces \n",
    "- Garage spaces \n",
    "- Lot size"
   ]
  },
  {
   "cell_type": "markdown",
   "id": "f9ba1be8",
   "metadata": {},
   "source": [
    "**Analyze \"Total spaces\"**"
   ]
  },
  {
   "cell_type": "code",
   "execution_count": 194,
   "id": "c1d11e79",
   "metadata": {},
   "outputs": [
    {
     "data": {
      "text/plain": [
       "<AxesSubplot:xlabel='Total spaces', ylabel='Count'>"
      ]
     },
     "execution_count": 194,
     "metadata": {},
     "output_type": "execute_result"
    },
    {
     "data": {
      "image/png": "[encoded data removed]",
      "text/plain": [
       "<Figure size 432x288 with 1 Axes>"
      ]
     },
     "metadata": {},
     "output_type": "display_data"
    }
   ],
   "source": [
    "sns.histplot(data_df['Total spaces'])"
   ]
  },
  {
   "cell_type": "code",
   "execution_count": 195,
   "id": "4f052f91",
   "metadata": {},
   "outputs": [],
   "source": [
    "data_df['Total spaces_normalized'] = scaler.fit_transform(data_df[['Total spaces']].values)"
   ]
  },
  {
   "cell_type": "code",
   "execution_count": 196,
   "id": "57e39ee6",
   "metadata": {},
   "outputs": [
    {
     "data": {
      "text/plain": [
       "<AxesSubplot:xlabel='Total spaces_normalized', ylabel='Count'>"
      ]
     },
     "execution_count": 196,
     "metadata": {},
     "output_type": "execute_result"
    },
    {
     "data": {
      "image/png": "[encoded data removed]",
      "text/plain": [
       "<Figure size 432x288 with 1 Axes>"
      ]
     },
     "metadata": {},
     "output_type": "display_data"
    }
   ],
   "source": [
    "sns.histplot(data_df['Total spaces_normalized'])"
   ]
  },
  {
   "cell_type": "markdown",
   "id": "421be1fd",
   "metadata": {},
   "source": [
    "**Analyze \"Garage spaces\"**"
   ]
  },
  {
   "cell_type": "code",
   "execution_count": 197,
   "id": "006ee690",
   "metadata": {},
   "outputs": [
    {
     "data": {
      "text/plain": [
       "<AxesSubplot:xlabel='Garage spaces', ylabel='Count'>"
      ]
     },
     "execution_count": 197,
     "metadata": {},
     "output_type": "execute_result"
    },
    {
     "data": {
      "image/png": "[encoded data removed]",
      "text/plain": [
       "<Figure size 432x288 with 1 Axes>"
      ]
     },
     "metadata": {},
     "output_type": "display_data"
    }
   ],
   "source": [
    "sns.histplot(data_df['Garage spaces'])"
   ]
  },
  {
   "cell_type": "code",
   "execution_count": 198,
   "id": "ef670680",
   "metadata": {},
   "outputs": [],
   "source": [
    "data_df['Garage spaces_normalized'] = scaler.fit_transform(data_df[['Garage spaces']].values)"
   ]
  },
  {
   "cell_type": "code",
   "execution_count": 199,
   "id": "838e1ced",
   "metadata": {},
   "outputs": [
    {
     "data": {
      "text/plain": [
       "<AxesSubplot:xlabel='Garage spaces_normalized', ylabel='Count'>"
      ]
     },
     "execution_count": 199,
     "metadata": {},
     "output_type": "execute_result"
    },
    {
     "data": {
      "image/png": "[encoded data removed]",
      "text/plain": [
       "<Figure size 432x288 with 1 Axes>"
      ]
     },
     "metadata": {},
     "output_type": "display_data"
    }
   ],
   "source": [
    "sns.histplot(data_df['Garage spaces_normalized'])"
   ]
  },
  {
   "cell_type": "markdown",
   "id": "f9a11618",
   "metadata": {},
   "source": [
    "**Analyze \"Lot size\"**"
   ]
  },
  {
   "cell_type": "code",
   "execution_count": 200,
   "id": "83fc6dc7",
   "metadata": {},
   "outputs": [
    {
     "data": {
      "text/plain": [
       "<AxesSubplot:xlabel='Lot size', ylabel='Count'>"
      ]
     },
     "execution_count": 200,
     "metadata": {},
     "output_type": "execute_result"
    },
    {
     "data": {
      "image/png": "[encoded data removed]",
      "text/plain": [
       "<Figure size 432x288 with 1 Axes>"
      ]
     },
     "metadata": {},
     "output_type": "display_data"
    }
   ],
   "source": [
    "sns.histplot(data_df['Lot size'])"
   ]
  },
  {
   "cell_type": "code",
   "execution_count": 201,
   "id": "bf027bf1",
   "metadata": {},
   "outputs": [],
   "source": [
    "data_df['Lot size_normalized'] = scaler.fit_transform(data_df[['Lot size']].values)"
   ]
  },
  {
   "cell_type": "code",
   "execution_count": 202,
   "id": "d76094ee",
   "metadata": {},
   "outputs": [
    {
     "data": {
      "text/plain": [
       "<AxesSubplot:xlabel='Lot size_normalized', ylabel='Count'>"
      ]
     },
     "execution_count": 202,
     "metadata": {},
     "output_type": "execute_result"
    },
    {
     "data": {
      "image/png": "[encoded data removed]",
      "text/plain": [
       "<Figure size 432x288 with 1 Axes>"
      ]
     },
     "metadata": {},
     "output_type": "display_data"
    }
   ],
   "source": [
    "sns.histplot(data_df['Lot size_normalized'])"
   ]
  },
  {
   "cell_type": "markdown",
   "id": "2ca1057b",
   "metadata": {},
   "source": [
    "**Additional analysis**: for attributes with large values, we typically apply log scaling to process."
   ]
  },
  {
   "cell_type": "code",
   "execution_count": 203,
   "id": "20d2bc2b",
   "metadata": {},
   "outputs": [
    {
     "data": {
      "image/png": "[encoded data removed]",
      "text/plain": [
       "<Figure size 432x288 with 1 Axes>"
      ]
     },
     "metadata": {},
     "output_type": "display_data"
    }
   ],
   "source": [
    "# Check the histogram of the 'Sold Price' after apply log scaling.\n",
    "ax = sns.histplot(np.log10(data_df['Sold Price']))\n",
    "ax.set_xlim([3, 8])\n",
    "ax.set_xticks(range(3, 9))\n",
    "ax.set_xticklabels(['%.0e'%a for a in 10**ax.get_xticks()]);\n",
    "\n",
    "# feel free to explore what will happen without log scaling"
   ]
  },
  {
   "cell_type": "code",
   "execution_count": 204,
   "id": "687c1253",
   "metadata": {},
   "outputs": [
    {
     "data": {
      "text/plain": [
       "<AxesSubplot:xlabel='Sold Price', ylabel='Count'>"
      ]
     },
     "execution_count": 204,
     "metadata": {},
     "output_type": "execute_result"
    },
    {
     "data": {
      "image/png": "[encoded data removed]",
      "text/plain": [
       "<Figure size 432x288 with 1 Axes>"
      ]
     },
     "metadata": {},
     "output_type": "display_data"
    }
   ],
   "source": [
    "sns.histplot(data_df['Sold Price'])"
   ]
  },
  {
   "cell_type": "markdown",
   "id": "45c7501f",
   "metadata": {},
   "source": [
    "#### 3.2: Text transformation \n",
    "- tokenization, stemming, lemmatization"
   ]
  },
  {
   "cell_type": "code",
   "execution_count": 205,
   "id": "f74a04da",
   "metadata": {},
   "outputs": [],
   "source": [
    "import nltk"
   ]
  },
  {
   "cell_type": "code",
   "execution_count": 206,
   "id": "4c368bea",
   "metadata": {},
   "outputs": [],
   "source": [
    "text_col = ['Address', 'Summary', 'Heating', 'Cooling', 'Parking', 'Heating features', 'Parking features']"
   ]
  },
  {
   "cell_type": "code",
   "execution_count": 207,
   "id": "72a687da",
   "metadata": {},
   "outputs": [
    {
     "data": {
      "text/html": [
       "<div>\n",
       "<style scoped>\n",
       "    .dataframe tbody tr th:only-of-type {\n",
       "        vertical-align: middle;\n",
       "    }\n",
       "\n",
       "    .dataframe tbody tr th {\n",
       "        vertical-align: top;\n",
       "    }\n",
       "\n",
       "    .dataframe thead th {\n",
       "        text-align: right;\n",
       "    }\n",
       "</style>\n",
       "<table border=\"1\" class=\"dataframe\">\n",
       "  <thead>\n",
       "    <tr style=\"text-align: right;\">\n",
       "      <th></th>\n",
       "      <th>Address</th>\n",
       "      <th>Summary</th>\n",
       "      <th>Heating</th>\n",
       "      <th>Cooling</th>\n",
       "      <th>Parking</th>\n",
       "      <th>Heating features</th>\n",
       "      <th>Parking features</th>\n",
       "    </tr>\n",
       "  </thead>\n",
       "  <tbody>\n",
       "    <tr>\n",
       "      <th>1</th>\n",
       "      <td>5281 Castle Rd,</td>\n",
       "      <td>Spectacular Mountain and incredible L.A. City ...</td>\n",
       "      <td>Central</td>\n",
       "      <td>Central Air, Dual</td>\n",
       "      <td>Driveway, Driveway - Brick</td>\n",
       "      <td>Central</td>\n",
       "      <td>Driveway, Driveway - Brick</td>\n",
       "    </tr>\n",
       "    <tr>\n",
       "      <th>2</th>\n",
       "      <td>3581 Butcher Dr,</td>\n",
       "      <td>Eichler Style home! with Santa Clara High! in ...</td>\n",
       "      <td>Central Forced Air - Gas</td>\n",
       "      <td>Central AC</td>\n",
       "      <td>Garage, Garage - Attached, Covered</td>\n",
       "      <td>Forced air, Gas</td>\n",
       "      <td>Garage, Garage - Attached, Covered</td>\n",
       "    </tr>\n",
       "    <tr>\n",
       "      <th>5</th>\n",
       "      <td>4707 La Villa Mari UNIT J,</td>\n",
       "      <td>AGENTS READ PRIVATE REMARKS BEFORE CALLING;  S...</td>\n",
       "      <td>Central</td>\n",
       "      <td>None</td>\n",
       "      <td>Garage - Attached</td>\n",
       "      <td>Forced air</td>\n",
       "      <td>Garage - Attached</td>\n",
       "    </tr>\n",
       "    <tr>\n",
       "      <th>6</th>\n",
       "      <td>7517 Deveron Ct,</td>\n",
       "      <td>This lovely rental is located in the prestigio...</td>\n",
       "      <td>Forced air, Gas</td>\n",
       "      <td>Central</td>\n",
       "      <td>Garage, Garage - Attached, Covered</td>\n",
       "      <td>Forced air, Gas</td>\n",
       "      <td>Garage, Garage - Attached, Covered</td>\n",
       "    </tr>\n",
       "    <tr>\n",
       "      <th>7</th>\n",
       "      <td>3025 E 8th St,</td>\n",
       "      <td>3025 E 8th St, Los Angeles, CA 90023 is a sing...</td>\n",
       "      <td>Wall</td>\n",
       "      <td>Wall/Window Unit(s)</td>\n",
       "      <td>Garage, Covered</td>\n",
       "      <td>Wall</td>\n",
       "      <td>Garage, Covered</td>\n",
       "    </tr>\n",
       "    <tr>\n",
       "      <th>...</th>\n",
       "      <td>...</td>\n",
       "      <td>...</td>\n",
       "      <td>...</td>\n",
       "      <td>...</td>\n",
       "      <td>...</td>\n",
       "      <td>...</td>\n",
       "      <td>...</td>\n",
       "    </tr>\n",
       "    <tr>\n",
       "      <th>164939</th>\n",
       "      <td>88 Lakeshore Ct,</td>\n",
       "      <td>STUNNING LAKE VIEW AND BAY VIEW! Exquisite Res...</td>\n",
       "      <td>Baseboard, Electric</td>\n",
       "      <td>None</td>\n",
       "      <td>Carport, Covered, Guest</td>\n",
       "      <td>Baseboard, Electric</td>\n",
       "      <td>Carport, Covered, Guest</td>\n",
       "    </tr>\n",
       "    <tr>\n",
       "      <th>164940</th>\n",
       "      <td>3785 Wilshire Blvd PENTHOUSE 3,</td>\n",
       "      <td>Arguably the best unit at Solair. This top flo...</td>\n",
       "      <td>Central</td>\n",
       "      <td>Central</td>\n",
       "      <td>Covered</td>\n",
       "      <td>Other</td>\n",
       "      <td>Covered</td>\n",
       "    </tr>\n",
       "    <tr>\n",
       "      <th>164941</th>\n",
       "      <td>312 Circuit Way,</td>\n",
       "      <td>312 Circuit Way, Mountain View, CA 94043 is a ...</td>\n",
       "      <td>Other</td>\n",
       "      <td>No Data</td>\n",
       "      <td>Garage, Garage - Attached, Covered</td>\n",
       "      <td>Other</td>\n",
       "      <td>Garage, Garage - Attached, Covered</td>\n",
       "    </tr>\n",
       "    <tr>\n",
       "      <th>164942</th>\n",
       "      <td>2 Cape Breton Ct,</td>\n",
       "      <td>Park Pacifica CHECK OUT THE VIDEO  Entering Ca...</td>\n",
       "      <td>Central Forced Air - Gas</td>\n",
       "      <td>None</td>\n",
       "      <td>Underground/Basement, Garage - Attached</td>\n",
       "      <td>Forced air, Gas</td>\n",
       "      <td>Underground/Basement, Garage - Attached</td>\n",
       "    </tr>\n",
       "    <tr>\n",
       "      <th>164943</th>\n",
       "      <td>25 Calabasas Rd,</td>\n",
       "      <td>25 Calabasas Rd, Freedom, CA 95019 is a single...</td>\n",
       "      <td>Wall</td>\n",
       "      <td>No Data</td>\n",
       "      <td>Garage, Garage - Attached</td>\n",
       "      <td>Wall</td>\n",
       "      <td>Garage, Garage - Attached</td>\n",
       "    </tr>\n",
       "  </tbody>\n",
       "</table>\n",
       "<p>112741 rows × 7 columns</p>\n",
       "</div>"
      ],
      "text/plain": [
       "                                Address  \\\n",
       "1                       5281 Castle Rd,   \n",
       "2                      3581 Butcher Dr,   \n",
       "5            4707 La Villa Mari UNIT J,   \n",
       "6                      7517 Deveron Ct,   \n",
       "7                        3025 E 8th St,   \n",
       "...                                 ...   \n",
       "164939                 88 Lakeshore Ct,   \n",
       "164940  3785 Wilshire Blvd PENTHOUSE 3,   \n",
       "164941                 312 Circuit Way,   \n",
       "164942                2 Cape Breton Ct,   \n",
       "164943                 25 Calabasas Rd,   \n",
       "\n",
       "                                                  Summary  \\\n",
       "1       Spectacular Mountain and incredible L.A. City ...   \n",
       "2       Eichler Style home! with Santa Clara High! in ...   \n",
       "5       AGENTS READ PRIVATE REMARKS BEFORE CALLING;  S...   \n",
       "6       This lovely rental is located in the prestigio...   \n",
       "7       3025 E 8th St, Los Angeles, CA 90023 is a sing...   \n",
       "...                                                   ...   \n",
       "164939  STUNNING LAKE VIEW AND BAY VIEW! Exquisite Res...   \n",
       "164940  Arguably the best unit at Solair. This top flo...   \n",
       "164941  312 Circuit Way, Mountain View, CA 94043 is a ...   \n",
       "164942  Park Pacifica CHECK OUT THE VIDEO  Entering Ca...   \n",
       "164943  25 Calabasas Rd, Freedom, CA 95019 is a single...   \n",
       "\n",
       "                         Heating              Cooling  \\\n",
       "1                        Central    Central Air, Dual   \n",
       "2       Central Forced Air - Gas           Central AC   \n",
       "5                        Central                 None   \n",
       "6                Forced air, Gas              Central   \n",
       "7                           Wall  Wall/Window Unit(s)   \n",
       "...                          ...                  ...   \n",
       "164939       Baseboard, Electric                 None   \n",
       "164940                   Central              Central   \n",
       "164941                     Other              No Data   \n",
       "164942  Central Forced Air - Gas                 None   \n",
       "164943                      Wall              No Data   \n",
       "\n",
       "                                        Parking     Heating features  \\\n",
       "1                    Driveway, Driveway - Brick              Central   \n",
       "2            Garage, Garage - Attached, Covered      Forced air, Gas   \n",
       "5                             Garage - Attached           Forced air   \n",
       "6            Garage, Garage - Attached, Covered      Forced air, Gas   \n",
       "7                               Garage, Covered                 Wall   \n",
       "...                                         ...                  ...   \n",
       "164939                  Carport, Covered, Guest  Baseboard, Electric   \n",
       "164940                                  Covered                Other   \n",
       "164941       Garage, Garage - Attached, Covered                Other   \n",
       "164942  Underground/Basement, Garage - Attached      Forced air, Gas   \n",
       "164943                Garage, Garage - Attached                 Wall   \n",
       "\n",
       "                               Parking features  \n",
       "1                    Driveway, Driveway - Brick  \n",
       "2            Garage, Garage - Attached, Covered  \n",
       "5                             Garage - Attached  \n",
       "6            Garage, Garage - Attached, Covered  \n",
       "7                               Garage, Covered  \n",
       "...                                         ...  \n",
       "164939                  Carport, Covered, Guest  \n",
       "164940                                  Covered  \n",
       "164941       Garage, Garage - Attached, Covered  \n",
       "164942  Underground/Basement, Garage - Attached  \n",
       "164943                Garage, Garage - Attached  \n",
       "\n",
       "[112741 rows x 7 columns]"
      ]
     },
     "execution_count": 207,
     "metadata": {},
     "output_type": "execute_result"
    }
   ],
   "source": [
    "data_df[text_col]"
   ]
  },
  {
   "cell_type": "markdown",
   "id": "73da2042",
   "metadata": {},
   "source": [
    "#### 3.2.1: Example analysis for the \"Summary\" column"
   ]
  },
  {
   "cell_type": "markdown",
   "id": "8a3dd78c",
   "metadata": {},
   "source": [
    "**tokenization**: the process of breaking down text into the smallest unit in a sentence (e.g., tokens can be words, numbers, punctuation marks)"
   ]
  },
  {
   "cell_type": "code",
   "execution_count": 208,
   "id": "50316fe4",
   "metadata": {},
   "outputs": [
    {
     "name": "stderr",
     "output_type": "stream",
     "text": [
      "[nltk_data] Downloading package punkt to /Users/sukaraca/nltk_data...\n",
      "[nltk_data]   Unzipping tokenizers/punkt.zip.\n",
      "[nltk_data] Downloading package wordnet to\n",
      "[nltk_data]     /Users/sukaraca/nltk_data...\n",
      "[nltk_data] Downloading package omw-1.4 to\n",
      "[nltk_data]     /Users/sukaraca/nltk_data...\n"
     ]
    },
    {
     "data": {
      "text/plain": [
       "True"
      ]
     },
     "execution_count": 208,
     "metadata": {},
     "output_type": "execute_result"
    }
   ],
   "source": [
    "from nltk import sent_tokenize\n",
    "from nltk import word_tokenize\n",
    "nltk.download('punkt')\n",
    "nltk.download('wordnet')\n",
    "nltk.download('omw-1.4')"
   ]
  },
  {
   "cell_type": "code",
   "execution_count": 209,
   "id": "7c26962b",
   "metadata": {},
   "outputs": [
    {
     "data": {
      "text/plain": [
       "'Spectacular Mountain and incredible L.A. City Skyline Views. This elegant building is located in a quiet residential area. A circular driveway leads you to this elegant beautiful home. This warm and private house features three bedrooms and three baths. Spacious formal Living room, dinning room and a high ceiling family room with a wet bar.  Remodeled  kitchen with granite counter top and cozy breakfast area. The sliding doors open to a very private backyard with generous deck,fire pit, swimming pool, Spa, grass area and LA views. The master bedroom and other two bedrooms on the one side of the house. Upper level loft perfect for a den or office with doors leading to the balcony you can enjoy the incredible view!'"
      ]
     },
     "execution_count": 209,
     "metadata": {},
     "output_type": "execute_result"
    }
   ],
   "source": [
    "# take the \"Summary\" from the first sample as an example\n",
    "text = data_df.iloc[0]['Summary']\n",
    "text"
   ]
  },
  {
   "cell_type": "code",
   "execution_count": 210,
   "id": "7fba1ad2",
   "metadata": {},
   "outputs": [
    {
     "data": {
      "text/plain": [
       "['Spectacular Mountain and incredible L.A. City Skyline Views.',\n",
       " 'This elegant building is located in a quiet residential area.',\n",
       " 'A circular driveway leads you to this elegant beautiful home.',\n",
       " 'This warm and private house features three bedrooms and three baths.',\n",
       " 'Spacious formal Living room, dinning room and a high ceiling family room with a wet bar.',\n",
       " 'Remodeled  kitchen with granite counter top and cozy breakfast area.',\n",
       " 'The sliding doors open to a very private backyard with generous deck,fire pit, swimming pool, Spa, grass area and LA views.',\n",
       " 'The master bedroom and other two bedrooms on the one side of the house.',\n",
       " 'Upper level loft perfect for a den or office with doors leading to the balcony you can enjoy the incredible view!']"
      ]
     },
     "execution_count": 210,
     "metadata": {},
     "output_type": "execute_result"
    }
   ],
   "source": [
    "nltk.sent_tokenize(text)"
   ]
  },
  {
   "cell_type": "code",
   "execution_count": 211,
   "id": "ddd0f3c6",
   "metadata": {},
   "outputs": [
    {
     "name": "stdout",
     "output_type": "stream",
     "text": [
      "['Spectacular', 'Mountain', 'and', 'incredible', 'L.A.', 'City', 'Skyline', 'Views', '.', 'This', 'elegant', 'building', 'is', 'located', 'in', 'a', 'quiet', 'residential', 'area', '.', 'A', 'circular', 'driveway', 'leads', 'you', 'to', 'this', 'elegant', 'beautiful', 'home', '.', 'This', 'warm', 'and', 'private', 'house', 'features', 'three', 'bedrooms', 'and', 'three', 'baths', '.', 'Spacious', 'formal', 'Living', 'room', ',', 'dinning', 'room', 'and', 'a', 'high', 'ceiling', 'family', 'room', 'with', 'a', 'wet', 'bar', '.', 'Remodeled', 'kitchen', 'with', 'granite', 'counter', 'top', 'and', 'cozy', 'breakfast', 'area', '.', 'The', 'sliding', 'doors', 'open', 'to', 'a', 'very', 'private', 'backyard', 'with', 'generous', 'deck', ',', 'fire', 'pit', ',', 'swimming', 'pool', ',', 'Spa', ',', 'grass', 'area', 'and', 'LA', 'views', '.', 'The', 'master', 'bedroom', 'and', 'other', 'two', 'bedrooms', 'on', 'the', 'one', 'side', 'of', 'the', 'house', '.', 'Upper', 'level', 'loft', 'perfect', 'for', 'a', 'den', 'or', 'office', 'with', 'doors', 'leading', 'to', 'the', 'balcony', 'you', 'can', 'enjoy', 'the', 'incredible', 'view', '!']\n"
     ]
    }
   ],
   "source": [
    "print(nltk.word_tokenize(text))"
   ]
  },
  {
   "cell_type": "markdown",
   "id": "1887fb29",
   "metadata": {},
   "source": [
    "**Stemming**: apply rule-based method (e.g., cut the suffixes in words) to find the root of the word"
   ]
  },
  {
   "cell_type": "code",
   "execution_count": 212,
   "id": "f1b2a0ed",
   "metadata": {},
   "outputs": [
    {
     "data": {
      "text/plain": [
       "'leav'"
      ]
     },
     "execution_count": 212,
     "metadata": {},
     "output_type": "execute_result"
    }
   ],
   "source": [
    "from nltk.stem import PorterStemmer\n",
    "ps = PorterStemmer()\n",
    "word = (\"leaves\") \n",
    "ps.stem(word)"
   ]
  },
  {
   "cell_type": "markdown",
   "id": "87c6d36b",
   "metadata": {},
   "source": [
    "**lemmatization**: use lexical based knowledge to get the base forms of words"
   ]
  },
  {
   "cell_type": "code",
   "execution_count": 213,
   "id": "f79aa34a",
   "metadata": {},
   "outputs": [
    {
     "data": {
      "text/plain": [
       "'leaf'"
      ]
     },
     "execution_count": 213,
     "metadata": {},
     "output_type": "execute_result"
    }
   ],
   "source": [
    "import nltk\n",
    "from nltk.stem import WordNetLemmatizer \n",
    "lemmatizer = WordNetLemmatizer()\n",
    "lemmatizer.lemmatize(\"leaves\")"
   ]
  },
  {
   "cell_type": "code",
   "execution_count": 214,
   "id": "da97ddf6",
   "metadata": {},
   "outputs": [
    {
     "name": "stdout",
     "output_type": "stream",
     "text": [
      "['Spectacular', 'Mountain', 'and', 'incredible', 'L.A.', 'City', 'Skyline', 'Views', '.', 'This', 'elegant', 'building', 'is', 'located', 'in', 'a', 'quiet', 'residential', 'area', '.', 'A', 'circular', 'driveway', 'lead', 'you', 'to', 'this', 'elegant', 'beautiful', 'home', '.', 'This', 'warm', 'and', 'private', 'house', 'feature', 'three', 'bedroom', 'and', 'three', 'bath', '.', 'Spacious', 'formal', 'Living', 'room', ',', 'dinning', 'room', 'and', 'a', 'high', 'ceiling', 'family', 'room', 'with', 'a', 'wet', 'bar', '.', 'Remodeled', 'kitchen', 'with', 'granite', 'counter', 'top', 'and', 'cozy', 'breakfast', 'area', '.', 'The', 'sliding', 'door', 'open', 'to', 'a', 'very', 'private', 'backyard', 'with', 'generous', 'deck', ',', 'fire', 'pit', ',', 'swimming', 'pool', ',', 'Spa', ',', 'grass', 'area', 'and', 'LA', 'view', '.', 'The', 'master', 'bedroom', 'and', 'other', 'two', 'bedroom', 'on', 'the', 'one', 'side', 'of', 'the', 'house', '.', 'Upper', 'level', 'loft', 'perfect', 'for', 'a', 'den', 'or', 'office', 'with', 'door', 'leading', 'to', 'the', 'balcony', 'you', 'can', 'enjoy', 'the', 'incredible', 'view', '!']\n"
     ]
    }
   ],
   "source": [
    "# combine tokenization and lemmatization together\n",
    "word_list = nltk.word_tokenize(text)\n",
    "word_lem = [lemmatizer.lemmatize(tok) for tok in word_list]\n",
    "print(word_lem)"
   ]
  },
  {
   "cell_type": "markdown",
   "id": "25568e8b",
   "metadata": {},
   "source": [
    "### Part-4: Feature Engineering"
   ]
  },
  {
   "cell_type": "markdown",
   "id": "4aafb54b",
   "metadata": {},
   "source": [
    "#### 4.1: Numerical data\n",
    "- directly use the values"
   ]
  },
  {
   "cell_type": "markdown",
   "id": "89be0d2f",
   "metadata": {},
   "source": [
    "#### 4.2: Categorical data\n",
    "- encoding (one-hot/ordinal encoder)"
   ]
  },
  {
   "cell_type": "code",
   "execution_count": 215,
   "id": "9d2cb3a7",
   "metadata": {},
   "outputs": [
    {
     "data": {
      "text/plain": [
       "SingleFamily          81787\n",
       "Condo                 14902\n",
       "Townhouse              5639\n",
       "MultiFamily            5126\n",
       "Unknown                3260\n",
       "Apartment              1053\n",
       "MobileManufactured      935\n",
       "Cooperative              39\n",
       "Name: Home type, dtype: int64"
      ]
     },
     "execution_count": 215,
     "metadata": {},
     "output_type": "execute_result"
    }
   ],
   "source": [
    "# we will use the \"Home type\" column as an example to show the encoding logics\n",
    "data_df['Home type'].value_counts()"
   ]
  },
  {
   "cell_type": "code",
   "execution_count": 216,
   "id": "30a7f82a",
   "metadata": {},
   "outputs": [],
   "source": [
    "from sklearn.preprocessing import OneHotEncoder"
   ]
  },
  {
   "cell_type": "code",
   "execution_count": 217,
   "id": "61d28e33",
   "metadata": {},
   "outputs": [
    {
     "data": {
      "text/plain": [
       "OneHotEncoder(handle_unknown='ignore')"
      ]
     },
     "execution_count": 217,
     "metadata": {},
     "output_type": "execute_result"
    }
   ],
   "source": [
    "ohe = OneHotEncoder(handle_unknown='ignore')\n",
    "ohe.fit(data_df[['Home type']])"
   ]
  },
  {
   "cell_type": "code",
   "execution_count": 218,
   "id": "4cefa75e",
   "metadata": {},
   "outputs": [
    {
     "data": {
      "text/plain": [
       "[array(['Apartment', 'Condo', 'Cooperative', 'MobileManufactured',\n",
       "        'MultiFamily', 'SingleFamily', 'Townhouse', 'Unknown'],\n",
       "       dtype=object)]"
      ]
     },
     "execution_count": 218,
     "metadata": {},
     "output_type": "execute_result"
    }
   ],
   "source": [
    "# the categories learned during the fit process\n",
    "ohe.categories_"
   ]
  },
  {
   "cell_type": "code",
   "execution_count": 219,
   "id": "5115dc0b",
   "metadata": {},
   "outputs": [
    {
     "data": {
      "text/plain": [
       "array([0., 0., 0., 0., 0., 1., 0., 0.])"
      ]
     },
     "execution_count": 219,
     "metadata": {},
     "output_type": "execute_result"
    }
   ],
   "source": [
    "# encode the \"Home type\" with the learned categories during the fit process\n",
    "ohe.transform(data_df[['Home type']]).toarray()[0]"
   ]
  },
  {
   "cell_type": "code",
   "execution_count": 220,
   "id": "1b6c9f77",
   "metadata": {},
   "outputs": [
    {
     "data": {
      "text/html": [
       "<div>\n",
       "<style scoped>\n",
       "    .dataframe tbody tr th:only-of-type {\n",
       "        vertical-align: middle;\n",
       "    }\n",
       "\n",
       "    .dataframe tbody tr th {\n",
       "        vertical-align: top;\n",
       "    }\n",
       "\n",
       "    .dataframe thead th {\n",
       "        text-align: right;\n",
       "    }\n",
       "</style>\n",
       "<table border=\"1\" class=\"dataframe\">\n",
       "  <thead>\n",
       "    <tr style=\"text-align: right;\">\n",
       "      <th></th>\n",
       "      <th>Apartment</th>\n",
       "      <th>Condo</th>\n",
       "      <th>Cooperative</th>\n",
       "      <th>MobileManufactured</th>\n",
       "      <th>MultiFamily</th>\n",
       "      <th>SingleFamily</th>\n",
       "      <th>Townhouse</th>\n",
       "      <th>Unknown</th>\n",
       "    </tr>\n",
       "  </thead>\n",
       "  <tbody>\n",
       "    <tr>\n",
       "      <th>0</th>\n",
       "      <td>0.0</td>\n",
       "      <td>0.0</td>\n",
       "      <td>0.0</td>\n",
       "      <td>0.0</td>\n",
       "      <td>0.0</td>\n",
       "      <td>1.0</td>\n",
       "      <td>0.0</td>\n",
       "      <td>0.0</td>\n",
       "    </tr>\n",
       "    <tr>\n",
       "      <th>1</th>\n",
       "      <td>0.0</td>\n",
       "      <td>0.0</td>\n",
       "      <td>0.0</td>\n",
       "      <td>0.0</td>\n",
       "      <td>0.0</td>\n",
       "      <td>1.0</td>\n",
       "      <td>0.0</td>\n",
       "      <td>0.0</td>\n",
       "    </tr>\n",
       "    <tr>\n",
       "      <th>2</th>\n",
       "      <td>0.0</td>\n",
       "      <td>0.0</td>\n",
       "      <td>0.0</td>\n",
       "      <td>0.0</td>\n",
       "      <td>0.0</td>\n",
       "      <td>0.0</td>\n",
       "      <td>1.0</td>\n",
       "      <td>0.0</td>\n",
       "    </tr>\n",
       "    <tr>\n",
       "      <th>3</th>\n",
       "      <td>1.0</td>\n",
       "      <td>0.0</td>\n",
       "      <td>0.0</td>\n",
       "      <td>0.0</td>\n",
       "      <td>0.0</td>\n",
       "      <td>0.0</td>\n",
       "      <td>0.0</td>\n",
       "      <td>0.0</td>\n",
       "    </tr>\n",
       "    <tr>\n",
       "      <th>4</th>\n",
       "      <td>0.0</td>\n",
       "      <td>0.0</td>\n",
       "      <td>0.0</td>\n",
       "      <td>0.0</td>\n",
       "      <td>0.0</td>\n",
       "      <td>1.0</td>\n",
       "      <td>0.0</td>\n",
       "      <td>0.0</td>\n",
       "    </tr>\n",
       "    <tr>\n",
       "      <th>...</th>\n",
       "      <td>...</td>\n",
       "      <td>...</td>\n",
       "      <td>...</td>\n",
       "      <td>...</td>\n",
       "      <td>...</td>\n",
       "      <td>...</td>\n",
       "      <td>...</td>\n",
       "      <td>...</td>\n",
       "    </tr>\n",
       "    <tr>\n",
       "      <th>112736</th>\n",
       "      <td>0.0</td>\n",
       "      <td>1.0</td>\n",
       "      <td>0.0</td>\n",
       "      <td>0.0</td>\n",
       "      <td>0.0</td>\n",
       "      <td>0.0</td>\n",
       "      <td>0.0</td>\n",
       "      <td>0.0</td>\n",
       "    </tr>\n",
       "    <tr>\n",
       "      <th>112737</th>\n",
       "      <td>0.0</td>\n",
       "      <td>1.0</td>\n",
       "      <td>0.0</td>\n",
       "      <td>0.0</td>\n",
       "      <td>0.0</td>\n",
       "      <td>0.0</td>\n",
       "      <td>0.0</td>\n",
       "      <td>0.0</td>\n",
       "    </tr>\n",
       "    <tr>\n",
       "      <th>112738</th>\n",
       "      <td>0.0</td>\n",
       "      <td>1.0</td>\n",
       "      <td>0.0</td>\n",
       "      <td>0.0</td>\n",
       "      <td>0.0</td>\n",
       "      <td>0.0</td>\n",
       "      <td>0.0</td>\n",
       "      <td>0.0</td>\n",
       "    </tr>\n",
       "    <tr>\n",
       "      <th>112739</th>\n",
       "      <td>0.0</td>\n",
       "      <td>0.0</td>\n",
       "      <td>0.0</td>\n",
       "      <td>0.0</td>\n",
       "      <td>0.0</td>\n",
       "      <td>1.0</td>\n",
       "      <td>0.0</td>\n",
       "      <td>0.0</td>\n",
       "    </tr>\n",
       "    <tr>\n",
       "      <th>112740</th>\n",
       "      <td>0.0</td>\n",
       "      <td>0.0</td>\n",
       "      <td>0.0</td>\n",
       "      <td>0.0</td>\n",
       "      <td>0.0</td>\n",
       "      <td>1.0</td>\n",
       "      <td>0.0</td>\n",
       "      <td>0.0</td>\n",
       "    </tr>\n",
       "  </tbody>\n",
       "</table>\n",
       "<p>112741 rows × 8 columns</p>\n",
       "</div>"
      ],
      "text/plain": [
       "        Apartment  Condo  Cooperative  MobileManufactured  MultiFamily  \\\n",
       "0             0.0    0.0          0.0                 0.0          0.0   \n",
       "1             0.0    0.0          0.0                 0.0          0.0   \n",
       "2             0.0    0.0          0.0                 0.0          0.0   \n",
       "3             1.0    0.0          0.0                 0.0          0.0   \n",
       "4             0.0    0.0          0.0                 0.0          0.0   \n",
       "...           ...    ...          ...                 ...          ...   \n",
       "112736        0.0    1.0          0.0                 0.0          0.0   \n",
       "112737        0.0    1.0          0.0                 0.0          0.0   \n",
       "112738        0.0    1.0          0.0                 0.0          0.0   \n",
       "112739        0.0    0.0          0.0                 0.0          0.0   \n",
       "112740        0.0    0.0          0.0                 0.0          0.0   \n",
       "\n",
       "        SingleFamily  Townhouse  Unknown  \n",
       "0                1.0        0.0      0.0  \n",
       "1                1.0        0.0      0.0  \n",
       "2                0.0        1.0      0.0  \n",
       "3                0.0        0.0      0.0  \n",
       "4                1.0        0.0      0.0  \n",
       "...              ...        ...      ...  \n",
       "112736           0.0        0.0      0.0  \n",
       "112737           0.0        0.0      0.0  \n",
       "112738           0.0        0.0      0.0  \n",
       "112739           1.0        0.0      0.0  \n",
       "112740           1.0        0.0      0.0  \n",
       "\n",
       "[112741 rows x 8 columns]"
      ]
     },
     "execution_count": 220,
     "metadata": {},
     "output_type": "execute_result"
    }
   ],
   "source": [
    "# convert the original \"Home type\" column to the encoded categories\n",
    "pd.DataFrame(ohe.transform(data_df[['Home type']]).toarray()).rename(columns={i: catg for i, catg in enumerate(ohe.categories_[0])})"
   ]
  },
  {
   "cell_type": "code",
   "execution_count": 221,
   "id": "e50c4891",
   "metadata": {},
   "outputs": [
    {
     "data": {
      "text/html": [
       "<div>\n",
       "<style scoped>\n",
       "    .dataframe tbody tr th:only-of-type {\n",
       "        vertical-align: middle;\n",
       "    }\n",
       "\n",
       "    .dataframe tbody tr th {\n",
       "        vertical-align: top;\n",
       "    }\n",
       "\n",
       "    .dataframe thead th {\n",
       "        text-align: right;\n",
       "    }\n",
       "</style>\n",
       "<table border=\"1\" class=\"dataframe\">\n",
       "  <thead>\n",
       "    <tr style=\"text-align: right;\">\n",
       "      <th></th>\n",
       "      <th>Apartment</th>\n",
       "      <th>Condo</th>\n",
       "      <th>Cooperative</th>\n",
       "      <th>MobileManufactured</th>\n",
       "      <th>MultiFamily</th>\n",
       "      <th>SingleFamily</th>\n",
       "      <th>Townhouse</th>\n",
       "      <th>Unknown</th>\n",
       "    </tr>\n",
       "  </thead>\n",
       "  <tbody>\n",
       "    <tr>\n",
       "      <th>1</th>\n",
       "      <td>0</td>\n",
       "      <td>0</td>\n",
       "      <td>0</td>\n",
       "      <td>0</td>\n",
       "      <td>0</td>\n",
       "      <td>1</td>\n",
       "      <td>0</td>\n",
       "      <td>0</td>\n",
       "    </tr>\n",
       "    <tr>\n",
       "      <th>2</th>\n",
       "      <td>0</td>\n",
       "      <td>0</td>\n",
       "      <td>0</td>\n",
       "      <td>0</td>\n",
       "      <td>0</td>\n",
       "      <td>1</td>\n",
       "      <td>0</td>\n",
       "      <td>0</td>\n",
       "    </tr>\n",
       "    <tr>\n",
       "      <th>5</th>\n",
       "      <td>0</td>\n",
       "      <td>0</td>\n",
       "      <td>0</td>\n",
       "      <td>0</td>\n",
       "      <td>0</td>\n",
       "      <td>0</td>\n",
       "      <td>1</td>\n",
       "      <td>0</td>\n",
       "    </tr>\n",
       "    <tr>\n",
       "      <th>6</th>\n",
       "      <td>1</td>\n",
       "      <td>0</td>\n",
       "      <td>0</td>\n",
       "      <td>0</td>\n",
       "      <td>0</td>\n",
       "      <td>0</td>\n",
       "      <td>0</td>\n",
       "      <td>0</td>\n",
       "    </tr>\n",
       "    <tr>\n",
       "      <th>7</th>\n",
       "      <td>0</td>\n",
       "      <td>0</td>\n",
       "      <td>0</td>\n",
       "      <td>0</td>\n",
       "      <td>0</td>\n",
       "      <td>1</td>\n",
       "      <td>0</td>\n",
       "      <td>0</td>\n",
       "    </tr>\n",
       "  </tbody>\n",
       "</table>\n",
       "</div>"
      ],
      "text/plain": [
       "   Apartment  Condo  Cooperative  MobileManufactured  MultiFamily  \\\n",
       "1          0      0            0                   0            0   \n",
       "2          0      0            0                   0            0   \n",
       "5          0      0            0                   0            0   \n",
       "6          1      0            0                   0            0   \n",
       "7          0      0            0                   0            0   \n",
       "\n",
       "   SingleFamily  Townhouse  Unknown  \n",
       "1             1          0        0  \n",
       "2             1          0        0  \n",
       "5             0          1        0  \n",
       "6             0          0        0  \n",
       "7             1          0        0  "
      ]
     },
     "execution_count": 221,
     "metadata": {},
     "output_type": "execute_result"
    }
   ],
   "source": [
    "# An alternative but not recommended approach\n",
    "# This method does not fit in a standard ML pipeline, the encoding can't transform from training to testing data\n",
    "pd.get_dummies(data_df['Home type']).head()"
   ]
  },
  {
   "cell_type": "markdown",
   "id": "65a8922c",
   "metadata": {},
   "source": [
    "#### 4.3: Date-time\n",
    "- generate a corresponding feature list such as: [year, month, day]"
   ]
  },
  {
   "cell_type": "code",
   "execution_count": 222,
   "id": "428df942",
   "metadata": {},
   "outputs": [],
   "source": [
    "data_col = ['Sold On', 'Year built', 'Listed On']"
   ]
  },
  {
   "cell_type": "code",
   "execution_count": 223,
   "id": "eb314702",
   "metadata": {},
   "outputs": [
    {
     "data": {
      "text/plain": [
       "1     02/25/21\n",
       "2     11/06/19\n",
       "5     02/24/21\n",
       "6     08/31/19\n",
       "7     11/06/19\n",
       "8     01/30/21\n",
       "10    01/13/21\n",
       "11    12/18/20\n",
       "12    04/30/20\n",
       "14    09/03/20\n",
       "Name: Sold On, dtype: object"
      ]
     },
     "execution_count": 223,
     "metadata": {},
     "output_type": "execute_result"
    }
   ],
   "source": [
    "# we will use the \"Sold On\" column as an example to show the processing logics\n",
    "data_df.iloc[:10]['Sold On']"
   ]
  },
  {
   "cell_type": "code",
   "execution_count": 224,
   "id": "dcc42a27",
   "metadata": {},
   "outputs": [],
   "source": [
    "# convert the column to DataTime type\n",
    "data_df['Sold On'] = pd.to_datetime(data_df['Sold On'], infer_datetime_format=True)"
   ]
  },
  {
   "cell_type": "code",
   "execution_count": 225,
   "id": "9a0698d8",
   "metadata": {},
   "outputs": [
    {
     "data": {
      "text/html": [
       "<div>\n",
       "<style scoped>\n",
       "    .dataframe tbody tr th:only-of-type {\n",
       "        vertical-align: middle;\n",
       "    }\n",
       "\n",
       "    .dataframe tbody tr th {\n",
       "        vertical-align: top;\n",
       "    }\n",
       "\n",
       "    .dataframe thead th {\n",
       "        text-align: right;\n",
       "    }\n",
       "</style>\n",
       "<table border=\"1\" class=\"dataframe\">\n",
       "  <thead>\n",
       "    <tr style=\"text-align: right;\">\n",
       "      <th></th>\n",
       "      <th>Sold On</th>\n",
       "      <th>Sold_Year</th>\n",
       "      <th>Sold_Month</th>\n",
       "      <th>Sold_Day</th>\n",
       "    </tr>\n",
       "  </thead>\n",
       "  <tbody>\n",
       "    <tr>\n",
       "      <th>1</th>\n",
       "      <td>2021-02-25</td>\n",
       "      <td>2021</td>\n",
       "      <td>2</td>\n",
       "      <td>25</td>\n",
       "    </tr>\n",
       "    <tr>\n",
       "      <th>2</th>\n",
       "      <td>2019-11-06</td>\n",
       "      <td>2019</td>\n",
       "      <td>11</td>\n",
       "      <td>6</td>\n",
       "    </tr>\n",
       "    <tr>\n",
       "      <th>5</th>\n",
       "      <td>2021-02-24</td>\n",
       "      <td>2021</td>\n",
       "      <td>2</td>\n",
       "      <td>24</td>\n",
       "    </tr>\n",
       "    <tr>\n",
       "      <th>6</th>\n",
       "      <td>2019-08-31</td>\n",
       "      <td>2019</td>\n",
       "      <td>8</td>\n",
       "      <td>31</td>\n",
       "    </tr>\n",
       "    <tr>\n",
       "      <th>7</th>\n",
       "      <td>2019-11-06</td>\n",
       "      <td>2019</td>\n",
       "      <td>11</td>\n",
       "      <td>6</td>\n",
       "    </tr>\n",
       "    <tr>\n",
       "      <th>...</th>\n",
       "      <td>...</td>\n",
       "      <td>...</td>\n",
       "      <td>...</td>\n",
       "      <td>...</td>\n",
       "    </tr>\n",
       "    <tr>\n",
       "      <th>164939</th>\n",
       "      <td>2021-02-19</td>\n",
       "      <td>2021</td>\n",
       "      <td>2</td>\n",
       "      <td>19</td>\n",
       "    </tr>\n",
       "    <tr>\n",
       "      <th>164940</th>\n",
       "      <td>2018-05-31</td>\n",
       "      <td>2018</td>\n",
       "      <td>5</td>\n",
       "      <td>31</td>\n",
       "    </tr>\n",
       "    <tr>\n",
       "      <th>164941</th>\n",
       "      <td>2019-11-04</td>\n",
       "      <td>2019</td>\n",
       "      <td>11</td>\n",
       "      <td>4</td>\n",
       "    </tr>\n",
       "    <tr>\n",
       "      <th>164942</th>\n",
       "      <td>2020-07-23</td>\n",
       "      <td>2020</td>\n",
       "      <td>7</td>\n",
       "      <td>23</td>\n",
       "    </tr>\n",
       "    <tr>\n",
       "      <th>164943</th>\n",
       "      <td>2019-11-27</td>\n",
       "      <td>2019</td>\n",
       "      <td>11</td>\n",
       "      <td>27</td>\n",
       "    </tr>\n",
       "  </tbody>\n",
       "</table>\n",
       "<p>112741 rows × 4 columns</p>\n",
       "</div>"
      ],
      "text/plain": [
       "          Sold On  Sold_Year  Sold_Month  Sold_Day\n",
       "1      2021-02-25       2021           2        25\n",
       "2      2019-11-06       2019          11         6\n",
       "5      2021-02-24       2021           2        24\n",
       "6      2019-08-31       2019           8        31\n",
       "7      2019-11-06       2019          11         6\n",
       "...           ...        ...         ...       ...\n",
       "164939 2021-02-19       2021           2        19\n",
       "164940 2018-05-31       2018           5        31\n",
       "164941 2019-11-04       2019          11         4\n",
       "164942 2020-07-23       2020           7        23\n",
       "164943 2019-11-27       2019          11        27\n",
       "\n",
       "[112741 rows x 4 columns]"
      ]
     },
     "execution_count": 225,
     "metadata": {},
     "output_type": "execute_result"
    }
   ],
   "source": [
    "# extract year/month/day or other corresponding features\n",
    "data_df['Sold_Year'] = data_df['Sold On'].apply(lambda time: time.year)\n",
    "data_df['Sold_Month'] = data_df['Sold On'].apply(lambda time: time.month)\n",
    "data_df['Sold_Day'] = data_df['Sold On'].apply(lambda time: time.day)\n",
    "\n",
    "data_df[['Sold On', 'Sold_Year', 'Sold_Month', 'Sold_Day']]"
   ]
  },
  {
   "cell_type": "markdown",
   "id": "3417b8e9",
   "metadata": {},
   "source": [
    "#### 4.4: Text data\n",
    "- vectorization\n",
    "- embedding"
   ]
  },
  {
   "cell_type": "code",
   "execution_count": 226,
   "id": "c20d1974",
   "metadata": {},
   "outputs": [],
   "source": [
    "from sklearn.feature_extraction.text import CountVectorizer"
   ]
  },
  {
   "cell_type": "markdown",
   "id": "bf1186dd",
   "metadata": {},
   "source": [
    "#### 4.4.1: We will take the \"Summary\" column to show an example."
   ]
  },
  {
   "cell_type": "code",
   "execution_count": 227,
   "id": "4a2a6904",
   "metadata": {},
   "outputs": [],
   "source": [
    "# fill in missing values with empty string\n",
    "data_df['Summary'].fillna(value='', inplace=True)"
   ]
  },
  {
   "cell_type": "markdown",
   "id": "1ff95794",
   "metadata": {},
   "source": [
    "Take the \"Summary\" from top-100 samples to form a sample corpus, do tokenization and lemmatization"
   ]
  },
  {
   "cell_type": "code",
   "execution_count": 228,
   "id": "45413fa6",
   "metadata": {},
   "outputs": [],
   "source": [
    "corpus = data_df.iloc[:100]['Summary']\n",
    "corpus_lem = []\n",
    "for text in corpus:\n",
    "    word_list = nltk.word_tokenize(text)\n",
    "    word_lem = [lemmatizer.lemmatize(tok) for tok in word_list]\n",
    "    corpus_lem.append(' '.join(word_lem))"
   ]
  },
  {
   "cell_type": "markdown",
   "id": "b26699d9",
   "metadata": {},
   "source": [
    "Vectorize the lemmatized corpus with multiple conditions set by the parameters. **Be careful about the parameter settings.**"
   ]
  },
  {
   "cell_type": "code",
   "execution_count": 229,
   "id": "19629b6f",
   "metadata": {},
   "outputs": [],
   "source": [
    "vectorizer = CountVectorizer(min_df=5, max_df=0.8,ngram_range=(1,1),binary=False,stop_words='english')\n",
    "X = vectorizer.fit_transform(corpus_lem)"
   ]
  },
  {
   "cell_type": "code",
   "execution_count": 230,
   "id": "a2011fc7",
   "metadata": {},
   "outputs": [
    {
     "data": {
      "text/plain": [
       "(100, 266)"
      ]
     },
     "execution_count": 230,
     "metadata": {},
     "output_type": "execute_result"
    }
   ],
   "source": [
    "# check the feature matrix of the vectorized corpus\n",
    "X.shape"
   ]
  },
  {
   "cell_type": "code",
   "execution_count": 232,
   "id": "6ae16076",
   "metadata": {},
   "outputs": [
    {
     "data": {
      "text/plain": [
       "['000',\n",
       " '101',\n",
       " '2018',\n",
       " '2019',\n",
       " '2020',\n",
       " '280',\n",
       " '300',\n",
       " '400',\n",
       " '500',\n",
       " 'access',\n",
       " 'acre',\n",
       " 'additional',\n",
       " 'air',\n",
       " 'amazing',\n",
       " 'angeles',\n",
       " 'apple',\n",
       " 'appliance',\n",
       " 'area',\n",
       " 'attached',\n",
       " 'ave',\n",
       " 'away',\n",
       " 'backyard',\n",
       " 'balcony',\n",
       " 'bar',\n",
       " 'bath',\n",
       " 'bathroom',\n",
       " 'beach',\n",
       " 'beautiful',\n",
       " 'beautifully',\n",
       " 'bedroom',\n",
       " 'bedrooms',\n",
       " 'big',\n",
       " 'block',\n",
       " 'boast',\n",
       " 'brand',\n",
       " 'breakfast',\n",
       " 'bright',\n",
       " 'built',\n",
       " 'buyer',\n",
       " 'ca',\n",
       " 'cabinet',\n",
       " 'car',\n",
       " 'carpet',\n",
       " 'ceiling',\n",
       " 'center',\n",
       " 'central',\n",
       " 'charming',\n",
       " 'city',\n",
       " 'close',\n",
       " 'closet',\n",
       " 'come',\n",
       " 'community',\n",
       " 'complete',\n",
       " 'condo',\n",
       " 'contains',\n",
       " 'conveniently',\n",
       " 'counter',\n",
       " 'countertop',\n",
       " 'cozy',\n",
       " 'credit',\n",
       " 'cul',\n",
       " 'custom',\n",
       " 'deck',\n",
       " 'den',\n",
       " 'desirable',\n",
       " 'detached',\n",
       " 'dining',\n",
       " 'distance',\n",
       " 'district',\n",
       " 'door',\n",
       " 'downstairs',\n",
       " 'downtown',\n",
       " 'dr',\n",
       " 'driveway',\n",
       " 'dryer',\n",
       " 'dual',\n",
       " 'easy',\n",
       " 'eat',\n",
       " 'elementary',\n",
       " 'end',\n",
       " 'enjoy',\n",
       " 'entertaining',\n",
       " 'entertainment',\n",
       " 'excellent',\n",
       " 'exterior',\n",
       " 'extra',\n",
       " 'family',\n",
       " 'fan',\n",
       " 'feature',\n",
       " 'fireplace',\n",
       " 'fixture',\n",
       " 'floor',\n",
       " 'flooring',\n",
       " 'formal',\n",
       " 'freeway',\n",
       " 'fresh',\n",
       " 'ft',\n",
       " 'fully',\n",
       " 'garage',\n",
       " 'garden',\n",
       " 'gas',\n",
       " 'gated',\n",
       " 'glass',\n",
       " 'gorgeous',\n",
       " 'gourmet',\n",
       " 'granite',\n",
       " 'great',\n",
       " 'ha',\n",
       " 'hardwood',\n",
       " 'heart',\n",
       " 'heater',\n",
       " 'high',\n",
       " 'highly',\n",
       " 'home',\n",
       " 'house',\n",
       " 'huge',\n",
       " 'ideal',\n",
       " 'includes',\n",
       " 'including',\n",
       " 'inside',\n",
       " 'interior',\n",
       " 'investment',\n",
       " 'inviting',\n",
       " 'island',\n",
       " 'jose',\n",
       " 'just',\n",
       " 'kitchen',\n",
       " 'la',\n",
       " 'laminate',\n",
       " 'landscaping',\n",
       " 'large',\n",
       " 'laundry',\n",
       " 'lead',\n",
       " 'level',\n",
       " 'light',\n",
       " 'lighting',\n",
       " 'like',\n",
       " 'living',\n",
       " 'll',\n",
       " 'located',\n",
       " 'location',\n",
       " 'long',\n",
       " 'los',\n",
       " 'lot',\n",
       " 'love',\n",
       " 'lovely',\n",
       " 'low',\n",
       " 'main',\n",
       " 'make',\n",
       " 'market',\n",
       " 'master',\n",
       " 'mile',\n",
       " 'minute',\n",
       " 'miss',\n",
       " 'mo',\n",
       " 'modern',\n",
       " 'month',\n",
       " 'mountain',\n",
       " 'natural',\n",
       " 'near',\n",
       " 'nearby',\n",
       " 'need',\n",
       " 'neighborhood',\n",
       " 'new',\n",
       " 'newer',\n",
       " 'newly',\n",
       " 'offer',\n",
       " 'office',\n",
       " 'open',\n",
       " 'opportunity',\n",
       " 'outside',\n",
       " 'owner',\n",
       " 'paint',\n",
       " 'pane',\n",
       " 'panel',\n",
       " 'park',\n",
       " 'parking',\n",
       " 'patio',\n",
       " 'pay',\n",
       " 'perfect',\n",
       " 'picture',\n",
       " 'place',\n",
       " 'plan',\n",
       " 'plenty',\n",
       " 'plus',\n",
       " 'pool',\n",
       " 'potential',\n",
       " 'price',\n",
       " 'private',\n",
       " 'property',\n",
       " 'provide',\n",
       " 'quartz',\n",
       " 'quiet',\n",
       " 'range',\n",
       " 'ready',\n",
       " 'rear',\n",
       " 'recessed',\n",
       " 'remodeled',\n",
       " 'renovated',\n",
       " 'rent',\n",
       " 'rental',\n",
       " 'restaurant',\n",
       " 'right',\n",
       " 'roof',\n",
       " 'room',\n",
       " 'sac',\n",
       " 'san',\n",
       " 'santa',\n",
       " 'school',\n",
       " 'separate',\n",
       " 'sf',\n",
       " 'shop',\n",
       " 'shopping',\n",
       " 'shower',\n",
       " 'silicon',\n",
       " 'single',\n",
       " 'sink',\n",
       " 'size',\n",
       " 'skylight',\n",
       " 'sliding',\n",
       " 'sold',\n",
       " 'spa',\n",
       " 'space',\n",
       " 'spacious',\n",
       " 'sq',\n",
       " 'square',\n",
       " 'stainless',\n",
       " 'steel',\n",
       " 'step',\n",
       " 'storage',\n",
       " 'story',\n",
       " 'street',\n",
       " 'style',\n",
       " 'suite',\n",
       " 'tenant',\n",
       " 'tile',\n",
       " 'time',\n",
       " 'today',\n",
       " 'trail',\n",
       " 'tree',\n",
       " 'tub',\n",
       " 'unit',\n",
       " 'updated',\n",
       " 'upgraded',\n",
       " 'upstairs',\n",
       " 'utility',\n",
       " 'valley',\n",
       " 'vaulted',\n",
       " 'verify',\n",
       " 'view',\n",
       " 'village',\n",
       " 'wa',\n",
       " 'walk',\n",
       " 'walking',\n",
       " 'warm',\n",
       " 'washer',\n",
       " 'water',\n",
       " 'way',\n",
       " 'welcome',\n",
       " 'window',\n",
       " 'wonderful',\n",
       " 'wood',\n",
       " 'work',\n",
       " 'yard',\n",
       " 'year',\n",
       " 'zestimate']"
      ]
     },
     "execution_count": 232,
     "metadata": {},
     "output_type": "execute_result"
    }
   ],
   "source": [
    "# check the extracted features during the vectorization\n",
    "feature_names = vectorizer.get_feature_names()\n",
    "feature_names"
   ]
  },
  {
   "cell_type": "markdown",
   "id": "11efd958",
   "metadata": {},
   "source": [
    "Find out the top-10 most frequent features "
   ]
  },
  {
   "cell_type": "code",
   "execution_count": 233,
   "id": "89c6b807",
   "metadata": {},
   "outputs": [],
   "source": [
    "def get_topn_features(X, feature_names, topn=10):\n",
    "    \"\"\"\n",
    "    Inputs:\n",
    "        X: feature matrix\n",
    "        feature_names: extracted features during vectorization\n",
    "        topn: the number of most frequent features to return\n",
    "    Outputs:\n",
    "        topn most frequent features and their frequency\n",
    "    \"\"\"\n",
    "    feature_ct = np.asarray(np.sum(X, axis=0)).reshape(-1)\n",
    "\n",
    "    feature_freq = []\n",
    "    \n",
    "    for i in np.argsort(feature_ct)[::-1][:topn]:\n",
    "        feature_freq.append({'feature':feature_names[i], 'frequency':feature_ct[i]})\n",
    "    \n",
    "    return pd.DataFrame(feature_freq)"
   ]
  },
  {
   "cell_type": "code",
   "execution_count": 234,
   "id": "25e342fb",
   "metadata": {},
   "outputs": [
    {
     "data": {
      "text/html": [
       "<div>\n",
       "<style scoped>\n",
       "    .dataframe tbody tr th:only-of-type {\n",
       "        vertical-align: middle;\n",
       "    }\n",
       "\n",
       "    .dataframe tbody tr th {\n",
       "        vertical-align: top;\n",
       "    }\n",
       "\n",
       "    .dataframe thead th {\n",
       "        text-align: right;\n",
       "    }\n",
       "</style>\n",
       "<table border=\"1\" class=\"dataframe\">\n",
       "  <thead>\n",
       "    <tr style=\"text-align: right;\">\n",
       "      <th></th>\n",
       "      <th>feature</th>\n",
       "      <th>frequency</th>\n",
       "    </tr>\n",
       "  </thead>\n",
       "  <tbody>\n",
       "    <tr>\n",
       "      <th>0</th>\n",
       "      <td>home</td>\n",
       "      <td>183</td>\n",
       "    </tr>\n",
       "    <tr>\n",
       "      <th>1</th>\n",
       "      <td>new</td>\n",
       "      <td>97</td>\n",
       "    </tr>\n",
       "    <tr>\n",
       "      <th>2</th>\n",
       "      <td>bedroom</td>\n",
       "      <td>94</td>\n",
       "    </tr>\n",
       "    <tr>\n",
       "      <th>3</th>\n",
       "      <td>room</td>\n",
       "      <td>94</td>\n",
       "    </tr>\n",
       "    <tr>\n",
       "      <th>4</th>\n",
       "      <td>kitchen</td>\n",
       "      <td>65</td>\n",
       "    </tr>\n",
       "    <tr>\n",
       "      <th>5</th>\n",
       "      <td>ha</td>\n",
       "      <td>59</td>\n",
       "    </tr>\n",
       "    <tr>\n",
       "      <th>6</th>\n",
       "      <td>bathroom</td>\n",
       "      <td>54</td>\n",
       "    </tr>\n",
       "    <tr>\n",
       "      <th>7</th>\n",
       "      <td>family</td>\n",
       "      <td>53</td>\n",
       "    </tr>\n",
       "    <tr>\n",
       "      <th>8</th>\n",
       "      <td>bath</td>\n",
       "      <td>53</td>\n",
       "    </tr>\n",
       "    <tr>\n",
       "      <th>9</th>\n",
       "      <td>house</td>\n",
       "      <td>52</td>\n",
       "    </tr>\n",
       "  </tbody>\n",
       "</table>\n",
       "</div>"
      ],
      "text/plain": [
       "    feature  frequency\n",
       "0      home        183\n",
       "1       new         97\n",
       "2   bedroom         94\n",
       "3      room         94\n",
       "4   kitchen         65\n",
       "5        ha         59\n",
       "6  bathroom         54\n",
       "7    family         53\n",
       "8      bath         53\n",
       "9     house         52"
      ]
     },
     "execution_count": 234,
     "metadata": {},
     "output_type": "execute_result"
    }
   ],
   "source": [
    "get_topn_features(X, feature_names, topn=10)"
   ]
  },
  {
   "cell_type": "markdown",
   "id": "29a83671",
   "metadata": {},
   "source": [
    "From the top-10 most frequent features, we observe that most houses describe the house conditions from the aspect of new, bedroom, bathroom, living, kitchen, floor. <br>\n",
    "**However**, it is unclear why \"ha\" appears to be a frequent word. We need to find out documents that contain \"ha\" and explore the specific reason."
   ]
  },
  {
   "cell_type": "code",
   "execution_count": 235,
   "id": "2c30c005",
   "metadata": {},
   "outputs": [
    {
     "data": {
      "text/plain": [
       "(array([], dtype=int64),)"
      ]
     },
     "execution_count": 235,
     "metadata": {},
     "output_type": "execute_result"
    }
   ],
   "source": [
    "# find the index of \"ha\" from the feature list\n",
    "np.where(feature_names == 'ha')"
   ]
  },
  {
   "cell_type": "code",
   "execution_count": 236,
   "id": "b8899d8c",
   "metadata": {},
   "outputs": [
    {
     "data": {
      "text/plain": [
       "array(['Eichler Style home ! with Santa Clara High ! in a Quiet Cul-de-sac for privacy . This mid century beauty offer the open and spacious floor plan you have come to expect . Excellent Location , New Apple you will be front and center . Walking distance to store and good Santa Clara utility . Newer Roofing that provides insulation. , Upgrades include Quartz kitchen counter , modern lighting , Paver light , Low maintenance yard with faux front and backyard lawn , New A/C ( few month new ) , Large permitted Family Room . Kaiser Permanente & most High Tech company , Easy access to Hwy 280 & 101 . Priced to move ! Home in Great condition ! In the heart of Silicon Valley and beautiful ! This Mid Century home offer the open floor plan people love ! Walking distance to the New Apple Parkway , Kaiser , Santa Clara High School , Stratford , Dining and more . Newer , Insulated roof , New Air Conditioning , Decorative Pavers w/lights . Quartz counter in kitchen and more !',\n",
       "       \"Welcome home to your Silicon Beach sanctuary ! This N. Kentwood coastal farmhouse will brighten up your day with it open floor plan , natural light , park-like yard & quality craftsmanship . A Pagan Construction build , no expense ha been spared ! A cheerful porch invite you into a sunlit living room w/ wainscoting & wide-plank wood floor . The heart of this happy home , the chef 's kitchen conveniently open to both the dining & family room & feature custom shaker cabinet , s.s. appliance , marble counter , breakfast bar & farm sink . The cozy family room offer the perfect escape w/ it vaulted ceiling , warm fireplace & bright French door to the garden . A true retreat , the exceptionally private yard is an entertainer 's dream w/ it built-in BBQ , wet bar , patio , & sprawling lawn . 3 spacious BRs & 2 chic BAs complete this designer home , including a stunning master w/ vaulted ceiling & a spa-like bath . Enjoy a finished garage w/ plumbing ( ideal for an ADU ) & upgraded system throughout !\"],\n",
       "      dtype='<U1927')"
      ]
     },
     "execution_count": 236,
     "metadata": {},
     "output_type": "execute_result"
    }
   ],
   "source": [
    "# find \"ha\" from the lemmatized corpus\n",
    "np.array(corpus_lem)[np.where(X[:, 109].toarray() > 0)[0]][:2] # only select two samples for visualization purpose"
   ]
  },
  {
   "cell_type": "code",
   "execution_count": 237,
   "id": "401ad74e",
   "metadata": {},
   "outputs": [
    {
     "data": {
      "text/plain": [
       "array(['Eichler Style home! with Santa Clara High! in a Quiet Cul-de-sac for privacy.  This mid century beauty offers the open and spacious floor plan you have come to expect. Excellent Location, New Apple you will be  front and center.  Walking distance to stores and good Santa Clara utilities. Newer Roofing that provides insulation., Upgrades include Quartz kitchen counters, modern lighting, Paver lights, Low maintenance yards with faux  front and backyard lawn, New A/C (few months new), Large permitted Family Room.  Kaiser Permanente & most High Tech companies, Easy access to Hwy 280 &101. Priced to move! Home in Great condition!\\n\\nIn the heart of Silicon Valley and beautiful! This Mid Century home offers the open floor plan people love! Walking distance to the New Apple Parkway, Kaiser, Santa Clara High School, Stratford, Dining and more. Newer, Insulated roof, New Air Conditioning, Decorative Pavers w/lights . Quartz counter in kitchen and more!',\n",
       "       \"Welcome home to your Silicon Beach sanctuary! This N. Kentwood coastal farmhouse will brighten up your day with its open floor plan, natural light, park-like yard & quality craftsmanship. A Pagan Construction build, no expense has been spared! A cheerful porch invites you into a sunlit living room w/ wainscoting & wide-plank wood floors. The heart of this happy home, the chef's kitchen conveniently opens to both the dining & family rooms & features custom shaker cabinets, s.s. appliances, marble counters, breakfast bar & farm sink. The cozy family room offers the perfect escape w/ its vaulted ceilings, warm fireplace & bright French doors to the garden. A true retreat, the exceptionally private yard is an entertainer's dream w/ its built-in BBQ, wet bar, patios, & sprawling lawn. 3 spacious BRs & 2 chic BAs complete this designer home, including a stunning master w/ vaulted ceilings & a spa-like bath. Enjoy a finished garage w/ plumbing (ideal for an ADU) & upgraded systems throughout!\"],\n",
       "      dtype=object)"
      ]
     },
     "execution_count": 237,
     "metadata": {},
     "output_type": "execute_result"
    }
   ],
   "source": [
    "# find \"ha\" from the raw corpus before tokenization and lemmatization\n",
    "corpus.values[np.where(X[:, 109].toarray() > 0)[0]][:2] # only select two samples for visualization purpose"
   ]
  },
  {
   "cell_type": "code",
   "execution_count": 238,
   "id": "3d7cd892",
   "metadata": {},
   "outputs": [
    {
     "data": {
      "text/plain": [
       "'ha'"
      ]
     },
     "execution_count": 238,
     "metadata": {},
     "output_type": "execute_result"
    }
   ],
   "source": [
    "# according to the above observation, it seems like \"ha\" is the lemma of \"has\"\n",
    "lemmatizer.lemmatize('has')"
   ]
  },
  {
   "cell_type": "markdown",
   "id": "e4643fe9",
   "metadata": {},
   "source": [
    "Based on the above exploration, we know that \"ha\" appears to be a frequent word, because it is lemmatized from \"has\", which is frequently used in the \"Summary\" description. <br>\n",
    "According to our common sense, \"ha\" doesn't provide deeper understanding of the house's \"Summary\" information. So we can process it as a stop-word and remove it during the vectorization process."
   ]
  },
  {
   "cell_type": "code",
   "execution_count": 239,
   "id": "e88a1ed2",
   "metadata": {},
   "outputs": [],
   "source": [
    "# add self-defined stop-words\n",
    "from sklearn.feature_extraction import text \n",
    "new_stop_words = text.ENGLISH_STOP_WORDS.union(['ha'])\n",
    "# start from vectorization to repeat the above process \n",
    "# In real-world tasks, you might need to repeat the above process multiple times to remove unreasonable features"
   ]
  },
  {
   "cell_type": "markdown",
   "id": "b06f8f4f",
   "metadata": {},
   "source": [
    "#### 4.4.2:\n",
    "- In the above process, we showed the logics for doing text feature engineering, on 100 samples.\n",
    "- apply the similar logic to process the \"Summary\" column for all samples. \n",
    "- Find out the top-20 most frequent words (you might repeat the process multiple times until the top-20 most frequent words make sense to you)"
   ]
  },
  {
   "cell_type": "code",
   "execution_count": 240,
   "id": "fda8bdfe",
   "metadata": {},
   "outputs": [],
   "source": [
    "corpus2 = data_df['Summary']\n",
    "corpus_lem2 = []\n",
    "for text in corpus2:\n",
    "    word_list = nltk.word_tokenize(text)\n",
    "    word_lem = [lemmatizer.lemmatize(tok) for tok in word_list]\n",
    "    corpus_lem2.append(' '.join(word_lem))"
   ]
  },
  {
   "cell_type": "code",
   "execution_count": 247,
   "id": "e97f9ff6",
   "metadata": {},
   "outputs": [],
   "source": [
    "vectorizer = CountVectorizer(min_df=5, max_df=0.8,ngram_range=(1,1),binary=False,stop_words=new_stop_words)\n",
    "X = vectorizer.fit_transform(corpus_lem2)"
   ]
  },
  {
   "cell_type": "code",
   "execution_count": 248,
   "id": "32ba8cdc",
   "metadata": {},
   "outputs": [
    {
     "data": {
      "text/plain": [
       "(112741, 18906)"
      ]
     },
     "execution_count": 248,
     "metadata": {},
     "output_type": "execute_result"
    }
   ],
   "source": [
    "X.shape"
   ]
  },
  {
   "cell_type": "code",
   "execution_count": 249,
   "id": "f9adee33",
   "metadata": {},
   "outputs": [
    {
     "data": {
      "text/plain": [
       "['00',\n",
       " '000',\n",
       " '0000',\n",
       " '000s',\n",
       " '000sf',\n",
       " '000sq',\n",
       " '000sqft',\n",
       " '001',\n",
       " '002',\n",
       " '0025',\n",
       " '003',\n",
       " '004',\n",
       " '005',\n",
       " '006',\n",
       " '0062',\n",
       " '007',\n",
       " '008',\n",
       " '00823559',\n",
       " '009',\n",
       " '00am',\n",
       " '00pm',\n",
       " '01',\n",
       " '010',\n",
       " '011',\n",
       " '012',\n",
       " '01201656',\n",
       " '013',\n",
       " '014',\n",
       " '01428710',\n",
       " '01498174',\n",
       " '015',\n",
       " '016',\n",
       " '017',\n",
       " '01763046',\n",
       " '018',\n",
       " '01845393',\n",
       " '01872426',\n",
       " '019',\n",
       " '01998337',\n",
       " '02',\n",
       " '020',\n",
       " '02082345',\n",
       " '02092585',\n",
       " '021',\n",
       " '022',\n",
       " '023',\n",
       " '024',\n",
       " '025',\n",
       " '026',\n",
       " '027',\n",
       " '028',\n",
       " '0284',\n",
       " '029',\n",
       " '03',\n",
       " '030',\n",
       " '031',\n",
       " '032',\n",
       " '033',\n",
       " '034',\n",
       " '035',\n",
       " '036',\n",
       " '037',\n",
       " '038',\n",
       " '039',\n",
       " '04',\n",
       " '040',\n",
       " '0408',\n",
       " '041',\n",
       " '042',\n",
       " '043',\n",
       " '044',\n",
       " '045',\n",
       " '046',\n",
       " '047',\n",
       " '048',\n",
       " '049',\n",
       " '05',\n",
       " '050',\n",
       " '051',\n",
       " '052',\n",
       " '053',\n",
       " '054',\n",
       " '055',\n",
       " '056',\n",
       " '057',\n",
       " '058',\n",
       " '059',\n",
       " '06',\n",
       " '060',\n",
       " '061',\n",
       " '062',\n",
       " '063',\n",
       " '064',\n",
       " '065',\n",
       " '066',\n",
       " '067',\n",
       " '068',\n",
       " '069',\n",
       " '07',\n",
       " '070',\n",
       " '071',\n",
       " '072',\n",
       " '073',\n",
       " '074',\n",
       " '075',\n",
       " '076',\n",
       " '077',\n",
       " '078',\n",
       " '079',\n",
       " '0792',\n",
       " '08',\n",
       " '080',\n",
       " '0801',\n",
       " '081',\n",
       " '082',\n",
       " '083',\n",
       " '084',\n",
       " '085',\n",
       " '086',\n",
       " '087',\n",
       " '088',\n",
       " '089',\n",
       " '09',\n",
       " '090',\n",
       " '091',\n",
       " '092',\n",
       " '093',\n",
       " '094',\n",
       " '095',\n",
       " '096',\n",
       " '097',\n",
       " '098',\n",
       " '099',\n",
       " '10',\n",
       " '100',\n",
       " '1000',\n",
       " '10000',\n",
       " '1000sf',\n",
       " '1000sqft',\n",
       " '1001',\n",
       " '1002',\n",
       " '1003',\n",
       " '1004',\n",
       " '1005',\n",
       " '1006',\n",
       " '1007',\n",
       " '1008',\n",
       " '1009',\n",
       " '100amp',\n",
       " '100k',\n",
       " '100sf',\n",
       " '100th',\n",
       " '101',\n",
       " '1010',\n",
       " '1011',\n",
       " '1012',\n",
       " '1013',\n",
       " '1014',\n",
       " '1015',\n",
       " '1016',\n",
       " '1017',\n",
       " '1019',\n",
       " '101and',\n",
       " '101st',\n",
       " '102',\n",
       " '1020',\n",
       " '1021',\n",
       " '1022',\n",
       " '1023',\n",
       " '1024',\n",
       " '1025',\n",
       " '1026',\n",
       " '1027',\n",
       " '1028',\n",
       " '1029',\n",
       " '103',\n",
       " '1030',\n",
       " '1031',\n",
       " '1032',\n",
       " '1033',\n",
       " '1034',\n",
       " '1035',\n",
       " '1036',\n",
       " '1037',\n",
       " '1038',\n",
       " '1039',\n",
       " '103rd',\n",
       " '104',\n",
       " '1040',\n",
       " '1041',\n",
       " '1042',\n",
       " '1043',\n",
       " '1044',\n",
       " '1045',\n",
       " '1047',\n",
       " '1048',\n",
       " '1049',\n",
       " '104th',\n",
       " '105',\n",
       " '1050',\n",
       " '10500',\n",
       " '10501',\n",
       " '1051',\n",
       " '1052',\n",
       " '1053',\n",
       " '1054',\n",
       " '1055',\n",
       " '1056',\n",
       " '1057',\n",
       " '1059',\n",
       " '105fwy',\n",
       " '105th',\n",
       " '106',\n",
       " '1060',\n",
       " '1061',\n",
       " '1062',\n",
       " '1064',\n",
       " '1065',\n",
       " '1066',\n",
       " '1067',\n",
       " '1068',\n",
       " '1069',\n",
       " '106th',\n",
       " '107',\n",
       " '1070',\n",
       " '1071',\n",
       " '1072',\n",
       " '1073',\n",
       " '1074',\n",
       " '1075',\n",
       " '1076',\n",
       " '1077',\n",
       " '10777',\n",
       " '1078',\n",
       " '107th',\n",
       " '108',\n",
       " '1080',\n",
       " '1081',\n",
       " '1082',\n",
       " '1083',\n",
       " '1084',\n",
       " '1085',\n",
       " '1087',\n",
       " '1088',\n",
       " '1089',\n",
       " '108th',\n",
       " '109',\n",
       " '1090',\n",
       " '1091',\n",
       " '1092',\n",
       " '1094',\n",
       " '10951',\n",
       " '1096',\n",
       " '1097',\n",
       " '1098',\n",
       " '1099',\n",
       " '109th',\n",
       " '10am',\n",
       " '10ft',\n",
       " '10fwy',\n",
       " '10k',\n",
       " '10m',\n",
       " '10min',\n",
       " '10th',\n",
       " '10x10',\n",
       " '10x12',\n",
       " '10x14',\n",
       " '10x20',\n",
       " '11',\n",
       " '110',\n",
       " '1100',\n",
       " '1100sf',\n",
       " '1100sqft',\n",
       " '1101',\n",
       " '1102',\n",
       " '1103',\n",
       " '1104',\n",
       " '1105',\n",
       " '1106',\n",
       " '1107',\n",
       " '1108',\n",
       " '1109',\n",
       " '110fwy',\n",
       " '110k',\n",
       " '110th',\n",
       " '110v',\n",
       " '111',\n",
       " '1110',\n",
       " '1111',\n",
       " '1112',\n",
       " '1113',\n",
       " '1114',\n",
       " '1115',\n",
       " '1116',\n",
       " '1117',\n",
       " '1118',\n",
       " '1119',\n",
       " '111th',\n",
       " '112',\n",
       " '1120',\n",
       " '1121',\n",
       " '1122',\n",
       " '1124',\n",
       " '1125',\n",
       " '1126',\n",
       " '1127',\n",
       " '1128',\n",
       " '1129',\n",
       " '112th',\n",
       " '113',\n",
       " '1130',\n",
       " '1131',\n",
       " '1132',\n",
       " '1133',\n",
       " '1134',\n",
       " '1135',\n",
       " '1136',\n",
       " '1137',\n",
       " '1138',\n",
       " '1139',\n",
       " '113th',\n",
       " '114',\n",
       " '1140',\n",
       " '1141',\n",
       " '1142',\n",
       " '1143',\n",
       " '1144',\n",
       " '1145',\n",
       " '1146',\n",
       " '1147',\n",
       " '1148',\n",
       " '115',\n",
       " '1150',\n",
       " '1151',\n",
       " '1152',\n",
       " '1153',\n",
       " '1154',\n",
       " '1155',\n",
       " '1156',\n",
       " '1158',\n",
       " '1159',\n",
       " '115th',\n",
       " '116',\n",
       " '1160',\n",
       " '1161',\n",
       " '1162',\n",
       " '1163',\n",
       " '1164',\n",
       " '1165',\n",
       " '1166',\n",
       " '1167',\n",
       " '1168',\n",
       " '1169',\n",
       " '116th',\n",
       " '117',\n",
       " '1170',\n",
       " '1171',\n",
       " '1173',\n",
       " '1175',\n",
       " '1176',\n",
       " '1177',\n",
       " '1178',\n",
       " '1179',\n",
       " '117th',\n",
       " '118',\n",
       " '1180',\n",
       " '1181',\n",
       " '1182',\n",
       " '1183',\n",
       " '1184',\n",
       " '1185',\n",
       " '1186',\n",
       " '1187',\n",
       " '1188',\n",
       " '1189',\n",
       " '118th',\n",
       " '119',\n",
       " '1190',\n",
       " '1192',\n",
       " '1193',\n",
       " '1194',\n",
       " '1195',\n",
       " '1196',\n",
       " '1197',\n",
       " '1198',\n",
       " '119th',\n",
       " '11am',\n",
       " '11ft',\n",
       " '11k',\n",
       " '11pm',\n",
       " '11th',\n",
       " '12',\n",
       " '120',\n",
       " '1200',\n",
       " '12000',\n",
       " '1200sf',\n",
       " '1200sqft',\n",
       " '1201',\n",
       " '1202',\n",
       " '1203',\n",
       " '1204',\n",
       " '1205',\n",
       " '1206',\n",
       " '1207',\n",
       " '1208',\n",
       " '12082',\n",
       " '1209',\n",
       " '120k',\n",
       " '120sqft',\n",
       " '120th',\n",
       " '121',\n",
       " '1210',\n",
       " '1211',\n",
       " '1212',\n",
       " '1213',\n",
       " '1214',\n",
       " '1215',\n",
       " '1216',\n",
       " '1217',\n",
       " '1218',\n",
       " '1219',\n",
       " '122',\n",
       " '1220',\n",
       " '1221',\n",
       " '1222',\n",
       " '1223',\n",
       " '1224',\n",
       " '1225',\n",
       " '1226',\n",
       " '1227',\n",
       " '1228',\n",
       " '1229',\n",
       " '122nd',\n",
       " '123',\n",
       " '1230',\n",
       " '1231',\n",
       " '1232',\n",
       " '1233',\n",
       " '1234',\n",
       " '1235',\n",
       " '1236',\n",
       " '1237',\n",
       " '1238',\n",
       " '1239',\n",
       " '123rd',\n",
       " '124',\n",
       " '1240',\n",
       " '1241',\n",
       " '1242',\n",
       " '1243',\n",
       " '1244',\n",
       " '1245',\n",
       " '1246',\n",
       " '1247',\n",
       " '1248',\n",
       " '1249',\n",
       " '124th',\n",
       " '125',\n",
       " '1250',\n",
       " '1251',\n",
       " '1252',\n",
       " '1253',\n",
       " '12540',\n",
       " '1255',\n",
       " '1256',\n",
       " '1257',\n",
       " '1258',\n",
       " '1259',\n",
       " '126',\n",
       " '1260',\n",
       " '1261',\n",
       " '1262',\n",
       " '1263',\n",
       " '1264',\n",
       " '1265',\n",
       " '1267',\n",
       " '1268',\n",
       " '1269',\n",
       " '126th',\n",
       " '127',\n",
       " '1270',\n",
       " '1271',\n",
       " '1272',\n",
       " '1273',\n",
       " '1274',\n",
       " '1275',\n",
       " '1276',\n",
       " '127th',\n",
       " '128',\n",
       " '1280',\n",
       " '1281',\n",
       " '1282',\n",
       " '1283',\n",
       " '1285',\n",
       " '1286',\n",
       " '1289',\n",
       " '129',\n",
       " '1290',\n",
       " '1291',\n",
       " '1292',\n",
       " '1293',\n",
       " '1294',\n",
       " '1295',\n",
       " '1296',\n",
       " '1297',\n",
       " '129th',\n",
       " '12ft',\n",
       " '12k',\n",
       " '12mm',\n",
       " '12pm',\n",
       " '12th',\n",
       " '12x12',\n",
       " '12x14',\n",
       " '12x18',\n",
       " '12x20',\n",
       " '12x24',\n",
       " '13',\n",
       " '130',\n",
       " '1300',\n",
       " '13000',\n",
       " '1301',\n",
       " '1302',\n",
       " '1305',\n",
       " '1306',\n",
       " '1307',\n",
       " '1308',\n",
       " '1309',\n",
       " '131',\n",
       " '1310',\n",
       " '1311',\n",
       " '1312',\n",
       " '1313',\n",
       " '1314',\n",
       " '1315',\n",
       " '1316',\n",
       " '1317',\n",
       " '1318',\n",
       " '131st',\n",
       " '132',\n",
       " '1320',\n",
       " '1321',\n",
       " '1322',\n",
       " '1323',\n",
       " '1324',\n",
       " '1325',\n",
       " '1326',\n",
       " '1327',\n",
       " '1328',\n",
       " '1329',\n",
       " '133',\n",
       " '1330',\n",
       " '1331',\n",
       " '1332',\n",
       " '1333',\n",
       " '1334',\n",
       " '1335',\n",
       " '1336',\n",
       " '1337',\n",
       " '1338',\n",
       " '1339',\n",
       " '134',\n",
       " '1340',\n",
       " '1341',\n",
       " '1342',\n",
       " '1343',\n",
       " '1344',\n",
       " '1345',\n",
       " '1347',\n",
       " '1348',\n",
       " '1349',\n",
       " '134th',\n",
       " '135',\n",
       " '1350',\n",
       " '1351',\n",
       " '1352',\n",
       " '1353',\n",
       " '1354',\n",
       " '1355',\n",
       " '1356',\n",
       " '1357',\n",
       " '1358',\n",
       " '1359',\n",
       " '135th',\n",
       " '136',\n",
       " '1360',\n",
       " '1361',\n",
       " '1362',\n",
       " '1363',\n",
       " '1364',\n",
       " '1365',\n",
       " '1366',\n",
       " '1367',\n",
       " '1368',\n",
       " '136th',\n",
       " '137',\n",
       " '1370',\n",
       " '1371',\n",
       " '1372',\n",
       " '1373',\n",
       " '1374',\n",
       " '1375',\n",
       " '1376',\n",
       " '1377',\n",
       " '137th',\n",
       " '138',\n",
       " '1380',\n",
       " '1381',\n",
       " '1382',\n",
       " '1385',\n",
       " '1386',\n",
       " '1388',\n",
       " '1389',\n",
       " '138th',\n",
       " '139',\n",
       " '1390',\n",
       " '1391',\n",
       " '1392',\n",
       " '1393',\n",
       " '1395',\n",
       " '1396',\n",
       " '1397',\n",
       " '1398',\n",
       " '13ft',\n",
       " '13k',\n",
       " '13th',\n",
       " '14',\n",
       " '140',\n",
       " '1400',\n",
       " '1400sf',\n",
       " '1400sqft',\n",
       " '1401',\n",
       " '1402',\n",
       " '1403',\n",
       " '1404',\n",
       " '1405',\n",
       " '1406',\n",
       " '1407',\n",
       " '1408',\n",
       " '1409',\n",
       " '140k',\n",
       " '141',\n",
       " '1410',\n",
       " '1411',\n",
       " '1412',\n",
       " '1413',\n",
       " '1414',\n",
       " '1415',\n",
       " '1416',\n",
       " '1417',\n",
       " '1418',\n",
       " '142',\n",
       " '1420',\n",
       " '1421',\n",
       " '1422',\n",
       " '1423',\n",
       " '1424',\n",
       " '1425',\n",
       " '1426',\n",
       " '1427',\n",
       " '1428',\n",
       " '143',\n",
       " '1430',\n",
       " '1431',\n",
       " '1432',\n",
       " '1433',\n",
       " '1434',\n",
       " '1435',\n",
       " '1436',\n",
       " '1437',\n",
       " '1438',\n",
       " '1439',\n",
       " '144',\n",
       " '1440',\n",
       " '1441',\n",
       " '1442',\n",
       " '1443',\n",
       " '1444',\n",
       " '1445',\n",
       " '1446',\n",
       " '1447',\n",
       " '1448',\n",
       " '1449',\n",
       " '145',\n",
       " '1450',\n",
       " '1452',\n",
       " '1454',\n",
       " '1455',\n",
       " '1456',\n",
       " '1457',\n",
       " '1458',\n",
       " '1459',\n",
       " '146',\n",
       " '1460',\n",
       " '1461',\n",
       " '1462',\n",
       " '1464',\n",
       " '1465',\n",
       " '1466',\n",
       " '1468',\n",
       " '1469',\n",
       " '147',\n",
       " '1470',\n",
       " '1471',\n",
       " '1472',\n",
       " '1473',\n",
       " '1474',\n",
       " '1475',\n",
       " '1476',\n",
       " '1478',\n",
       " '148',\n",
       " '1480',\n",
       " '1482',\n",
       " '1483',\n",
       " '1485',\n",
       " '1486',\n",
       " '1487',\n",
       " '1488',\n",
       " '149',\n",
       " '1490',\n",
       " '1491',\n",
       " '1494',\n",
       " '1495',\n",
       " '1498',\n",
       " '1499',\n",
       " '14ft',\n",
       " '14k',\n",
       " '14th',\n",
       " '15',\n",
       " '150',\n",
       " '1500',\n",
       " '15000',\n",
       " '1500sf',\n",
       " '1500sqft',\n",
       " '1501',\n",
       " '1502',\n",
       " '1503',\n",
       " '1504',\n",
       " '1505',\n",
       " '1506',\n",
       " '1507',\n",
       " '1508',\n",
       " '1509',\n",
       " '150k',\n",
       " '150sf',\n",
       " '151',\n",
       " '1510',\n",
       " '1511',\n",
       " '1512',\n",
       " '1513',\n",
       " '1514',\n",
       " '1515',\n",
       " '1516',\n",
       " '1517',\n",
       " '1518',\n",
       " '1519',\n",
       " '152',\n",
       " '1520',\n",
       " '1521',\n",
       " '1522',\n",
       " '1523',\n",
       " '1524',\n",
       " '1525',\n",
       " '1526',\n",
       " '1528',\n",
       " '1529',\n",
       " '153',\n",
       " '1530',\n",
       " '1531',\n",
       " '1532',\n",
       " '1533',\n",
       " '1535',\n",
       " '1536',\n",
       " '1537',\n",
       " '1538',\n",
       " '1539',\n",
       " '154',\n",
       " '1540',\n",
       " '1541',\n",
       " '1542',\n",
       " '1543',\n",
       " '1545',\n",
       " '1546',\n",
       " '1547',\n",
       " '1548',\n",
       " '1549',\n",
       " '155',\n",
       " '1550',\n",
       " '1551',\n",
       " '1552',\n",
       " '1553',\n",
       " '1554',\n",
       " '1555',\n",
       " '1556',\n",
       " '1557',\n",
       " '1558',\n",
       " '1559',\n",
       " '156',\n",
       " '1560',\n",
       " '1561',\n",
       " '1562',\n",
       " '1563',\n",
       " '1564',\n",
       " '1565',\n",
       " '1566',\n",
       " '1567',\n",
       " '1568',\n",
       " '1569',\n",
       " '157',\n",
       " '1570',\n",
       " '1571',\n",
       " '1572',\n",
       " '1573',\n",
       " '1574',\n",
       " '1575',\n",
       " '1576',\n",
       " '1577',\n",
       " '1578',\n",
       " '1579',\n",
       " '158',\n",
       " '1580',\n",
       " '1582',\n",
       " '1583',\n",
       " '1584',\n",
       " '1585',\n",
       " '1586',\n",
       " '1587',\n",
       " '159',\n",
       " '1590',\n",
       " '1594',\n",
       " '1595',\n",
       " '1598',\n",
       " '15ft',\n",
       " '15k',\n",
       " '15min',\n",
       " '15mins',\n",
       " '15th',\n",
       " '16',\n",
       " '160',\n",
       " '1600',\n",
       " '1601',\n",
       " '1602',\n",
       " '1603',\n",
       " '1604',\n",
       " '1605',\n",
       " '1607',\n",
       " '1609',\n",
       " '160k',\n",
       " '161',\n",
       " '1610',\n",
       " '1611',\n",
       " '1612',\n",
       " '1613',\n",
       " '1614',\n",
       " '1615',\n",
       " '1616',\n",
       " '1617',\n",
       " '1618',\n",
       " '1619',\n",
       " '162',\n",
       " '1620',\n",
       " '1621',\n",
       " '1622',\n",
       " '1623',\n",
       " '1624',\n",
       " '1625',\n",
       " '1626',\n",
       " '1627',\n",
       " '1628',\n",
       " '1629',\n",
       " '163',\n",
       " '1630',\n",
       " '1631',\n",
       " '1632',\n",
       " '1633',\n",
       " '1634',\n",
       " '1635',\n",
       " '1636',\n",
       " '1637',\n",
       " '1638',\n",
       " '1639',\n",
       " '164',\n",
       " '1640',\n",
       " '1641',\n",
       " '1642',\n",
       " '1645',\n",
       " '1646',\n",
       " '1647',\n",
       " '1648',\n",
       " '1649',\n",
       " '165',\n",
       " '1650',\n",
       " '16500',\n",
       " '1651',\n",
       " '1654',\n",
       " '1655',\n",
       " '1656',\n",
       " '1657',\n",
       " '1658',\n",
       " '1659',\n",
       " '166',\n",
       " '1660',\n",
       " '1661',\n",
       " '1663',\n",
       " '1664',\n",
       " '1665',\n",
       " '1666',\n",
       " '1667',\n",
       " '1668',\n",
       " '1669',\n",
       " '167',\n",
       " '1670',\n",
       " '1671',\n",
       " '1672',\n",
       " '1674',\n",
       " '1675',\n",
       " '1676',\n",
       " '1678',\n",
       " '1679',\n",
       " '168',\n",
       " '1680',\n",
       " '1685',\n",
       " '1688',\n",
       " '1689',\n",
       " '169',\n",
       " '1690',\n",
       " '1692',\n",
       " '1693',\n",
       " '1694',\n",
       " '1695',\n",
       " '1696',\n",
       " '1698',\n",
       " '16ft',\n",
       " '16th',\n",
       " '17',\n",
       " '170',\n",
       " '1700',\n",
       " '1700sf',\n",
       " '1700sqft',\n",
       " '1701',\n",
       " '1702',\n",
       " '1703',\n",
       " '1704',\n",
       " '1705',\n",
       " '1706',\n",
       " '1707',\n",
       " '1708',\n",
       " '1709',\n",
       " '170k',\n",
       " '171',\n",
       " '1710',\n",
       " '1711',\n",
       " '1712',\n",
       " '1713',\n",
       " '1714',\n",
       " '1715',\n",
       " '1716',\n",
       " '1717',\n",
       " '1719',\n",
       " '172',\n",
       " '1720',\n",
       " '1721',\n",
       " '1722',\n",
       " '1723',\n",
       " '1724',\n",
       " '1725',\n",
       " '1726',\n",
       " '1727',\n",
       " '1728',\n",
       " '1729',\n",
       " '173',\n",
       " '1730',\n",
       " '1731',\n",
       " '1732',\n",
       " '1733',\n",
       " '1734',\n",
       " '1735',\n",
       " '1736',\n",
       " '1737',\n",
       " '1739',\n",
       " '174',\n",
       " '1740',\n",
       " '1741',\n",
       " '1742',\n",
       " '1743',\n",
       " '1744',\n",
       " '1745',\n",
       " '1746',\n",
       " '1748',\n",
       " '1749',\n",
       " '175',\n",
       " '1750',\n",
       " '1751',\n",
       " '1752',\n",
       " '1753',\n",
       " '1754',\n",
       " '1755',\n",
       " '1756',\n",
       " '1757',\n",
       " '1758',\n",
       " '176',\n",
       " ...]"
      ]
     },
     "execution_count": 249,
     "metadata": {},
     "output_type": "execute_result"
    }
   ],
   "source": [
    "feature_names2 = vectorizer.get_feature_names()\n",
    "feature_names2"
   ]
  },
  {
   "cell_type": "code",
   "execution_count": 254,
   "id": "0c014b9d",
   "metadata": {},
   "outputs": [],
   "source": [
    "def get_top20_features(X, feature_names, topn=20):\n",
    "    \"\"\"\n",
    "    Inputs:\n",
    "        X: feature matrix\n",
    "        feature_names2: extracted features during vectorization\n",
    "        topn: the number of most frequent features to return\n",
    "    Outputs:\n",
    "        topn most frequent features and their frequency\n",
    "    \"\"\"\n",
    "    feature_ct = np.asarray(np.sum(X, axis=0)).reshape(-1)\n",
    "\n",
    "    feature_freq = []\n",
    "    \n",
    "    for i in np.argsort(feature_ct)[::-1][:topn]:\n",
    "        feature_freq.append({'feature':feature_names[i], 'frequency':feature_ct[i]})\n",
    "    \n",
    "    return pd.DataFrame(feature_freq)"
   ]
  },
  {
   "cell_type": "code",
   "execution_count": 251,
   "id": "fdbb9624",
   "metadata": {},
   "outputs": [
    {
     "data": {
      "text/html": [
       "<div>\n",
       "<style scoped>\n",
       "    .dataframe tbody tr th:only-of-type {\n",
       "        vertical-align: middle;\n",
       "    }\n",
       "\n",
       "    .dataframe tbody tr th {\n",
       "        vertical-align: top;\n",
       "    }\n",
       "\n",
       "    .dataframe thead th {\n",
       "        text-align: right;\n",
       "    }\n",
       "</style>\n",
       "<table border=\"1\" class=\"dataframe\">\n",
       "  <thead>\n",
       "    <tr style=\"text-align: right;\">\n",
       "      <th></th>\n",
       "      <th>feature</th>\n",
       "      <th>frequency</th>\n",
       "    </tr>\n",
       "  </thead>\n",
       "  <tbody>\n",
       "    <tr>\n",
       "      <th>0</th>\n",
       "      <td>home</td>\n",
       "      <td>203416</td>\n",
       "    </tr>\n",
       "    <tr>\n",
       "      <th>1</th>\n",
       "      <td>bedroom</td>\n",
       "      <td>110497</td>\n",
       "    </tr>\n",
       "    <tr>\n",
       "      <th>2</th>\n",
       "      <td>room</td>\n",
       "      <td>109078</td>\n",
       "    </tr>\n",
       "    <tr>\n",
       "      <th>3</th>\n",
       "      <td>kitchen</td>\n",
       "      <td>74470</td>\n",
       "    </tr>\n",
       "    <tr>\n",
       "      <th>4</th>\n",
       "      <td>new</td>\n",
       "      <td>70446</td>\n",
       "    </tr>\n",
       "    <tr>\n",
       "      <th>5</th>\n",
       "      <td>bathroom</td>\n",
       "      <td>67793</td>\n",
       "    </tr>\n",
       "    <tr>\n",
       "      <th>6</th>\n",
       "      <td>living</td>\n",
       "      <td>62262</td>\n",
       "    </tr>\n",
       "    <tr>\n",
       "      <th>7</th>\n",
       "      <td>floor</td>\n",
       "      <td>61915</td>\n",
       "    </tr>\n",
       "    <tr>\n",
       "      <th>8</th>\n",
       "      <td>large</td>\n",
       "      <td>57671</td>\n",
       "    </tr>\n",
       "    <tr>\n",
       "      <th>9</th>\n",
       "      <td>family</td>\n",
       "      <td>56100</td>\n",
       "    </tr>\n",
       "    <tr>\n",
       "      <th>10</th>\n",
       "      <td>bath</td>\n",
       "      <td>52551</td>\n",
       "    </tr>\n",
       "    <tr>\n",
       "      <th>11</th>\n",
       "      <td>area</td>\n",
       "      <td>51217</td>\n",
       "    </tr>\n",
       "    <tr>\n",
       "      <th>12</th>\n",
       "      <td>contains</td>\n",
       "      <td>48374</td>\n",
       "    </tr>\n",
       "    <tr>\n",
       "      <th>13</th>\n",
       "      <td>zestimate</td>\n",
       "      <td>47196</td>\n",
       "    </tr>\n",
       "    <tr>\n",
       "      <th>14</th>\n",
       "      <td>house</td>\n",
       "      <td>46254</td>\n",
       "    </tr>\n",
       "    <tr>\n",
       "      <th>15</th>\n",
       "      <td>built</td>\n",
       "      <td>44366</td>\n",
       "    </tr>\n",
       "    <tr>\n",
       "      <th>16</th>\n",
       "      <td>open</td>\n",
       "      <td>40862</td>\n",
       "    </tr>\n",
       "    <tr>\n",
       "      <th>17</th>\n",
       "      <td>garage</td>\n",
       "      <td>39807</td>\n",
       "    </tr>\n",
       "    <tr>\n",
       "      <th>18</th>\n",
       "      <td>space</td>\n",
       "      <td>38711</td>\n",
       "    </tr>\n",
       "    <tr>\n",
       "      <th>19</th>\n",
       "      <td>master</td>\n",
       "      <td>38614</td>\n",
       "    </tr>\n",
       "  </tbody>\n",
       "</table>\n",
       "</div>"
      ],
      "text/plain": [
       "      feature  frequency\n",
       "0        home     203416\n",
       "1     bedroom     110497\n",
       "2        room     109078\n",
       "3     kitchen      74470\n",
       "4         new      70446\n",
       "5    bathroom      67793\n",
       "6      living      62262\n",
       "7       floor      61915\n",
       "8       large      57671\n",
       "9      family      56100\n",
       "10       bath      52551\n",
       "11       area      51217\n",
       "12   contains      48374\n",
       "13  zestimate      47196\n",
       "14      house      46254\n",
       "15      built      44366\n",
       "16       open      40862\n",
       "17     garage      39807\n",
       "18      space      38711\n",
       "19     master      38614"
      ]
     },
     "execution_count": 251,
     "metadata": {},
     "output_type": "execute_result"
    }
   ],
   "source": [
    "get_topn_features(X, feature_names2, topn=20)"
   ]
  },
  {
   "cell_type": "code",
   "execution_count": 259,
   "id": "b4d6c610",
   "metadata": {},
   "outputs": [],
   "source": [
    "from sklearn.feature_extraction import text \n",
    "new_stop_words = text.ENGLISH_STOP_WORDS.union(['ha', 'home', 'contains', 'house', 'open' ])"
   ]
  },
  {
   "cell_type": "code",
   "execution_count": 260,
   "id": "b621b6b0",
   "metadata": {},
   "outputs": [],
   "source": [
    "vectorizer = CountVectorizer(min_df=5, max_df=0.8,ngram_range=(1,1),binary=False,stop_words=new_stop_words)\n",
    "X = vectorizer.fit_transform(corpus_lem2)"
   ]
  },
  {
   "cell_type": "code",
   "execution_count": 261,
   "id": "2c442f41",
   "metadata": {},
   "outputs": [
    {
     "data": {
      "text/plain": [
       "(112741, 18902)"
      ]
     },
     "execution_count": 261,
     "metadata": {},
     "output_type": "execute_result"
    }
   ],
   "source": [
    "X.shape"
   ]
  },
  {
   "cell_type": "code",
   "execution_count": 262,
   "id": "04c20ba8",
   "metadata": {},
   "outputs": [
    {
     "data": {
      "text/plain": [
       "['00',\n",
       " '000',\n",
       " '0000',\n",
       " '000s',\n",
       " '000sf',\n",
       " '000sq',\n",
       " '000sqft',\n",
       " '001',\n",
       " '002',\n",
       " '0025',\n",
       " '003',\n",
       " '004',\n",
       " '005',\n",
       " '006',\n",
       " '0062',\n",
       " '007',\n",
       " '008',\n",
       " '00823559',\n",
       " '009',\n",
       " '00am',\n",
       " '00pm',\n",
       " '01',\n",
       " '010',\n",
       " '011',\n",
       " '012',\n",
       " '01201656',\n",
       " '013',\n",
       " '014',\n",
       " '01428710',\n",
       " '01498174',\n",
       " '015',\n",
       " '016',\n",
       " '017',\n",
       " '01763046',\n",
       " '018',\n",
       " '01845393',\n",
       " '01872426',\n",
       " '019',\n",
       " '01998337',\n",
       " '02',\n",
       " '020',\n",
       " '02082345',\n",
       " '02092585',\n",
       " '021',\n",
       " '022',\n",
       " '023',\n",
       " '024',\n",
       " '025',\n",
       " '026',\n",
       " '027',\n",
       " '028',\n",
       " '0284',\n",
       " '029',\n",
       " '03',\n",
       " '030',\n",
       " '031',\n",
       " '032',\n",
       " '033',\n",
       " '034',\n",
       " '035',\n",
       " '036',\n",
       " '037',\n",
       " '038',\n",
       " '039',\n",
       " '04',\n",
       " '040',\n",
       " '0408',\n",
       " '041',\n",
       " '042',\n",
       " '043',\n",
       " '044',\n",
       " '045',\n",
       " '046',\n",
       " '047',\n",
       " '048',\n",
       " '049',\n",
       " '05',\n",
       " '050',\n",
       " '051',\n",
       " '052',\n",
       " '053',\n",
       " '054',\n",
       " '055',\n",
       " '056',\n",
       " '057',\n",
       " '058',\n",
       " '059',\n",
       " '06',\n",
       " '060',\n",
       " '061',\n",
       " '062',\n",
       " '063',\n",
       " '064',\n",
       " '065',\n",
       " '066',\n",
       " '067',\n",
       " '068',\n",
       " '069',\n",
       " '07',\n",
       " '070',\n",
       " '071',\n",
       " '072',\n",
       " '073',\n",
       " '074',\n",
       " '075',\n",
       " '076',\n",
       " '077',\n",
       " '078',\n",
       " '079',\n",
       " '0792',\n",
       " '08',\n",
       " '080',\n",
       " '0801',\n",
       " '081',\n",
       " '082',\n",
       " '083',\n",
       " '084',\n",
       " '085',\n",
       " '086',\n",
       " '087',\n",
       " '088',\n",
       " '089',\n",
       " '09',\n",
       " '090',\n",
       " '091',\n",
       " '092',\n",
       " '093',\n",
       " '094',\n",
       " '095',\n",
       " '096',\n",
       " '097',\n",
       " '098',\n",
       " '099',\n",
       " '10',\n",
       " '100',\n",
       " '1000',\n",
       " '10000',\n",
       " '1000sf',\n",
       " '1000sqft',\n",
       " '1001',\n",
       " '1002',\n",
       " '1003',\n",
       " '1004',\n",
       " '1005',\n",
       " '1006',\n",
       " '1007',\n",
       " '1008',\n",
       " '1009',\n",
       " '100amp',\n",
       " '100k',\n",
       " '100sf',\n",
       " '100th',\n",
       " '101',\n",
       " '1010',\n",
       " '1011',\n",
       " '1012',\n",
       " '1013',\n",
       " '1014',\n",
       " '1015',\n",
       " '1016',\n",
       " '1017',\n",
       " '1019',\n",
       " '101and',\n",
       " '101st',\n",
       " '102',\n",
       " '1020',\n",
       " '1021',\n",
       " '1022',\n",
       " '1023',\n",
       " '1024',\n",
       " '1025',\n",
       " '1026',\n",
       " '1027',\n",
       " '1028',\n",
       " '1029',\n",
       " '103',\n",
       " '1030',\n",
       " '1031',\n",
       " '1032',\n",
       " '1033',\n",
       " '1034',\n",
       " '1035',\n",
       " '1036',\n",
       " '1037',\n",
       " '1038',\n",
       " '1039',\n",
       " '103rd',\n",
       " '104',\n",
       " '1040',\n",
       " '1041',\n",
       " '1042',\n",
       " '1043',\n",
       " '1044',\n",
       " '1045',\n",
       " '1047',\n",
       " '1048',\n",
       " '1049',\n",
       " '104th',\n",
       " '105',\n",
       " '1050',\n",
       " '10500',\n",
       " '10501',\n",
       " '1051',\n",
       " '1052',\n",
       " '1053',\n",
       " '1054',\n",
       " '1055',\n",
       " '1056',\n",
       " '1057',\n",
       " '1059',\n",
       " '105fwy',\n",
       " '105th',\n",
       " '106',\n",
       " '1060',\n",
       " '1061',\n",
       " '1062',\n",
       " '1064',\n",
       " '1065',\n",
       " '1066',\n",
       " '1067',\n",
       " '1068',\n",
       " '1069',\n",
       " '106th',\n",
       " '107',\n",
       " '1070',\n",
       " '1071',\n",
       " '1072',\n",
       " '1073',\n",
       " '1074',\n",
       " '1075',\n",
       " '1076',\n",
       " '1077',\n",
       " '10777',\n",
       " '1078',\n",
       " '107th',\n",
       " '108',\n",
       " '1080',\n",
       " '1081',\n",
       " '1082',\n",
       " '1083',\n",
       " '1084',\n",
       " '1085',\n",
       " '1087',\n",
       " '1088',\n",
       " '1089',\n",
       " '108th',\n",
       " '109',\n",
       " '1090',\n",
       " '1091',\n",
       " '1092',\n",
       " '1094',\n",
       " '10951',\n",
       " '1096',\n",
       " '1097',\n",
       " '1098',\n",
       " '1099',\n",
       " '109th',\n",
       " '10am',\n",
       " '10ft',\n",
       " '10fwy',\n",
       " '10k',\n",
       " '10m',\n",
       " '10min',\n",
       " '10th',\n",
       " '10x10',\n",
       " '10x12',\n",
       " '10x14',\n",
       " '10x20',\n",
       " '11',\n",
       " '110',\n",
       " '1100',\n",
       " '1100sf',\n",
       " '1100sqft',\n",
       " '1101',\n",
       " '1102',\n",
       " '1103',\n",
       " '1104',\n",
       " '1105',\n",
       " '1106',\n",
       " '1107',\n",
       " '1108',\n",
       " '1109',\n",
       " '110fwy',\n",
       " '110k',\n",
       " '110th',\n",
       " '110v',\n",
       " '111',\n",
       " '1110',\n",
       " '1111',\n",
       " '1112',\n",
       " '1113',\n",
       " '1114',\n",
       " '1115',\n",
       " '1116',\n",
       " '1117',\n",
       " '1118',\n",
       " '1119',\n",
       " '111th',\n",
       " '112',\n",
       " '1120',\n",
       " '1121',\n",
       " '1122',\n",
       " '1124',\n",
       " '1125',\n",
       " '1126',\n",
       " '1127',\n",
       " '1128',\n",
       " '1129',\n",
       " '112th',\n",
       " '113',\n",
       " '1130',\n",
       " '1131',\n",
       " '1132',\n",
       " '1133',\n",
       " '1134',\n",
       " '1135',\n",
       " '1136',\n",
       " '1137',\n",
       " '1138',\n",
       " '1139',\n",
       " '113th',\n",
       " '114',\n",
       " '1140',\n",
       " '1141',\n",
       " '1142',\n",
       " '1143',\n",
       " '1144',\n",
       " '1145',\n",
       " '1146',\n",
       " '1147',\n",
       " '1148',\n",
       " '115',\n",
       " '1150',\n",
       " '1151',\n",
       " '1152',\n",
       " '1153',\n",
       " '1154',\n",
       " '1155',\n",
       " '1156',\n",
       " '1158',\n",
       " '1159',\n",
       " '115th',\n",
       " '116',\n",
       " '1160',\n",
       " '1161',\n",
       " '1162',\n",
       " '1163',\n",
       " '1164',\n",
       " '1165',\n",
       " '1166',\n",
       " '1167',\n",
       " '1168',\n",
       " '1169',\n",
       " '116th',\n",
       " '117',\n",
       " '1170',\n",
       " '1171',\n",
       " '1173',\n",
       " '1175',\n",
       " '1176',\n",
       " '1177',\n",
       " '1178',\n",
       " '1179',\n",
       " '117th',\n",
       " '118',\n",
       " '1180',\n",
       " '1181',\n",
       " '1182',\n",
       " '1183',\n",
       " '1184',\n",
       " '1185',\n",
       " '1186',\n",
       " '1187',\n",
       " '1188',\n",
       " '1189',\n",
       " '118th',\n",
       " '119',\n",
       " '1190',\n",
       " '1192',\n",
       " '1193',\n",
       " '1194',\n",
       " '1195',\n",
       " '1196',\n",
       " '1197',\n",
       " '1198',\n",
       " '119th',\n",
       " '11am',\n",
       " '11ft',\n",
       " '11k',\n",
       " '11pm',\n",
       " '11th',\n",
       " '12',\n",
       " '120',\n",
       " '1200',\n",
       " '12000',\n",
       " '1200sf',\n",
       " '1200sqft',\n",
       " '1201',\n",
       " '1202',\n",
       " '1203',\n",
       " '1204',\n",
       " '1205',\n",
       " '1206',\n",
       " '1207',\n",
       " '1208',\n",
       " '12082',\n",
       " '1209',\n",
       " '120k',\n",
       " '120sqft',\n",
       " '120th',\n",
       " '121',\n",
       " '1210',\n",
       " '1211',\n",
       " '1212',\n",
       " '1213',\n",
       " '1214',\n",
       " '1215',\n",
       " '1216',\n",
       " '1217',\n",
       " '1218',\n",
       " '1219',\n",
       " '122',\n",
       " '1220',\n",
       " '1221',\n",
       " '1222',\n",
       " '1223',\n",
       " '1224',\n",
       " '1225',\n",
       " '1226',\n",
       " '1227',\n",
       " '1228',\n",
       " '1229',\n",
       " '122nd',\n",
       " '123',\n",
       " '1230',\n",
       " '1231',\n",
       " '1232',\n",
       " '1233',\n",
       " '1234',\n",
       " '1235',\n",
       " '1236',\n",
       " '1237',\n",
       " '1238',\n",
       " '1239',\n",
       " '123rd',\n",
       " '124',\n",
       " '1240',\n",
       " '1241',\n",
       " '1242',\n",
       " '1243',\n",
       " '1244',\n",
       " '1245',\n",
       " '1246',\n",
       " '1247',\n",
       " '1248',\n",
       " '1249',\n",
       " '124th',\n",
       " '125',\n",
       " '1250',\n",
       " '1251',\n",
       " '1252',\n",
       " '1253',\n",
       " '12540',\n",
       " '1255',\n",
       " '1256',\n",
       " '1257',\n",
       " '1258',\n",
       " '1259',\n",
       " '126',\n",
       " '1260',\n",
       " '1261',\n",
       " '1262',\n",
       " '1263',\n",
       " '1264',\n",
       " '1265',\n",
       " '1267',\n",
       " '1268',\n",
       " '1269',\n",
       " '126th',\n",
       " '127',\n",
       " '1270',\n",
       " '1271',\n",
       " '1272',\n",
       " '1273',\n",
       " '1274',\n",
       " '1275',\n",
       " '1276',\n",
       " '127th',\n",
       " '128',\n",
       " '1280',\n",
       " '1281',\n",
       " '1282',\n",
       " '1283',\n",
       " '1285',\n",
       " '1286',\n",
       " '1289',\n",
       " '129',\n",
       " '1290',\n",
       " '1291',\n",
       " '1292',\n",
       " '1293',\n",
       " '1294',\n",
       " '1295',\n",
       " '1296',\n",
       " '1297',\n",
       " '129th',\n",
       " '12ft',\n",
       " '12k',\n",
       " '12mm',\n",
       " '12pm',\n",
       " '12th',\n",
       " '12x12',\n",
       " '12x14',\n",
       " '12x18',\n",
       " '12x20',\n",
       " '12x24',\n",
       " '13',\n",
       " '130',\n",
       " '1300',\n",
       " '13000',\n",
       " '1301',\n",
       " '1302',\n",
       " '1305',\n",
       " '1306',\n",
       " '1307',\n",
       " '1308',\n",
       " '1309',\n",
       " '131',\n",
       " '1310',\n",
       " '1311',\n",
       " '1312',\n",
       " '1313',\n",
       " '1314',\n",
       " '1315',\n",
       " '1316',\n",
       " '1317',\n",
       " '1318',\n",
       " '131st',\n",
       " '132',\n",
       " '1320',\n",
       " '1321',\n",
       " '1322',\n",
       " '1323',\n",
       " '1324',\n",
       " '1325',\n",
       " '1326',\n",
       " '1327',\n",
       " '1328',\n",
       " '1329',\n",
       " '133',\n",
       " '1330',\n",
       " '1331',\n",
       " '1332',\n",
       " '1333',\n",
       " '1334',\n",
       " '1335',\n",
       " '1336',\n",
       " '1337',\n",
       " '1338',\n",
       " '1339',\n",
       " '134',\n",
       " '1340',\n",
       " '1341',\n",
       " '1342',\n",
       " '1343',\n",
       " '1344',\n",
       " '1345',\n",
       " '1347',\n",
       " '1348',\n",
       " '1349',\n",
       " '134th',\n",
       " '135',\n",
       " '1350',\n",
       " '1351',\n",
       " '1352',\n",
       " '1353',\n",
       " '1354',\n",
       " '1355',\n",
       " '1356',\n",
       " '1357',\n",
       " '1358',\n",
       " '1359',\n",
       " '135th',\n",
       " '136',\n",
       " '1360',\n",
       " '1361',\n",
       " '1362',\n",
       " '1363',\n",
       " '1364',\n",
       " '1365',\n",
       " '1366',\n",
       " '1367',\n",
       " '1368',\n",
       " '136th',\n",
       " '137',\n",
       " '1370',\n",
       " '1371',\n",
       " '1372',\n",
       " '1373',\n",
       " '1374',\n",
       " '1375',\n",
       " '1376',\n",
       " '1377',\n",
       " '137th',\n",
       " '138',\n",
       " '1380',\n",
       " '1381',\n",
       " '1382',\n",
       " '1385',\n",
       " '1386',\n",
       " '1388',\n",
       " '1389',\n",
       " '138th',\n",
       " '139',\n",
       " '1390',\n",
       " '1391',\n",
       " '1392',\n",
       " '1393',\n",
       " '1395',\n",
       " '1396',\n",
       " '1397',\n",
       " '1398',\n",
       " '13ft',\n",
       " '13k',\n",
       " '13th',\n",
       " '14',\n",
       " '140',\n",
       " '1400',\n",
       " '1400sf',\n",
       " '1400sqft',\n",
       " '1401',\n",
       " '1402',\n",
       " '1403',\n",
       " '1404',\n",
       " '1405',\n",
       " '1406',\n",
       " '1407',\n",
       " '1408',\n",
       " '1409',\n",
       " '140k',\n",
       " '141',\n",
       " '1410',\n",
       " '1411',\n",
       " '1412',\n",
       " '1413',\n",
       " '1414',\n",
       " '1415',\n",
       " '1416',\n",
       " '1417',\n",
       " '1418',\n",
       " '142',\n",
       " '1420',\n",
       " '1421',\n",
       " '1422',\n",
       " '1423',\n",
       " '1424',\n",
       " '1425',\n",
       " '1426',\n",
       " '1427',\n",
       " '1428',\n",
       " '143',\n",
       " '1430',\n",
       " '1431',\n",
       " '1432',\n",
       " '1433',\n",
       " '1434',\n",
       " '1435',\n",
       " '1436',\n",
       " '1437',\n",
       " '1438',\n",
       " '1439',\n",
       " '144',\n",
       " '1440',\n",
       " '1441',\n",
       " '1442',\n",
       " '1443',\n",
       " '1444',\n",
       " '1445',\n",
       " '1446',\n",
       " '1447',\n",
       " '1448',\n",
       " '1449',\n",
       " '145',\n",
       " '1450',\n",
       " '1452',\n",
       " '1454',\n",
       " '1455',\n",
       " '1456',\n",
       " '1457',\n",
       " '1458',\n",
       " '1459',\n",
       " '146',\n",
       " '1460',\n",
       " '1461',\n",
       " '1462',\n",
       " '1464',\n",
       " '1465',\n",
       " '1466',\n",
       " '1468',\n",
       " '1469',\n",
       " '147',\n",
       " '1470',\n",
       " '1471',\n",
       " '1472',\n",
       " '1473',\n",
       " '1474',\n",
       " '1475',\n",
       " '1476',\n",
       " '1478',\n",
       " '148',\n",
       " '1480',\n",
       " '1482',\n",
       " '1483',\n",
       " '1485',\n",
       " '1486',\n",
       " '1487',\n",
       " '1488',\n",
       " '149',\n",
       " '1490',\n",
       " '1491',\n",
       " '1494',\n",
       " '1495',\n",
       " '1498',\n",
       " '1499',\n",
       " '14ft',\n",
       " '14k',\n",
       " '14th',\n",
       " '15',\n",
       " '150',\n",
       " '1500',\n",
       " '15000',\n",
       " '1500sf',\n",
       " '1500sqft',\n",
       " '1501',\n",
       " '1502',\n",
       " '1503',\n",
       " '1504',\n",
       " '1505',\n",
       " '1506',\n",
       " '1507',\n",
       " '1508',\n",
       " '1509',\n",
       " '150k',\n",
       " '150sf',\n",
       " '151',\n",
       " '1510',\n",
       " '1511',\n",
       " '1512',\n",
       " '1513',\n",
       " '1514',\n",
       " '1515',\n",
       " '1516',\n",
       " '1517',\n",
       " '1518',\n",
       " '1519',\n",
       " '152',\n",
       " '1520',\n",
       " '1521',\n",
       " '1522',\n",
       " '1523',\n",
       " '1524',\n",
       " '1525',\n",
       " '1526',\n",
       " '1528',\n",
       " '1529',\n",
       " '153',\n",
       " '1530',\n",
       " '1531',\n",
       " '1532',\n",
       " '1533',\n",
       " '1535',\n",
       " '1536',\n",
       " '1537',\n",
       " '1538',\n",
       " '1539',\n",
       " '154',\n",
       " '1540',\n",
       " '1541',\n",
       " '1542',\n",
       " '1543',\n",
       " '1545',\n",
       " '1546',\n",
       " '1547',\n",
       " '1548',\n",
       " '1549',\n",
       " '155',\n",
       " '1550',\n",
       " '1551',\n",
       " '1552',\n",
       " '1553',\n",
       " '1554',\n",
       " '1555',\n",
       " '1556',\n",
       " '1557',\n",
       " '1558',\n",
       " '1559',\n",
       " '156',\n",
       " '1560',\n",
       " '1561',\n",
       " '1562',\n",
       " '1563',\n",
       " '1564',\n",
       " '1565',\n",
       " '1566',\n",
       " '1567',\n",
       " '1568',\n",
       " '1569',\n",
       " '157',\n",
       " '1570',\n",
       " '1571',\n",
       " '1572',\n",
       " '1573',\n",
       " '1574',\n",
       " '1575',\n",
       " '1576',\n",
       " '1577',\n",
       " '1578',\n",
       " '1579',\n",
       " '158',\n",
       " '1580',\n",
       " '1582',\n",
       " '1583',\n",
       " '1584',\n",
       " '1585',\n",
       " '1586',\n",
       " '1587',\n",
       " '159',\n",
       " '1590',\n",
       " '1594',\n",
       " '1595',\n",
       " '1598',\n",
       " '15ft',\n",
       " '15k',\n",
       " '15min',\n",
       " '15mins',\n",
       " '15th',\n",
       " '16',\n",
       " '160',\n",
       " '1600',\n",
       " '1601',\n",
       " '1602',\n",
       " '1603',\n",
       " '1604',\n",
       " '1605',\n",
       " '1607',\n",
       " '1609',\n",
       " '160k',\n",
       " '161',\n",
       " '1610',\n",
       " '1611',\n",
       " '1612',\n",
       " '1613',\n",
       " '1614',\n",
       " '1615',\n",
       " '1616',\n",
       " '1617',\n",
       " '1618',\n",
       " '1619',\n",
       " '162',\n",
       " '1620',\n",
       " '1621',\n",
       " '1622',\n",
       " '1623',\n",
       " '1624',\n",
       " '1625',\n",
       " '1626',\n",
       " '1627',\n",
       " '1628',\n",
       " '1629',\n",
       " '163',\n",
       " '1630',\n",
       " '1631',\n",
       " '1632',\n",
       " '1633',\n",
       " '1634',\n",
       " '1635',\n",
       " '1636',\n",
       " '1637',\n",
       " '1638',\n",
       " '1639',\n",
       " '164',\n",
       " '1640',\n",
       " '1641',\n",
       " '1642',\n",
       " '1645',\n",
       " '1646',\n",
       " '1647',\n",
       " '1648',\n",
       " '1649',\n",
       " '165',\n",
       " '1650',\n",
       " '16500',\n",
       " '1651',\n",
       " '1654',\n",
       " '1655',\n",
       " '1656',\n",
       " '1657',\n",
       " '1658',\n",
       " '1659',\n",
       " '166',\n",
       " '1660',\n",
       " '1661',\n",
       " '1663',\n",
       " '1664',\n",
       " '1665',\n",
       " '1666',\n",
       " '1667',\n",
       " '1668',\n",
       " '1669',\n",
       " '167',\n",
       " '1670',\n",
       " '1671',\n",
       " '1672',\n",
       " '1674',\n",
       " '1675',\n",
       " '1676',\n",
       " '1678',\n",
       " '1679',\n",
       " '168',\n",
       " '1680',\n",
       " '1685',\n",
       " '1688',\n",
       " '1689',\n",
       " '169',\n",
       " '1690',\n",
       " '1692',\n",
       " '1693',\n",
       " '1694',\n",
       " '1695',\n",
       " '1696',\n",
       " '1698',\n",
       " '16ft',\n",
       " '16th',\n",
       " '17',\n",
       " '170',\n",
       " '1700',\n",
       " '1700sf',\n",
       " '1700sqft',\n",
       " '1701',\n",
       " '1702',\n",
       " '1703',\n",
       " '1704',\n",
       " '1705',\n",
       " '1706',\n",
       " '1707',\n",
       " '1708',\n",
       " '1709',\n",
       " '170k',\n",
       " '171',\n",
       " '1710',\n",
       " '1711',\n",
       " '1712',\n",
       " '1713',\n",
       " '1714',\n",
       " '1715',\n",
       " '1716',\n",
       " '1717',\n",
       " '1719',\n",
       " '172',\n",
       " '1720',\n",
       " '1721',\n",
       " '1722',\n",
       " '1723',\n",
       " '1724',\n",
       " '1725',\n",
       " '1726',\n",
       " '1727',\n",
       " '1728',\n",
       " '1729',\n",
       " '173',\n",
       " '1730',\n",
       " '1731',\n",
       " '1732',\n",
       " '1733',\n",
       " '1734',\n",
       " '1735',\n",
       " '1736',\n",
       " '1737',\n",
       " '1739',\n",
       " '174',\n",
       " '1740',\n",
       " '1741',\n",
       " '1742',\n",
       " '1743',\n",
       " '1744',\n",
       " '1745',\n",
       " '1746',\n",
       " '1748',\n",
       " '1749',\n",
       " '175',\n",
       " '1750',\n",
       " '1751',\n",
       " '1752',\n",
       " '1753',\n",
       " '1754',\n",
       " '1755',\n",
       " '1756',\n",
       " '1757',\n",
       " '1758',\n",
       " '176',\n",
       " ...]"
      ]
     },
     "execution_count": 262,
     "metadata": {},
     "output_type": "execute_result"
    }
   ],
   "source": [
    "feature_names3 = vectorizer.get_feature_names()\n",
    "feature_names3"
   ]
  },
  {
   "cell_type": "code",
   "execution_count": 263,
   "id": "812c8d5c",
   "metadata": {},
   "outputs": [
    {
     "data": {
      "text/html": [
       "<div>\n",
       "<style scoped>\n",
       "    .dataframe tbody tr th:only-of-type {\n",
       "        vertical-align: middle;\n",
       "    }\n",
       "\n",
       "    .dataframe tbody tr th {\n",
       "        vertical-align: top;\n",
       "    }\n",
       "\n",
       "    .dataframe thead th {\n",
       "        text-align: right;\n",
       "    }\n",
       "</style>\n",
       "<table border=\"1\" class=\"dataframe\">\n",
       "  <thead>\n",
       "    <tr style=\"text-align: right;\">\n",
       "      <th></th>\n",
       "      <th>feature</th>\n",
       "      <th>frequency</th>\n",
       "    </tr>\n",
       "  </thead>\n",
       "  <tbody>\n",
       "    <tr>\n",
       "      <th>0</th>\n",
       "      <td>bedroom</td>\n",
       "      <td>110497</td>\n",
       "    </tr>\n",
       "    <tr>\n",
       "      <th>1</th>\n",
       "      <td>room</td>\n",
       "      <td>109078</td>\n",
       "    </tr>\n",
       "    <tr>\n",
       "      <th>2</th>\n",
       "      <td>kitchen</td>\n",
       "      <td>74470</td>\n",
       "    </tr>\n",
       "    <tr>\n",
       "      <th>3</th>\n",
       "      <td>new</td>\n",
       "      <td>70446</td>\n",
       "    </tr>\n",
       "    <tr>\n",
       "      <th>4</th>\n",
       "      <td>bathroom</td>\n",
       "      <td>67793</td>\n",
       "    </tr>\n",
       "    <tr>\n",
       "      <th>5</th>\n",
       "      <td>living</td>\n",
       "      <td>62262</td>\n",
       "    </tr>\n",
       "    <tr>\n",
       "      <th>6</th>\n",
       "      <td>floor</td>\n",
       "      <td>61915</td>\n",
       "    </tr>\n",
       "    <tr>\n",
       "      <th>7</th>\n",
       "      <td>large</td>\n",
       "      <td>57671</td>\n",
       "    </tr>\n",
       "    <tr>\n",
       "      <th>8</th>\n",
       "      <td>family</td>\n",
       "      <td>56100</td>\n",
       "    </tr>\n",
       "    <tr>\n",
       "      <th>9</th>\n",
       "      <td>bath</td>\n",
       "      <td>52551</td>\n",
       "    </tr>\n",
       "    <tr>\n",
       "      <th>10</th>\n",
       "      <td>area</td>\n",
       "      <td>51217</td>\n",
       "    </tr>\n",
       "    <tr>\n",
       "      <th>11</th>\n",
       "      <td>zestimate</td>\n",
       "      <td>47196</td>\n",
       "    </tr>\n",
       "    <tr>\n",
       "      <th>12</th>\n",
       "      <td>built</td>\n",
       "      <td>44366</td>\n",
       "    </tr>\n",
       "    <tr>\n",
       "      <th>13</th>\n",
       "      <td>garage</td>\n",
       "      <td>39807</td>\n",
       "    </tr>\n",
       "    <tr>\n",
       "      <th>14</th>\n",
       "      <td>space</td>\n",
       "      <td>38711</td>\n",
       "    </tr>\n",
       "    <tr>\n",
       "      <th>15</th>\n",
       "      <td>master</td>\n",
       "      <td>38614</td>\n",
       "    </tr>\n",
       "    <tr>\n",
       "      <th>16</th>\n",
       "      <td>unit</td>\n",
       "      <td>38018</td>\n",
       "    </tr>\n",
       "    <tr>\n",
       "      <th>17</th>\n",
       "      <td>dining</td>\n",
       "      <td>37913</td>\n",
       "    </tr>\n",
       "    <tr>\n",
       "      <th>18</th>\n",
       "      <td>spacious</td>\n",
       "      <td>34084</td>\n",
       "    </tr>\n",
       "    <tr>\n",
       "      <th>19</th>\n",
       "      <td>located</td>\n",
       "      <td>33534</td>\n",
       "    </tr>\n",
       "  </tbody>\n",
       "</table>\n",
       "</div>"
      ],
      "text/plain": [
       "      feature  frequency\n",
       "0     bedroom     110497\n",
       "1        room     109078\n",
       "2     kitchen      74470\n",
       "3         new      70446\n",
       "4    bathroom      67793\n",
       "5      living      62262\n",
       "6       floor      61915\n",
       "7       large      57671\n",
       "8      family      56100\n",
       "9        bath      52551\n",
       "10       area      51217\n",
       "11  zestimate      47196\n",
       "12      built      44366\n",
       "13     garage      39807\n",
       "14      space      38711\n",
       "15     master      38614\n",
       "16       unit      38018\n",
       "17     dining      37913\n",
       "18   spacious      34084\n",
       "19    located      33534"
      ]
     },
     "execution_count": 263,
     "metadata": {},
     "output_type": "execute_result"
    }
   ],
   "source": [
    "get_topn_features(X, feature_names3, topn=20)"
   ]
  },
  {
   "cell_type": "code",
   "execution_count": null,
   "id": "c88f3999",
   "metadata": {},
   "outputs": [],
   "source": []
  },
  {
   "cell_type": "code",
   "execution_count": null,
   "id": "0471e1b8",
   "metadata": {},
   "outputs": [],
   "source": []
  },
  {
   "cell_type": "markdown",
   "id": "d434e5bf",
   "metadata": {},
   "source": [
    "### Part-5: Additional Analysis"
   ]
  },
  {
   "cell_type": "code",
   "execution_count": 264,
   "id": "b2b92eae",
   "metadata": {},
   "outputs": [
    {
     "data": {
      "text/plain": [
       "SingleFamily          81384\n",
       "Condo                 14882\n",
       "Townhouse              5641\n",
       "MultiFamily            5092\n",
       "Unknown                3258\n",
       "Apartment              1052\n",
       "MobileManufactured      930\n",
       "Single Family           265\n",
       "2 Story                  40\n",
       "Cooperative              39\n",
       "Name: Type, dtype: int64"
      ]
     },
     "execution_count": 264,
     "metadata": {},
     "output_type": "execute_result"
    }
   ],
   "source": [
    "# A house has different types, here are the top types:\n",
    "data_df['Type'].value_counts()[0:10]"
   ]
  },
  {
   "cell_type": "markdown",
   "id": "b8fb83a6",
   "metadata": {},
   "source": [
    "We want to calculate \"price per living sqft\" from the current features, an important measurement of final house price. Let's check the differences between different house types."
   ]
  },
  {
   "cell_type": "code",
   "execution_count": 265,
   "id": "82d270ba",
   "metadata": {},
   "outputs": [
    {
     "data": {
      "image/png": "[encoded data removed]",
      "text/plain": [
       "<Figure size 432x288 with 1 Axes>"
      ]
     },
     "metadata": {},
     "output_type": "display_data"
    }
   ],
   "source": [
    "common_types = data_df['Type'].isin(['SingleFamily', 'Condo', 'MultiFamily', 'Townhouse'])\n",
    "data_df['Price per living sqft'] = data_df['Sold Price'] / data_df['Total interior livable area']\n",
    "ax = sns.boxplot(x='Type', y='Price per living sqft', data=data_df[common_types], fliersize=0)\n",
    "ax.set_ylim([0, 2000]);"
   ]
  },
  {
   "cell_type": "markdown",
   "id": "3735322c",
   "metadata": {},
   "source": [
    "Sale price per living sqft is often related with house locations. Let's check the price for the top 20 zip codes."
   ]
  },
  {
   "cell_type": "code",
   "execution_count": 266,
   "id": "e67e3098",
   "metadata": {},
   "outputs": [
    {
     "data": {
      "text/plain": [
       "95118    756\n",
       "95135    755\n",
       "94087    746\n",
       "95124    744\n",
       "95148    739\n",
       "95127    725\n",
       "95132    723\n",
       "95129    720\n",
       "94303    720\n",
       "95014    720\n",
       "94116    714\n",
       "95032    712\n",
       "95122    712\n",
       "95120    707\n",
       "95123    701\n",
       "90043    699\n",
       "94402    699\n",
       "90047    697\n",
       "95035    696\n",
       "95051    692\n",
       "Name: Zip, dtype: int64"
      ]
     },
     "execution_count": 266,
     "metadata": {},
     "output_type": "execute_result"
    }
   ],
   "source": [
    "data_df['Zip'].value_counts()[:20]"
   ]
  },
  {
   "cell_type": "code",
   "execution_count": 267,
   "id": "228187d4",
   "metadata": {},
   "outputs": [
    {
     "data": {
      "image/png": "[encoded data removed]",
      "text/plain": [
       "<Figure size 432x288 with 1 Axes>"
      ]
     },
     "metadata": {},
     "output_type": "display_data"
    }
   ],
   "source": [
    "data_df['Zip'] = data_df['Zip'].astype('string')\n",
    "data_df['Price per living sqft'] = data_df['Sold Price'] / data_df['Total interior livable area']\n",
    "mask = data_df['Zip'].isin(['95131','94114', '94118'])\n",
    "ax = sns.boxplot(x='Zip', y='Price per living sqft', data=data_df[mask])\n",
    "ax.set_ylim([0, 3000]);"
   ]
  },
  {
   "cell_type": "code",
   "execution_count": 268,
   "id": "67626b56",
   "metadata": {},
   "outputs": [
    {
     "data": {
      "image/png": "[encoded data removed]",
      "text/plain": [
       "<Figure size 432x288 with 1 Axes>"
      ]
     },
     "metadata": {},
     "output_type": "display_data"
    }
   ],
   "source": [
    "d = data_df[data_df['Zip'].isin(data_df['Zip'].value_counts()[:20].keys())]\n",
    "ax = sns.boxplot(x='Zip', y='Price per living sqft', data=d, fliersize=0)\n",
    "ax.set_ylim([0, 2000])\n",
    "ax.set_xticklabels(ax.get_xticklabels(), rotation=90);"
   ]
  },
  {
   "cell_type": "markdown",
   "id": "12bbafe4",
   "metadata": {},
   "source": [
    "In some cases, we also need to check the correlations among multiple columns:\n",
    "- as a way to measure colinearty\n",
    "- visualize the correlation matrix as a heatmap"
   ]
  },
  {
   "cell_type": "code",
   "execution_count": 269,
   "id": "4a0c8c7f",
   "metadata": {},
   "outputs": [
    {
     "data": {
      "image/png": "[encoded data removed]",
      "text/plain": [
       "<Figure size 432x432 with 2 Axes>"
      ]
     },
     "metadata": {},
     "output_type": "display_data"
    }
   ],
   "source": [
    "_, ax = plt.subplots(figsize=(6,6))\n",
    "columns = ['Sold Price', 'Listed Price', 'Annual tax amount', 'Price per living sqft', 'Elementary School Score', 'High School Score']\n",
    "sns.heatmap(data_df[columns].corr(),annot=True,cmap='RdYlGn', ax=ax);"
   ]
  },
  {
   "cell_type": "markdown",
   "id": "6eb92c53",
   "metadata": {},
   "source": [
    "According to the heat map, we can observe that:\n",
    "- sold price is not closely correlated with the listed price\n",
    "- sold price has some correlation with the annual tax amount\n",
    "\n"
   ]
  },
  {
   "cell_type": "markdown",
   "id": "c6f4a1c3",
   "metadata": {},
   "source": [
    "It is also observable that the listed price has some correlation with the listed price and also the elementary school score. It makes sense for the listed price to have some correlation with a tax information as the listed price should depend on the tax information (or vice versa). In a way, the elementary school score correlation also makes sense if they want to appeal to the families with children. If the marketing population is mostly families with children, having a listing price in correlation with the elementary school score is logical."
   ]
  },
  {
   "cell_type": "code",
   "execution_count": null,
   "id": "b796ee74",
   "metadata": {},
   "outputs": [],
   "source": []
  },
  {
   "cell_type": "markdown",
   "id": "aa020e10",
   "metadata": {},
   "source": [
    "### Summary\n",
    "\n",
    "This notebook demonstrates the basic technologies of doing data analysis for different data types, including\n",
    "\n",
    "    - Data overview (understanding column data types, values, and distributions)\n",
    "    - Data cleaning (remove missing values, outlier detection)\n",
    "    - Data transformation (normalization, tokenization, lemmatization)\n",
    "    - Feature engineering (encoding categorical data, text feature representation)\n",
    "    - Understanding the interactions between columns (colinearty examination)\n",
    "\n",
    "We only explored a small aspect of the data. You are welcome to dive deep into more details."
   ]
  },
  {
   "cell_type": "code",
   "execution_count": null,
   "id": "6569c70e",
   "metadata": {},
   "outputs": [],
   "source": []
  }
 ],
 "metadata": {
  "kernelspec": {
   "display_name": "Python 3 (ipykernel)",
   "language": "python",
   "name": "python3"
  },
  "language_info": {
   "codemirror_mode": {
    "name": "ipython",
    "version": 3
   },
   "file_extension": ".py",
   "mimetype": "text/x-python",
   "name": "python",
   "nbconvert_exporter": "python",
   "pygments_lexer": "ipython3",
   "version": "3.9.7"
  }
 },
 "nbformat": 4,
 "nbformat_minor": 5
}
