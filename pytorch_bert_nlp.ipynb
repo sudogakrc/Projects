{
 "cells": [
  {
   "cell_type": "code",
   "execution_count": 1,
   "id": "9b201360",
   "metadata": {
    "scrolled": true
   },
   "outputs": [
    {
     "name": "stdout",
     "output_type": "stream",
     "text": []
    }
   ],
   "source": [
    "!pip install datasets transformers\n",
    "!pip install sentencepiece\n",
    "!pip install accelerate"
   ]
  },
  {
   "cell_type": "code",
   "execution_count": 6,
   "id": "2ef31890",
   "metadata": {
    "scrolled": true
   },
   "outputs": [
    {
     "name": "stderr",
     "output_type": "stream",
     "text": [
      "Using custom data configuration default-effed4b15f53bb3a\n"
     ]
    },
    {
     "name": "stdout",
     "output_type": "stream",
     "text": [
      "Downloading and preparing dataset csv/default to /Users/sukaraca/.cache/huggingface/datasets/csv/default-effed4b15f53bb3a/0.0.0/433e0ccc46f9880962cc2b12065189766fbb2bee57a221866138fb9203c83519...\n"
     ]
    },
    {
     "data": {
      "application/vnd.jupyter.widget-view+json": {
       "model_id": "4b65101e421e4a98a4c282e6a84a7f49",
       "version_major": 2,
       "version_minor": 0
      },
      "text/plain": [
       "Downloading data files:   0%|          | 0/2 [00:00<?, ?it/s]"
      ]
     },
     "metadata": {},
     "output_type": "display_data"
    },
    {
     "data": {
      "application/vnd.jupyter.widget-view+json": {
       "model_id": "be816cd6d7154857b7962570077fa6de",
       "version_major": 2,
       "version_minor": 0
      },
      "text/plain": [
       "Extracting data files:   0%|          | 0/2 [00:00<?, ?it/s]"
      ]
     },
     "metadata": {},
     "output_type": "display_data"
    },
    {
     "name": "stdout",
     "output_type": "stream",
     "text": [
      "Dataset csv downloaded and prepared to /Users/sukaraca/.cache/huggingface/datasets/csv/default-effed4b15f53bb3a/0.0.0/433e0ccc46f9880962cc2b12065189766fbb2bee57a221866138fb9203c83519. Subsequent calls will reuse this data.\n"
     ]
    },
    {
     "data": {
      "application/vnd.jupyter.widget-view+json": {
       "model_id": "c9ce1b313688459ab7d9a44205f303d3",
       "version_major": 2,
       "version_minor": 0
      },
      "text/plain": [
       "  0%|          | 0/2 [00:00<?, ?it/s]"
      ]
     },
     "metadata": {},
     "output_type": "display_data"
    }
   ],
   "source": [
    "from datasets import load_dataset\n",
    "from transformers import AutoTokenizer, DataCollatorWithPadding\n",
    "import pandas as pd\n",
    "\n",
    "raw_datasets = load_dataset('csv', data_files={'train': 'polusa_classifications/left_train_ds.csv', 'validation': 'polusa_classifications/left_val_ds.csv'})\n",
    "model_name = \"bert-base-uncased\"\n",
    "tokenizer = AutoTokenizer.from_pretrained(model_name)"
   ]
  },
  {
   "cell_type": "code",
   "execution_count": 7,
   "id": "484bfdaa",
   "metadata": {},
   "outputs": [
    {
     "data": {
      "text/plain": [
       "DatasetDict({\n",
       "    train: Dataset({\n",
       "        features: ['body', 'label'],\n",
       "        num_rows: 366552\n",
       "    })\n",
       "    validation: Dataset({\n",
       "        features: ['body', 'label'],\n",
       "        num_rows: 52365\n",
       "    })\n",
       "})"
      ]
     },
     "execution_count": 7,
     "metadata": {},
     "output_type": "execute_result"
    }
   ],
   "source": [
    "raw_datasets"
   ]
  },
  {
   "cell_type": "code",
   "execution_count": 8,
   "id": "17e4e152",
   "metadata": {},
   "outputs": [],
   "source": [
    "def tokenize_function(example):\n",
    "    return tokenizer(example[\"body\"], truncation=True)"
   ]
  },
  {
   "cell_type": "code",
   "execution_count": 9,
   "id": "b697e4c0",
   "metadata": {},
   "outputs": [
    {
     "data": {
      "application/vnd.jupyter.widget-view+json": {
       "model_id": "6d298e88a1b644bdbb671499b28d6e82",
       "version_major": 2,
       "version_minor": 0
      },
      "text/plain": [
       "  0%|          | 0/367 [00:00<?, ?ba/s]"
      ]
     },
     "metadata": {},
     "output_type": "display_data"
    },
    {
     "data": {
      "application/vnd.jupyter.widget-view+json": {
       "model_id": "3535644160d14e87a1da48d7f67fc939",
       "version_major": 2,
       "version_minor": 0
      },
      "text/plain": [
       "  0%|          | 0/53 [00:00<?, ?ba/s]"
      ]
     },
     "metadata": {},
     "output_type": "display_data"
    }
   ],
   "source": [
    "tokenized_datasets = raw_datasets.map(tokenize_function, batched=True)\n",
    "data_collator = DataCollatorWithPadding(tokenizer=tokenizer)"
   ]
  },
  {
   "cell_type": "code",
   "execution_count": 10,
   "id": "e5aa80e0",
   "metadata": {},
   "outputs": [
    {
     "data": {
      "text/plain": [
       "DatasetDict({\n",
       "    train: Dataset({\n",
       "        features: ['body', 'label', 'input_ids', 'token_type_ids', 'attention_mask'],\n",
       "        num_rows: 366552\n",
       "    })\n",
       "    validation: Dataset({\n",
       "        features: ['body', 'label', 'input_ids', 'token_type_ids', 'attention_mask'],\n",
       "        num_rows: 52365\n",
       "    })\n",
       "})"
      ]
     },
     "execution_count": 10,
     "metadata": {},
     "output_type": "execute_result"
    }
   ],
   "source": [
    "tokenized_datasets"
   ]
  },
  {
   "cell_type": "code",
   "execution_count": 11,
   "id": "4f16ac1d",
   "metadata": {},
   "outputs": [
    {
     "data": {
      "text/plain": [
       "['labels', 'input_ids', 'token_type_ids', 'attention_mask']"
      ]
     },
     "execution_count": 11,
     "metadata": {},
     "output_type": "execute_result"
    }
   ],
   "source": [
    "tokenized_datasets = tokenized_datasets.remove_columns([\"body\"])\n",
    "tokenized_datasets = tokenized_datasets.rename_column(\"label\", \"labels\")\n",
    "tokenized_datasets.set_format(\"torch\")\n",
    "tokenized_datasets[\"train\"].column_names"
   ]
  },
  {
   "cell_type": "code",
   "execution_count": 20,
   "id": "dd4a0037",
   "metadata": {},
   "outputs": [
    {
     "name": "stdout",
     "output_type": "stream",
     "text": [
      "[tensor([  101,  2358,  2099,  1013, 21358,  2361,  1013,  2131,  3723,  4871,\n",
      "         2066,  2116,  2111,  2040,  2031,  2468,  3161,  1999,  4331,  2005,\n",
      "         1996,  2034,  2051,  4283,  2000,  1996,  2602,  1997,  6221,  8398,\n",
      "         1010,  1045,  2031,  2053,  2801,  2054,  1045,  1521,  1049,  2725,\n",
      "         1012,  1045,  2572,  2028,  1997,  1996, 18829,  1997,  1996,  4171,\n",
      "         2233,  1010,  2275,  2005,  2258,  2321,  1010,  2043,  4986,  4480,\n",
      "         2105,  1996,  2406,  2097,  5157,  2008,  1996,  2343,  2713,  1037,\n",
      "         5476,  1997,  4171,  5651,  1012,  1998,  1045,  2031,  2985,  2172,\n",
      "         1997,  1996,  2197,  2048,  3134, 23962,  2007,  1037,  6221,  8398,\n",
      "         1516,  5044,  7975,  1012,  2006,  2233,  1017,  1010,  1045,  2001,\n",
      "         3564,  1999,  1037,  2624,  3799,  2152,  2082, 11448,  2007,  3156,\n",
      "         2060,  2576,  9253, 21281,  4570,  2108,  4738,  2011,  8003, 18829,\n",
      "         2006,  2129,  2000,  2831,  2000,  2216,  2040,  2123,  1521,  1056,\n",
      "         5993,  2007,  2149, 10317,  1012,  1037,  2978, 15035,  1010,  1045,\n",
      "         2211, 27571, 18483,  2105,  2005,  1037,  6454, 27707,  2438,  2005,\n",
      "         2256,  3426,  1010,  2242,  1038,  4135,  4383,  2008,  2052,  3796,\n",
      "         2041,  1996,  3712,  2066,  1037, 20914,  1521,  1055, 15060,  2154,\n",
      "        13212,  1012,  1045, 11696,  1999,  1523,  8398, 13212,  1524,  2046,\n",
      "         1996,  3945,  3347,  1998,  3603,  1996,  8398,  7975,  1024,  1037,\n",
      "         4121,  1999, 10258, 27892, 27681,  2008,  8501,  2019, 28953, 14062,\n",
      "         2000,  6221,  8398,  1012, 15147,  2005,  2859,  1521,  1055, 11926,\n",
      "         2047,  2095,  7401,  1010,  2029,  6476,  2125,  1996,  2095,  1997,\n",
      "         1996, 27681,  1010,  1999, 10258, 27892,  4617,  1997,  1996,  8398,\n",
      "        27681,  2071,  2022,  2179,  2035,  2058,  2859,  1012,  1996,  2822,\n",
      "         1010,  1997,  2607,  1010,  4995,  1521,  1056,  2200,  3407,  2007,\n",
      "         8398,  1010,  2040, 19982, 14706,  2859,  2006,  1996,  3049,  4446,\n",
      "         1998, 27978,  2098,  2007,  6629,  2076,  1996,  6653,  1012,  1996,\n",
      "         1999, 10258, 27892,  1523,  8398, 27681, 10338,  1524,  1517,  2004,\n",
      "         1037, 10328,  2006,  4862,  3676,  3676,  1010,  2859,  1521,  1055,\n",
      "         5662,  1997,  9733,  1010,  4455,  2009,  1517, 24195,  2010, 14154,\n",
      "         6238,  2007,  2049, 25430, 29046, 12136,  9363, 10649, 13433,  8737,\n",
      "         9365,  3126,  1998,  4714,  2398,  5044,  2000, 23150,  1996,  2126,\n",
      "         1996,  2343, 18392,  2229,  2010,  3093,  1012,  1045, 17186,  2098,\n",
      "         2083,  4871,  1997,  2822,  4480, 15790,  2969,  3111,  1999,  2392,\n",
      "         1997,  2023, 23176,  7828,  1997,  1037, 13212,  1012,  2070,  1997,\n",
      "         1996,  1999, 10258, 27892,  2015,  2020, 20193,  1010,  2004,  4206,\n",
      "         2004,  3438,  2519,  1012,  1045,  2481,  1521,  1056,  2903,  2054,\n",
      "         1045,  1521,  1040,  2179,  1012,  1999,  2859,  2023,  2089,  2022,\n",
      "         1996,  1523,  8398, 27681, 10338,  1010,  1524,  2021,  1999,  2637,\n",
      "         2009,  2052,  2022,  1996,  8398,  7975,  1012,  6221,  8398,  2001,\n",
      "         1037,  2502,  7975,  2005,  2025,  8287,  2010,  7773,  1012,  2002,\n",
      "         2001,  1996,  5221,  7975,  1999,  1996,  2088,   999,  1045,  2359,\n",
      "         2000,  6039,  1037,  3438,  1011,  3329,  7975,  2123,  2007, 22764,\n",
      "         2061,  2026,  3507, 13337,  1998,  1045,  2071,  2233,  2009,  2091,\n",
      "         2624,  3799,  1521,  1055,  3006,  2395,  2006,  2258,  2321,  1010,\n",
      "        11677,  2011,  8782,  4996,  1998,  2628,  2011,  2111,  1999,  9427,\n",
      "         1012,  2131, 12796,  1999,  2115,  1999,  8758,  1012,  2043,  1045,\n",
      "         2288,  2188,  1045, 24637,  1996,  2364, 19012,  1997,  1996,  4171,\n",
      "         2233,  1999,  2624,  3799,  1010,  4776, 10975, 23361,  2102,  1010,\n",
      "         2040,  2012,  2034,  2790,  1037,  2978, 18386,  1997,  1996,  2801,\n",
      "         1012,  3305,  3085,  1012,  1996,  2069,  7975,  1045,  1521,  1040,\n",
      "         2179,   102]), tensor([  101, 11708,  4097, 12631, 23836,  2050,  2758,  3163,  1521,  1055,\n",
      "         5426,  2024,  5079,  2039,  2007,  2866,  1521,  1055,  1998,  2009,\n",
      "        10831,  2108,  2187, 14785,  5084,  2065,  2009, 12237,  1999,  7327,\n",
      "         3163,  2323,  5667,  5136, 22371,  1996,  7327,  2000,  4468,  2108,\n",
      "         2187, 14785,  5084,  1998, 15318,  5591,  2011,  7987, 10288,  4183,\n",
      "         1010,  1037,  2877,  3834,  1999,  5772,  2038,  2056,  1012,  1996,\n",
      "        11708,  4097, 12631, 23836,  2050,  2056,  1996,  2406,  2001,  2205,\n",
      "        15965,  2000,  1996,  3171, 15984,  1521,  1055,  4563,  5426,  1998,\n",
      "         9371,  2071,  2025,  2022,  9480,  2000,  2298,  2044,  3163,  1521,\n",
      "         1055,  5426,  1012,  1523,  7987, 10288,  4183,  2965,  3163,  1010,\n",
      "         2029,  6661,  1037,  2691, 11032,  2006,  3145,  3314,  2007,  1996,\n",
      "         2866,  1010,  2003,  2187, 14785,  5084,  1010, 15965,  1998,  7790,\n",
      "         1012,  2008,  4507,  6468, 10842,  2588,  1010,  1524,  2002,  2056,\n",
      "         1999,  2019,  3720,  1999,  1996,  3493,  2335,  2006,  9317,  1012,\n",
      "         2449,  2651,  1024,  3696,  2039,  2005,  1037,  2851,  2915,  1997,\n",
      "         3361,  2739,  3191,  2062,  2010,  5328,  1010,  2096,  6801,  1010,\n",
      "         2097,  2022,  2833,  2005,  2245,  2005,  3493,  5661,  1010,  2029,\n",
      "         2227,  3278,  3171,  4053,  2013,  1996,  9824,  1997,  2524,  7987,\n",
      "        10288,  4183,  1012,  1996,  3493,  2231,  3728,  5837,  2714,  4455,\n",
      "         2000,  5136,  2019,  1523, 20868, 10288,  4183,  1524,  2021, 12631,\n",
      "        23836,  2050,  1010,  1037,  2934,  1997,  8169,  1998,  3361,  2578,\n",
      "         1998,  9871,  2012,  2118,  2267,  5772,  1010,  1998,  1037,  9768,\n",
      "        12268,  2006,  1996,  3493,  4610,  1010,  9251,  2008,  3163,  1521,\n",
      "         1055,  5426,  2024,  2061,  5079,  2039,  2007,  1996,  2866,  1521,\n",
      "         1055,  2008,  2009,  2089,  2025,  2022,  2583,  2000,  8984,  2000,\n",
      "         2994,  2306,  1996,  7327,  1012,  1996,  2866,  2003,  3163,  1521,\n",
      "         1055,  5221,  9167,  4256,  1998,  1996,  9824,  1997, 26269,  1010,\n",
      "         3391,  2006,  2833,  2164, 12486,  1998, 11825,  3688,  1010,  2003,\n",
      "         2464,  2004,  1037,  3278,  5081,  2000,  1996,  4610,  1012, 12631,\n",
      "        23836,  2050,  2056,  3163,  2052,  2022,  2062,  8211,  2065,  1996,\n",
      "         2866,  2187,  1996,  7327,  2138,  1996, 15984,  2001,  1037,  1523,\n",
      "        25077, 12194,  2586,  1010, 15315,  7974,  2098,  2875, 15726,  3032,\n",
      "         1524,  1012,  2002,  2036,  2056,  1996,  7327,  2071,  2025,  2022,\n",
      "         9480,  2000,  4047,  3163,  1521,  1055,  5426,  1012,  2009,  2052,\n",
      "         2022,  1523, 10975, 12672,  3372,  1524,  2005,  7206,  2000,  3342,\n",
      "         2129,  1996,  7327,  3140,  3163,  2000,  7323,  2019,  2028, 13288,\n",
      "         7016, 18322,  2076,  1996,  3361,  5823,  2004,  2112,  1997,  2049,\n",
      "         5656,  2000,  4047,  1996,  9944, 15975,  1010,  2002,  2056,  1012,\n",
      "         1523, 29222,  2064,  2022,  1037,  6659,  2518,  1012,  2009,  2003,\n",
      "         2069, 10975, 12672,  3372,  2000,  3342,  2008,  1999,  1996, 15358,\n",
      "         5833,  7776,  1996,  2647,  2430,  2924,  3013,  1996,  2598,  2013,\n",
      "         7650,  3163,  2043,  2057,  2020,  2012,  2256,  2087,  8211,  1010,\n",
      "         1524,  2056, 12631, 23836,  2050,  1010,  7302,  2041,  2008,  1996,\n",
      "         2248, 12194,  4636,  2018, 11886,  2114,  1996, 14925,  2497,  1521,\n",
      "         1055,  8401, 11032,  1012,  1999,  2230,  1998,  2249,  3163,  2001,\n",
      "         3140,  2046,  1037,  1574, 19841, 24700, 15358,  5833,  6787,  2011,\n",
      "         1996, 14925,  2497,  1010,  1996, 10047,  2546,  1998,  1996,  7327,\n",
      "         2021,  1996,  3066,  2187, 26457,  2006,  1996,  8103,  2005,  2797,\n",
      "         8169,  7016,  1010,  2877,  2000,  1037, 19267,  1997,  3445,  7773,\n",
      "         1010, 10300,  7659,  1010,  3105,  6409,  1010, 13950,  5661,  1998,\n",
      "         3742, 20387,  1012,  1005,  4022,  2005,  8488,  1005,  1024,  6124,\n",
      "         3417,   102]), tensor([  101,  4911,  2739, 22028,  2131,  4911,  2739,  9499,  2015,  1998,\n",
      "         2569,  4311,  1012,  1996,  2739,  1998,  3441,  2008,  3043,  1010,\n",
      "         5359, 16904, 16956,  1012,  2111,  6603,  2055, 19857,  7171,  2024,\n",
      "         2893,  2070,  2200,  3563,  8606,  2023,  2733,  1024, 23614,  7066,\n",
      "         2360,  4268,  2323,  2131,  1037,  2915,  2065,  2825,  1998,  2025,\n",
      "         1996, 19857, 23738, 19077, 12509,  1010,  1998,  1037,  2350,  2902,\n",
      "         2177,  2758,  2009,  1521,  1055, 10549,  8288,  1011,  2489, 28896,\n",
      "         2005,  5022,  1998,  3095,  1012,  1996,  2137,  2914,  1997, 23614,\n",
      "         2015, 26021,  7171,  2005,  2336,  1997,  2035,  5535,  1010,  2130,\n",
      "         2295,  1996, 12201,  1011,  2489, 17404,  2097,  2022,  2800,  1010,\n",
      "         3038,  1996,  7171,  2147,  2488,  1012, 19857, 23738,  2003,  2019,\n",
      "         4522,  2005,  2336,  2040,  3294, 10214,  2000,  2131,  1037,  2915,\n",
      "         1010,  1996,  9779,  2361,  2758,  1999,  2049,  6745, 11594,  1012,\n",
      "         1998,  1996,  2118,  1997,  6278,  2966,  2415,  2003,  2635,  2008,\n",
      "         1037,  3357,  2582,  1010,  3038,  2009,  2097,  2069,  2022,  9343,\n",
      "         1996,  2048,  8288,  1011,  2489, 28896,  2006,  1996,  3006,  1024,\n",
      "        19857, 29109,  3567,  2595,  1998, 19857, 16558,  6559,  1012,  2008,\n",
      "         1521,  1055,  2138,  2045,  2003,  2070,  3350,  2122,  2048, 20219,\n",
      "         2015,  2089,  2147,  2488,  2084,  1996,  3080, 28896,  4961,  1999,\n",
      "         6763,  1010,  2056,  2852,  1012,  2957, 27946,  1010,  2040, 25453,\n",
      "         1996,  2039, 12458, 24442,  2837,  1012,  1523,  1996,  8288,  1011,\n",
      "         2489, 28896,  3711,  2000,  2031,  3383,  1037,  2184,  3867,  3020,\n",
      "        12353,  2058,  1996,  3151,  8288,  1011,  2241, 28896,  1010,  1524,\n",
      "        27946,  2056,  1999,  2019,  4357,  1012,  1523,  2445,  1996,  3522,\n",
      "         2592,  2055,  1996,  8288,  1011,  2489, 17404,  1010,  1045,  2933,\n",
      "         2005,  2026,  2155,  2000,  2131,  1996,  8288,  1011,  2489,  2023,\n",
      "         2095,  1012,  1524,  2119,  6567,  2175,  2582,  2084,  1996, 11433,\n",
      "         2013,  1996,  6401,  2005,  4295,  2491,  1998,  9740,  1010,  2029,\n",
      "         2758,  3071,  2058,  1996,  2287,  1997,  2416,  2706,  2323,  2131,\n",
      "         1037, 19857, 17404,  1012,  1523, 26629,  2515,  2025, 16755,  2028,\n",
      "        19857, 17404,  2058,  2178,  1012,  1996,  2087,  2590,  2518,  2003,\n",
      "         2005,  2035,  2111,  1020,  2706,  1998,  3080,  2000,  2131,  1037,\n",
      "        19857, 17404,  2296,  2095,  1010,  1524,  1996, 26629,  2758,  1012,\n",
      "         2021,  2009,  2003,  2036,  2124,  2008, 19857, 28896,  1999,  2236,\n",
      "         2079,  2025,  4047,  2111,  2004,  2092,  2004,  2087,  2060, 28896,\n",
      "         2079,  1012,  4841,  2031,  2055,  1037,  6474,  2367, 24442, 28896,\n",
      "         2000,  5454,  2013,  1010,  2550,  2011,  2698,  2367,  8712,  1012,\n",
      "         2045,  1521,  1055,  1037,  2152,  1011, 13004, 17404,  2005,  9750,\n",
      "         2111,  1998, 20219,  2015,  4844,  2005,  2336,  1998, 10834,  1012,\n",
      "         2087,  2111,  2123,  1521,  1056,  2130,  2113,  2029, 17404,  2027,\n",
      "         2024,  2893,  1010,  2004, 17865,  1010,  6887, 27292, 20499,  1998,\n",
      "         7435,  2788,  2191,  2037,  2219,  7565,  2007, 20141,  1012,  2039,\n",
      "        12458,  2003,  2635,  2019,  5866,  3357,  1999,  3038,  2029, 28896,\n",
      "         2009,  2003,  4346,  1012,  1523,  2039, 12458,  2097,  2022,  5378,\n",
      "        19857, 16558,  6559,  2030, 19857, 29109,  3567,  2595,  2000,  2035,\n",
      "         5022,  2287,  1018,  2030,  3080,  2802,  1996,  2760,  1011, 10476,\n",
      "        19857,  2161,  1010,  1998,  2035,  1997,  2049,  5594,  1010,  2199,\n",
      "         5126,  1010,  1524,  1996,  2902,  2177,  2056,  1999,  1037,  4861,\n",
      "         1012,  1523,  4445, 17404,  3397,  8288,  8171,  1010, 24479,  1010,\n",
      "         3653,  8043, 20203,  6961,  2030,  2444,  7865,  1010,  1998,  2027,\n",
      "         2272,  1999,  2309,  1011, 13004,  1010,  3653,  8873, 11001, 25353,\n",
      "         4892,   102])]\n"
     ]
    }
   ],
   "source": [
    "print(tokenized_datasets['train']['input_ids'][0:3])"
   ]
  },
  {
   "cell_type": "code",
   "execution_count": 12,
   "id": "933da61a",
   "metadata": {},
   "outputs": [],
   "source": [
    "from torch.utils.data import DataLoader\n",
    "\n",
    "train_dataloader = DataLoader(\n",
    "    tokenized_datasets[\"train\"], shuffle=True, batch_size=8, collate_fn=data_collator\n",
    ")\n",
    "eval_dataloader = DataLoader(\n",
    "    tokenized_datasets[\"validation\"], batch_size=8, collate_fn=data_collator\n",
    ")"
   ]
  },
  {
   "cell_type": "code",
   "execution_count": 13,
   "id": "ae25b9b0",
   "metadata": {},
   "outputs": [
    {
     "data": {
      "text/plain": [
       "{'labels': torch.Size([8]),\n",
       " 'input_ids': torch.Size([8, 512]),\n",
       " 'token_type_ids': torch.Size([8, 512]),\n",
       " 'attention_mask': torch.Size([8, 512])}"
      ]
     },
     "execution_count": 13,
     "metadata": {},
     "output_type": "execute_result"
    }
   ],
   "source": [
    "for batch in train_dataloader:\n",
    "    break\n",
    "{k: v.shape for k, v in batch.items()}"
   ]
  },
  {
   "cell_type": "code",
   "execution_count": null,
   "id": "426926a0",
   "metadata": {},
   "outputs": [],
   "source": [
    "from transformers import AutoModelForSequenceClassification\n",
    "\n",
    "model = AutoModelForSequenceClassification.from_pretrained(checkpoint, num_labels=2)"
   ]
  },
  {
   "cell_type": "code",
   "execution_count": null,
   "id": "df2d1632",
   "metadata": {},
   "outputs": [],
   "source": [
    "outputs = model(**batch)\n",
    "print(outputs.loss, outputs.logits.shape)"
   ]
  },
  {
   "cell_type": "code",
   "execution_count": null,
   "id": "8eb6fde7",
   "metadata": {},
   "outputs": [],
   "source": [
    "from transformers import AdamW\n",
    "\n",
    "optimizer = AdamW(model.parameters(), lr=5e-5)"
   ]
  },
  {
   "cell_type": "code",
   "execution_count": null,
   "id": "5a6ceca2",
   "metadata": {},
   "outputs": [],
   "source": [
    "import torch\n",
    "\n",
    "device = torch.device(\"cuda\") if torch.cuda.is_available() else torch.device(\"cpu\")\n",
    "model.to(device)"
   ]
  },
  {
   "cell_type": "code",
   "execution_count": null,
   "id": "6480d355",
   "metadata": {},
   "outputs": [],
   "source": [
    "from tqdm.auto import tqdm\n",
    "\n",
    "progress_bar = tqdm(range(num_training_steps))\n",
    "\n",
    "model.train()\n",
    "for epoch in range(num_epochs):\n",
    "    for batch in train_dataloader:\n",
    "        batch = {k: v.to(device) for k, v in batch.items()}\n",
    "        outputs = model(**batch)\n",
    "        loss = outputs.loss\n",
    "        loss.backward()\n",
    "\n",
    "        optimizer.step()\n",
    "        lr_scheduler.step()\n",
    "        optimizer.zero_grad()\n",
    "        progress_bar.update(1)"
   ]
  },
  {
   "cell_type": "code",
   "execution_count": null,
   "id": "09a6f530",
   "metadata": {},
   "outputs": [],
   "source": [
    "#EVALUATION"
   ]
  },
  {
   "cell_type": "code",
   "execution_count": null,
   "id": "1e7e46ff",
   "metadata": {},
   "outputs": [],
   "source": [
    "from datasets import load_metric\n",
    "\n",
    "metric = load_metric(\"glue\", \"mrpc\")\n",
    "model.eval()\n",
    "for batch in eval_dataloader:\n",
    "    batch = {k: v.to(device) for k, v in batch.items()}\n",
    "    with torch.no_grad():\n",
    "        outputs = model(**batch)\n",
    "\n",
    "    logits = outputs.logits\n",
    "    predictions = torch.argmax(logits, dim=-1)\n",
    "    metric.add_batch(predictions=predictions, references=batch[\"labels\"])\n",
    "\n",
    "metric.compute()"
   ]
  },
  {
   "cell_type": "code",
   "execution_count": null,
   "id": "60dc1884",
   "metadata": {},
   "outputs": [],
   "source": []
  }
